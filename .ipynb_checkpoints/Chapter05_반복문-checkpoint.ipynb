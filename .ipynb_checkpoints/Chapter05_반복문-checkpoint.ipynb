{
 "cells": [
  {
   "cell_type": "markdown",
   "id": "e3f33fc1-496d-4b42-9e43-034ac3ac1647",
   "metadata": {},
   "source": [
    "# 반복문"
   ]
  },
  {
   "cell_type": "markdown",
   "id": "348efa50-3bdd-4e55-81ed-dfa80c30b6ea",
   "metadata": {},
   "source": [
    "## 1. for 와 range"
   ]
  },
  {
   "cell_type": "code",
   "execution_count": 1,
   "id": "732537cb-1567-472a-9a2b-f9258077c868",
   "metadata": {},
   "outputs": [
    {
     "name": "stdout",
     "output_type": "stream",
     "text": [
      "Hello World!\n",
      "Hello World!\n",
      "Hello World!\n",
      "Hello World!\n",
      "Hello World!\n",
      "Hello World!\n",
      "Hello World!\n",
      "Hello World!\n",
      "Hello World!\n",
      "Hello World!\n"
     ]
    }
   ],
   "source": [
    "for i in range(10) :\n",
    "    print('Hello World!')"
   ]
  },
  {
   "cell_type": "code",
   "execution_count": 3,
   "id": "22751f16-dc81-495b-95c0-91a634420e8f",
   "metadata": {},
   "outputs": [
    {
     "name": "stdout",
     "output_type": "stream",
     "text": [
      "Hello World! 5\n",
      "Hello World! 6\n",
      "Hello World! 7\n",
      "Hello World! 8\n",
      "Hello World! 9\n",
      "Hello World! 10\n",
      "Hello World! 11\n",
      "Hello World! 12\n"
     ]
    }
   ],
   "source": [
    "# 시작번호, 끝번호 지정\n",
    "for i in range(5, 13):\n",
    "    print('Hello World!', i)"
   ]
  },
  {
   "cell_type": "code",
   "execution_count": 4,
   "id": "cecf3c88-0f72-4c33-83a2-4165e909e5f4",
   "metadata": {},
   "outputs": [
    {
     "name": "stdout",
     "output_type": "stream",
     "text": [
      "Hello World 0\n",
      "Hello World 2\n",
      "Hello World 4\n",
      "Hello World 6\n",
      "Hello World 8\n"
     ]
    }
   ],
   "source": [
    "# 증가폭 지정\n",
    "for i in range(0, 10, 2):\n",
    "    print('Hello World', i)"
   ]
  },
  {
   "cell_type": "code",
   "execution_count": 5,
   "id": "a3ba9ee6-293f-4bb1-b2e1-e9830f314375",
   "metadata": {},
   "outputs": [
    {
     "name": "stdout",
     "output_type": "stream",
     "text": [
      "Hello World 10\n",
      "Hello World 8\n",
      "Hello World 6\n",
      "Hello World 4\n",
      "Hello World 2\n"
     ]
    }
   ],
   "source": [
    "# 증가값 음수로 지정\n",
    "for i in range(10, 0, -2):\n",
    "    print('Hello World', i)"
   ]
  },
  {
   "cell_type": "code",
   "execution_count": 7,
   "id": "5540316a-8847-4ef9-94fb-be19aca87bda",
   "metadata": {},
   "outputs": [
    {
     "name": "stdout",
     "output_type": "stream",
     "text": [
      "4\n",
      "3\n",
      "2\n",
      "1\n",
      "0\n"
     ]
    }
   ],
   "source": [
    "for i in reversed(range(5)):\n",
    "    print(i)"
   ]
  },
  {
   "cell_type": "code",
   "execution_count": 8,
   "id": "c3da3c1c-f370-43a4-841b-0a6ffdb093e9",
   "metadata": {},
   "outputs": [
    {
     "name": "stdin",
     "output_type": "stream",
     "text": [
      "반복할 횟수 :  5\n"
     ]
    },
    {
     "name": "stdout",
     "output_type": "stream",
     "text": [
      "0\n",
      "1\n",
      "2\n",
      "3\n",
      "4\n"
     ]
    }
   ],
   "source": [
    "count = int(input('반복할 횟수 : '))\n",
    "for i in range(count):\n",
    "    print(i)"
   ]
  },
  {
   "cell_type": "markdown",
   "id": "f2221ead-540e-4b4c-9501-62d73208da1a",
   "metadata": {},
   "source": [
    "## 2. 시퀀스 객체 반복하기"
   ]
  },
  {
   "cell_type": "code",
   "execution_count": 9,
   "id": "7c2aeb4f-7307-47f0-8a80-31d8c819850a",
   "metadata": {},
   "outputs": [
    {
     "name": "stdout",
     "output_type": "stream",
     "text": [
      "10\n",
      "20\n",
      "30\n",
      "40\n",
      "50\n"
     ]
    }
   ],
   "source": [
    "# 리스트 반복\n",
    "a = [10, 20, 30, 40, 50]\n",
    "for i in a:\n",
    "    print(i)"
   ]
  },
  {
   "cell_type": "code",
   "execution_count": 10,
   "id": "1a5c022f-812a-4948-b596-8c3001cd5853",
   "metadata": {},
   "outputs": [
    {
     "name": "stdout",
     "output_type": "stream",
     "text": [
      "apple\n",
      "orange\n",
      "pineapple\n",
      "grape\n"
     ]
    }
   ],
   "source": [
    "# 튜플 반복\n",
    "fruits = ('apple', 'orange', 'pineapple', 'grape')\n",
    "for i in fruits:\n",
    "    print(i)"
   ]
  },
  {
   "cell_type": "code",
   "execution_count": 12,
   "id": "b4664729-b7be-4407-a179-fddf951e2195",
   "metadata": {},
   "outputs": [
    {
     "name": "stdout",
     "output_type": "stream",
     "text": [
      "P y t h o n "
     ]
    }
   ],
   "source": [
    "# 문자열 반복\n",
    "abc = 'Python'\n",
    "for letter in abc:\n",
    "    print(letter, end=' ')"
   ]
  },
  {
   "cell_type": "code",
   "execution_count": 13,
   "id": "f5acbd74-dc4e-4bee-b132-05fae7d3a0c2",
   "metadata": {},
   "outputs": [
    {
     "name": "stdout",
     "output_type": "stream",
     "text": [
      "n o h t y P "
     ]
    }
   ],
   "source": [
    "for letter in reversed(abc):\n",
    "    print(letter, end=' ')"
   ]
  },
  {
   "cell_type": "markdown",
   "id": "d0fcf947-7cc3-4617-a543-1cbd4399a303",
   "metadata": {},
   "source": [
    "### <연습문제>\n",
    "#### 리스트x = [38, 45, 13, 78, -54, 98, 75]\n",
    "#### 각 숫자에 10을 곱한 값을 출력하시오.\n",
    "#### 출력 결과는 가로로 출력"
   ]
  },
  {
   "cell_type": "code",
   "execution_count": 14,
   "id": "dd23d5d2-51e1-4bdc-9be9-238b32137a77",
   "metadata": {},
   "outputs": [
    {
     "name": "stdout",
     "output_type": "stream",
     "text": [
      "380 450 130 780 -540 980 750 "
     ]
    }
   ],
   "source": [
    "x = [38, 45, 13, 78, -54, 98, 75]\n",
    "for i in x:\n",
    "    print(i * 10, end= ' ')"
   ]
  },
  {
   "cell_type": "markdown",
   "id": "1f700133-8353-482a-b1ff-6647152bb7be",
   "metadata": {},
   "source": [
    "### <연습문제 2>\n",
    "#### 표준입력으로 정수를 입력하여 구구단을 출력하는 프로그램을 작성하시오.\n",
    "#### 출력형식 : 숫자 * 숫자 = 숫자"
   ]
  },
  {
   "cell_type": "code",
   "execution_count": 15,
   "id": "59f6767a-1006-451a-8469-d3f8caa0ac6a",
   "metadata": {},
   "outputs": [
    {
     "name": "stdin",
     "output_type": "stream",
     "text": [
      " 8\n"
     ]
    },
    {
     "name": "stdout",
     "output_type": "stream",
     "text": [
      "8 * 1 = 8\n",
      "8 * 2 = 16\n",
      "8 * 3 = 24\n",
      "8 * 4 = 32\n",
      "8 * 5 = 40\n",
      "8 * 6 = 48\n",
      "8 * 7 = 56\n",
      "8 * 8 = 64\n",
      "8 * 9 = 72\n"
     ]
    }
   ],
   "source": [
    "number = int(input())\n",
    "for i in range(1,10):\n",
    "    print(number, '*' , i ,'=', number * i)"
   ]
  },
  {
   "cell_type": "markdown",
   "id": "9b89e841-0d3d-4b28-9866-c23d2bd6cc34",
   "metadata": {},
   "source": [
    "# while 반복문"
   ]
  },
  {
   "cell_type": "code",
   "execution_count": 17,
   "id": "32e72242-99b4-4405-a88e-0090c2317ddd",
   "metadata": {},
   "outputs": [
    {
     "name": "stdout",
     "output_type": "stream",
     "text": [
      "Hello 0\n",
      "Hello 1\n",
      "Hello 2\n",
      "Hello 3\n",
      "Hello 4\n",
      "Hello 5\n",
      "Hello 6\n",
      "Hello 7\n",
      "Hello 8\n",
      "Hello 9\n"
     ]
    }
   ],
   "source": [
    "# while문 기본형태\n",
    "i = 0\n",
    "while i < 10:\n",
    "    print('Hello' , i)\n",
    "    i += 1"
   ]
  },
  {
   "cell_type": "code",
   "execution_count": 18,
   "id": "3f5dc371-a95d-4c54-9463-8cfedc174f37",
   "metadata": {},
   "outputs": [
    {
     "name": "stdout",
     "output_type": "stream",
     "text": [
      "world 10\n",
      "world 9\n",
      "world 8\n",
      "world 7\n",
      "world 6\n",
      "world 5\n",
      "world 4\n",
      "world 3\n",
      "world 2\n",
      "world 1\n"
     ]
    }
   ],
   "source": [
    "i = 10\n",
    "while i > 0:\n",
    "    print('world',i)\n",
    "    i -= 1"
   ]
  },
  {
   "cell_type": "code",
   "execution_count": 19,
   "id": "f2026943-1888-47f7-bedc-06f9fc360941",
   "metadata": {},
   "outputs": [
    {
     "name": "stdin",
     "output_type": "stream",
     "text": [
      "반복할 횟수 : 5\n"
     ]
    },
    {
     "name": "stdout",
     "output_type": "stream",
     "text": [
      "Hello World 0\n",
      "Hello World 1\n",
      "Hello World 2\n",
      "Hello World 3\n",
      "Hello World 4\n"
     ]
    }
   ],
   "source": [
    "count = int(input('반복할 횟수 :'))\n",
    "i = 0\n",
    "while i < count:\n",
    "    print('Hello World',i)\n",
    "    i += 1"
   ]
  },
  {
   "cell_type": "code",
   "execution_count": 20,
   "id": "1443f53d-6d50-4208-b556-23b37c28dc94",
   "metadata": {},
   "outputs": [],
   "source": [
    "import random"
   ]
  },
  {
   "cell_type": "code",
   "execution_count": 21,
   "id": "fa3f2f1f-bcce-400f-b1e3-4710c5f9ae4a",
   "metadata": {},
   "outputs": [
    {
     "data": {
      "text/plain": [
       "0.0581869991046412"
      ]
     },
     "execution_count": 21,
     "metadata": {},
     "output_type": "execute_result"
    }
   ],
   "source": [
    "random.random()"
   ]
  },
  {
   "cell_type": "code",
   "execution_count": 29,
   "id": "2e4c9ba8-3928-4ed3-bbd9-7d82c04484e1",
   "metadata": {},
   "outputs": [
    {
     "data": {
      "text/plain": [
       "3"
      ]
     },
     "execution_count": 29,
     "metadata": {},
     "output_type": "execute_result"
    }
   ],
   "source": [
    "random.randint(1, 6)"
   ]
  },
  {
   "cell_type": "code",
   "execution_count": 3,
   "id": "ecda26af-b1f5-4ddb-81c7-b8a4bc009af5",
   "metadata": {},
   "outputs": [
    {
     "name": "stdout",
     "output_type": "stream",
     "text": [
      "2\n",
      "4\n",
      "2\n",
      "6\n",
      "1\n",
      "1\n",
      "3\n"
     ]
    }
   ],
   "source": [
    "import random\n",
    "i = 0\n",
    "while i != 3:\n",
    "    i = random.randint(1, 6)\n",
    "    print(i)"
   ]
  },
  {
   "cell_type": "code",
   "execution_count": null,
   "id": "292f800d-dd9a-4bbd-949b-3b36854219d9",
   "metadata": {},
   "outputs": [],
   "source": [
    "list = [1, 2, 3, 4, 5, 6]\n",
    "random.choice(list)"
   ]
  },
  {
   "cell_type": "markdown",
   "id": "25e5e506-911c-421d-bda0-cea9f4a492e5",
   "metadata": {},
   "source": [
    "### <연습 문제>"
   ]
  },
  {
   "cell_type": "markdown",
   "id": "57a26996-0901-405d-b1ab-c52bbd6bb2d2",
   "metadata": {},
   "source": [
    "#### 정수 2 5, 4 4, 8 3, 16 2, 31 1, 이 각 줄에 출력되게 만드세요\n",
    "#### while에 조건식은 두개 지정하고, 두 변수 모두 변화시킨다."
   ]
  },
  {
   "cell_type": "code",
   "execution_count": 22,
   "id": "fdeb8a86-6d4e-4060-9963-8a080d66cc58",
   "metadata": {},
   "outputs": [
    {
     "ename": "IndentationError",
     "evalue": "unindent does not match any outer indentation level (<tokenize>, line 5)",
     "output_type": "error",
     "traceback": [
      "\u001b[1;36m  File \u001b[1;32m<tokenize>:5\u001b[1;36m\u001b[0m\n\u001b[1;33m    n -= 1\u001b[0m\n\u001b[1;37m    ^\u001b[0m\n\u001b[1;31mIndentationError\u001b[0m\u001b[1;31m:\u001b[0m unindent does not match any outer indentation level\n"
     ]
    }
   ],
   "source": [
    "i = 2\n",
    "n = 5\n",
    "while n <= 1 and i <= 32:\n",
    "    print(i,n)\n",
    "  n -= 1\n",
    "  i *= 2"
   ]
  },
  {
   "cell_type": "markdown",
   "id": "e2935b1b-154b-429d-8f29-21d3ba4fef5f",
   "metadata": {},
   "source": [
    "## <연습문제2>"
   ]
  },
  {
   "cell_type": "markdown",
   "id": "ea03cd51-2feb-4484-85d2-be49d64e0cd7",
   "metadata": {},
   "source": [
    "#### 표준입력으로 금액이 입력됨.\n",
    "#### 1회당 요금 1,350원으로 교통카드를 사용할 때 마다 각 줄에 작액을 출력하는 프로그램을 작성하시오. \n",
    "#### 단 최초 금액은 출력하지 않아야 한다.\n",
    "#### 작액은 음수가 될 수 없으며 잔액이 부족하면 출력을 끝낸다."
   ]
  },
  {
   "cell_type": "code",
   "execution_count": 3,
   "id": "d5794c38-8344-49b6-912c-a9d17acf31fa",
   "metadata": {},
   "outputs": [
    {
     "name": "stdin",
     "output_type": "stream",
     "text": [
      " 10000\n"
     ]
    },
    {
     "ename": "NameError",
     "evalue": "name 'amount' is not defined",
     "output_type": "error",
     "traceback": [
      "\u001b[1;31m---------------------------------------------------------------------------\u001b[0m",
      "\u001b[1;31mNameError\u001b[0m                                 Traceback (most recent call last)",
      "Cell \u001b[1;32mIn[3], line 4\u001b[0m\n\u001b[0;32m      2\u001b[0m bm \u001b[38;5;241m=\u001b[39m \u001b[38;5;241m1350\u001b[39m\n\u001b[0;32m      3\u001b[0m \u001b[38;5;28;01mwhile\u001b[39;00m m \u001b[38;5;241m>\u001b[39m\u001b[38;5;241m=\u001b[39m bm:\n\u001b[1;32m----> 4\u001b[0m     amount\n\u001b[0;32m      5\u001b[0m     \u001b[38;5;28mprint\u001b[39m(m\u001b[38;5;241m-\u001b[39m(i\u001b[38;5;241m*\u001b[39m\u001b[38;5;241m1350\u001b[39m))\n\u001b[0;32m      6\u001b[0m     i \u001b[38;5;241m+\u001b[39m\u001b[38;5;241m=\u001b[39m \u001b[38;5;241m1\u001b[39m\n",
      "\u001b[1;31mNameError\u001b[0m: name 'amount' is not defined"
     ]
    }
   ],
   "source": [
    "m = int(input())\n",
    "bm = 1350\n",
    "while m >= bm:\n",
    "    amount\n",
    "    print()\n",
    "   "
   ]
  },
  {
   "cell_type": "markdown",
   "id": "7479977b-d840-4e8f-8a40-2e1103b1da65",
   "metadata": {},
   "source": [
    "## 4. break, continue"
   ]
  },
  {
   "cell_type": "markdown",
   "id": "dc791604-03c2-4e50-93d1-144d4b64805c",
   "metadata": {},
   "source": [
    "## (1) break문"
   ]
  },
  {
   "cell_type": "code",
   "execution_count": null,
   "id": "fcb82fb5-7cfd-4c11-865f-7db37d1a5444",
   "metadata": {},
   "outputs": [],
   "source": [
    "i = 0\n",
    "while True:\n",
    "    print(i)\n",
    "    i += 1\n",
    "    if i== 100:\n",
    "        break"
   ]
  },
  {
   "cell_type": "code",
   "execution_count": 17,
   "id": "0893a33a-f812-456e-bf3f-849c5d3fb469",
   "metadata": {},
   "outputs": [],
   "source": [
    "for i in range(10) :\n",
    "    if i % 2 == 0:\n",
    "        break"
   ]
  },
  {
   "cell_type": "code",
   "execution_count": 15,
   "id": "a66b52fb-70be-476c-af99-f826328e1ad5",
   "metadata": {},
   "outputs": [
    {
     "name": "stdout",
     "output_type": "stream",
     "text": [
      "1\n",
      "3\n",
      "5\n",
      "7\n",
      "9\n"
     ]
    }
   ],
   "source": [
    "for i in range(10):\n",
    "    if i % 2 == 0:\n",
    "        continue\n",
    "    print(i)"
   ]
  },
  {
   "cell_type": "markdown",
   "id": "f81f05d5-ca4d-445e-964f-653254caa688",
   "metadata": {},
   "source": [
    "#### 0에서 75까지의 숫자 중 3으로 끝나는 숫자만 출력하시오.\n",
    "#### break문 사용"
   ]
  },
  {
   "cell_type": "code",
   "execution_count": 1,
   "id": "030f6b7b-4e81-4b6c-bb5f-dee92e60417b",
   "metadata": {},
   "outputs": [
    {
     "name": "stdout",
     "output_type": "stream",
     "text": [
      "3 13 23 33 43 53 63 73 "
     ]
    }
   ],
   "source": [
    "i = 0\n",
    "while True:\n",
    "    if i % 10 ==3:\n",
    "        print(i, end=' ')\n",
    "    i += 1\n",
    "    if i >75:\n",
    "        break"
   ]
  },
  {
   "cell_type": "markdown",
   "id": "21c276c0-1560-44b9-87c0-56a1c146d0b6",
   "metadata": {},
   "source": [
    "## 5. 중첩 반복문 "
   ]
  },
  {
   "cell_type": "code",
   "execution_count": 4,
   "id": "eb1312ee-dcc5-45ec-999b-e24c7468cc7d",
   "metadata": {},
   "outputs": [
    {
     "name": "stdout",
     "output_type": "stream",
     "text": [
      "* * * * * \n",
      "* * * * * \n",
      "* * * * * \n",
      "* * * * * \n",
      "* * * * * \n"
     ]
    }
   ],
   "source": [
    "for i in range(5):\n",
    "    for j in range(5):\n",
    "        print('*',end=' ')\n",
    "    print()"
   ]
  },
  {
   "cell_type": "markdown",
   "id": "a775d704-ab85-4efd-b40b-c78683989dbe",
   "metadata": {},
   "source": [
    "### <연습문제>"
   ]
  },
  {
   "cell_type": "code",
   "execution_count": 14,
   "id": "9736bd67-21f5-4a62-afac-9be59e5825ae",
   "metadata": {},
   "outputs": [
    {
     "name": "stdout",
     "output_type": "stream",
     "text": [
      "* * * * * \n",
      "  * * * * \n",
      "    * * * \n",
      "      * * \n",
      "        * \n"
     ]
    }
   ],
   "source": [
    "for i in range(5):\n",
    "    for j in range(5):\n",
    "        if j < i :\n",
    "            print(' ', end=' ')\n",
    "        else:\n",
    "            print('*',end=' ')   \n",
    "    print()"
   ]
  }
 ],
 "metadata": {
  "kernelspec": {
   "display_name": "Python 3 (ipykernel)",
   "language": "python",
   "name": "python3"
  },
  "language_info": {
   "codemirror_mode": {
    "name": "ipython",
    "version": 3
   },
   "file_extension": ".py",
   "mimetype": "text/x-python",
   "name": "python",
   "nbconvert_exporter": "python",
   "pygments_lexer": "ipython3",
   "version": "3.11.7"
  }
 },
 "nbformat": 4,
 "nbformat_minor": 5
}
