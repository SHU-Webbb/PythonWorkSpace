{
 "cells": [
  {
   "cell_type": "markdown",
   "id": "39008505-5bc4-4c4f-b5cd-33afb7fff46c",
   "metadata": {},
   "source": [
    "# 정규 표현식"
   ]
  },
  {
   "cell_type": "markdown",
   "id": "0d9c6fc1-0b02-4e71-9e8c-8caca11f973e",
   "metadata": {},
   "source": [
    "## 1. 문자열 판단하기"
   ]
  },
  {
   "cell_type": "code",
   "execution_count": 1,
   "id": "3d82bf5e-f976-4f8e-b930-892e1fc3bcbf",
   "metadata": {},
   "outputs": [
    {
     "data": {
      "text/plain": [
       "<re.Match object; span=(0, 5), match='Hello'>"
      ]
     },
     "execution_count": 1,
     "metadata": {},
     "output_type": "execute_result"
    }
   ],
   "source": [
    "# 'Hello world'문자열에 'Hello'가 있는지 판단\n",
    "import re\n",
    "re.match('Hello','Hello world')"
   ]
  },
  {
   "cell_type": "code",
   "execution_count": 3,
   "id": "26945481-08ae-49fc-9814-2fd26a78dd65",
   "metadata": {},
   "outputs": [],
   "source": [
    "re.match('Python', 'Hello, world') # 일치하는 문자열이 없으므로 아무것도 반환되지 않음"
   ]
  },
  {
   "cell_type": "markdown",
   "id": "156e37f5-4df8-4117-94e5-b87c3b940930",
   "metadata": {},
   "source": [
    "### (1) 문자열이 맨 앞에 오는지, 맨 뒤에 오는지 판단 : search()"
   ]
  },
  {
   "cell_type": "markdown",
   "id": "ed6283b7-7ec3-45e7-a7db-37a6c5d750dc",
   "metadata": {},
   "source": [
    "#### 문자열 앞에 ^를 붙이면 맨 앞에 오는지 판단"
   ]
  },
  {
   "cell_type": "code",
   "execution_count": 5,
   "id": "9c4aa56a-00fc-4e85-9c78-ef8c5008582e",
   "metadata": {},
   "outputs": [
    {
     "data": {
      "text/plain": [
       "<re.Match object; span=(0, 5), match='Hello'>"
      ]
     },
     "execution_count": 5,
     "metadata": {},
     "output_type": "execute_result"
    }
   ],
   "source": [
    "re.search('^Hello', 'Hello, world')"
   ]
  },
  {
   "cell_type": "code",
   "execution_count": 6,
   "id": "53f07599-4ebf-4d49-8f74-080bd1f5a6d4",
   "metadata": {},
   "outputs": [],
   "source": [
    "re.search('^hello', 'Hello, world')"
   ]
  },
  {
   "cell_type": "markdown",
   "id": "e4560568-f8b9-4c3d-8e47-f2b5b73b2daf",
   "metadata": {},
   "source": [
    "### 문자열 뒤에 $를 붙이면 맨 뒤에 오는지 판단"
   ]
  },
  {
   "cell_type": "code",
   "execution_count": 7,
   "id": "f8a1a0fa-98a2-4f63-8b70-b217baf73587",
   "metadata": {},
   "outputs": [
    {
     "data": {
      "text/plain": [
       "<re.Match object; span=(7, 13), match='world!'>"
      ]
     },
     "execution_count": 7,
     "metadata": {},
     "output_type": "execute_result"
    }
   ],
   "source": [
    "re.search('world!$','Hello, world!')"
   ]
  },
  {
   "cell_type": "markdown",
   "id": "d0f5977a-b5af-4b52-96ff-4860dcf45745",
   "metadata": {},
   "source": [
    "### (2) 지정된 문자열 중에 포함되는지 판단"
   ]
  },
  {
   "cell_type": "markdown",
   "id": "f55789a9-669e-42b3-8bfc-ef10320a8bbd",
   "metadata": {},
   "source": [
    "#### 형식 : 문자열 | 문자열"
   ]
  },
  {
   "cell_type": "code",
   "execution_count": 9,
   "id": "9e2f54d0-474a-4a69-b5cd-c69f77a393d3",
   "metadata": {},
   "outputs": [
    {
     "data": {
      "text/plain": [
       "<re.Match object; span=(0, 5), match='hello'>"
      ]
     },
     "execution_count": 9,
     "metadata": {},
     "output_type": "execute_result"
    }
   ],
   "source": [
    "re.match('hello|world', 'hello, world')"
   ]
  },
  {
   "cell_type": "markdown",
   "id": "e8d3b15b-a4b0-48f2-8d4a-5b3b05c6c1ed",
   "metadata": {},
   "source": [
    "## 2. 범위 판단하기"
   ]
  },
  {
   "cell_type": "markdown",
   "id": "fa12b4c6-585f-45ad-a202-561ddb978ddc",
   "metadata": {},
   "source": [
    "#### [ ]안에 숫자 범위를  - 와 함께 표현\n",
    "#### *(숫자 또는 문자가 0개 이상 있는지) 또는 +(숫자 또는 문자가 1개 이상 있는지)를 붙임"
   ]
  },
  {
   "cell_type": "code",
   "execution_count": 10,
   "id": "c172f36d-3605-4a2e-89b3-85c685695fc9",
   "metadata": {},
   "outputs": [
    {
     "data": {
      "text/plain": [
       "<re.Match object; span=(0, 4), match='1234'>"
      ]
     },
     "execution_count": 10,
     "metadata": {},
     "output_type": "execute_result"
    }
   ],
   "source": [
    "re.match('[0-9]*', '1234')"
   ]
  },
  {
   "cell_type": "code",
   "execution_count": 11,
   "id": "8dbd98bd-6a08-4aec-a461-8c7c6e91f46b",
   "metadata": {},
   "outputs": [
    {
     "data": {
      "text/plain": [
       "<re.Match object; span=(0, 0), match=''>"
      ]
     },
     "execution_count": 11,
     "metadata": {},
     "output_type": "execute_result"
    }
   ],
   "source": [
    "re.match('[0-9]*','abcd')"
   ]
  },
  {
   "cell_type": "code",
   "execution_count": 12,
   "id": "6e4ae312-6333-4834-8084-2164e579ce3b",
   "metadata": {},
   "outputs": [
    {
     "data": {
      "text/plain": [
       "<re.Match object; span=(0, 4), match='1234'>"
      ]
     },
     "execution_count": 12,
     "metadata": {},
     "output_type": "execute_result"
    }
   ],
   "source": [
    "re.match('[0-9]+', '1234')"
   ]
  },
  {
   "cell_type": "code",
   "execution_count": 13,
   "id": "9bbb5f0e-0901-43ba-ad67-ec6264b1537c",
   "metadata": {},
   "outputs": [],
   "source": [
    "re.match('[0-9]+','abcd')"
   ]
  },
  {
   "cell_type": "markdown",
   "id": "7c00ef0b-18e4-489e-99b5-29b6950f25d3",
   "metadata": {},
   "source": [
    "#### *와 +활용"
   ]
  },
  {
   "cell_type": "code",
   "execution_count": 14,
   "id": "1886a67f-b37b-4efc-8ee8-4515a77dcc2f",
   "metadata": {},
   "outputs": [
    {
     "data": {
      "text/plain": [
       "<re.Match object; span=(0, 1), match='b'>"
      ]
     },
     "execution_count": 14,
     "metadata": {},
     "output_type": "execute_result"
    }
   ],
   "source": [
    "re.match('a*b','b') # a가 0개 이상 있는지 판단"
   ]
  },
  {
   "cell_type": "code",
   "execution_count": 16,
   "id": "6c1948bc-f576-4daf-bb97-e1aed98f0aba",
   "metadata": {},
   "outputs": [],
   "source": [
    "re.match('a+b', 'b') #a가 1개 이상 있는지 판단"
   ]
  },
  {
   "cell_type": "code",
   "execution_count": 17,
   "id": "bd2c9293-51d5-4d8f-842f-72e040da05e4",
   "metadata": {},
   "outputs": [
    {
     "data": {
      "text/plain": [
       "<re.Match object; span=(0, 2), match='ab'>"
      ]
     },
     "execution_count": 17,
     "metadata": {},
     "output_type": "execute_result"
    }
   ],
   "source": [
    "re.match('a+b','abb')"
   ]
  },
  {
   "cell_type": "markdown",
   "id": "b2cfa54c-9d07-41ef-aa7a-60efa12f8bf9",
   "metadata": {},
   "source": [
    "#### 문자가 0개 또는 한 개 있는지 판단\n",
    "#### ? - 앞의 문자가 0개 또는 1개 있는지 판단\n",
    "#### . - 현재 위치에 아무 문자 1개 있는지 판단"
   ]
  },
  {
   "cell_type": "code",
   "execution_count": 18,
   "id": "978cad09-1d29-4a04-b6d9-8860dc03cf98",
   "metadata": {},
   "outputs": [
    {
     "data": {
      "text/plain": [
       "<re.Match object; span=(0, 3), match='abd'>"
      ]
     },
     "execution_count": 18,
     "metadata": {},
     "output_type": "execute_result"
    }
   ],
   "source": [
    "re.match('abc?d', 'abd')"
   ]
  },
  {
   "cell_type": "code",
   "execution_count": 19,
   "id": "ee06a7b8-b789-4e59-9962-59aafee597fe",
   "metadata": {},
   "outputs": [
    {
     "data": {
      "text/plain": [
       "<re.Match object; span=(0, 4), match='abcd'>"
      ]
     },
     "execution_count": 19,
     "metadata": {},
     "output_type": "execute_result"
    }
   ],
   "source": [
    "re.match('abc?d', 'abcd')"
   ]
  },
  {
   "cell_type": "code",
   "execution_count": 21,
   "id": "16a33b74-135d-4cc6-9c93-dca8866287f0",
   "metadata": {},
   "outputs": [],
   "source": [
    "re.match('abc?d', 'abccd') # c가 두개이므로 매치안됨"
   ]
  },
  {
   "cell_type": "code",
   "execution_count": 22,
   "id": "0f63aeea-ea13-4571-8ac3-21f667beaae2",
   "metadata": {},
   "outputs": [
    {
     "data": {
      "text/plain": [
       "<re.Match object; span=(0, 4), match='ab2c'>"
      ]
     },
     "execution_count": 22,
     "metadata": {},
     "output_type": "execute_result"
    }
   ],
   "source": [
    "re.match('ab[0-9]?c', 'ab2c')"
   ]
  },
  {
   "cell_type": "code",
   "execution_count": 23,
   "id": "d1018261-f43d-40f0-9c40-de72e9575866",
   "metadata": {},
   "outputs": [
    {
     "data": {
      "text/plain": [
       "<re.Match object; span=(0, 3), match='abc'>"
      ]
     },
     "execution_count": 23,
     "metadata": {},
     "output_type": "execute_result"
    }
   ],
   "source": [
    "re.match('ab[0-9]?c', 'abc')"
   ]
  },
  {
   "cell_type": "code",
   "execution_count": 24,
   "id": "a8e5673f-1310-4659-9602-41e6114cf966",
   "metadata": {},
   "outputs": [
    {
     "data": {
      "text/plain": [
       "<re.Match object; span=(0, 4), match='abxd'>"
      ]
     },
     "execution_count": 24,
     "metadata": {},
     "output_type": "execute_result"
    }
   ],
   "source": [
    "re.match('ab.d' , 'abxd')"
   ]
  },
  {
   "cell_type": "code",
   "execution_count": 26,
   "id": "57c7e2c1-e935-4b3f-b453-18386a8ca92f",
   "metadata": {},
   "outputs": [],
   "source": [
    "re.match('ab.d', 'abd') # ab와 d사이에 문자가 1개가 포함되어 있지 않아 매치안됨."
   ]
  },
  {
   "cell_type": "markdown",
   "id": "938f4368-44b0-4855-9eaf-37e1275adfb6",
   "metadata": {},
   "source": [
    "## 3. 문자 갯수 판단하기"
   ]
  },
  {
   "cell_type": "markdown",
   "id": "a11de712-197c-4f4e-8989-5ab6544bceab",
   "metadata": {},
   "source": [
    "#### 문자(숫자) 뒤에 {갯수} 형식으로 지정"
   ]
  },
  {
   "cell_type": "code",
   "execution_count": 28,
   "id": "136a2098-e5da-4e5a-b7be-79d22136a97c",
   "metadata": {},
   "outputs": [
    {
     "data": {
      "text/plain": [
       "<re.Match object; span=(0, 3), match='hhh'>"
      ]
     },
     "execution_count": 28,
     "metadata": {},
     "output_type": "execute_result"
    }
   ],
   "source": [
    "re.match('h{3}', 'hhhello')"
   ]
  },
  {
   "cell_type": "code",
   "execution_count": 30,
   "id": "49f1820d-4b80-40f7-a89e-26b1f0ede263",
   "metadata": {},
   "outputs": [],
   "source": [
    "re.match('h{3}', 'hhello') #매치 안됨"
   ]
  },
  {
   "cell_type": "code",
   "execution_count": 32,
   "id": "3187f9b6-6fbd-46ad-a9dd-8b7de6851d8c",
   "metadata": {},
   "outputs": [
    {
     "data": {
      "text/plain": [
       "<re.Match object; span=(0, 10), match='hellohello'>"
      ]
     },
     "execution_count": 32,
     "metadata": {},
     "output_type": "execute_result"
    }
   ],
   "source": [
    "# 문자열 반복\n",
    "re.match('(hello){2}','hellohello world')"
   ]
  },
  {
   "cell_type": "markdown",
   "id": "2002d408-b166-42fe-8168-3a74c422fa27",
   "metadata": {},
   "source": [
    "#### 특정 범위 숫자가 몇 개 있는지 판단\n",
    "#### [0-9]{갯수]"
   ]
  },
  {
   "cell_type": "code",
   "execution_count": 33,
   "id": "6c9ce498-5a28-4536-af6e-5565ab51c1c2",
   "metadata": {},
   "outputs": [
    {
     "data": {
      "text/plain": [
       "<re.Match object; span=(0, 13), match='010-1234-5678'>"
      ]
     },
     "execution_count": 33,
     "metadata": {},
     "output_type": "execute_result"
    }
   ],
   "source": [
    "# 휴대전화 번호 형식\n",
    "re.match('[0-9]{3}-[0-9]{4}-[0-9]{4}', '010-1234-5678')"
   ]
  },
  {
   "cell_type": "code",
   "execution_count": 35,
   "id": "3fbfedd8-5142-40fb-857d-951670b5ce02",
   "metadata": {},
   "outputs": [],
   "source": [
    "re.match('[0-9]{3}-[0-9]{4}-[0-9]{4}', '010-1234-678') "
   ]
  },
  {
   "cell_type": "markdown",
   "id": "ba7c761d-bd9a-4c20-bef1-3367cbcdd563",
   "metadata": {},
   "source": [
    "#### 문자와 갯수 범위 지정\n",
    "#### (문자){시작갯수,끝갯수}"
   ]
  },
  {
   "cell_type": "code",
   "execution_count": 36,
   "id": "0dce3c1e-b32e-48ca-9c5b-2f7e9ad32e5e",
   "metadata": {},
   "outputs": [
    {
     "data": {
      "text/plain": [
       "<re.Match object; span=(0, 11), match='02-333-4333'>"
      ]
     },
     "execution_count": 36,
     "metadata": {},
     "output_type": "execute_result"
    }
   ],
   "source": [
    "re.match('[0-9]{2,3}-[0-9]{3,4}-[0-9]{4}','02-333-4333')"
   ]
  },
  {
   "cell_type": "markdown",
   "id": "6f79edee-5cbd-4d68-8607-6a34d17574be",
   "metadata": {},
   "source": [
    "### 숫자와 영문자를 조합해서 판단"
   ]
  },
  {
   "cell_type": "code",
   "execution_count": 37,
   "id": "2b20e5ba-4d3a-425e-a143-d38df93f3d67",
   "metadata": {},
   "outputs": [
    {
     "data": {
      "text/plain": [
       "<re.Match object; span=(0, 9), match='hello1234'>"
      ]
     },
     "execution_count": 37,
     "metadata": {},
     "output_type": "execute_result"
    }
   ],
   "source": [
    "re.match('[a-zA-Z0-9]+', 'hello1234')"
   ]
  },
  {
   "cell_type": "code",
   "execution_count": 38,
   "id": "fe5fa8c7-c94d-4e2d-8404-0e8e19d69af6",
   "metadata": {},
   "outputs": [],
   "source": [
    "re.match('[a-zA-Z0-9]+', ' ')"
   ]
  },
  {
   "cell_type": "code",
   "execution_count": 39,
   "id": "8e93859c-b509-4e53-861f-24c05ccbd69d",
   "metadata": {},
   "outputs": [],
   "source": [
    "re.match('[A-Z0-9]+', 'hello')"
   ]
  },
  {
   "cell_type": "code",
   "execution_count": 40,
   "id": "f9588efe-4b5c-42e5-8c32-c3f2c8edd71e",
   "metadata": {},
   "outputs": [
    {
     "data": {
      "text/plain": [
       "<re.Match object; span=(0, 3), match='홍길동'>"
      ]
     },
     "execution_count": 40,
     "metadata": {},
     "output_type": "execute_result"
    }
   ],
   "source": [
    "# 한글 범위\n",
    "re.match('[가-힣]+','홍길동')"
   ]
  },
  {
   "cell_type": "markdown",
   "id": "e19d6d2e-bf99-4c54-81ae-f639ccd734f9",
   "metadata": {},
   "source": [
    "### 특정 문자가 범위에 포함되지 않는지 판단\n",
    "#### [^범위]* 또는 [^범위]+$"
   ]
  },
  {
   "cell_type": "code",
   "execution_count": 41,
   "id": "df3275a9-6aaa-4ad1-a6b2-7ac23856cb57",
   "metadata": {},
   "outputs": [
    {
     "data": {
      "text/plain": [
       "<re.Match object; span=(0, 5), match='hello'>"
      ]
     },
     "execution_count": 41,
     "metadata": {},
     "output_type": "execute_result"
    }
   ],
   "source": [
    "re.match('[^A-Z]+', 'hello')"
   ]
  },
  {
   "cell_type": "code",
   "execution_count": 43,
   "id": "6522d0d1-7689-40d3-aaf5-a8fd70e39861",
   "metadata": {},
   "outputs": [
    {
     "data": {
      "text/plain": [
       "<re.Match object; span=(0, 0), match=''>"
      ]
     },
     "execution_count": 43,
     "metadata": {},
     "output_type": "execute_result"
    }
   ],
   "source": [
    "re.match('[^A-Z]*', 'Hello')"
   ]
  },
  {
   "cell_type": "markdown",
   "id": "4109f8b1-7ea7-485c-af30-f526f401f8a3",
   "metadata": {},
   "source": [
    "### 특정 문자 범위로 끝나는지 확인"
   ]
  },
  {
   "cell_type": "markdown",
   "id": "d916ac5a-ccd8-4134-ac1c-c03bd01bb778",
   "metadata": {},
   "source": [
    "#### [범위]*$ 또는 [범위]+$ "
   ]
  },
  {
   "cell_type": "code",
   "execution_count": 44,
   "id": "d079f268-090d-4066-998b-4d7dfbeb3238",
   "metadata": {},
   "outputs": [
    {
     "data": {
      "text/plain": [
       "<re.Match object; span=(4, 5), match='8'>"
      ]
     },
     "execution_count": 44,
     "metadata": {},
     "output_type": "execute_result"
    }
   ],
   "source": [
    "re.search('[0-9]+$', 'difj8')"
   ]
  },
  {
   "cell_type": "markdown",
   "id": "de2f8380-76d1-449e-9b9f-35a12fee072a",
   "metadata": {},
   "source": [
    "### 범위지정 A-Z, a-z, 0-9\n",
    "### 범위 지정 방식2 :\n",
    "#### \\d : 모든 숫자\n",
    "#### \\D : 숫자를 제외한 문자\n",
    "#### \\w : 모든 문자(영문 대소문자, 숫자, 밑줄문자)\n",
    "#### \\W : 영문 대소문자, 숫자, 밑줄문자를 제외한 문자"
   ]
  },
  {
   "cell_type": "code",
   "execution_count": 45,
   "id": "1edc98fe-ab0a-4c12-a6e0-91ddaff4d239",
   "metadata": {},
   "outputs": [
    {
     "data": {
      "text/plain": [
       "<re.Match object; span=(0, 4), match='1234'>"
      ]
     },
     "execution_count": 45,
     "metadata": {},
     "output_type": "execute_result"
    }
   ],
   "source": [
    "re.match('\\d+','1234')"
   ]
  },
  {
   "cell_type": "code",
   "execution_count": 46,
   "id": "29ad9b19-d5f2-4a92-aba2-6187d7153300",
   "metadata": {},
   "outputs": [
    {
     "data": {
      "text/plain": [
       "<re.Match object; span=(0, 5), match='Hello'>"
      ]
     },
     "execution_count": 46,
     "metadata": {},
     "output_type": "execute_result"
    }
   ],
   "source": [
    "re.match('\\D+', 'Hello')"
   ]
  },
  {
   "cell_type": "code",
   "execution_count": 49,
   "id": "7f1fd7f7-eac2-4b3f-9dde-8afd4a649d4b",
   "metadata": {},
   "outputs": [
    {
     "data": {
      "text/plain": [
       "<re.Match object; span=(0, 10), match='Hello_1234'>"
      ]
     },
     "execution_count": 49,
     "metadata": {},
     "output_type": "execute_result"
    }
   ],
   "source": [
    "re.match('\\w+', 'Hello_1234')"
   ]
  },
  {
   "cell_type": "code",
   "execution_count": 50,
   "id": "977b3105-6988-4243-8cbb-5cfe6aba1ac8",
   "metadata": {},
   "outputs": [
    {
     "data": {
      "text/plain": [
       "<re.Match object; span=(0, 6), match='@#$#@%'>"
      ]
     },
     "execution_count": 50,
     "metadata": {},
     "output_type": "execute_result"
    }
   ],
   "source": [
    "re.match('\\W+', '@#$#@%')"
   ]
  },
  {
   "cell_type": "code",
   "execution_count": null,
   "id": "e0f6fc2e-8f8a-4473-87ef-106468cb448b",
   "metadata": {},
   "outputs": [],
   "source": []
  }
 ],
 "metadata": {
  "kernelspec": {
   "display_name": "Python 3 (ipykernel)",
   "language": "python",
   "name": "python3"
  },
  "language_info": {
   "codemirror_mode": {
    "name": "ipython",
    "version": 3
   },
   "file_extension": ".py",
   "mimetype": "text/x-python",
   "name": "python",
   "nbconvert_exporter": "python",
   "pygments_lexer": "ipython3",
   "version": "3.11.7"
  }
 },
 "nbformat": 4,
 "nbformat_minor": 5
}
