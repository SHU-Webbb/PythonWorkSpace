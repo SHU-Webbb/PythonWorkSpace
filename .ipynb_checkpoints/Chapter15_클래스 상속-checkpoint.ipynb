{
 "cells": [
  {
   "cell_type": "markdown",
   "id": "b87fc503-b1d4-4945-b904-0cfe8266070f",
   "metadata": {},
   "source": [
    "# 클래스 상속"
   ]
  },
  {
   "cell_type": "markdown",
   "id": "f4c4119c-a984-467f-aafe-a079de8919e0",
   "metadata": {},
   "source": [
    "## 1. 상속 클래스 만들기"
   ]
  },
  {
   "cell_type": "code",
   "execution_count": 1,
   "id": "76d7fffb-77ed-4379-8075-d0f78dc13d07",
   "metadata": {},
   "outputs": [],
   "source": [
    "class Person:\n",
    "    def greeting(self):\n",
    "        print('안녕하세요')\n",
    "\n",
    "class Student(Person):\n",
    "    def study(self):\n",
    "        print('공부합니다')\n",
    "        "
   ]
  },
  {
   "cell_type": "code",
   "execution_count": 4,
   "id": "a88627c8-7b4a-4eee-94d8-c3edb3e7180d",
   "metadata": {},
   "outputs": [
    {
     "name": "stdout",
     "output_type": "stream",
     "text": [
      "안녕하세요\n",
      "공부합니다\n"
     ]
    }
   ],
   "source": [
    "chulsoo = Student()\n",
    "chulsoo.greeting()\n",
    "chulsoo.study()"
   ]
  },
  {
   "cell_type": "markdown",
   "id": "3833f932-5c5a-41be-aae3-cdf987b57e20",
   "metadata": {},
   "source": [
    "## 2. 포함관계"
   ]
  },
  {
   "cell_type": "code",
   "execution_count": 5,
   "id": "82d37fc7-c376-43dd-bf1d-50c6a9a85680",
   "metadata": {},
   "outputs": [],
   "source": [
    "class Person:\n",
    "    def greeting(self):\n",
    "        print('안녕하세요')\n",
    "\n",
    "class PersonList():\n",
    "    def __init(self):\n",
    "        self.person_list = []\n",
    "    def append_person(self, person):\n",
    "        self.person_list.append(person)    "
   ]
  },
  {
   "cell_type": "markdown",
   "id": "b4d36d9a-9fa4-4b27-b1ba-947247e29cab",
   "metadata": {},
   "source": [
    "## 3. 기반(부모) 클래스의 속성 사용하기 "
   ]
  },
  {
   "cell_type": "code",
   "execution_count": 20,
   "id": "b4efff82-0be3-4c39-a9c9-94b31aa2eb35",
   "metadata": {},
   "outputs": [],
   "source": [
    "class Person:\n",
    "    def __init__(self):\n",
    "        print('Person __init__()')\n",
    "        self.hello = '안녕하세요'\n",
    "\n",
    "class Student(Person):\n",
    "    def __init__(self):\n",
    "        print('Student __init__()')\n",
    "        super().__init__()     ## 부모 클래스의 __init__ 메서드 호출 (부모클캐스의 속성을 사용하기 위함)\n",
    "        self.study = '공부합니다'        "
   ]
  },
  {
   "cell_type": "code",
   "execution_count": 21,
   "id": "b1a6f915-7259-4e72-bb33-14fdf7df3533",
   "metadata": {},
   "outputs": [
    {
     "name": "stdout",
     "output_type": "stream",
     "text": [
      "Student __init__()\n",
      "Person __init__()\n",
      "공부합니다\n"
     ]
    }
   ],
   "source": [
    "chulsoo = Student()\n",
    "print(chulsoo.study)"
   ]
  },
  {
   "cell_type": "code",
   "execution_count": 22,
   "id": "bc061d7d-54da-4d81-a477-c1d8caf08d88",
   "metadata": {},
   "outputs": [
    {
     "name": "stdout",
     "output_type": "stream",
     "text": [
      "안녕하세요\n"
     ]
    }
   ],
   "source": [
    "print(chulsoo.hello)"
   ]
  },
  {
   "cell_type": "markdown",
   "id": "c671c69e-19e8-4dc4-933e-f991d6269868",
   "metadata": {},
   "source": [
    "### 기반 클래스를 초기화하지 않아도 되는 경우"
   ]
  },
  {
   "cell_type": "code",
   "execution_count": 25,
   "id": "ddb6a97f-7d31-4fd7-a693-d4970640fe0e",
   "metadata": {},
   "outputs": [],
   "source": [
    "class Person:\n",
    "    def __init__(self):\n",
    "        print('Person __init__()')\n",
    "        self.hello = '안녕하세요'\n",
    "\n",
    "class Student(Person):  # Student 클래스에 init 메서드가 없는 경우\n",
    "    pass"
   ]
  },
  {
   "cell_type": "code",
   "execution_count": 26,
   "id": "b57dd08c-68cc-4656-974a-ec7408193a02",
   "metadata": {},
   "outputs": [
    {
     "name": "stdout",
     "output_type": "stream",
     "text": [
      "Person __init__()\n",
      "안녕하세요\n"
     ]
    }
   ],
   "source": [
    "chulsoo = Student()\n",
    "print(chulsoo.hello)"
   ]
  },
  {
   "cell_type": "markdown",
   "id": "9b17f173-26d7-4a26-92e4-b1f3481bb4fb",
   "metadata": {},
   "source": [
    "## 4. 다중상속"
   ]
  },
  {
   "cell_type": "code",
   "execution_count": 33,
   "id": "21aa529d-85ad-4ce0-96f4-dc99fd4b250a",
   "metadata": {},
   "outputs": [],
   "source": [
    "class Person:\n",
    "    def greeting(self):\n",
    "        print('안녕하세요')\n",
    "\n",
    "class University:\n",
    "    def manage_credit(self):\n",
    "        print('학점관리')\n",
    "\n",
    "class Undergraduate(Person, University):\n",
    "    def study(self):\n",
    "        print('공부하기')"
   ]
  },
  {
   "cell_type": "code",
   "execution_count": 34,
   "id": "c562bda5-2636-4120-8722-2296d0230e99",
   "metadata": {},
   "outputs": [
    {
     "name": "stdout",
     "output_type": "stream",
     "text": [
      "안녕하세요\n",
      "학점관리\n",
      "공부하기\n"
     ]
    }
   ],
   "source": [
    "chulsoo = Undergraduate()\n",
    "chulsoo.greeting()\n",
    "chulsoo.manage_credit()\n",
    "chulsoo.study()"
   ]
  },
  {
   "cell_type": "code",
   "execution_count": null,
   "id": "4fc843ae-3a73-4f0b-aa04-35929bdd792a",
   "metadata": {},
   "outputs": [],
   "source": []
  }
 ],
 "metadata": {
  "kernelspec": {
   "display_name": "Python 3 (ipykernel)",
   "language": "python",
   "name": "python3"
  },
  "language_info": {
   "codemirror_mode": {
    "name": "ipython",
    "version": 3
   },
   "file_extension": ".py",
   "mimetype": "text/x-python",
   "name": "python",
   "nbconvert_exporter": "python",
   "pygments_lexer": "ipython3",
   "version": "3.11.7"
  }
 },
 "nbformat": 4,
 "nbformat_minor": 5
}
