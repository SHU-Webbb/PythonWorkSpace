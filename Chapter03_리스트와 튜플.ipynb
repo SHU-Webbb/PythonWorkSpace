{
 "cells": [
  {
   "cell_type": "markdown",
   "id": "e263798c-9abc-47a0-b058-f45693f07668",
   "metadata": {},
   "source": [
    "# 리스트와 튜플"
   ]
  },
  {
   "cell_type": "markdown",
   "id": "4502a609-4517-48ff-aae8-b7ad02660a9d",
   "metadata": {},
   "source": [
    "## 1. 리스트 만들기"
   ]
  },
  {
   "cell_type": "code",
   "execution_count": 1,
   "id": "e3e366ba-f1d0-4032-8ee4-47c8d583d199",
   "metadata": {},
   "outputs": [
    {
     "name": "stdout",
     "output_type": "stream",
     "text": [
      "[45, 56, 34, 25, 646]\n"
     ]
    }
   ],
   "source": [
    "# 리스트변수 = [값, 값, 값,...]\n",
    "a = [45, 56, 34, 25, 646]\n",
    "print(a)"
   ]
  },
  {
   "cell_type": "markdown",
   "id": "a89ed754-a900-48ac-94c3-d9ecf09497c9",
   "metadata": {},
   "source": [
    "### (1) 리스트에 여러가지 자료형 저장하기"
   ]
  },
  {
   "cell_type": "code",
   "execution_count": 3,
   "id": "31035b4d-19d2-4767-9eae-79e52b9c6c37",
   "metadata": {},
   "outputs": [
    {
     "name": "stdout",
     "output_type": "stream",
     "text": [
      "['james', 16, 170.7, True]\n"
     ]
    }
   ],
   "source": [
    "person = ['james', 16, 170.7, True]\n",
    "print(person)"
   ]
  },
  {
   "cell_type": "markdown",
   "id": "1791b5b4-20c4-4e5a-89b2-c354e56255bf",
   "metadata": {},
   "source": [
    "### (2) 빈 리스트 만들기"
   ]
  },
  {
   "cell_type": "code",
   "execution_count": 4,
   "id": "37de301b-a3c1-4a70-80b0-e4081aa76bf0",
   "metadata": {},
   "outputs": [
    {
     "name": "stdout",
     "output_type": "stream",
     "text": [
      "[]\n"
     ]
    }
   ],
   "source": [
    "# 리스트 = [] 또는 리스트 = list()\n",
    "a = []\n",
    "print(a)"
   ]
  },
  {
   "cell_type": "code",
   "execution_count": 6,
   "id": "f3bad225-e2bc-4cf2-ba95-ce31a6577ee3",
   "metadata": {},
   "outputs": [
    {
     "data": {
      "text/plain": [
       "[]"
      ]
     },
     "execution_count": 6,
     "metadata": {},
     "output_type": "execute_result"
    }
   ],
   "source": [
    "b = list()\n",
    "b"
   ]
  },
  {
   "cell_type": "markdown",
   "id": "07ae3e30-4635-4cdf-87b6-04085f53b951",
   "metadata": {},
   "source": [
    "### (3) range 값을 사용하여 리스트 만들기"
   ]
  },
  {
   "cell_type": "code",
   "execution_count": 8,
   "id": "70996ff5-9bd4-4313-8dc6-bcd409d2f1ed",
   "metadata": {},
   "outputs": [
    {
     "data": {
      "text/plain": [
       "range(0, 10)"
      ]
     },
     "execution_count": 8,
     "metadata": {},
     "output_type": "execute_result"
    }
   ],
   "source": [
    "# range(횟수)\n",
    "range(10)  # 0부터 9까지의 숫자가 생성"
   ]
  },
  {
   "cell_type": "code",
   "execution_count": 9,
   "id": "357dbcb1-cebf-4aef-aae3-b18532b2ff38",
   "metadata": {},
   "outputs": [
    {
     "name": "stdout",
     "output_type": "stream",
     "text": [
      "[0, 1, 2, 3, 4, 5, 6, 7, 8, 9]\n"
     ]
    }
   ],
   "source": [
    "a = list(range(10))\n",
    "print(a)"
   ]
  },
  {
   "cell_type": "code",
   "execution_count": 10,
   "id": "d6508440-9cfd-4943-b784-f4fe6ace66ff",
   "metadata": {},
   "outputs": [
    {
     "data": {
      "text/plain": [
       "[5, 6, 7, 8, 9, 10]"
      ]
     },
     "execution_count": 10,
     "metadata": {},
     "output_type": "execute_result"
    }
   ],
   "source": [
    "# range를 사용하여 시작 숫자, 끝 숫자를 지정\n",
    "b = list(range(5,11))\n",
    "b"
   ]
  },
  {
   "cell_type": "code",
   "execution_count": 13,
   "id": "6df5358b-1c30-41ce-b4e9-c779c6f2db8e",
   "metadata": {},
   "outputs": [
    {
     "name": "stdout",
     "output_type": "stream",
     "text": [
      "[-4, -2, 0, 2, 4, 6, 8]\n"
     ]
    }
   ],
   "source": [
    "# range 증가폭 지정\n",
    "# range(시작, 끝, 증가폭)\n",
    "c = list(range(-4, 10, 2))\n",
    "print(c)"
   ]
  },
  {
   "cell_type": "code",
   "execution_count": 14,
   "id": "acc63a87-a2e3-4895-9c79-ec4f0dfc67a7",
   "metadata": {},
   "outputs": [
    {
     "name": "stdout",
     "output_type": "stream",
     "text": [
      "[10, 9, 8, 7, 6, 5, 4, 3, 2, 1]\n"
     ]
    }
   ],
   "source": [
    "# 증가폭을 음수로 지정\n",
    "d = list(range(10, 0, -1))\n",
    "print(d)"
   ]
  },
  {
   "cell_type": "markdown",
   "id": "96cb0fc4-c965-46f9-84a4-ef45610e1f0c",
   "metadata": {},
   "source": [
    "## 2. 튜플 만들기"
   ]
  },
  {
   "cell_type": "code",
   "execution_count": 15,
   "id": "a1d6070c-91a8-4a7f-b26b-5cef3566b7fe",
   "metadata": {},
   "outputs": [
    {
     "data": {
      "text/plain": [
       "(78, 13, 34, 74, 45)"
      ]
     },
     "execution_count": 15,
     "metadata": {},
     "output_type": "execute_result"
    }
   ],
   "source": [
    "# 튜플 = (값, 값, 값,..)\n",
    "# 튜플 = 값, 값, 값,..\n",
    "a = (78, 13, 34, 74, 45)\n",
    "a"
   ]
  },
  {
   "cell_type": "code",
   "execution_count": 16,
   "id": "4f655c66-3941-4252-b05c-c3dded6ca71d",
   "metadata": {},
   "outputs": [
    {
     "data": {
      "text/plain": [
       "(45, 34, 21, 45, 45)"
      ]
     },
     "execution_count": 16,
     "metadata": {},
     "output_type": "execute_result"
    }
   ],
   "source": [
    "# 괄호 없이 숫자만으로 생성할 수 있음\n",
    "a =  45, 34, 21, 45, 45\n",
    "a"
   ]
  },
  {
   "cell_type": "code",
   "execution_count": 17,
   "id": "78218576-7e1d-4b64-b6ad-9c843bef7991",
   "metadata": {},
   "outputs": [
    {
     "data": {
      "text/plain": [
       "('james', 18, 190.3, True)"
      ]
     },
     "execution_count": 17,
     "metadata": {},
     "output_type": "execute_result"
    }
   ],
   "source": [
    "person = ('james', 18, 190.3, True)\n",
    "person"
   ]
  },
  {
   "cell_type": "code",
   "execution_count": 20,
   "id": "bcdd4d74-2769-4ba7-b25b-5ff30687b015",
   "metadata": {},
   "outputs": [
    {
     "data": {
      "text/plain": [
       "(38,)"
      ]
     },
     "execution_count": 20,
     "metadata": {},
     "output_type": "execute_result"
    }
   ],
   "source": [
    "# 요소가 한 개 들어있는 튜플\n",
    "a = (38,)  #뒤에 콤마를 반드시 붙여주어야함.\n",
    "a "
   ]
  },
  {
   "cell_type": "markdown",
   "id": "b0330d3f-d80c-41ba-9253-ce66f1d480db",
   "metadata": {},
   "source": [
    "### (1) range를 사용하여 튜플만들기"
   ]
  },
  {
   "cell_type": "code",
   "execution_count": 21,
   "id": "f0d4eaba-ddd9-431f-b884-24d77df3f9bf",
   "metadata": {},
   "outputs": [
    {
     "data": {
      "text/plain": [
       "(0, 1, 2, 3, 4, 5, 6, 7, 8, 9)"
      ]
     },
     "execution_count": 21,
     "metadata": {},
     "output_type": "execute_result"
    }
   ],
   "source": [
    "# 튜플 = tuple(range(값))\n",
    "a = tuple(range(10))\n",
    "a"
   ]
  },
  {
   "cell_type": "code",
   "execution_count": 23,
   "id": "b71cfcb1-f527-4dca-b6ee-2ff5f04d0e29",
   "metadata": {},
   "outputs": [
    {
     "data": {
      "text/plain": [
       "(4, 5, 6, 7, 8, 9, 10)"
      ]
     },
     "execution_count": 23,
     "metadata": {},
     "output_type": "execute_result"
    }
   ],
   "source": [
    "# 시작숫자, 끝숫자, 증가폭 지정\n",
    "b = tuple(range(4,11))\n",
    "b"
   ]
  },
  {
   "cell_type": "code",
   "execution_count": 24,
   "id": "aca98e9a-9368-4c63-9213-47d2964f28cb",
   "metadata": {},
   "outputs": [
    {
     "data": {
      "text/plain": [
       "(1, 2, 3)"
      ]
     },
     "execution_count": 24,
     "metadata": {},
     "output_type": "execute_result"
    }
   ],
   "source": [
    "# 튜플 -> 리스트, 리스트 -> 튜플\n",
    "a = [1,2,3]\n",
    "tuple(a)"
   ]
  },
  {
   "cell_type": "code",
   "execution_count": 26,
   "id": "aa8b9273-155e-41f5-8d4d-f14adbc4d8d0",
   "metadata": {},
   "outputs": [
    {
     "data": {
      "text/plain": [
       "[4, 5, 6]"
      ]
     },
     "execution_count": 26,
     "metadata": {},
     "output_type": "execute_result"
    }
   ],
   "source": [
    "b = (4,5,6)\n",
    "list(b)"
   ]
  },
  {
   "cell_type": "code",
   "execution_count": 28,
   "id": "effaba6f-4efc-4958-8155-f5e34ec204e6",
   "metadata": {},
   "outputs": [
    {
     "name": "stdout",
     "output_type": "stream",
     "text": [
      "10 20 30\n"
     ]
    }
   ],
   "source": [
    "# 리스트 언패킹\n",
    "a, b, c = [10,20,30]\n",
    "print(a, b, c)"
   ]
  },
  {
   "cell_type": "code",
   "execution_count": 29,
   "id": "a9bea892-9074-4901-90bb-604763f3095e",
   "metadata": {},
   "outputs": [
    {
     "name": "stdout",
     "output_type": "stream",
     "text": [
      "30 40 50\n"
     ]
    }
   ],
   "source": [
    "# 튜플 언패킹\n",
    "d, e, f = (30, 40, 50)\n",
    "print(d, e, f)"
   ]
  },
  {
   "cell_type": "code",
   "execution_count": 30,
   "id": "f0ed5bfa-9705-48d5-a256-87368e5e6555",
   "metadata": {},
   "outputs": [
    {
     "name": "stdout",
     "output_type": "stream",
     "text": [
      "10 20 30\n"
     ]
    }
   ],
   "source": [
    "# 언패킹에서 리스트와 튜플 변수를 사용해도 무방함\n",
    "x = [10, 20, 30]\n",
    "a, b, c = x\n",
    "print(a, b, c)"
   ]
  },
  {
   "cell_type": "markdown",
   "id": "fdbce2b5-e2eb-4d86-849d-5370bdd77668",
   "metadata": {},
   "source": [
    "### <연습 문제>\n",
    "#### [5, 3, 1,-1, -3, -7, -9] 출력 되도록 코딩하시오."
   ]
  },
  {
   "cell_type": "code",
   "execution_count": 31,
   "id": "46d813ef-ef18-49b4-9bb3-88706fe66638",
   "metadata": {},
   "outputs": [
    {
     "name": "stdout",
     "output_type": "stream",
     "text": [
      "[5, 3, 1, -1, -3, -5, -7, -9]\n"
     ]
    }
   ],
   "source": [
    "a = list(range(5, -11, -2))\n",
    "print(a)"
   ]
  },
  {
   "cell_type": "markdown",
   "id": "eb180df9-f7b3-4dd9-a8e5-a78a62a85069",
   "metadata": {},
   "source": [
    "### <연습문제 2>\n",
    "### 표준 입력으로 정수를 입력하고 입력된 정수만큼 증가하도록 튜플을 만들고 출력하시오.\n",
    "### 시작 숫자 : -10, 끝 숫자: 10"
   ]
  },
  {
   "cell_type": "code",
   "execution_count": 36,
   "id": "d17bd5b5-1877-4c6f-bd34-28caa8a20812",
   "metadata": {},
   "outputs": [
    {
     "name": "stdin",
     "output_type": "stream",
     "text": [
      " 4\n"
     ]
    },
    {
     "data": {
      "text/plain": [
       "(-10, -6, -2, 2, 6)"
      ]
     },
     "execution_count": 36,
     "metadata": {},
     "output_type": "execute_result"
    }
   ],
   "source": [
    "tuple(range(-10, 10, int(input())))"
   ]
  },
  {
   "cell_type": "markdown",
   "id": "8a832233-5186-45b0-af5d-7c0074cc4bf8",
   "metadata": {},
   "source": [
    "# 시퀀스 자료형 활용"
   ]
  },
  {
   "cell_type": "markdown",
   "id": "6d42d404-e262-4543-85fd-06d3e41184e6",
   "metadata": {},
   "source": [
    "### (1) 특정 값이 있는지 확인"
   ]
  },
  {
   "cell_type": "code",
   "execution_count": 37,
   "id": "0383c9d5-7fbe-4865-84a8-b3bc1292cb92",
   "metadata": {},
   "outputs": [
    {
     "data": {
      "text/plain": [
       "True"
      ]
     },
     "execution_count": 37,
     "metadata": {},
     "output_type": "execute_result"
    }
   ],
   "source": [
    "# 값 in 시퀀스 객체\n",
    "a = [0, 10, 20, 30, 40 ,50 ,60, 70, 80, 90]\n",
    "30 in a"
   ]
  },
  {
   "cell_type": "code",
   "execution_count": 38,
   "id": "72c8c9bc-f451-4bde-a438-794d723416e2",
   "metadata": {},
   "outputs": [
    {
     "data": {
      "text/plain": [
       "False"
      ]
     },
     "execution_count": 38,
     "metadata": {},
     "output_type": "execute_result"
    }
   ],
   "source": [
    "100 in a"
   ]
  },
  {
   "cell_type": "code",
   "execution_count": 39,
   "id": "63d9bfc8-648b-4c49-9566-2d4009235477",
   "metadata": {},
   "outputs": [
    {
     "data": {
      "text/plain": [
       "True"
      ]
     },
     "execution_count": 39,
     "metadata": {},
     "output_type": "execute_result"
    }
   ],
   "source": [
    "# 특정 값이 없는지 확인 : not in\n",
    "100 not in a"
   ]
  },
  {
   "cell_type": "code",
   "execution_count": 40,
   "id": "2da488cb-3b5d-4335-b480-a392d2f96f32",
   "metadata": {},
   "outputs": [
    {
     "data": {
      "text/plain": [
       "False"
      ]
     },
     "execution_count": 40,
     "metadata": {},
     "output_type": "execute_result"
    }
   ],
   "source": [
    "30 not in a"
   ]
  },
  {
   "cell_type": "code",
   "execution_count": 41,
   "id": "28dbceb5-f70a-418b-8359-239a4c86bccb",
   "metadata": {},
   "outputs": [
    {
     "data": {
      "text/plain": [
       "True"
      ]
     },
     "execution_count": 41,
     "metadata": {},
     "output_type": "execute_result"
    }
   ],
   "source": [
    "t = (0, 10, 20, 30, 40 ,50 ,60, 70, 80, 90)\n",
    "30 in t"
   ]
  },
  {
   "cell_type": "code",
   "execution_count": 42,
   "id": "a3cd6610-9b7d-4b55-9cad-ba2cb7c19f55",
   "metadata": {},
   "outputs": [
    {
     "data": {
      "text/plain": [
       "False"
      ]
     },
     "execution_count": 42,
     "metadata": {},
     "output_type": "execute_result"
    }
   ],
   "source": [
    "20 not in t"
   ]
  },
  {
   "cell_type": "code",
   "execution_count": 43,
   "id": "59533556-cdc5-4566-9720-9a31f79cb885",
   "metadata": {},
   "outputs": [
    {
     "data": {
      "text/plain": [
       "True"
      ]
     },
     "execution_count": 43,
     "metadata": {},
     "output_type": "execute_result"
    }
   ],
   "source": [
    "1 in range(10)"
   ]
  },
  {
   "cell_type": "code",
   "execution_count": 44,
   "id": "d32a1cbd-9c71-4b20-a6f6-269cbf80e722",
   "metadata": {},
   "outputs": [
    {
     "data": {
      "text/plain": [
       "False"
      ]
     },
     "execution_count": 44,
     "metadata": {},
     "output_type": "execute_result"
    }
   ],
   "source": [
    "13 in range(10)"
   ]
  },
  {
   "cell_type": "code",
   "execution_count": 46,
   "id": "e11efb0e-dfb3-49de-bcf7-e3f8eef4f157",
   "metadata": {},
   "outputs": [
    {
     "data": {
      "text/plain": [
       "True"
      ]
     },
     "execution_count": 46,
     "metadata": {},
     "output_type": "execute_result"
    }
   ],
   "source": [
    "'P' in 'Hello, Python'"
   ]
  },
  {
   "cell_type": "markdown",
   "id": "f30cda7c-2236-44c8-aa20-071f702aaa13",
   "metadata": {},
   "source": [
    "### (2) 시퀀스 객체 연결하기"
   ]
  },
  {
   "cell_type": "code",
   "execution_count": 47,
   "id": "a15f9688-b6ec-4c0a-94ba-0b928d59bb03",
   "metadata": {},
   "outputs": [
    {
     "data": {
      "text/plain": [
       "[0, 10, 20, 30, 40, 50, 60, 70]"
      ]
     },
     "execution_count": 47,
     "metadata": {},
     "output_type": "execute_result"
    }
   ],
   "source": [
    "# 시퀀스 객체1 + 시퀀스 객체2\n",
    "a = [0, 10, 20, 30]\n",
    "b = [40, 50, 60, 70]\n",
    "a + b"
   ]
  },
  {
   "cell_type": "code",
   "execution_count": 48,
   "id": "6c645b99-325d-4a12-9ec6-a2583387e70c",
   "metadata": {},
   "outputs": [
    {
     "name": "stdout",
     "output_type": "stream",
     "text": [
      "[0, 10, 20, 30]\n"
     ]
    }
   ],
   "source": [
    "print(a)"
   ]
  },
  {
   "cell_type": "code",
   "execution_count": 49,
   "id": "6a03781d-5702-4454-af9f-aab82a88e066",
   "metadata": {},
   "outputs": [
    {
     "name": "stdout",
     "output_type": "stream",
     "text": [
      "[40, 50, 60, 70]\n"
     ]
    }
   ],
   "source": [
    "print(b)"
   ]
  },
  {
   "cell_type": "code",
   "execution_count": 50,
   "id": "38ccfaaa-3122-47b1-a137-ca1512bd551c",
   "metadata": {},
   "outputs": [
    {
     "name": "stdout",
     "output_type": "stream",
     "text": [
      "[0, 10, 20, 30, 40, 50, 60, 70]\n"
     ]
    }
   ],
   "source": [
    "c = a + b\n",
    "print(c)"
   ]
  },
  {
   "cell_type": "code",
   "execution_count": 51,
   "id": "d9f64683-d789-42d2-bea4-4e94232051a4",
   "metadata": {},
   "outputs": [
    {
     "data": {
      "text/plain": [
       "(0, 10, 20, 30, 40, 50, 60, 70)"
      ]
     },
     "execution_count": 51,
     "metadata": {},
     "output_type": "execute_result"
    }
   ],
   "source": [
    "a = (0, 10, 20, 30)\n",
    "b = (40, 50, 60, 70)\n",
    "a + b"
   ]
  },
  {
   "cell_type": "code",
   "execution_count": 52,
   "id": "e2874f31-29ca-4bc2-a719-f0f630be8005",
   "metadata": {},
   "outputs": [
    {
     "ename": "TypeError",
     "evalue": "unsupported operand type(s) for +: 'range' and 'range'",
     "output_type": "error",
     "traceback": [
      "\u001b[1;31m---------------------------------------------------------------------------\u001b[0m",
      "\u001b[1;31mTypeError\u001b[0m                                 Traceback (most recent call last)",
      "Cell \u001b[1;32mIn[52], line 2\u001b[0m\n\u001b[0;32m      1\u001b[0m \u001b[38;5;66;03m# range 객체는 연결할 수 없음\u001b[39;00m\n\u001b[1;32m----> 2\u001b[0m \u001b[38;5;28mrange\u001b[39m(\u001b[38;5;241m0\u001b[39m,\u001b[38;5;241m10\u001b[39m) \u001b[38;5;241m+\u001b[39m \u001b[38;5;28mrange\u001b[39m(\u001b[38;5;241m10\u001b[39m,\u001b[38;5;241m20\u001b[39m)\n",
      "\u001b[1;31mTypeError\u001b[0m: unsupported operand type(s) for +: 'range' and 'range'"
     ]
    }
   ],
   "source": [
    "# range 객체는 연결할 수 없음\n",
    "range(0,10) + range(10,20)"
   ]
  },
  {
   "cell_type": "code",
   "execution_count": 53,
   "id": "cac3efa4-7a5b-4dd0-9a5a-220d451b80c7",
   "metadata": {},
   "outputs": [
    {
     "data": {
      "text/plain": [
       "[0, 1, 2, 3, 4, 5, 6, 7, 8, 9, 10, 11, 12, 13, 14, 15, 16, 17, 18, 19]"
      ]
     },
     "execution_count": 53,
     "metadata": {},
     "output_type": "execute_result"
    }
   ],
   "source": [
    "# ragne를 list로 만들어서 객체 연결\n",
    "list(range(0,10)) + list(range(10,20))"
   ]
  },
  {
   "cell_type": "code",
   "execution_count": 54,
   "id": "90692eca-8625-445c-9359-a04c304f89af",
   "metadata": {},
   "outputs": [
    {
     "data": {
      "text/plain": [
       "'Hello, world!'"
      ]
     },
     "execution_count": 54,
     "metadata": {},
     "output_type": "execute_result"
    }
   ],
   "source": [
    "'Hello, ' + 'world!'"
   ]
  },
  {
   "cell_type": "markdown",
   "id": "5018e8ae-1a26-4cb9-b01f-bc8224405414",
   "metadata": {},
   "source": [
    "### 주의할 점"
   ]
  },
  {
   "cell_type": "code",
   "execution_count": 57,
   "id": "79ee40e4-338e-4dae-b130-cd5457a34a48",
   "metadata": {},
   "outputs": [
    {
     "ename": "TypeError",
     "evalue": "can only concatenate str (not \"int\") to str",
     "output_type": "error",
     "traceback": [
      "\u001b[1;31m---------------------------------------------------------------------------\u001b[0m",
      "\u001b[1;31mTypeError\u001b[0m                                 Traceback (most recent call last)",
      "Cell \u001b[1;32mIn[57], line 1\u001b[0m\n\u001b[1;32m----> 1\u001b[0m \u001b[38;5;124m'\u001b[39m\u001b[38;5;124mHello, \u001b[39m\u001b[38;5;124m'\u001b[39m \u001b[38;5;241m+\u001b[39m \u001b[38;5;241m10\u001b[39m\n",
      "\u001b[1;31mTypeError\u001b[0m: can only concatenate str (not \"int\") to str"
     ]
    }
   ],
   "source": [
    "'Hello, ' + 10"
   ]
  },
  {
   "cell_type": "code",
   "execution_count": 56,
   "id": "69e3b11a-8e3a-4752-9e28-942bbb286d29",
   "metadata": {},
   "outputs": [
    {
     "data": {
      "text/plain": [
       "'Hello, 10'"
      ]
     },
     "execution_count": 56,
     "metadata": {},
     "output_type": "execute_result"
    }
   ],
   "source": [
    "# str() - 숫자를 문자열로 변환\n",
    "'Hello, ' + str(10)"
   ]
  },
  {
   "cell_type": "markdown",
   "id": "c5e4c20d-0f98-4171-b5b0-deb88389e822",
   "metadata": {},
   "source": [
    "### (3) 시퀀스 객체 반복 "
   ]
  },
  {
   "cell_type": "code",
   "execution_count": 58,
   "id": "05fd9764-9c67-4fd0-8096-077a9a19ab30",
   "metadata": {},
   "outputs": [
    {
     "data": {
      "text/plain": [
       "[10, 20, 30, 10, 20, 30, 10, 20, 30]"
      ]
     },
     "execution_count": 58,
     "metadata": {},
     "output_type": "execute_result"
    }
   ],
   "source": [
    "# 시퀀스 객체 * 정수 => 정수 횟수만큼 시퀀스 객체 반복해서 연결\n",
    "[10, 20, 30] * 3"
   ]
  },
  {
   "cell_type": "code",
   "execution_count": 59,
   "id": "bbb7e911-091a-4dd1-931c-ec4ec36c0985",
   "metadata": {},
   "outputs": [
    {
     "data": {
      "text/plain": [
       "(1, 2, 3, 1, 2, 3, 1, 2, 3)"
      ]
     },
     "execution_count": 59,
     "metadata": {},
     "output_type": "execute_result"
    }
   ],
   "source": [
    "(1, 2, 3) * 3"
   ]
  },
  {
   "cell_type": "code",
   "execution_count": 60,
   "id": "3ddd0fe7-330f-47ff-980a-c5c26a3c19fb",
   "metadata": {},
   "outputs": [
    {
     "ename": "TypeError",
     "evalue": "unsupported operand type(s) for *: 'range' and 'int'",
     "output_type": "error",
     "traceback": [
      "\u001b[1;31m---------------------------------------------------------------------------\u001b[0m",
      "\u001b[1;31mTypeError\u001b[0m                                 Traceback (most recent call last)",
      "Cell \u001b[1;32mIn[60], line 1\u001b[0m\n\u001b[1;32m----> 1\u001b[0m \u001b[38;5;28mrange\u001b[39m(\u001b[38;5;241m0\u001b[39m,\u001b[38;5;241m10\u001b[39m) \u001b[38;5;241m*\u001b[39m \u001b[38;5;241m3\u001b[39m\n",
      "\u001b[1;31mTypeError\u001b[0m: unsupported operand type(s) for *: 'range' and 'int'"
     ]
    }
   ],
   "source": [
    "range(0,10) * 3"
   ]
  },
  {
   "cell_type": "markdown",
   "id": "7f4782d5-aa09-4c07-a7df-ed3aeaf9c9bb",
   "metadata": {},
   "source": [
    "## 2. 시퀀스 객체의 요소 갯수 구하기"
   ]
  },
  {
   "cell_type": "markdown",
   "id": "82743e0c-0e0b-40d2-8bf9-235fa594a837",
   "metadata": {},
   "source": [
    "#### len(시퀀스 객체)"
   ]
  },
  {
   "cell_type": "markdown",
   "id": "f5779e68-d3d8-43fd-bfea-d38ce4b49466",
   "metadata": {},
   "source": [
    "### (1) 리스트와 튜플의 요소 갯수"
   ]
  },
  {
   "cell_type": "code",
   "execution_count": 61,
   "id": "5b3aaee6-b96d-4d09-80b6-0d4f8fd49ec6",
   "metadata": {},
   "outputs": [
    {
     "data": {
      "text/plain": [
       "8"
      ]
     },
     "execution_count": 61,
     "metadata": {},
     "output_type": "execute_result"
    }
   ],
   "source": [
    "a = [0, 10, 20, 30, 40, 50, 60, 70]\n",
    "len(a)"
   ]
  },
  {
   "cell_type": "code",
   "execution_count": 62,
   "id": "61a319ad-7519-4ab1-9182-2cbb3e20b9b5",
   "metadata": {},
   "outputs": [
    {
     "data": {
      "text/plain": [
       "5"
      ]
     },
     "execution_count": 62,
     "metadata": {},
     "output_type": "execute_result"
    }
   ],
   "source": [
    "b = (0, 10, 30, 40, 30)\n",
    "len(b)"
   ]
  },
  {
   "cell_type": "code",
   "execution_count": 63,
   "id": "3a03cdcd-f9fb-4a03-8005-ae722bac3eb1",
   "metadata": {},
   "outputs": [
    {
     "data": {
      "text/plain": [
       "5"
      ]
     },
     "execution_count": 63,
     "metadata": {},
     "output_type": "execute_result"
    }
   ],
   "source": [
    "len(range(0, 10, 2))"
   ]
  },
  {
   "cell_type": "code",
   "execution_count": 64,
   "id": "847e37b4-0dcc-430d-8128-e889dd32fe5a",
   "metadata": {},
   "outputs": [
    {
     "name": "stdout",
     "output_type": "stream",
     "text": [
      "13\n"
     ]
    }
   ],
   "source": [
    "# len(문자열) - 문자열의 길이\n",
    "hello = 'Hello, wordl!'\n",
    "print(len(hello))"
   ]
  },
  {
   "cell_type": "code",
   "execution_count": 67,
   "id": "e20d4be6-fbee-4afe-b180-d52c7f20dd53",
   "metadata": {},
   "outputs": [
    {
     "name": "stdout",
     "output_type": "stream",
     "text": [
      "5\n"
     ]
    }
   ],
   "source": [
    "# 한글 문자열의 길이\n",
    "hello = '안녕하세요'\n",
    "print(len(hello))"
   ]
  },
  {
   "cell_type": "code",
   "execution_count": 68,
   "id": "5c0f8a23-c379-4e24-9f05-1f7bfc39b801",
   "metadata": {},
   "outputs": [
    {
     "data": {
      "text/plain": [
       "15"
      ]
     },
     "execution_count": 68,
     "metadata": {},
     "output_type": "execute_result"
    }
   ],
   "source": [
    "# 한글의 바이트 수 구하기\n",
    "len(hello.encode('UTF-8'))"
   ]
  },
  {
   "cell_type": "markdown",
   "id": "947f20ac-e561-4ce1-8604-387a665344aa",
   "metadata": {},
   "source": [
    "## 3. 인덱스 사용하기"
   ]
  },
  {
   "cell_type": "code",
   "execution_count": 70,
   "id": "5cd15b33-57c2-418b-b2d6-e9d09108ed0d",
   "metadata": {},
   "outputs": [
    {
     "name": "stdout",
     "output_type": "stream",
     "text": [
      "10\n"
     ]
    }
   ],
   "source": [
    "# 시퀀스객체[인덱스] - 인덱스 0부터 시작\n",
    "a = [10,20,30,40,50]\n",
    "# 첫번째 요소 출력\n",
    "print(a[0])"
   ]
  },
  {
   "cell_type": "code",
   "execution_count": 73,
   "id": "bf8a55ef-8db3-4832-89ae-ec80f8ede6a2",
   "metadata": {},
   "outputs": [
    {
     "data": {
      "text/plain": [
       "4"
      ]
     },
     "execution_count": 73,
     "metadata": {},
     "output_type": "execute_result"
    }
   ],
   "source": [
    "r = range(0,10,2)\n",
    "r[2]"
   ]
  },
  {
   "cell_type": "code",
   "execution_count": 74,
   "id": "a13e41e4-c04f-4ec3-99b3-0e347617e389",
   "metadata": {},
   "outputs": [
    {
     "data": {
      "text/plain": [
       "'w'"
      ]
     },
     "execution_count": 74,
     "metadata": {},
     "output_type": "execute_result"
    }
   ],
   "source": [
    "hello = 'Hello, world!'\n",
    "hello[7]"
   ]
  },
  {
   "cell_type": "code",
   "execution_count": 75,
   "id": "b849a9d9-8ea1-49b2-b89a-b309c71489d4",
   "metadata": {},
   "outputs": [
    {
     "data": {
      "text/plain": [
       "20"
      ]
     },
     "execution_count": 75,
     "metadata": {},
     "output_type": "execute_result"
    }
   ],
   "source": [
    "a[1]"
   ]
  },
  {
   "cell_type": "code",
   "execution_count": 77,
   "id": "15cf3554-dfca-47a8-8a0e-2ee14518013c",
   "metadata": {},
   "outputs": [
    {
     "data": {
      "text/plain": [
       "20"
      ]
     },
     "execution_count": 77,
     "metadata": {},
     "output_type": "execute_result"
    }
   ],
   "source": [
    "a.__getitem__(1) #a[1]과 같은 의미"
   ]
  },
  {
   "cell_type": "markdown",
   "id": "3aec13c7-0ba2-4766-a591-35e9e4e67d21",
   "metadata": {},
   "source": [
    "### (1) 음수 인덱스 지정하기"
   ]
  },
  {
   "cell_type": "code",
   "execution_count": 78,
   "id": "a902cabe-7b78-4194-ab17-244adcb32b15",
   "metadata": {},
   "outputs": [
    {
     "data": {
      "text/plain": [
       "23"
      ]
     },
     "execution_count": 78,
     "metadata": {},
     "output_type": "execute_result"
    }
   ],
   "source": [
    "a = [45, 24, 64, 34, 23]\n",
    "a[-1] # 뒤에서 첫번째 요소"
   ]
  },
  {
   "cell_type": "code",
   "execution_count": 79,
   "id": "774c62e8-7eff-499f-8424-3ada1ed3b110",
   "metadata": {},
   "outputs": [
    {
     "data": {
      "text/plain": [
       "23"
      ]
     },
     "execution_count": 79,
     "metadata": {},
     "output_type": "execute_result"
    }
   ],
   "source": [
    "b = (45, 24, 64, 34, 23)\n",
    "b[-1]"
   ]
  },
  {
   "cell_type": "code",
   "execution_count": 80,
   "id": "13d99504-1b5a-40ae-b86f-1f3cf9250bcd",
   "metadata": {},
   "outputs": [
    {
     "name": "stdout",
     "output_type": "stream",
     "text": [
      "[0, 2, 4, 6, 8]\n"
     ]
    }
   ],
   "source": [
    "r = range(0, 10, 2)\n",
    "print(list(r))"
   ]
  },
  {
   "cell_type": "code",
   "execution_count": 81,
   "id": "8d1f538b-0e7b-403e-9e25-da6ba893df1c",
   "metadata": {},
   "outputs": [
    {
     "data": {
      "text/plain": [
       "4"
      ]
     },
     "execution_count": 81,
     "metadata": {},
     "output_type": "execute_result"
    }
   ],
   "source": [
    "r[-3]"
   ]
  },
  {
   "cell_type": "code",
   "execution_count": 82,
   "id": "c1d60967-e3e9-4bdf-a7f9-37080a89ee0c",
   "metadata": {},
   "outputs": [
    {
     "data": {
      "text/plain": [
       "'l'"
      ]
     },
     "execution_count": 82,
     "metadata": {},
     "output_type": "execute_result"
    }
   ],
   "source": [
    "hello = 'Hello, world!'\n",
    "hello[-3]"
   ]
  },
  {
   "cell_type": "code",
   "execution_count": 83,
   "id": "12347c12-0c70-4f84-96d6-c8d02cb80ecf",
   "metadata": {},
   "outputs": [
    {
     "data": {
      "text/plain": [
       "23"
      ]
     },
     "execution_count": 83,
     "metadata": {},
     "output_type": "execute_result"
    }
   ],
   "source": [
    "# 마지막 요소에 접근하기\n",
    "a = [45, 24, 64, 34, 23]\n",
    "a[len(a)-1]"
   ]
  },
  {
   "cell_type": "markdown",
   "id": "bceb461e-2936-4805-bd50-b86d068c4e2d",
   "metadata": {},
   "source": [
    "#### (4) 요소에 값 할당하기"
   ]
  },
  {
   "cell_type": "code",
   "execution_count": 84,
   "id": "d356fa58-3efa-4c88-abe6-c554affc5c59",
   "metadata": {},
   "outputs": [
    {
     "data": {
      "text/plain": [
       "[36, 45, 13, 56, 23]"
      ]
     },
     "execution_count": 84,
     "metadata": {},
     "output_type": "execute_result"
    }
   ],
   "source": [
    "# 시퀀스객체[인덱스] = 값\n",
    "a = [0, 0, 0, 0, 0]\n",
    "a[0] = 36\n",
    "a[1] = 45\n",
    "a[2] = 13\n",
    "a[3] = 56\n",
    "a[4] = 23\n",
    "a"
   ]
  },
  {
   "cell_type": "code",
   "execution_count": 86,
   "id": "c991a671-0938-41f3-ab64-ec83d98ac17a",
   "metadata": {},
   "outputs": [
    {
     "ename": "TypeError",
     "evalue": "'tuple' object does not support item assignment",
     "output_type": "error",
     "traceback": [
      "\u001b[1;31m---------------------------------------------------------------------------\u001b[0m",
      "\u001b[1;31mTypeError\u001b[0m                                 Traceback (most recent call last)",
      "Cell \u001b[1;32mIn[86], line 2\u001b[0m\n\u001b[0;32m      1\u001b[0m b \u001b[38;5;241m=\u001b[39m (\u001b[38;5;241m0\u001b[39m, \u001b[38;5;241m0\u001b[39m, \u001b[38;5;241m0\u001b[39m, \u001b[38;5;241m0\u001b[39m, \u001b[38;5;241m0\u001b[39m)\n\u001b[1;32m----> 2\u001b[0m b[\u001b[38;5;241m0\u001b[39m] \u001b[38;5;241m=\u001b[39m \u001b[38;5;241m23\u001b[39m\n",
      "\u001b[1;31mTypeError\u001b[0m: 'tuple' object does not support item assignment"
     ]
    }
   ],
   "source": [
    "b = (0, 0, 0, 0, 0)\n",
    "b[0] = 23 # 튜플에는 값을 넣을 수 없음"
   ]
  },
  {
   "cell_type": "markdown",
   "id": "a1a315b7-4ad5-41e7-a493-8f6eb97c99de",
   "metadata": {},
   "source": [
    "#### (5) 요소 값 삭제하기"
   ]
  },
  {
   "cell_type": "code",
   "execution_count": 87,
   "id": "44d83b18-42d4-46cb-b701-fa7c03fffead",
   "metadata": {},
   "outputs": [
    {
     "name": "stdout",
     "output_type": "stream",
     "text": [
      "[36, 45, 56, 23]\n"
     ]
    }
   ],
   "source": [
    "# del 시퀀스 객체[인덱스]\n",
    "a = [36, 45, 13, 56, 23]\n",
    "del a[2]\n",
    "print(a)"
   ]
  },
  {
   "cell_type": "markdown",
   "id": "1b35a644-91fc-40bd-ac8f-564133e4ded3",
   "metadata": {},
   "source": [
    "#### <span style =\"color:red\"> 튜플은 삭제할 수 없음 </span>"
   ]
  },
  {
   "cell_type": "code",
   "execution_count": 89,
   "id": "85b9b640-a26e-4a58-83d9-94f4525cf041",
   "metadata": {},
   "outputs": [
    {
     "ename": "TypeError",
     "evalue": "'str' object doesn't support item deletion",
     "output_type": "error",
     "traceback": [
      "\u001b[1;31m---------------------------------------------------------------------------\u001b[0m",
      "\u001b[1;31mTypeError\u001b[0m                                 Traceback (most recent call last)",
      "Cell \u001b[1;32mIn[89], line 3\u001b[0m\n\u001b[0;32m      1\u001b[0m \u001b[38;5;66;03m# 문자열에서 요소 삭제 -> 문자요소 삭제 불가능.\u001b[39;00m\n\u001b[0;32m      2\u001b[0m hello \u001b[38;5;241m=\u001b[39m \u001b[38;5;124m'\u001b[39m\u001b[38;5;124mHello, world!\u001b[39m\u001b[38;5;124m'\u001b[39m\n\u001b[1;32m----> 3\u001b[0m \u001b[38;5;28;01mdel\u001b[39;00m hello[\u001b[38;5;241m2\u001b[39m]\n",
      "\u001b[1;31mTypeError\u001b[0m: 'str' object doesn't support item deletion"
     ]
    }
   ],
   "source": [
    "# 문자열에서 요소 삭제 -> 문자요소 삭제 불가능.\n",
    "hello = 'Hello, world!'\n",
    "del hello[2]"
   ]
  },
  {
   "cell_type": "markdown",
   "id": "7b52a086-3169-4d0f-8f19-7ae06c96e712",
   "metadata": {},
   "source": [
    "## 4. 슬라이스 사용하기"
   ]
  },
  {
   "cell_type": "code",
   "execution_count": 91,
   "id": "181de732-408a-4f3e-bfab-e4dae4060926",
   "metadata": {},
   "outputs": [
    {
     "data": {
      "text/plain": [
       "[36, 45, 13, 56]"
      ]
     },
     "execution_count": 91,
     "metadata": {},
     "output_type": "execute_result"
    }
   ],
   "source": [
    "# 시퀀스 객체[시작인덱스:끝인덱스] -> 끝 인덱스는 포함하지 않음\n",
    "a = [36, 45, 13, 56, 23, 43, 22, 11, 54, 95]\n",
    "a[0:4]"
   ]
  },
  {
   "cell_type": "code",
   "execution_count": 93,
   "id": "6227fff4-c3cc-41a9-aedd-59750674564a",
   "metadata": {},
   "outputs": [
    {
     "data": {
      "text/plain": [
       "[]"
      ]
     },
     "execution_count": 93,
     "metadata": {},
     "output_type": "execute_result"
    }
   ],
   "source": [
    "a[1:1]  # 시작과 끝 인덱스가 같으면 값을 가져오지 않는다."
   ]
  },
  {
   "cell_type": "code",
   "execution_count": 94,
   "id": "516cf760-9d1a-4ac6-b6b3-2a7fb22c64dc",
   "metadata": {},
   "outputs": [
    {
     "data": {
      "text/plain": [
       "[13, 56, 23, 43, 22]"
      ]
     },
     "execution_count": 94,
     "metadata": {},
     "output_type": "execute_result"
    }
   ],
   "source": [
    "a[2:7]"
   ]
  },
  {
   "cell_type": "code",
   "execution_count": 95,
   "id": "81f46c00-443a-4748-86af-6c3dd38d26a0",
   "metadata": {},
   "outputs": [
    {
     "data": {
      "text/plain": [
       "[36, 45, 13, 56, 23, 43, 22, 11, 54, 95]"
      ]
     },
     "execution_count": 95,
     "metadata": {},
     "output_type": "execute_result"
    }
   ],
   "source": [
    "#인덱스를 음수로 지정\n",
    "a"
   ]
  },
  {
   "cell_type": "code",
   "execution_count": 96,
   "id": "c7d1e55a-195a-4c07-b9bc-e55f69d24a35",
   "metadata": {},
   "outputs": [
    {
     "data": {
      "text/plain": [
       "[23, 43, 22, 11]"
      ]
     },
     "execution_count": 96,
     "metadata": {},
     "output_type": "execute_result"
    }
   ],
   "source": [
    "a[4:-2]"
   ]
  },
  {
   "cell_type": "markdown",
   "id": "eff59292-2545-4f13-9203-09d63bf0963f",
   "metadata": {},
   "source": [
    "### (2) 인덱스 증가 폭 사용하기"
   ]
  },
  {
   "cell_type": "code",
   "execution_count": 99,
   "id": "e41e8d53-8620-4860-a41b-014dfc826061",
   "metadata": {},
   "outputs": [
    {
     "data": {
      "text/plain": [
       "[13, 23, 22]"
      ]
     },
     "execution_count": 99,
     "metadata": {},
     "output_type": "execute_result"
    }
   ],
   "source": [
    "# 시퀀스 객체[시작인덱스:끝인덱스:증가폭]\n",
    "a[2:7:2] # 마지막 인덱스 값음 포함하지 않음"
   ]
  },
  {
   "cell_type": "markdown",
   "id": "f6a79ab2-e3ba-4069-9df2-ddc653e1c3fa",
   "metadata": {},
   "source": [
    "### (3) 인덱스 생략하기"
   ]
  },
  {
   "cell_type": "code",
   "execution_count": 101,
   "id": "4c1dd2c6-b78e-4264-b88d-d1c329f92baf",
   "metadata": {},
   "outputs": [
    {
     "data": {
      "text/plain": [
       "[36, 45, 13, 56, 23, 43]"
      ]
     },
     "execution_count": 101,
     "metadata": {},
     "output_type": "execute_result"
    }
   ],
   "source": [
    "a[:6] # 처음부터 6번인덱스 전까지"
   ]
  },
  {
   "cell_type": "code",
   "execution_count": 102,
   "id": "8136e3aa-5610-4323-a4e3-340a3d358106",
   "metadata": {},
   "outputs": [
    {
     "data": {
      "text/plain": [
       "[43, 22, 11, 54, 95]"
      ]
     },
     "execution_count": 102,
     "metadata": {},
     "output_type": "execute_result"
    }
   ],
   "source": [
    "a[5:] # 5번인덱스부터 끝까지 가져옴"
   ]
  },
  {
   "cell_type": "code",
   "execution_count": 104,
   "id": "cc00f7d2-7591-4610-8eba-5b76b13ddc61",
   "metadata": {},
   "outputs": [
    {
     "data": {
      "text/plain": [
       "[36, 45, 13, 56, 23, 43, 22, 11, 54, 95]"
      ]
     },
     "execution_count": 104,
     "metadata": {},
     "output_type": "execute_result"
    }
   ],
   "source": [
    "a[:] # 전체 리스트 가져옴"
   ]
  },
  {
   "cell_type": "code",
   "execution_count": 105,
   "id": "a8c9e52b-de49-455b-bb49-83b40cc913f0",
   "metadata": {},
   "outputs": [
    {
     "data": {
      "text/plain": [
       "[36, 13, 23, 22, 54]"
      ]
     },
     "execution_count": 105,
     "metadata": {},
     "output_type": "execute_result"
    }
   ],
   "source": [
    "# 시퀀스 객체[::증가폭]\n",
    "a[::2]"
   ]
  },
  {
   "cell_type": "code",
   "execution_count": 106,
   "id": "fef2496f-c127-4495-8b95-8a181efdbf9a",
   "metadata": {},
   "outputs": [
    {
     "data": {
      "text/plain": [
       "[4, 5, 6]"
      ]
     },
     "execution_count": 106,
     "metadata": {},
     "output_type": "execute_result"
    }
   ],
   "source": [
    "r = range(10)\n",
    "list(r[4:7])"
   ]
  },
  {
   "cell_type": "markdown",
   "id": "540cece8-9962-45b0-acf1-b70697dc3a38",
   "metadata": {},
   "source": [
    "### 문자열 슬라이싱"
   ]
  },
  {
   "cell_type": "code",
   "execution_count": 107,
   "id": "08f7ae75-5b50-43f7-b0f1-66b3b0b14684",
   "metadata": {},
   "outputs": [
    {
     "data": {
      "text/plain": [
       "'llo, w'"
      ]
     },
     "execution_count": 107,
     "metadata": {},
     "output_type": "execute_result"
    }
   ],
   "source": [
    "hello = 'Hello, world!'\n",
    "hello[2:8]"
   ]
  },
  {
   "cell_type": "code",
   "execution_count": 108,
   "id": "e61663b9-bd2f-48a3-978c-d893b1863f3e",
   "metadata": {},
   "outputs": [
    {
     "data": {
      "text/plain": [
       "'He'"
      ]
     },
     "execution_count": 108,
     "metadata": {},
     "output_type": "execute_result"
    }
   ],
   "source": [
    "hello[:2]"
   ]
  },
  {
   "cell_type": "code",
   "execution_count": 109,
   "id": "e1f0be04-33e9-4225-aff1-cae6e2887d00",
   "metadata": {},
   "outputs": [
    {
     "data": {
      "text/plain": [
       "'Hlo o'"
      ]
     },
     "execution_count": 109,
     "metadata": {},
     "output_type": "execute_result"
    }
   ],
   "source": [
    "hello[:9:2]"
   ]
  },
  {
   "cell_type": "markdown",
   "id": "c7efce28-0725-4356-818b-d491d70cff72",
   "metadata": {},
   "source": [
    "### <연습문제1>\n",
    "### String 변수에 'Hello, Python Programming'을 할당하고\n",
    "#### 첫번째 세글자와 마지막 세글자로 이루어진 문자열을 만들어 출력하시오."
   ]
  },
  {
   "cell_type": "code",
   "execution_count": 114,
   "id": "99bb7956-2ed9-408d-90dc-6be82c2c867e",
   "metadata": {},
   "outputs": [
    {
     "name": "stdout",
     "output_type": "stream",
     "text": [
      "Heling\n"
     ]
    }
   ],
   "source": [
    "String = 'Hello, Python Programming'\n",
    "a = String[:3]\n",
    "b = String[-3:]\n",
    "print(a+b)"
   ]
  },
  {
   "cell_type": "markdown",
   "id": "ed1161a1-7d3e-4053-9efc-99ad5e867b20",
   "metadata": {},
   "source": [
    "### <연습문제2>\n",
    "#### a = 'abc', v = 'vwx' 두 개의 문자열에 대해\n",
    "#### 각 문자열의 첫 두개 문자열을 서로 교환한 후에 두 문자열을 공백으로 분리하여 \n",
    "#### 합친 문자열을 출력하시오."
   ]
  },
  {
   "cell_type": "code",
   "execution_count": 125,
   "id": "587e1dc7-fee3-42f5-8469-0e2da5778876",
   "metadata": {},
   "outputs": [
    {
     "name": "stdout",
     "output_type": "stream",
     "text": [
      "vwc abg\n"
     ]
    }
   ],
   "source": [
    "a='abc'\n",
    "v='vwx'\n",
    "new_a = v[0:2] + a[2]\n",
    "new_b = a[0:2] + b[2]\n",
    "print(new_a, new_b)"
   ]
  },
  {
   "cell_type": "markdown",
   "id": "74523198-e8d5-4afd-8b3f-2e78e8c7219d",
   "metadata": {},
   "source": [
    "### (4) 슬라이스 요소에 값 할당"
   ]
  },
  {
   "cell_type": "code",
   "execution_count": 127,
   "id": "6a70b7f5-c185-4ccd-a9c9-22715cdb3a1f",
   "metadata": {},
   "outputs": [
    {
     "name": "stdout",
     "output_type": "stream",
     "text": [
      "[0, 10, 'a', 'b', 'c', 50, 60, 70, 80, 90]\n"
     ]
    }
   ],
   "source": [
    "a = [0, 10, 20, 30, 40, 50, 60, 70, 80, 90]\n",
    "a[2:5] = ['a', 'b', 'c'] # 슬라이싱 갯수와 데이터 갯수가 같아야 함.\n",
    "print(a)"
   ]
  },
  {
   "cell_type": "code",
   "execution_count": 131,
   "id": "cc4623c3-683d-4e1d-8c41-11a997127d11",
   "metadata": {},
   "outputs": [
    {
     "name": "stdout",
     "output_type": "stream",
     "text": [
      "[0, 10, 'a', 'e', 50, 60, 70, 80, 90]\n"
     ]
    }
   ],
   "source": [
    "a[2:5] = ['a'] # 할당하는 값으 갯수가 적으면 리스트 갯수가 줄어듬.\n",
    "print(a)"
   ]
  },
  {
   "cell_type": "code",
   "execution_count": 130,
   "id": "82b9c7ef-39da-44f8-95cd-f5005f51b0f3",
   "metadata": {},
   "outputs": [
    {
     "name": "stdout",
     "output_type": "stream",
     "text": [
      "[0, 10, 'a', 'b', 'c', 'e', 50, 60, 70, 80, 90]\n"
     ]
    }
   ],
   "source": [
    "a = [0, 10, 20, 30, 40, 50, 60, 70, 80, 90]\n",
    "a[2:5] = ['a', 'b', 'c', 'e'] # 할당하는 값의 갯수가 더 많으면 리스트가 늘어남.|\n",
    "print(a)"
   ]
  },
  {
   "cell_type": "code",
   "execution_count": 132,
   "id": "83771714-a4af-47a5-b9a2-9a9bf732d87e",
   "metadata": {},
   "outputs": [
    {
     "name": "stdout",
     "output_type": "stream",
     "text": [
      "[0, 10, 'a', 30, 'b', 50, 'c', 70, 80, 90]\n"
     ]
    }
   ],
   "source": [
    "a = [0, 10, 20, 30, 40, 50, 60, 70, 80, 90]\n",
    "a[2:8:2] = ['a', 'b', 'c']\n",
    "print(a)"
   ]
  },
  {
   "cell_type": "code",
   "execution_count": 134,
   "id": "a055df27-aca6-4924-8250-4e2649326ea3",
   "metadata": {},
   "outputs": [
    {
     "ename": "ValueError",
     "evalue": "attempt to assign sequence of size 2 to extended slice of size 3",
     "output_type": "error",
     "traceback": [
      "\u001b[1;31m---------------------------------------------------------------------------\u001b[0m",
      "\u001b[1;31mValueError\u001b[0m                                Traceback (most recent call last)",
      "Cell \u001b[1;32mIn[134], line 3\u001b[0m\n\u001b[0;32m      1\u001b[0m \u001b[38;5;66;03m# 인덱스 증가폭을 지정하여 값을 할당할 때는 데이터의 갯수가 정확하게 맞아야 함.\u001b[39;00m\n\u001b[0;32m      2\u001b[0m a \u001b[38;5;241m=\u001b[39m [\u001b[38;5;241m0\u001b[39m, \u001b[38;5;241m10\u001b[39m, \u001b[38;5;241m20\u001b[39m, \u001b[38;5;241m30\u001b[39m, \u001b[38;5;241m40\u001b[39m, \u001b[38;5;241m50\u001b[39m, \u001b[38;5;241m60\u001b[39m, \u001b[38;5;241m70\u001b[39m, \u001b[38;5;241m80\u001b[39m, \u001b[38;5;241m90\u001b[39m]\n\u001b[1;32m----> 3\u001b[0m a[\u001b[38;5;241m2\u001b[39m:\u001b[38;5;241m8\u001b[39m:\u001b[38;5;241m2\u001b[39m] \u001b[38;5;241m=\u001b[39m [\u001b[38;5;124m'\u001b[39m\u001b[38;5;124ma\u001b[39m\u001b[38;5;124m'\u001b[39m, \u001b[38;5;124m'\u001b[39m\u001b[38;5;124mb\u001b[39m\u001b[38;5;124m'\u001b[39m] \n\u001b[0;32m      4\u001b[0m \u001b[38;5;28mprint\u001b[39m(a)\n",
      "\u001b[1;31mValueError\u001b[0m: attempt to assign sequence of size 2 to extended slice of size 3"
     ]
    }
   ],
   "source": [
    "# 인덱스 증가폭을 지정하여 값을 할당할 때는 데이터의 갯수가 정확하게 맞아야 함.\n",
    "a = [0, 10, 20, 30, 40, 50, 60, 70, 80, 90]\n",
    "a[2:8:2] = ['a', 'b'] \n",
    "print(a)"
   ]
  },
  {
   "cell_type": "markdown",
   "id": "cabd5705-bb9d-4838-97ed-a11fccd14a7b",
   "metadata": {},
   "source": [
    "#### <span style ='color:red'> 튜플, range에는 슬라이싱요소에 값을 할당할 수 없음. </span>"
   ]
  },
  {
   "cell_type": "markdown",
   "id": "640560db-4a2a-44c4-9194-6c108bac4d1d",
   "metadata": {},
   "source": [
    "### (5) del로 슬라이싱 요소 삭제"
   ]
  },
  {
   "cell_type": "code",
   "execution_count": 135,
   "id": "58976f07-1a2a-46fa-ad7f-4b96ac7b206e",
   "metadata": {},
   "outputs": [
    {
     "data": {
      "text/plain": [
       "[0, 10, 50, 60, 70, 80, 90]"
      ]
     },
     "execution_count": 135,
     "metadata": {},
     "output_type": "execute_result"
    }
   ],
   "source": [
    "a = [0, 10, 20, 30, 40, 50, 60, 70, 80, 90]\n",
    "del a[2:5]\n",
    "a"
   ]
  },
  {
   "cell_type": "code",
   "execution_count": 136,
   "id": "c0f5de4d-c42f-4b3e-87e9-eebb9f20f2d6",
   "metadata": {},
   "outputs": [
    {
     "data": {
      "text/plain": [
       "[0, 10, 30, 50, 70, 80, 90]"
      ]
     },
     "execution_count": 136,
     "metadata": {},
     "output_type": "execute_result"
    }
   ],
   "source": [
    "a = [0, 10, 20, 30, 40, 50, 60, 70, 80, 90]\n",
    "del a[2:8:2]\n",
    "a"
   ]
  },
  {
   "cell_type": "markdown",
   "id": "4ea81bf3-fa3b-4442-a552-fe6aecff2f16",
   "metadata": {},
   "source": [
    "#### <span style ='color:red'> 튜플, range, 문자열의 슬라이싱은 del로 삭제할 수 없음 </span>"
   ]
  },
  {
   "cell_type": "code",
   "execution_count": 137,
   "id": "1602419f-716e-4e3c-8ff2-662c68043184",
   "metadata": {},
   "outputs": [
    {
     "ename": "TypeError",
     "evalue": "'range' object does not support item deletion",
     "output_type": "error",
     "traceback": [
      "\u001b[1;31m---------------------------------------------------------------------------\u001b[0m",
      "\u001b[1;31mTypeError\u001b[0m                                 Traceback (most recent call last)",
      "Cell \u001b[1;32mIn[137], line 2\u001b[0m\n\u001b[0;32m      1\u001b[0m r \u001b[38;5;241m=\u001b[39m \u001b[38;5;28mrange\u001b[39m(\u001b[38;5;241m10\u001b[39m)\n\u001b[1;32m----> 2\u001b[0m \u001b[38;5;28;01mdel\u001b[39;00m r[\u001b[38;5;241m2\u001b[39m:\u001b[38;5;241m5\u001b[39m]\n",
      "\u001b[1;31mTypeError\u001b[0m: 'range' object does not support item deletion"
     ]
    }
   ],
   "source": [
    "r = range(10)\n",
    "del r[2:5]"
   ]
  },
  {
   "cell_type": "code",
   "execution_count": 142,
   "id": "f07572cc-0ab3-4719-9105-da289c2cca0d",
   "metadata": {},
   "outputs": [
    {
     "name": "stdout",
     "output_type": "stream",
     "text": [
      "2018 9838892 2017 9857426 2016 9930616\n"
     ]
    }
   ],
   "source": [
    "year = [2011, 2012, 2014, 2015, 2016, 2017, 2018]\n",
    "population = [10249679, 10195318, 10143645, 10103233, 10022181, 9930616, 9857426, 9838892]\n",
    "print(year[-1] ,population[-1], year[-2], population[-2], year[-3], population[-3])"
   ]
  },
  {
   "cell_type": "markdown",
   "id": "c1468855-57ea-4a04-ae07-fe75c7a73118",
   "metadata": {},
   "source": [
    "### 튜플 n에서 인덱스가 홀수인 요소들이 출력되게 만드시오."
   ]
  },
  {
   "cell_type": "code",
   "execution_count": 147,
   "id": "28db8121-9e58-4b5f-8956-fa901cefa946",
   "metadata": {},
   "outputs": [
    {
     "data": {
      "text/plain": [
       "(75, -10, 32, -15, 76, 2)"
      ]
     },
     "execution_count": 147,
     "metadata": {},
     "output_type": "execute_result"
    }
   ],
   "source": [
    "n = (-32, 75, 97, -10, 9, 32, 4, -15, 0, 76, 15, 2)\n",
    "n[1::2]"
   ]
  },
  {
   "cell_type": "markdown",
   "id": "70cfb8fe-45cd-48d9-9f21-2081f02acd41",
   "metadata": {},
   "source": [
    "#### 표준입력으로 숫자 또는 문자열 여러개가 입력되어 리스트 x에 저장된다.\n",
    "#### 입력되는 숫자 또는 문자열의 갯수는 정해져 있지 않음.\n",
    "#### 리스트 x의 마지막 요소 5개를 삭제한 뒤 튜플로 툴력하시오."
   ]
  },
  {
   "cell_type": "code",
   "execution_count": 155,
   "id": "2f28e6f0-b2e1-4fb0-9df1-196f3f9fc850",
   "metadata": {},
   "outputs": [
    {
     "name": "stdin",
     "output_type": "stream",
     "text": [
      " 32 45 85 98 63 1 54 85 96 21 48 63 25 21 \n"
     ]
    }
   ],
   "source": [
    "x = list(map(int, input().split()))"
   ]
  },
  {
   "cell_type": "code",
   "execution_count": 161,
   "id": "f861439e-0b14-47eb-960c-772feb324735",
   "metadata": {},
   "outputs": [
    {
     "name": "stdout",
     "output_type": "stream",
     "text": [
      "[32, 45, 85, 98, 63]\n"
     ]
    }
   ],
   "source": [
    "print(x)"
   ]
  },
  {
   "cell_type": "code",
   "execution_count": 158,
   "id": "51a33e11-a13f-47a6-aebf-8abd0bd7e6d0",
   "metadata": {},
   "outputs": [],
   "source": [
    "del x[-5:len(x)]"
   ]
  },
  {
   "cell_type": "code",
   "execution_count": 160,
   "id": "2a8824a9-b3de-4906-998e-6dbd2e392500",
   "metadata": {},
   "outputs": [
    {
     "data": {
      "text/plain": [
       "(32, 45, 85, 98, 63)"
      ]
     },
     "execution_count": 160,
     "metadata": {},
     "output_type": "execute_result"
    }
   ],
   "source": [
    "tuple(x)"
   ]
  },
  {
   "cell_type": "markdown",
   "id": "33b40ff4-32ae-4dca-afc9-29c4bc150289",
   "metadata": {},
   "source": [
    "#### 문자열에서 인덱스가 홀수인 문자와 짝수인 문자 연결하기\n",
    "#### 표준 입력으로 문자열 두개가 각 줄에 입력된다. 첫번째 문자열에서 인덱스가 홀수인 문자와\n",
    "#### 두번째 문자열에서 인덱스가 짝수인 문자를 연결하여 출력하는 프로그램을 만드시오\n",
    "#### 연결 순서는 첫번째 문자열, 두번째 문자열 순으로 연결하여 출력"
   ]
  },
  {
   "cell_type": "code",
   "execution_count": 164,
   "id": "5185592b-ae20-41cc-89b6-bab9ada8ffdb",
   "metadata": {},
   "outputs": [
    {
     "name": "stdin",
     "output_type": "stream",
     "text": [
      " morning pineapple\n"
     ]
    }
   ],
   "source": [
    "a, b = map(str,input().split())"
   ]
  },
  {
   "cell_type": "code",
   "execution_count": 172,
   "id": "f3e78d32-814d-4628-941f-0e842f1e7569",
   "metadata": {},
   "outputs": [],
   "source": [
    "str_a = a[1::2]\n",
    "str_b = b[0::2]"
   ]
  },
  {
   "cell_type": "code",
   "execution_count": 173,
   "id": "fe28366d-b539-40c6-809f-c0ba024d6274",
   "metadata": {},
   "outputs": [
    {
     "name": "stdout",
     "output_type": "stream",
     "text": [
      "onnpnape\n"
     ]
    }
   ],
   "source": [
    "print(str_a+str_b)"
   ]
  },
  {
   "cell_type": "markdown",
   "id": "842d34c6-1c48-4bb5-81fa-9c6ec719f628",
   "metadata": {},
   "source": [
    "# 딕셔너리"
   ]
  },
  {
   "cell_type": "code",
   "execution_count": 174,
   "id": "adb78875-36d6-40e3-be23-d99bb38361ae",
   "metadata": {
    "scrolled": true
   },
   "outputs": [
    {
     "data": {
      "text/plain": [
       "[490, 334, 550, 18, 72]"
      ]
     },
     "execution_count": 174,
     "metadata": {},
     "output_type": "execute_result"
    }
   ],
   "source": [
    "lux_list = [490, 334, 550, 18,72]\n",
    "lux_list"
   ]
  },
  {
   "cell_type": "code",
   "execution_count": 175,
   "id": "b7792ba3-6ba9-485a-8b74-2f9bca4b3abf",
   "metadata": {},
   "outputs": [
    {
     "name": "stdout",
     "output_type": "stream",
     "text": [
      "{'health': 490, 'mana': 334, 'melee': 550, 'armor': 18.72}\n"
     ]
    }
   ],
   "source": [
    "lux = {'health':490, 'mana':334, 'melee':550, 'armor':18.72}\n",
    "print(lux)"
   ]
  },
  {
   "cell_type": "code",
   "execution_count": 176,
   "id": "c333300d-acdc-4ab8-bf9c-13446c3e14a1",
   "metadata": {},
   "outputs": [
    {
     "data": {
      "text/plain": [
       "{'health': 800, 'mana': 334, 'melee': 550, 'armor': 18.72}"
      ]
     },
     "execution_count": 176,
     "metadata": {},
     "output_type": "execute_result"
    }
   ],
   "source": [
    "lux = {'health':490, 'health' : 800, 'mana':334, 'melee':550, 'armor':18.72}\n",
    "lux"
   ]
  },
  {
   "cell_type": "markdown",
   "id": "b615598e-95c4-4bee-aead-24daa06a5baf",
   "metadata": {},
   "source": [
    "### (2) 키의 자료형"
   ]
  },
  {
   "cell_type": "code",
   "execution_count": 177,
   "id": "97329b27-835a-4c1a-8050-116c49235ec4",
   "metadata": {},
   "outputs": [
    {
     "data": {
      "text/plain": [
       "{100: 'hundred', False: 0, 3.5: [1.0, 2.0, 3.0]}"
      ]
     },
     "execution_count": 177,
     "metadata": {},
     "output_type": "execute_result"
    }
   ],
   "source": [
    "x = {100:'hundred', False:0, 3.5:[1.0, 2.0, 3.0]}\n",
    "x"
   ]
  },
  {
   "cell_type": "code",
   "execution_count": 178,
   "id": "28b52cb2-e8ee-4834-890a-4a8364862040",
   "metadata": {},
   "outputs": [
    {
     "ename": "TypeError",
     "evalue": "unhashable type: 'list'",
     "output_type": "error",
     "traceback": [
      "\u001b[1;31m---------------------------------------------------------------------------\u001b[0m",
      "\u001b[1;31mTypeError\u001b[0m                                 Traceback (most recent call last)",
      "Cell \u001b[1;32mIn[178], line 2\u001b[0m\n\u001b[0;32m      1\u001b[0m \u001b[38;5;66;03m# 키에는 리스트를 사용할 수 없다.\u001b[39;00m\n\u001b[1;32m----> 2\u001b[0m x \u001b[38;5;241m=\u001b[39m{[\u001b[38;5;241m1\u001b[39m,\u001b[38;5;241m2\u001b[39m,\u001b[38;5;241m3\u001b[39m]:\u001b[38;5;241m100\u001b[39m}\n",
      "\u001b[1;31mTypeError\u001b[0m: unhashable type: 'list'"
     ]
    }
   ],
   "source": [
    "# 키에는 리스트를 사용할 수 없다.\n",
    "x ={[1,2,3]:100}"
   ]
  },
  {
   "cell_type": "code",
   "execution_count": 179,
   "id": "f855b017-6c25-4f9b-be36-8fd8185988a5",
   "metadata": {},
   "outputs": [
    {
     "ename": "TypeError",
     "evalue": "unhashable type: 'dict'",
     "output_type": "error",
     "traceback": [
      "\u001b[1;31m---------------------------------------------------------------------------\u001b[0m",
      "\u001b[1;31mTypeError\u001b[0m                                 Traceback (most recent call last)",
      "Cell \u001b[1;32mIn[179], line 2\u001b[0m\n\u001b[0;32m      1\u001b[0m \u001b[38;5;66;03m# 딕셔너리도 키로 사용할 수 없다.\u001b[39;00m\n\u001b[1;32m----> 2\u001b[0m x \u001b[38;5;241m=\u001b[39m {{\u001b[38;5;241m1\u001b[39m:\u001b[38;5;241m100\u001b[39m}:\u001b[38;5;241m100\u001b[39m}\n",
      "\u001b[1;31mTypeError\u001b[0m: unhashable type: 'dict'"
     ]
    }
   ],
   "source": [
    "# 딕셔너리도 키로 사용할 수 없다.\n",
    "x = {{1:100}:100}"
   ]
  },
  {
   "cell_type": "markdown",
   "id": "62212442-df4c-46fc-b0be-01632ceb15b5",
   "metadata": {},
   "source": [
    "### (3) 빈 딕셔너리 만들기"
   ]
  },
  {
   "cell_type": "code",
   "execution_count": 180,
   "id": "9b2f0767-1450-407a-b4b6-80042daf32f5",
   "metadata": {},
   "outputs": [
    {
     "data": {
      "text/plain": [
       "{}"
      ]
     },
     "execution_count": 180,
     "metadata": {},
     "output_type": "execute_result"
    }
   ],
   "source": [
    "x = {}\n",
    "x"
   ]
  },
  {
   "cell_type": "code",
   "execution_count": 181,
   "id": "62779d35-77d0-43bf-a671-42bcb4c39a51",
   "metadata": {},
   "outputs": [
    {
     "data": {
      "text/plain": [
       "{}"
      ]
     },
     "execution_count": 181,
     "metadata": {},
     "output_type": "execute_result"
    }
   ],
   "source": [
    "x = dict()\n",
    "x"
   ]
  },
  {
   "cell_type": "markdown",
   "id": "8b3b60e9-050a-401c-9851-22bc1cb2e7ea",
   "metadata": {},
   "source": [
    "### (4) dict()로 딕셔너리 만들기"
   ]
  },
  {
   "cell_type": "code",
   "execution_count": 182,
   "id": "3a58e93e-8ffe-4a88-b39d-791c8fdaa32a",
   "metadata": {},
   "outputs": [],
   "source": [
    "#딕셔너리 = dict(키1=값1, 키2=값2)\n",
    "lux1 = dict(heath=490, mana=334, melle=550, armor=18.72)"
   ]
  },
  {
   "cell_type": "code",
   "execution_count": 183,
   "id": "b157472c-e9be-41a8-972e-e1b612362f32",
   "metadata": {},
   "outputs": [
    {
     "name": "stdout",
     "output_type": "stream",
     "text": [
      "{'heath': 490, 'mana': 334, 'melle': 550, 'armor': 18.72}\n"
     ]
    }
   ],
   "source": [
    "print(lux1)"
   ]
  },
  {
   "cell_type": "code",
   "execution_count": 188,
   "id": "c7ab22e0-547d-4b42-8694-9eea999e7974",
   "metadata": {},
   "outputs": [
    {
     "data": {
      "text/plain": [
       "{'health': 490, 'mana': 332}"
      ]
     },
     "execution_count": 188,
     "metadata": {},
     "output_type": "execute_result"
    }
   ],
   "source": [
    "# 딕셔너리 = dict(zip([키,키2],[값1,값2])\n",
    "lux2 = dict(zip(['health','mana'],[490,332]))\n",
    "lux2"
   ]
  },
  {
   "cell_type": "markdown",
   "id": "44b0d91f-8974-4106-af56-13f07e5ed3bd",
   "metadata": {},
   "source": [
    "## 2. 딕셔너리의 키에 접근하기"
   ]
  },
  {
   "cell_type": "code",
   "execution_count": 190,
   "id": "d65e4f77-91db-47fb-998b-0e492ca55cc7",
   "metadata": {},
   "outputs": [
    {
     "data": {
      "text/plain": [
       "800"
      ]
     },
     "execution_count": 190,
     "metadata": {},
     "output_type": "execute_result"
    }
   ],
   "source": [
    "lux = {'health' : 800, 'mana':334, 'melee':550, 'armor':18.72}\n",
    "lux['health']"
   ]
  },
  {
   "cell_type": "code",
   "execution_count": 191,
   "id": "e7d92dff-ae65-490b-a44e-1296e1c09353",
   "metadata": {},
   "outputs": [
    {
     "data": {
      "text/plain": [
       "{'health': 350, 'mana': 334, 'melee': 550, 'armor': 18.72}"
      ]
     },
     "execution_count": 191,
     "metadata": {},
     "output_type": "execute_result"
    }
   ],
   "source": [
    "lux['health'] = 350\n",
    "lux"
   ]
  },
  {
   "cell_type": "markdown",
   "id": "ece8702b-21b3-4f86-90f0-38ed73ced076",
   "metadata": {},
   "source": [
    "### (1) 딕셔너리에 없는 키값 할당"
   ]
  },
  {
   "cell_type": "code",
   "execution_count": 193,
   "id": "b575724b-32d3-4eec-88bd-28dfc6198e11",
   "metadata": {},
   "outputs": [
    {
     "data": {
      "text/plain": [
       "{'health': 350, 'mana': 334, 'melee': 550, 'armor': 18.72, 'mana-regen': 3.5}"
      ]
     },
     "execution_count": 193,
     "metadata": {},
     "output_type": "execute_result"
    }
   ],
   "source": [
    "# 키가 추가됨\n",
    "lux['mana-regen']=3.50\n",
    "lux"
   ]
  },
  {
   "cell_type": "code",
   "execution_count": 194,
   "id": "b25d7cb4-bee4-4970-98de-50a6619a579b",
   "metadata": {},
   "outputs": [],
   "source": [
    "# 없는 키 값을 요청할 경우 에러 발생\n"
   ]
  },
  {
   "cell_type": "markdown",
   "id": "e382773e-ba87-441a-aaa9-3e3af923e9b3",
   "metadata": {},
   "source": [
    "### (2) 딕셔너리에 키가 존재하는지 확인"
   ]
  },
  {
   "cell_type": "code",
   "execution_count": 195,
   "id": "226541f2-df31-4550-9138-51857c0602a6",
   "metadata": {},
   "outputs": [
    {
     "data": {
      "text/plain": [
       "True"
      ]
     },
     "execution_count": 195,
     "metadata": {},
     "output_type": "execute_result"
    }
   ],
   "source": [
    "lux = {'health' : 800, 'mana':334, 'melee':550, 'armor':18.72}\n",
    "'health' in lux"
   ]
  },
  {
   "cell_type": "markdown",
   "id": "8010c522-239b-4c35-b329-27fcf959ab4d",
   "metadata": {},
   "source": [
    "#### 특정 키가 없는지 확인 : not in"
   ]
  },
  {
   "cell_type": "code",
   "execution_count": 196,
   "id": "c30a9109-c024-43f0-9b75-9ccebe077bff",
   "metadata": {},
   "outputs": [
    {
     "data": {
      "text/plain": [
       "True"
      ]
     },
     "execution_count": 196,
     "metadata": {},
     "output_type": "execute_result"
    }
   ],
   "source": [
    "'attack' not in lux"
   ]
  },
  {
   "cell_type": "markdown",
   "id": "d64114c1-5ddf-43ff-a2f1-3553c0819c27",
   "metadata": {},
   "source": [
    "### (3) 딕셔너리의 키의 갯수 구하기"
   ]
  },
  {
   "cell_type": "code",
   "execution_count": 197,
   "id": "cec7f3ee-4036-4544-8f46-c09fb9234b12",
   "metadata": {},
   "outputs": [
    {
     "data": {
      "text/plain": [
       "4"
      ]
     },
     "execution_count": 197,
     "metadata": {},
     "output_type": "execute_result"
    }
   ],
   "source": [
    "# len(딕셔너리)\n",
    "len(lux)"
   ]
  },
  {
   "cell_type": "code",
   "execution_count": 199,
   "id": "1a5095e9-c2cd-488c-917d-4ea5789d6231",
   "metadata": {},
   "outputs": [
    {
     "name": "stdout",
     "output_type": "stream",
     "text": [
      "575.6 340\n"
     ]
    }
   ],
   "source": [
    "camille = {'health':575.6, 'health_regen' : 1.7, 'mana':338.8, 'mana_regen' : 1.63,\n",
    "           'melee' : 125, 'attack_damage':60, 'attack_speed': 0.624, 'armor':26, 'magic_resistence':32.1,\n",
    "           'movement_speed' : 340}\n",
    "print(camille['health'],camille['movement_speed'])"
   ]
  },
  {
   "cell_type": "code",
   "execution_count": 205,
   "id": "0826c6ac-45a5-4a6d-8e63-f842d7a3b6b4",
   "metadata": {},
   "outputs": [
    {
     "name": "stdin",
     "output_type": "stream",
     "text": [
      " health health_regen mana mana_regen\n",
      " 575.6 1.7 338.8 1.63\n"
     ]
    }
   ],
   "source": [
    "a, b= map(str,input().split()),map(int,input().split())"
   ]
  },
  {
   "cell_type": "code",
   "execution_count": 206,
   "id": "967cdabb-9361-472f-a8ab-6bb258578558",
   "metadata": {},
   "outputs": [
    {
     "name": "stdout",
     "output_type": "stream",
     "text": [
      "['health', 'health_regen', 'mana', 'mana_regen']\n"
     ]
    }
   ],
   "source": [
    "print(list(a))"
   ]
  },
  {
   "cell_type": "code",
   "execution_count": 212,
   "id": "e33f6b02-084e-4c6d-bb80-1c71773a9dc5",
   "metadata": {},
   "outputs": [
    {
     "name": "stdin",
     "output_type": "stream",
     "text": [
      " health health_regen mana mana_regen\n"
     ]
    }
   ],
   "source": [
    "keys = input().split()"
   ]
  },
  {
   "cell_type": "code",
   "execution_count": 213,
   "id": "30b4e842-35e6-49b5-8dcc-002ee2cbc753",
   "metadata": {},
   "outputs": [
    {
     "name": "stdin",
     "output_type": "stream",
     "text": [
      " 1 2 3 4\n"
     ]
    }
   ],
   "source": [
    "valuse = input().split()"
   ]
  },
  {
   "cell_type": "code",
   "execution_count": 215,
   "id": "e1d641d9-1b50-4cc5-baa0-2159a052d6a0",
   "metadata": {},
   "outputs": [
    {
     "name": "stdout",
     "output_type": "stream",
     "text": [
      "{'health': '1', 'health_regen': '2', 'mana': '3', 'mana_regen': '4'}\n"
     ]
    }
   ],
   "source": [
    "print(dict(zip(keys, valuse)))"
   ]
  },
  {
   "cell_type": "code",
   "execution_count": null,
   "id": "b2eae053-8728-40b5-97ac-2d48754b86bf",
   "metadata": {},
   "outputs": [],
   "source": []
  }
 ],
 "metadata": {
  "kernelspec": {
   "display_name": "Python 3 (ipykernel)",
   "language": "python",
   "name": "python3"
  },
  "language_info": {
   "codemirror_mode": {
    "name": "ipython",
    "version": 3
   },
   "file_extension": ".py",
   "mimetype": "text/x-python",
   "name": "python",
   "nbconvert_exporter": "python",
   "pygments_lexer": "ipython3",
   "version": "3.11.7"
  }
 },
 "nbformat": 4,
 "nbformat_minor": 5
}
