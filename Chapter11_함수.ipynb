{
 "cells": [
  {
   "cell_type": "markdown",
   "id": "09b527a7-d95d-4b09-b829-a0d0aaf71145",
   "metadata": {},
   "source": [
    "# 함수 사용하기 "
   ]
  },
  {
   "cell_type": "markdown",
   "id": "77c56beb-a630-44e3-a885-0659c57bb11e",
   "metadata": {},
   "source": [
    "## 1. 간단한 함수 만들기"
   ]
  },
  {
   "cell_type": "markdown",
   "id": "c5930332-1b8a-4c73-9893-7b526206c295",
   "metadata": {},
   "source": [
    "#### (1)함수 만들기\n",
    "#### def 함수이름():      "
   ]
  },
  {
   "cell_type": "code",
   "execution_count": 2,
   "id": "f1ff3e00-bfbf-4118-85a0-cef890a1aee1",
   "metadata": {},
   "outputs": [],
   "source": [
    "def hello() :\n",
    "    print('Hello world!')"
   ]
  },
  {
   "cell_type": "markdown",
   "id": "86b7c10c-b7e0-4f1c-9eca-2fb9900d4df6",
   "metadata": {},
   "source": [
    "#### (2) 함수 호출하기\n",
    "#### 함수이름()"
   ]
  },
  {
   "cell_type": "code",
   "execution_count": 4,
   "id": "d712e12b-c754-4913-b0aa-2646fd5bd999",
   "metadata": {},
   "outputs": [
    {
     "name": "stdout",
     "output_type": "stream",
     "text": [
      "Hello world!\n"
     ]
    }
   ],
   "source": [
    "hello()"
   ]
  },
  {
   "cell_type": "markdown",
   "id": "8b28ba62-7b8c-4dc7-8119-66874be696b8",
   "metadata": {},
   "source": [
    "## 2. 매개변수가 있는 함수 만들기"
   ]
  },
  {
   "cell_type": "code",
   "execution_count": 5,
   "id": "a9c90a62-6743-4da9-abfc-44c75559415a",
   "metadata": {},
   "outputs": [],
   "source": [
    "# 두 수를 더하는 함수\n",
    "def add(a, b):\n",
    "    print(a + b)"
   ]
  },
  {
   "cell_type": "code",
   "execution_count": 6,
   "id": "a41f35f7-6f25-4169-8422-2bd3bbca4335",
   "metadata": {},
   "outputs": [
    {
     "name": "stdout",
     "output_type": "stream",
     "text": [
      "48\n"
     ]
    }
   ],
   "source": [
    "add(19,29)"
   ]
  },
  {
   "cell_type": "markdown",
   "id": "b4b34f37-9a68-4983-a035-83a9c89c3756",
   "metadata": {},
   "source": [
    "## 3. Doc String - 함수 세부정보를 설명하는 문장"
   ]
  },
  {
   "cell_type": "markdown",
   "id": "80ec0191-327d-4c8e-9ef9-a5abdec2e308",
   "metadata": {},
   "source": [
    "#### def 함수이름(매개변수)\n",
    "#### \"\"\"설명하는 문장\"\"\"\n",
    "####  코드"
   ]
  },
  {
   "cell_type": "code",
   "execution_count": 10,
   "id": "88a39e20-e211-4aad-8111-bdf18e08921d",
   "metadata": {},
   "outputs": [],
   "source": [
    "def add(a, b):\n",
    "    \"\"\"이 함수는 a와 b를 더하여 반환하는 함수\"\"\"\n",
    "    return(a +b)"
   ]
  },
  {
   "cell_type": "code",
   "execution_count": 9,
   "id": "56cb11f3-c6db-48e7-bea9-544c503edbc8",
   "metadata": {},
   "outputs": [
    {
     "name": "stdout",
     "output_type": "stream",
     "text": [
      "30\n"
     ]
    }
   ],
   "source": [
    "x = add(10, 20)\n",
    "x"
   ]
  },
  {
   "cell_type": "markdown",
   "id": "5e65a06e-3beb-40b3-9fc8-1e82d88d6a56",
   "metadata": {},
   "source": [
    "## 4. 값을 여러개 반환하기"
   ]
  },
  {
   "cell_type": "markdown",
   "id": "ce38c63f-30f3-408b-a2ab-d0cd250e34bc",
   "metadata": {},
   "source": [
    "#### def 함수이름(매개변수):\n",
    "####     return 반환값1, 반환값2"
   ]
  },
  {
   "cell_type": "code",
   "execution_count": 11,
   "id": "b2cf33b4-d662-471c-881d-efa285d0b872",
   "metadata": {},
   "outputs": [],
   "source": [
    "def add_sub(a, b):\n",
    "    return a+b, a-b"
   ]
  },
  {
   "cell_type": "code",
   "execution_count": 12,
   "id": "ffd8b4da-b0cf-4493-9c3c-794e2f44ad84",
   "metadata": {},
   "outputs": [],
   "source": [
    "x, y = add_sub(10, 20)"
   ]
  },
  {
   "cell_type": "code",
   "execution_count": 13,
   "id": "20b150c6-0c1d-4e81-9df5-b9299764adf8",
   "metadata": {},
   "outputs": [
    {
     "name": "stdout",
     "output_type": "stream",
     "text": [
      "30 -10\n"
     ]
    }
   ],
   "source": [
    "print(x, y)"
   ]
  },
  {
   "cell_type": "code",
   "execution_count": 14,
   "id": "3acef147-be11-4311-9048-ec4e299092d1",
   "metadata": {},
   "outputs": [],
   "source": [
    "# 여러 개의 값을 반환하는 함수의 결과를 하나의 변수에 저장할 경우\n",
    "x = add_sub(10,20)"
   ]
  },
  {
   "cell_type": "code",
   "execution_count": 16,
   "id": "cf7b8459-fca7-468c-9de3-998120009365",
   "metadata": {},
   "outputs": [
    {
     "data": {
      "text/plain": [
       "(30, -10)"
      ]
     },
     "execution_count": 16,
     "metadata": {},
     "output_type": "execute_result"
    }
   ],
   "source": [
    "# 변수 한개에 튜플로 저장됨\n",
    "x"
   ]
  },
  {
   "cell_type": "markdown",
   "id": "03bd209a-cfa7-4288-98af-65ad467a48ec",
   "metadata": {},
   "source": [
    "### <연습문제>\n",
    "#### x를 y로 나눴을 때 몫과 나머지를 출력하는 함수 작성"
   ]
  },
  {
   "cell_type": "code",
   "execution_count": 19,
   "id": "c228c96b-a00c-4a2d-95b8-62c17ac21784",
   "metadata": {},
   "outputs": [],
   "source": [
    "def get_quotient_remainder(x, y):\n",
    "    return x/y, x%y"
   ]
  },
  {
   "cell_type": "code",
   "execution_count": 20,
   "id": "e9ccfb13-7b28-4422-bc82-c82c6f6ce589",
   "metadata": {},
   "outputs": [
    {
     "data": {
      "text/plain": [
       "(3.3333333333333335, 1)"
      ]
     },
     "execution_count": 20,
     "metadata": {},
     "output_type": "execute_result"
    }
   ],
   "source": [
    "result = get_quotient_remainder(10, 3)\n",
    "result"
   ]
  },
  {
   "cell_type": "markdown",
   "id": "626b022c-6cd0-4edc-b253-71c338e0af83",
   "metadata": {},
   "source": [
    "### <연습문제>\n",
    "#### 표준입력으로 2개의 정수를 입력\n",
    "#### 반환값으로 덧셈, 뺄셈, 곱셈 , 나눗셈의 결과를 반환하는 함수를 작성"
   ]
  },
  {
   "cell_type": "code",
   "execution_count": 22,
   "id": "f68480c9-a326-46a1-9255-7a54c37f2ab1",
   "metadata": {},
   "outputs": [
    {
     "name": "stdin",
     "output_type": "stream",
     "text": [
      " 5 9\n"
     ]
    },
    {
     "data": {
      "text/plain": [
       "(14, -4, 45, 0.5555555555555556)"
      ]
     },
     "execution_count": 22,
     "metadata": {},
     "output_type": "execute_result"
    }
   ],
   "source": [
    "a, b = map(int,input().split())\n",
    "def abcd(a, b):\n",
    "    return a+b, a-b, a*b, a/b\n",
    "\n",
    "result = abcd(a, b)\n",
    "result"
   ]
  },
  {
   "cell_type": "markdown",
   "id": "721bf226-54b9-4dfa-af39-86bc59e80708",
   "metadata": {},
   "source": [
    "## 2. 위치 인수, 리스트 언패킹"
   ]
  },
  {
   "cell_type": "markdown",
   "id": "b81e9c35-deaf-450a-b6e3-a92ed70922e5",
   "metadata": {},
   "source": [
    "### (1) 위치 인수 사용 함수 "
   ]
  },
  {
   "cell_type": "code",
   "execution_count": 2,
   "id": "3d247749-9ba1-4afb-b894-da57f92d7882",
   "metadata": {},
   "outputs": [],
   "source": [
    "def print_num(a, b, c):\n",
    "    print(a)\n",
    "    print(b)\n",
    "    print(c)"
   ]
  },
  {
   "cell_type": "code",
   "execution_count": 3,
   "id": "34198cd3-14f2-4fd5-919b-d0388d4ac487",
   "metadata": {},
   "outputs": [
    {
     "name": "stdout",
     "output_type": "stream",
     "text": [
      "20\n",
      "5\n",
      "8\n"
     ]
    }
   ],
   "source": [
    "print_num(20, 5, 8)"
   ]
  },
  {
   "cell_type": "markdown",
   "id": "f657633b-10f4-4888-b4ae-67ff08eb4a77",
   "metadata": {},
   "source": [
    "### (2) 리스트를 매개변수로 사용 "
   ]
  },
  {
   "cell_type": "code",
   "execution_count": 7,
   "id": "9bb8f649-ac78-46dc-84aa-4967f7869be0",
   "metadata": {},
   "outputs": [
    {
     "name": "stdout",
     "output_type": "stream",
     "text": [
      "10\n",
      "20\n",
      "30\n"
     ]
    }
   ],
   "source": [
    "# 리스트의 수를 매개변수로 줄 경우 -> 리스트 언패킹\n",
    "a = [10, 20 ,30]\n",
    "print_num(*a)"
   ]
  },
  {
   "cell_type": "code",
   "execution_count": 8,
   "id": "60a6a5b7-803c-42dc-937f-5508c1a46a79",
   "metadata": {},
   "outputs": [
    {
     "name": "stdout",
     "output_type": "stream",
     "text": [
      "19\n",
      "23\n",
      "43\n"
     ]
    }
   ],
   "source": [
    "print_num(*[19, 23, 43])"
   ]
  },
  {
   "cell_type": "markdown",
   "id": "78b00488-80de-45ca-a06c-9ce190cfbb58",
   "metadata": {},
   "source": [
    "### (3) 가변 인수 함수 "
   ]
  },
  {
   "cell_type": "markdown",
   "id": "bfecc700-c8d3-4c2f-a6be-2deecac432c9",
   "metadata": {},
   "source": [
    "#### def 함수이름(*매개변수)"
   ]
  },
  {
   "cell_type": "code",
   "execution_count": 10,
   "id": "2a3f6877-00a4-4150-8627-b57e31a5707a",
   "metadata": {},
   "outputs": [],
   "source": [
    "def print_numbers(*args):\n",
    "    for item in args:\n",
    "        print(item)"
   ]
  },
  {
   "cell_type": "code",
   "execution_count": 11,
   "id": "b23e8c82-1605-4e50-b49e-053b3201655e",
   "metadata": {},
   "outputs": [
    {
     "name": "stdout",
     "output_type": "stream",
     "text": [
      "10\n"
     ]
    }
   ],
   "source": [
    "print_numbers(10)"
   ]
  },
  {
   "cell_type": "code",
   "execution_count": 12,
   "id": "cacd5823-b8c6-4612-b421-5ed71266d0c1",
   "metadata": {},
   "outputs": [
    {
     "name": "stdout",
     "output_type": "stream",
     "text": [
      "12\n",
      "4\n",
      "33\n"
     ]
    }
   ],
   "source": [
    "print_numbers(12, 4, 33)"
   ]
  },
  {
   "cell_type": "code",
   "execution_count": 14,
   "id": "d2d13352-2899-42b8-ae92-fa7d6ff432fd",
   "metadata": {},
   "outputs": [
    {
     "name": "stdout",
     "output_type": "stream",
     "text": [
      "1\n",
      "2\n",
      "3\n",
      "4\n",
      "5\n"
     ]
    }
   ],
   "source": [
    "b = [1, 2, 3, 4, 5]\n",
    "print_numbers(*b)"
   ]
  },
  {
   "cell_type": "markdown",
   "id": "59759672-f28e-4921-8f41-98e9bedb5982",
   "metadata": {},
   "source": [
    "## 2. 키워드 함수 "
   ]
  },
  {
   "cell_type": "code",
   "execution_count": 17,
   "id": "fa9a7dc9-d631-4d68-b16b-38a302d64668",
   "metadata": {},
   "outputs": [],
   "source": [
    "def personal_info(name, age, address):\n",
    "    print('이름 :', name)\n",
    "    print('나이 :', age)\n",
    "    print('주소 :', address)\n"
   ]
  },
  {
   "cell_type": "code",
   "execution_count": 18,
   "id": "816d6f6d-fe17-4ac3-84a2-63d3f05925fe",
   "metadata": {},
   "outputs": [
    {
     "name": "stdout",
     "output_type": "stream",
     "text": [
      "이름 홍길동\n",
      "나이 30\n",
      "주소 서울\n"
     ]
    }
   ],
   "source": [
    "personal_info('홍길동', 30, '서울')"
   ]
  },
  {
   "cell_type": "code",
   "execution_count": 19,
   "id": "5408c90f-63ad-42ed-bea5-63ba2349e559",
   "metadata": {},
   "outputs": [
    {
     "name": "stdout",
     "output_type": "stream",
     "text": [
      "이름 32\n",
      "나이 홍길동\n",
      "주소 신림\n"
     ]
    }
   ],
   "source": [
    "personal_info(32, '홍길동' , '신림')"
   ]
  },
  {
   "cell_type": "code",
   "execution_count": 21,
   "id": "e00110e0-d284-470d-b0a7-6399564e60ea",
   "metadata": {},
   "outputs": [
    {
     "name": "stdout",
     "output_type": "stream",
     "text": [
      "이름 홍길동\n",
      "나이 32\n",
      "주소 서울\n"
     ]
    }
   ],
   "source": [
    "#키워드 인수\n",
    "personal_info(name = '홍길동', age = 32 , address = '서울')"
   ]
  },
  {
   "cell_type": "code",
   "execution_count": 23,
   "id": "06b33487-60e1-4a69-9ded-925e6a2661f3",
   "metadata": {},
   "outputs": [
    {
     "name": "stdout",
     "output_type": "stream",
     "text": [
      "1/2/3 "
     ]
    }
   ],
   "source": [
    "print(1, 2, 3, end=' ', sep='/')"
   ]
  },
  {
   "cell_type": "markdown",
   "id": "4b2f97d7-066b-42d1-85ef-b5cba3a71fdf",
   "metadata": {},
   "source": [
    "## 3. 딕셔너리 언패킹"
   ]
  },
  {
   "cell_type": "code",
   "execution_count": 24,
   "id": "a308719f-2e3b-4aa7-b918-aa5bcce9c5d9",
   "metadata": {},
   "outputs": [
    {
     "name": "stdout",
     "output_type": "stream",
     "text": [
      "이름 홍길동\n",
      "나이 35\n",
      "주소 서울시 신림동\n"
     ]
    }
   ],
   "source": [
    "x = {'name' : '홍길동', 'age': 35, 'address': '서울시 신림동'}\n",
    "# 딕셔너리를 이용해서 인수 값을 넣을 때 \n",
    "# 함수(**딕셔너리)\n",
    "personal_info(**x)"
   ]
  },
  {
   "cell_type": "code",
   "execution_count": 25,
   "id": "6cf99bbc-51cf-47b4-befb-66b8c5202beb",
   "metadata": {},
   "outputs": [
    {
     "name": "stdout",
     "output_type": "stream",
     "text": [
      "이름 name\n",
      "나이 age\n",
      "주소 address\n"
     ]
    }
   ],
   "source": [
    "personal_info(*x)"
   ]
  },
  {
   "cell_type": "markdown",
   "id": "8f272a00-e4b1-4be9-b1b4-fd93aa43724d",
   "metadata": {},
   "source": [
    "### 가변 인수로 딕셔너리 사용하기 \n",
    "### der 함수이름(**매개변수)"
   ]
  },
  {
   "cell_type": "code",
   "execution_count": 26,
   "id": "7d3ba12a-28fa-42d4-b479-d6537429c4e9",
   "metadata": {},
   "outputs": [],
   "source": [
    "def personal_info(**kwargs):\n",
    "    for key, arg in kwargs.items():\n",
    "        print(key, ':' , arg, sep=' ')"
   ]
  },
  {
   "cell_type": "code",
   "execution_count": 27,
   "id": "ea28c7dc-0406-4b52-9632-52e480e03dd3",
   "metadata": {},
   "outputs": [
    {
     "name": "stdout",
     "output_type": "stream",
     "text": [
      "name : 홍길동\n"
     ]
    }
   ],
   "source": [
    "personal_info(name = '홍길동')"
   ]
  },
  {
   "cell_type": "code",
   "execution_count": 29,
   "id": "0f05596e-a593-420e-bacd-6276a5eaffa1",
   "metadata": {},
   "outputs": [
    {
     "name": "stdout",
     "output_type": "stream",
     "text": [
      "name : 홍길동\n",
      "age : 34\n"
     ]
    }
   ],
   "source": [
    "personal_info(name = '홍길동', age = 34)"
   ]
  },
  {
   "cell_type": "code",
   "execution_count": 30,
   "id": "1ab6be2c-b2ed-441c-a2c6-53ce19687f18",
   "metadata": {},
   "outputs": [],
   "source": [
    "def personal_info(name, age, address='비공개'):\n",
    "    print('이름 :', name)\n",
    "    print('나이 :', age)\n",
    "    print('주소 :', address)"
   ]
  },
  {
   "cell_type": "code",
   "execution_count": 31,
   "id": "29012f88-0835-4c0e-9fe5-ae71cb87124b",
   "metadata": {},
   "outputs": [
    {
     "name": "stdout",
     "output_type": "stream",
     "text": [
      "이름 : 홍길동\n",
      "나이 : 49\n",
      "주소 : 비공개\n"
     ]
    }
   ],
   "source": [
    "personal_info('홍길동' , 49)"
   ]
  },
  {
   "cell_type": "markdown",
   "id": "3c3566e5-b977-40a3-b772-af898887f415",
   "metadata": {},
   "source": [
    "### <연습문제>\n",
    "#### 가변인수를 갖는 함수 get_max_score()를 구현\n",
    "#### 입력한 인수에 대해 가장 높은 점수를 반환하는 구현"
   ]
  },
  {
   "cell_type": "code",
   "execution_count": 39,
   "id": "e16d936e-3aa4-4103-b292-278f51c28e7c",
   "metadata": {},
   "outputs": [],
   "source": [
    "def print_max(*args):\n",
    "    args_list = list(args)\n",
    "    args_list.sort()\n",
    "    print(args_list[-1])"
   ]
  },
  {
   "cell_type": "code",
   "execution_count": 41,
   "id": "15783999-2f34-4cb6-a5c4-df43ecc69241",
   "metadata": {},
   "outputs": [
    {
     "name": "stdout",
     "output_type": "stream",
     "text": [
      "6\n"
     ]
    }
   ],
   "source": [
    "print_max(1,6, 4, 2, 5)"
   ]
  },
  {
   "cell_type": "code",
   "execution_count": 42,
   "id": "b90b09dc-4d7a-4aa7-a815-e396823ea053",
   "metadata": {},
   "outputs": [],
   "source": [
    "def get_max_score(*args):\n",
    "    max = args[0]\n",
    "    for i in args:\n",
    "        if i > max:\n",
    "            max = i\n",
    "    return max"
   ]
  },
  {
   "cell_type": "code",
   "execution_count": 43,
   "id": "8f4ec076-3f61-4503-bbd7-3c87603ec292",
   "metadata": {},
   "outputs": [
    {
     "name": "stdout",
     "output_type": "stream",
     "text": [
      "89\n"
     ]
    }
   ],
   "source": [
    "a, b, c, d = 83, 75, 89, 58\n",
    "result = get_max_score(a, b, c, d)\n",
    "print(result)"
   ]
  },
  {
   "cell_type": "markdown",
   "id": "6f5f6c75-80b7-42ee-b78c-9ccc214681b7",
   "metadata": {},
   "source": [
    "### <연습문제2>\n",
    "#### 표준 입ㄺ으로 국어 영어 수학 과학 점수가 입력됨\n",
    "#### 가장높은 점수, 가장 낮은 점수, 평균점수를 반환하는 함수 구현\n",
    "#### 함수명: get_min_max_avg()"
   ]
  },
  {
   "cell_type": "code",
   "execution_count": 48,
   "id": "c86a7944-180b-47e6-8189-a3ee64b97cfc",
   "metadata": {},
   "outputs": [
    {
     "name": "stdin",
     "output_type": "stream",
     "text": [
      " 50 80 70 60\n"
     ]
    },
    {
     "name": "stdout",
     "output_type": "stream",
     "text": [
      "가장 높은 점수 :  80\n",
      "가장 낮은 점수 :  50\n",
      "평균 점수 :  65.0\n"
     ]
    }
   ],
   "source": [
    "kor, eng, mat, sci = map(int,input().split())\n",
    "def get_min_max_avg(kor, eng, mat, sci):\n",
    "    list = [kor, eng, mat, sci]\n",
    "    list.sort()\n",
    "    print('가장 높은 점수 : ' , list[-1])\n",
    "    print('가장 낮은 점수 : ' , list[0])\n",
    "    print('평균 점수 : ' , (list[0] + list[1] + list[2] + list[3])/4)\n",
    "get_min_max_avg(kor, eng, mat, sci)"
   ]
  },
  {
   "cell_type": "code",
   "execution_count": 51,
   "id": "74a70ad0-33c9-4069-9205-99e140c27e77",
   "metadata": {},
   "outputs": [],
   "source": [
    "def get_min_max_avg2(*args):\n",
    "    avg = sum(args) /len(args)\n",
    "    max = min = args[0]\n",
    "    for i in args :\n",
    "        if i > max:\n",
    "            max = i\n",
    "        if i < min:\n",
    "            min = i\n",
    "    return min, max, avg"
   ]
  },
  {
   "cell_type": "code",
   "execution_count": 52,
   "id": "fda57256-aa24-4c6a-9f85-4658c69a1205",
   "metadata": {},
   "outputs": [
    {
     "name": "stdout",
     "output_type": "stream",
     "text": [
      "(75, 90, 84.0)\n"
     ]
    }
   ],
   "source": [
    "kor, eng, math, sci = 84, 75, 90, 87\n",
    "result = get_min_max_avg2(kor, eng, math, sci)\n",
    "print(result)"
   ]
  },
  {
   "cell_type": "code",
   "execution_count": null,
   "id": "fa2cd8df-594a-4735-89b2-4f3cd77cf15f",
   "metadata": {},
   "outputs": [],
   "source": []
  }
 ],
 "metadata": {
  "kernelspec": {
   "display_name": "Python 3 (ipykernel)",
   "language": "python",
   "name": "python3"
  },
  "language_info": {
   "codemirror_mode": {
    "name": "ipython",
    "version": 3
   },
   "file_extension": ".py",
   "mimetype": "text/x-python",
   "name": "python",
   "nbconvert_exporter": "python",
   "pygments_lexer": "ipython3",
   "version": "3.11.7"
  }
 },
 "nbformat": 4,
 "nbformat_minor": 5
}
