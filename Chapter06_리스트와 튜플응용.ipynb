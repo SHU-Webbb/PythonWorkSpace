{
 "cells": [
  {
   "cell_type": "markdown",
   "id": "ec10fdd9-b612-47e5-a25c-531139340f48",
   "metadata": {},
   "source": [
    "# 리스트와 튜플 응용"
   ]
  },
  {
   "cell_type": "markdown",
   "id": "b7b4304a-09e1-43d7-9d79-4b549e44e1d0",
   "metadata": {},
   "source": [
    "## 1. 리스트에 요소 추가하기"
   ]
  },
  {
   "cell_type": "code",
   "execution_count": 2,
   "id": "eb4af0cf-e8e1-4911-bacd-b55e46f5b550",
   "metadata": {},
   "outputs": [
    {
     "data": {
      "text/plain": [
       "[10, 20, 30, 50]"
      ]
     },
     "execution_count": 2,
     "metadata": {},
     "output_type": "execute_result"
    }
   ],
   "source": [
    "a = [10, 20, 30]\n",
    "a.append(50)\n",
    "a"
   ]
  },
  {
   "cell_type": "code",
   "execution_count": 3,
   "id": "d3a52031-b64a-495a-a117-a6d7d9971eb2",
   "metadata": {},
   "outputs": [
    {
     "data": {
      "text/plain": [
       "4"
      ]
     },
     "execution_count": 3,
     "metadata": {},
     "output_type": "execute_result"
    }
   ],
   "source": [
    "len(a)"
   ]
  },
  {
   "cell_type": "code",
   "execution_count": 4,
   "id": "448e52a7-dbbc-4420-8aba-402085beb1c3",
   "metadata": {},
   "outputs": [
    {
     "data": {
      "text/plain": [
       "[10]"
      ]
     },
     "execution_count": 4,
     "metadata": {},
     "output_type": "execute_result"
    }
   ],
   "source": [
    "a = []\n",
    "a.append(10)\n",
    "a"
   ]
  },
  {
   "cell_type": "code",
   "execution_count": 5,
   "id": "960df45e-3d67-4df4-9734-f7f30f5b4de1",
   "metadata": {},
   "outputs": [
    {
     "data": {
      "text/plain": [
       "[10, 20, 30, [500, 600]]"
      ]
     },
     "execution_count": 5,
     "metadata": {},
     "output_type": "execute_result"
    }
   ],
   "source": [
    "a = [10, 20, 30]\n",
    "a.append([500,600])\n",
    "a"
   ]
  },
  {
   "cell_type": "code",
   "execution_count": 6,
   "id": "1ac211f1-18ab-4609-9f08-d378ca4f3251",
   "metadata": {},
   "outputs": [
    {
     "data": {
      "text/plain": [
       "4"
      ]
     },
     "execution_count": 6,
     "metadata": {},
     "output_type": "execute_result"
    }
   ],
   "source": [
    "len(a)"
   ]
  },
  {
   "cell_type": "code",
   "execution_count": 8,
   "id": "56d4f075-8978-488d-87ed-05a254c662f2",
   "metadata": {},
   "outputs": [
    {
     "data": {
      "text/plain": [
       "[10, 20, 30, 500, 600]"
      ]
     },
     "execution_count": 8,
     "metadata": {},
     "output_type": "execute_result"
    }
   ],
   "source": [
    "# 리ㅡ트에 여러 개의 요소를 추가할 경우 extend() 사용\n",
    "a = [10, 20, 30]\n",
    "a.extend([500,600])\n",
    "a"
   ]
  },
  {
   "cell_type": "code",
   "execution_count": 9,
   "id": "62755896-f778-4d75-b768-71a136286f2a",
   "metadata": {},
   "outputs": [
    {
     "data": {
      "text/plain": [
       "[10, 20, 500, 30]"
      ]
     },
     "execution_count": 9,
     "metadata": {},
     "output_type": "execute_result"
    }
   ],
   "source": [
    "# 특정 위치에 요소 추가\n",
    "a = [10, 20, 30]\n",
    "a.insert(2, 500)\n",
    "a"
   ]
  },
  {
   "cell_type": "code",
   "execution_count": 11,
   "id": "59172794-da73-41f3-8172-cd2962f63968",
   "metadata": {},
   "outputs": [
    {
     "data": {
      "text/plain": [
       "[10, 20, 30, 500]"
      ]
     },
     "execution_count": 11,
     "metadata": {},
     "output_type": "execute_result"
    }
   ],
   "source": [
    "# insert()를 이용해서 맨 끝에 데이터 추가 \n",
    "a = [10, 20, 30]\n",
    "a.insert(len(a), 500)\n",
    "a"
   ]
  },
  {
   "cell_type": "code",
   "execution_count": 12,
   "id": "4459e36f-30e1-424e-bb7b-ce44d40a6c57",
   "metadata": {},
   "outputs": [
    {
     "data": {
      "text/plain": [
       "[10, [500, 600], 20, 30]"
      ]
     },
     "execution_count": 12,
     "metadata": {},
     "output_type": "execute_result"
    }
   ],
   "source": [
    "# 리스트를 중간에 추가\n",
    "a = [10, 20, 30]\n",
    "a.insert(1, [500, 600])\n",
    "a"
   ]
  },
  {
   "cell_type": "markdown",
   "id": "9a7176ee-bdd4-44c3-8117-00674b94c6ae",
   "metadata": {},
   "source": [
    "## 2. 리스트에서 요소 삭제하기"
   ]
  },
  {
   "cell_type": "code",
   "execution_count": 13,
   "id": "6cd98c9d-c7ed-4679-aa94-62122709984c",
   "metadata": {},
   "outputs": [
    {
     "data": {
      "text/plain": [
       "[10, 20]"
      ]
     },
     "execution_count": 13,
     "metadata": {},
     "output_type": "execute_result"
    }
   ],
   "source": [
    "a = [10, 20, 30]\n",
    "a.pop()\n",
    "a"
   ]
  },
  {
   "cell_type": "code",
   "execution_count": 14,
   "id": "c4cfc4ed-0a75-46cc-95dc-f5f8996bd188",
   "metadata": {},
   "outputs": [
    {
     "data": {
      "text/plain": [
       "[10, 30]"
      ]
     },
     "execution_count": 14,
     "metadata": {},
     "output_type": "execute_result"
    }
   ],
   "source": [
    "# pop()에서 삭제할 인덱스 지정\n",
    "a = [10, 20, 30]\n",
    "a.pop(1)\n",
    "a"
   ]
  },
  {
   "cell_type": "code",
   "execution_count": 15,
   "id": "13312a93-d2f6-405d-abb6-ec21ebc70046",
   "metadata": {},
   "outputs": [],
   "source": [
    "# pop() 대신 del 명령\n",
    "a = [10, 20, 30]\n",
    "del a[1]"
   ]
  },
  {
   "cell_type": "code",
   "execution_count": 16,
   "id": "667ec665-77f4-45c3-a819-53028d85976e",
   "metadata": {},
   "outputs": [
    {
     "data": {
      "text/plain": [
       "[10, 30]"
      ]
     },
     "execution_count": 16,
     "metadata": {},
     "output_type": "execute_result"
    }
   ],
   "source": [
    "a"
   ]
  },
  {
   "cell_type": "markdown",
   "id": "7bde0ec3-0805-4e54-bc72-f5a3e660126c",
   "metadata": {},
   "source": [
    "##### remove() : 특정값을 삭제"
   ]
  },
  {
   "cell_type": "code",
   "execution_count": 17,
   "id": "c015c786-0247-4ac1-b297-d6e47b405bb6",
   "metadata": {},
   "outputs": [
    {
     "data": {
      "text/plain": [
       "[10, 30]"
      ]
     },
     "execution_count": 17,
     "metadata": {},
     "output_type": "execute_result"
    }
   ],
   "source": [
    "a = [10, 20, 30]\n",
    "a.remove(20)\n",
    "a"
   ]
  },
  {
   "cell_type": "markdown",
   "id": "552d4623-98da-4f9a-8a12-910db9b7042d",
   "metadata": {},
   "source": [
    "#### <span style = 'color:red'> <주의> remove시 여러 개의 값이 있을경우 처음 값만 삭제</sapn>"
   ]
  },
  {
   "cell_type": "markdown",
   "id": "7264a6db-951b-413e-bbbf-1a889ffb8184",
   "metadata": {},
   "source": [
    "### a = [10, 20, 30, 20]\n",
    "a.remove(20)\n",
    "a"
   ]
  },
  {
   "cell_type": "markdown",
   "id": "3d24b766-7d07-4763-a0c7-dfe93951aa11",
   "metadata": {},
   "source": [
    "## 3. 특정값의 인덱스 구하기"
   ]
  },
  {
   "cell_type": "code",
   "execution_count": 20,
   "id": "158cdfe8-a126-4b4e-b843-823c4ca71c28",
   "metadata": {},
   "outputs": [
    {
     "data": {
      "text/plain": [
       "2"
      ]
     },
     "execution_count": 20,
     "metadata": {},
     "output_type": "execute_result"
    }
   ],
   "source": [
    "a = [10, 20, 30, 40, 50, 60]\n",
    "a.index (30)"
   ]
  },
  {
   "cell_type": "markdown",
   "id": "87b989d1-c68d-464e-a286-a028bcfec18f",
   "metadata": {},
   "source": [
    "## 4. 특정값의 갯수 구하기"
   ]
  },
  {
   "cell_type": "code",
   "execution_count": 21,
   "id": "ac6b8354-de1b-4e8d-aa54-0fe5ff98f007",
   "metadata": {},
   "outputs": [
    {
     "data": {
      "text/plain": [
       "3"
      ]
     },
     "execution_count": 21,
     "metadata": {},
     "output_type": "execute_result"
    }
   ],
   "source": [
    "a = [10, 20, 30, 20, 50, 20]\n",
    "a.count(20)"
   ]
  },
  {
   "cell_type": "markdown",
   "id": "22e11844-9325-4f7b-9b76-c3f7066f1880",
   "metadata": {},
   "source": [
    "## 5.리스트의 순서 뒤집기"
   ]
  },
  {
   "cell_type": "code",
   "execution_count": 22,
   "id": "b8e1aebc-3175-42a5-bf6f-224a34235472",
   "metadata": {},
   "outputs": [],
   "source": [
    "a = [10, 20, 30, 40, 50, 60]\n",
    "a.reverse()"
   ]
  },
  {
   "cell_type": "code",
   "execution_count": 23,
   "id": "ae208337-3f65-47c8-8a38-c429c6ddd4ea",
   "metadata": {},
   "outputs": [
    {
     "data": {
      "text/plain": [
       "[60, 50, 40, 30, 20, 10]"
      ]
     },
     "execution_count": 23,
     "metadata": {},
     "output_type": "execute_result"
    }
   ],
   "source": [
    "a"
   ]
  },
  {
   "cell_type": "markdown",
   "id": "68b8ab91-b8c8-42c0-9a3b-24bd226f8c3a",
   "metadata": {},
   "source": [
    "## 6. 정렬하기"
   ]
  },
  {
   "cell_type": "code",
   "execution_count": 25,
   "id": "4a7dda8a-0e4f-420d-8517-98a12f62120c",
   "metadata": {},
   "outputs": [
    {
     "data": {
      "text/plain": [
       "[3, 9, 13, 27, 33, 54]"
      ]
     },
     "execution_count": 25,
     "metadata": {},
     "output_type": "execute_result"
    }
   ],
   "source": [
    "a = [13, 33, 27, 3, 54, 9]\n",
    "a.sort()\n",
    "a"
   ]
  },
  {
   "cell_type": "markdown",
   "id": "68db9dbf-f219-4f25-b6be-d5f40011e98b",
   "metadata": {},
   "source": [
    "## 7. 모든 요소 삭제하기(리스트)"
   ]
  },
  {
   "cell_type": "code",
   "execution_count": 27,
   "id": "296600e6-f0b2-4436-b0c5-a69543e3b0bf",
   "metadata": {},
   "outputs": [
    {
     "data": {
      "text/plain": [
       "[]"
      ]
     },
     "execution_count": 27,
     "metadata": {},
     "output_type": "execute_result"
    }
   ],
   "source": [
    "a = [10, 20, 30, 40, 50, 60]\n",
    "a.clear()\n",
    "a"
   ]
  },
  {
   "cell_type": "markdown",
   "id": "17336356-c891-45fe-89aa-2097b9deb8a8",
   "metadata": {},
   "source": [
    "## 8. 슬라이스로 리스트 조작하기"
   ]
  },
  {
   "cell_type": "code",
   "execution_count": 28,
   "id": "1a614a77-bcee-48b1-be34-71f964bfa4ef",
   "metadata": {},
   "outputs": [
    {
     "data": {
      "text/plain": [
       "[10, 20, 30, 500, 600]"
      ]
     },
     "execution_count": 28,
     "metadata": {},
     "output_type": "execute_result"
    }
   ],
   "source": [
    "a = [10, 20, 30]\n",
    "a[len(a):] = [500,600]\n",
    "a"
   ]
  },
  {
   "cell_type": "markdown",
   "id": "93a8b45f-cc38-4760-86f4-4183fb87d472",
   "metadata": {},
   "source": [
    "# 리스트의 할당과 복사"
   ]
  },
  {
   "cell_type": "code",
   "execution_count": 29,
   "id": "620678fd-2daa-4694-8c62-1737b3049b47",
   "metadata": {},
   "outputs": [],
   "source": [
    "a = [0, 0, 0, 0, 0]\n",
    "b = a"
   ]
  },
  {
   "cell_type": "code",
   "execution_count": 30,
   "id": "a59f2646-4382-48e7-b9f4-14768f5c4f8a",
   "metadata": {},
   "outputs": [
    {
     "data": {
      "text/plain": [
       "True"
      ]
     },
     "execution_count": 30,
     "metadata": {},
     "output_type": "execute_result"
    }
   ],
   "source": [
    "a == b"
   ]
  },
  {
   "cell_type": "code",
   "execution_count": 31,
   "id": "5d56ac6b-7ebd-4b1c-b76c-7dd31b417438",
   "metadata": {},
   "outputs": [
    {
     "data": {
      "text/plain": [
       "True"
      ]
     },
     "execution_count": 31,
     "metadata": {},
     "output_type": "execute_result"
    }
   ],
   "source": [
    "a is b  # is = 객체 주소가 같은지 비교"
   ]
  },
  {
   "cell_type": "code",
   "execution_count": 32,
   "id": "42629039-0dfb-4ceb-b5fb-b57bd135b7d3",
   "metadata": {},
   "outputs": [
    {
     "data": {
      "text/plain": [
       "[0, 0, 99, 0, 0]"
      ]
     },
     "execution_count": 32,
     "metadata": {},
     "output_type": "execute_result"
    }
   ],
   "source": [
    "b[2] = 99\n",
    "b"
   ]
  },
  {
   "cell_type": "markdown",
   "id": "d8cb937f-65a0-4db3-b3f7-811cb900c9cc",
   "metadata": {},
   "source": [
    "### copy() 를 이용한 리스트 복사"
   ]
  },
  {
   "cell_type": "code",
   "execution_count": 33,
   "id": "8b7120c9-ca5a-42b0-8def-2cf6d5ac7e0d",
   "metadata": {},
   "outputs": [],
   "source": [
    "a = [0, 0, 0, 0, 0]\n",
    "b = a.copy()"
   ]
  },
  {
   "cell_type": "code",
   "execution_count": 34,
   "id": "747d7f40-c6c8-485c-bffb-ff3aa54c6d46",
   "metadata": {},
   "outputs": [
    {
     "data": {
      "text/plain": [
       "False"
      ]
     },
     "execution_count": 34,
     "metadata": {},
     "output_type": "execute_result"
    }
   ],
   "source": [
    "# 두 객체가 같은지 비교\n",
    "a is b"
   ]
  },
  {
   "cell_type": "code",
   "execution_count": 35,
   "id": "a61df88c-a83d-4925-96fd-6df796f5fe99",
   "metadata": {},
   "outputs": [
    {
     "data": {
      "text/plain": [
       "True"
      ]
     },
     "execution_count": 35,
     "metadata": {},
     "output_type": "execute_result"
    }
   ],
   "source": [
    "a == b"
   ]
  },
  {
   "cell_type": "code",
   "execution_count": 36,
   "id": "2873e1b3-2302-4c61-bc7d-3210e186c46f",
   "metadata": {},
   "outputs": [],
   "source": [
    "b[2] = 99"
   ]
  },
  {
   "cell_type": "code",
   "execution_count": 37,
   "id": "f6f2e025-6a0b-4339-9b8d-08fc837f6c28",
   "metadata": {},
   "outputs": [
    {
     "data": {
      "text/plain": [
       "[0, 0, 99, 0, 0]"
      ]
     },
     "execution_count": 37,
     "metadata": {},
     "output_type": "execute_result"
    }
   ],
   "source": [
    "b"
   ]
  },
  {
   "cell_type": "code",
   "execution_count": 38,
   "id": "aa9d91b5-9143-4c60-8b33-ace5d948df73",
   "metadata": {},
   "outputs": [
    {
     "data": {
      "text/plain": [
       "[0, 0, 0, 0, 0]"
      ]
     },
     "execution_count": 38,
     "metadata": {},
     "output_type": "execute_result"
    }
   ],
   "source": [
    "a"
   ]
  },
  {
   "cell_type": "markdown",
   "id": "531f0402-4a05-41db-8c8b-2cdaea2e9014",
   "metadata": {},
   "source": [
    "### 반복문으로 리스트 출력"
   ]
  },
  {
   "cell_type": "code",
   "execution_count": 39,
   "id": "2f991e90-52c9-429d-8c5b-4238cb25ad1d",
   "metadata": {},
   "outputs": [
    {
     "name": "stdout",
     "output_type": "stream",
     "text": [
      "13\n",
      "33\n",
      "27\n",
      "3\n",
      "54\n",
      "9\n"
     ]
    }
   ],
   "source": [
    "a = [13, 33, 27, 3, 54, 9]\n",
    "for i in a:\n",
    "    print(i)"
   ]
  },
  {
   "cell_type": "markdown",
   "id": "cc4dad2c-b8fc-4352-b4ab-001a8fe24ba3",
   "metadata": {},
   "source": [
    "#### 인덱스와 요소값 함께 출력"
   ]
  },
  {
   "cell_type": "code",
   "execution_count": 40,
   "id": "b878362e-122a-46ff-b3ed-091711da6325",
   "metadata": {},
   "outputs": [
    {
     "name": "stdout",
     "output_type": "stream",
     "text": [
      "0 13\n",
      "1 33\n",
      "2 27\n",
      "3 3\n",
      "4 54\n",
      "5 9\n"
     ]
    }
   ],
   "source": [
    "a = [13, 33, 27, 3, 54, 9]\n",
    "for index, value in enumerate(a):\n",
    "    print(index, value)"
   ]
  },
  {
   "cell_type": "code",
   "execution_count": 41,
   "id": "c627f171-cd02-424d-aa99-1381658312fc",
   "metadata": {},
   "outputs": [
    {
     "name": "stdout",
     "output_type": "stream",
     "text": [
      "1 13\n",
      "2 33\n",
      "3 27\n",
      "4 3\n",
      "5 54\n",
      "6 9\n"
     ]
    }
   ],
   "source": [
    "# 인덱스를 1부터 출력\n",
    "a = [13, 33, 27, 3, 54, 9]\n",
    "for index, value in enumerate(a, start=1):\n",
    "    print(index, value)"
   ]
  },
  {
   "cell_type": "code",
   "execution_count": 46,
   "id": "6f7b98dd-6da3-439d-b1b5-7eb2c07d0716",
   "metadata": {},
   "outputs": [
    {
     "name": "stdout",
     "output_type": "stream",
     "text": [
      "54\n"
     ]
    }
   ],
   "source": [
    "# 아래의 리스트에서 가장 큰 수를 구하시오.\n",
    "a = [13, 33, 27, 3, 54, 9]\n",
    "largest = a[0]\n",
    "for i in a:\n",
    "    if i > largest:\n",
    "        largest = i\n",
    "print(largest)\n",
    "        "
   ]
  },
  {
   "cell_type": "code",
   "execution_count": 48,
   "id": "647fd43b-debe-45a3-a36b-84ee0a3d4547",
   "metadata": {},
   "outputs": [
    {
     "name": "stdout",
     "output_type": "stream",
     "text": [
      "13\n"
     ]
    }
   ],
   "source": [
    "# 아래의 리스트에서 가장 작은 수를 구하시오.\n",
    "a = [13, 33, 27, 3, 54, 9]\n",
    "smallest = a[0]\n",
    "for i in a:\n",
    "    if i < smallest:\n",
    "        smalliest = i\n",
    "print(smallest)        \n",
    "        "
   ]
  },
  {
   "cell_type": "code",
   "execution_count": 49,
   "id": "c35cedeb-f2ed-498f-a902-4d79c658224d",
   "metadata": {},
   "outputs": [
    {
     "data": {
      "text/plain": [
       "[54, 33, 27, 13, 9, 3]"
      ]
     },
     "execution_count": 49,
     "metadata": {},
     "output_type": "execute_result"
    }
   ],
   "source": [
    "# sort()를 이용한 가장 큰 수 구하기\n",
    "a = [13, 33, 27, 3, 54, 9]\n",
    "a.sort(reverse=True)\n",
    "a"
   ]
  },
  {
   "cell_type": "code",
   "execution_count": 51,
   "id": "2cea6a1f-1b05-4b1c-944f-7224c4cb79a3",
   "metadata": {},
   "outputs": [
    {
     "data": {
      "text/plain": [
       "54"
      ]
     },
     "execution_count": 51,
     "metadata": {},
     "output_type": "execute_result"
    }
   ],
   "source": [
    "a[0] #리스트에서 가장 큰 수"
   ]
  },
  {
   "cell_type": "code",
   "execution_count": 52,
   "id": "f7808f72-3276-4304-b7b8-8f7c4e16ac89",
   "metadata": {},
   "outputs": [
    {
     "data": {
      "text/plain": [
       "[3, 9, 13, 27, 33, 54]"
      ]
     },
     "execution_count": 52,
     "metadata": {},
     "output_type": "execute_result"
    }
   ],
   "source": [
    "# sort()를 이용해 가장 작은 수 구하기\n",
    "a = [13, 33, 27, 3, 54, 9]\n",
    "a.sort()\n",
    "a"
   ]
  },
  {
   "cell_type": "code",
   "execution_count": 53,
   "id": "22cbec44-49b9-457a-9b01-a1b6616481c7",
   "metadata": {},
   "outputs": [
    {
     "data": {
      "text/plain": [
       "3"
      ]
     },
     "execution_count": 53,
     "metadata": {},
     "output_type": "execute_result"
    }
   ],
   "source": [
    "a[0] "
   ]
  },
  {
   "cell_type": "code",
   "execution_count": 57,
   "id": "44958f4e-de25-4f1f-b40d-661e0441dd35",
   "metadata": {},
   "outputs": [
    {
     "name": "stdout",
     "output_type": "stream",
     "text": [
      "3\n"
     ]
    }
   ],
   "source": [
    "a = [13, 33, 27, 3, 54, 9]\n",
    "print(min(a))  # 가장 작은 수"
   ]
  },
  {
   "cell_type": "code",
   "execution_count": 56,
   "id": "d550cde6-82cb-4d86-9a40-dad3320a586e",
   "metadata": {},
   "outputs": [
    {
     "name": "stdout",
     "output_type": "stream",
     "text": [
      "54\n"
     ]
    }
   ],
   "source": [
    "print(max(a)) # 가장 큰 수"
   ]
  },
  {
   "cell_type": "code",
   "execution_count": 59,
   "id": "ba71d9f8-fba5-449e-ae01-f88fba206223",
   "metadata": {},
   "outputs": [
    {
     "name": "stdout",
     "output_type": "stream",
     "text": [
      "150\n"
     ]
    }
   ],
   "source": [
    "a = [10, 20, 30, 40, 50]\n",
    "print(sum(a))   # 모든 요소의 합계"
   ]
  },
  {
   "cell_type": "markdown",
   "id": "eb6cfe40-e44c-4b9e-a5b3-07cdc460594a",
   "metadata": {},
   "source": [
    "### <연습문제>\n",
    "#### a = [10, 20, 30, 20, 10, 50, 60, 40, 80, 50, 40]\n",
    "#### a리스트에서 중복된 요소는 제거하고 하나만 포함시켜 새로운 리스트를 만든다."
   ]
  },
  {
   "cell_type": "code",
   "execution_count": 1,
   "id": "64158893-524d-4ce0-8dac-a187216aa019",
   "metadata": {},
   "outputs": [
    {
     "name": "stdout",
     "output_type": "stream",
     "text": [
      "[10, 20, 30, 50, 60, 40, 80]\n"
     ]
    }
   ],
   "source": [
    "a = [10, 20, 30, 20, 10, 50, 60, 40, 80, 50, 40]\n",
    "new_list = []\n",
    "\n",
    "for i in a:\n",
    "    if i not in new_list:\n",
    "        new_list.append(i)\n",
    "print(new_list)"
   ]
  },
  {
   "cell_type": "markdown",
   "id": "7e6c6333-ed2c-4add-ad43-7e962d6d9bad",
   "metadata": {},
   "source": [
    "### a 리스트에서 각 요소의 갯수를 출력"
   ]
  },
  {
   "cell_type": "code",
   "execution_count": 2,
   "id": "c1748323-fcfa-45dd-bf7f-ba5a4fed9a78",
   "metadata": {},
   "outputs": [
    {
     "name": "stdout",
     "output_type": "stream",
     "text": [
      "10 2\n",
      "20 2\n",
      "30 1\n",
      "50 2\n",
      "60 1\n",
      "40 2\n",
      "80 1\n"
     ]
    }
   ],
   "source": [
    "for i in new_list:\n",
    "    print(i, a.count(i))"
   ]
  },
  {
   "cell_type": "markdown",
   "id": "dcae9079-0faa-4f02-bcd2-db901e8586ea",
   "metadata": {},
   "source": [
    "# 리스트 표현식 사용하기"
   ]
  },
  {
   "cell_type": "markdown",
   "id": "f217ef10-acdb-437c-b5a0-bfe84180616f",
   "metadata": {},
   "source": [
    "### (1) 리스트 안에서 for문 사용하기"
   ]
  },
  {
   "cell_type": "code",
   "execution_count": 5,
   "id": "6776186e-dbd9-4faa-b173-797d2ba5a866",
   "metadata": {},
   "outputs": [
    {
     "data": {
      "text/plain": [
       "[0, 1, 2, 3, 4, 5, 6, 7, 8, 9]"
      ]
     },
     "execution_count": 5,
     "metadata": {},
     "output_type": "execute_result"
    }
   ],
   "source": [
    "a = [i for i in range(10)]\n",
    "a"
   ]
  },
  {
   "cell_type": "code",
   "execution_count": 7,
   "id": "b0cf84c9-737c-4d22-943c-720ee4ee0d9d",
   "metadata": {},
   "outputs": [
    {
     "data": {
      "text/plain": [
       "[0, 1, 2, 3, 4, 5, 6, 7, 8, 9]"
      ]
     },
     "execution_count": 7,
     "metadata": {},
     "output_type": "execute_result"
    }
   ],
   "source": [
    "b = list(i for i in range(10))\n",
    "b\n"
   ]
  },
  {
   "cell_type": "code",
   "execution_count": 8,
   "id": "c0cd88d7-201f-4758-b0d7-9f2ccda50ab7",
   "metadata": {},
   "outputs": [
    {
     "data": {
      "text/plain": [
       "[5, 6, 7, 8, 9, 10, 11, 12, 13, 14]"
      ]
     },
     "execution_count": 8,
     "metadata": {},
     "output_type": "execute_result"
    }
   ],
   "source": [
    "c = [i + 5 for i in range(10)]\n",
    "c"
   ]
  },
  {
   "cell_type": "markdown",
   "id": "a82c7b56-fb4d-4d41-b155-78f16b779d8b",
   "metadata": {},
   "source": [
    "### (2) 리스트 안에서 if조건문 사용하기"
   ]
  },
  {
   "cell_type": "code",
   "execution_count": 9,
   "id": "0bdb0cdd-6df9-40fd-b56d-bb3042d81ccc",
   "metadata": {},
   "outputs": [
    {
     "data": {
      "text/plain": [
       "[0, 2, 4, 6, 8]"
      ]
     },
     "execution_count": 9,
     "metadata": {},
     "output_type": "execute_result"
    }
   ],
   "source": [
    "a = [i for i in range(10) if i % 2 == 0]\n",
    "a"
   ]
  },
  {
   "cell_type": "code",
   "execution_count": 11,
   "id": "e96bb4d4-d948-48da-b3a2-c83e42b5d53e",
   "metadata": {},
   "outputs": [
    {
     "data": {
      "text/plain": [
       "[6, 8, 10, 12, 14]"
      ]
     },
     "execution_count": 11,
     "metadata": {},
     "output_type": "execute_result"
    }
   ],
   "source": [
    "# i 값을 연산 처리\n",
    "a = [i + 5 for i in range(10) if i % 2 == 1]\n",
    "a"
   ]
  },
  {
   "cell_type": "markdown",
   "id": "c165e255-32d0-471d-a6c7-4395987d4570",
   "metadata": {},
   "source": [
    "### (3) 리스트 표현식에 중첩for문 사용하기"
   ]
  },
  {
   "cell_type": "code",
   "execution_count": 14,
   "id": "734bcac8-9fba-4384-a037-ef94b939ab74",
   "metadata": {},
   "outputs": [
    {
     "name": "stdout",
     "output_type": "stream",
     "text": [
      "[2, 4, 6, 8, 10, 12, 14, 16, 18, 3, 6, 9, 12, 15, 18, 21, 24, 27, 4, 8, 12, 16, 20, 24, 28, 32, 36, 5, 10, 15, 20, 25, 30, 35, 40, 45, 6, 12, 18, 24, 30, 36, 42, 48, 54, 7, 14, 21, 28, 35, 42, 49, 56, 63, 8, 16, 24, 32, 40, 48, 56, 64, 72, 9, 18, 27, 36, 45, 54, 63, 72, 81]\n"
     ]
    }
   ],
   "source": [
    "# 구구단 리스트 생성\n",
    "a = [i * j for j in range(2,10) \n",
    "               for i in range(1, 10)]\n",
    "print(a)"
   ]
  },
  {
   "cell_type": "markdown",
   "id": "d20d6f8d-167f-4b3e-93e2-11a3aa436080",
   "metadata": {},
   "source": [
    "# 리스트에 맵 사용하기"
   ]
  },
  {
   "cell_type": "code",
   "execution_count": 15,
   "id": "dd02b531-eb09-4810-b37b-988cc0b9f7de",
   "metadata": {},
   "outputs": [
    {
     "data": {
      "text/plain": [
       "[1, 2, 3, 4]"
      ]
     },
     "execution_count": 15,
     "metadata": {},
     "output_type": "execute_result"
    }
   ],
   "source": [
    "# 실수로 된 리스트를 정수 리스트로 변환\n",
    "a = [1.2, 2.5, 3.7 , 4.6]\n",
    "for i in range(len(a)):\n",
    "    a[i] = int(a[i])\n",
    "\n",
    "a"
   ]
  },
  {
   "cell_type": "code",
   "execution_count": 16,
   "id": "8016f0f6-b1d4-4d99-9d29-02d4a0ca4d5d",
   "metadata": {},
   "outputs": [
    {
     "data": {
      "text/plain": [
       "[1, 2, 3, 4]"
      ]
     },
     "execution_count": 16,
     "metadata": {},
     "output_type": "execute_result"
    }
   ],
   "source": [
    "# map 이용\n",
    "a = [1.2, 2.5, 3.7 , 4.6]\n",
    "a = list(map(int,a))\n",
    "a"
   ]
  },
  {
   "cell_type": "code",
   "execution_count": 17,
   "id": "d92a21c4-065a-4bd9-a98d-174a544e272c",
   "metadata": {},
   "outputs": [
    {
     "data": {
      "text/plain": [
       "['0', '1', '2', '3', '4', '5', '6', '7', '8', '9']"
      ]
     },
     "execution_count": 17,
     "metadata": {},
     "output_type": "execute_result"
    }
   ],
   "source": [
    "# 숫자를 문자리스트로 변환\n",
    "a = list(map(str, range(10)))\n",
    "a"
   ]
  },
  {
   "cell_type": "code",
   "execution_count": 26,
   "id": "899d4792-e0ac-4715-b16d-fb219211041d",
   "metadata": {},
   "outputs": [
    {
     "name": "stdin",
     "output_type": "stream",
     "text": [
      " 10 20 30 40 50\n"
     ]
    }
   ],
   "source": [
    "# 표준입력을 사용하여 리스트 만들기\n",
    "a = list(map(int,input().split()))\n"
   ]
  },
  {
   "cell_type": "code",
   "execution_count": 27,
   "id": "8d6d10b0-7a4d-44b1-a5f0-4b021a8c79a0",
   "metadata": {},
   "outputs": [
    {
     "data": {
      "text/plain": [
       "[10, 20, 30, 40, 50]"
      ]
     },
     "execution_count": 27,
     "metadata": {},
     "output_type": "execute_result"
    }
   ],
   "source": [
    "a"
   ]
  },
  {
   "cell_type": "code",
   "execution_count": 30,
   "id": "05cddb57-b7a1-4c6e-8ea1-1c71609fd16e",
   "metadata": {},
   "outputs": [],
   "source": [
    "a, b = [10, 20]"
   ]
  },
  {
   "cell_type": "markdown",
   "id": "476da7bc-ba04-4de2-977e-dd677b179a4b",
   "metadata": {},
   "source": [
    "### <연습문제>\n",
    "#### a = ['alpha', 'bravo', 'charlie', 'delta', 'echo', 'foxtrot', 'golf', 'hotel', 'india']\n",
    "####리스트 a에 들어 있는 문자열 중에서 길이가 5인 것들을 리스트로 출력"
   ]
  },
  {
   "cell_type": "code",
   "execution_count": 3,
   "id": "3a120e91-0851-49cf-839a-348d8d5c9617",
   "metadata": {},
   "outputs": [
    {
     "data": {
      "text/plain": [
       "['alpha', 'bravo', 'delta', 'hotel', 'india']"
      ]
     },
     "execution_count": 3,
     "metadata": {},
     "output_type": "execute_result"
    }
   ],
   "source": [
    "a = ['alpha', 'bravo', 'charlie', 'delta', 'echo', 'foxtrot', 'golf', 'hotel', 'india']\n",
    "\n",
    "b = [i for i in a if len(i) == 5]\n",
    "b"
   ]
  },
  {
   "cell_type": "markdown",
   "id": "5f9cb47e-9f17-4eee-8c00-fb7fb664a479",
   "metadata": {},
   "source": [
    "### <연습문제>\n",
    "#### 표준입력으로 정수 두개가 입력됨\n",
    "#### 첫번째 입력값의 범위는 1-20. 두번째 입력값의 범위는 10-30\n",
    "#### 첫번째 정수부터 두번째 정수까지를 지수로 하는 2의 거듭제곱 리스트\n",
    "#### 리스트에서 앞에서 2번째 요소는 제외"
   ]
  },
  {
   "cell_type": "code",
   "execution_count": 7,
   "id": "d1e04ecd-4446-40fc-bd22-115ed9daf311",
   "metadata": {},
   "outputs": [
    {
     "name": "stdin",
     "output_type": "stream",
     "text": [
      " 1 10\n"
     ]
    },
    {
     "name": "stdout",
     "output_type": "stream",
     "text": [
      "[2, 8, 16, 32, 64, 128, 256, 512, 1024]\n"
     ]
    }
   ],
   "source": [
    "start, end = map(int, input().split())\n",
    "r = [2**i for i in range(start, end+1) if i != start+1]\n",
    "print(r)"
   ]
  },
  {
   "cell_type": "code",
   "execution_count": null,
   "id": "17ea9eb6-012c-4406-b272-a890a19feeff",
   "metadata": {},
   "outputs": [],
   "source": []
  }
 ],
 "metadata": {
  "kernelspec": {
   "display_name": "Python 3 (ipykernel)",
   "language": "python",
   "name": "python3"
  },
  "language_info": {
   "codemirror_mode": {
    "name": "ipython",
    "version": 3
   },
   "file_extension": ".py",
   "mimetype": "text/x-python",
   "name": "python",
   "nbconvert_exporter": "python",
   "pygments_lexer": "ipython3",
   "version": "3.11.7"
  }
 },
 "nbformat": 4,
 "nbformat_minor": 5
}
