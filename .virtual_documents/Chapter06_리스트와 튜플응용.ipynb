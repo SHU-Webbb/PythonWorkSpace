





a = [10, 20, 30]
a.append(50)
a


len(a)


a = []
a.append(10)
a


a = [10, 20, 30]
a.append([500,600])
a


len(a)


# 리ㅡ트에 여러 개의 요소를 추가할 경우 extend() 사용
a = [10, 20, 30]
a.extend([500,600])
a


# 특정 위치에 요소 추가
a = [10, 20, 30]
a.insert(2, 500)
a


# insert()를 이용해서 맨 끝에 데이터 추가 
a = [10, 20, 30]
a.insert(len(a), 500)
a


# 리스트를 중간에 추가
a = [10, 20, 30]
a.insert(1, [500, 600])
a





a = [10, 20, 30]
a.pop()
a


# pop()에서 삭제할 인덱스 지정
a = [10, 20, 30]
a.pop(1)
a


# pop() 대신 del 명령
a = [10, 20, 30]
del a[1]


a





a = [10, 20, 30]
a.remove(20)
a











a = [10, 20, 30, 40, 50, 60]
a.index (30)





a = [10, 20, 30, 20, 50, 20]
a.count(20)





a = [10, 20, 30, 40, 50, 60]
a.reverse()


a





a = [13, 33, 27, 3, 54, 9]
a.sort()
a





a = [10, 20, 30, 40, 50, 60]
a.clear()
a





a = [10, 20, 30]
a[len(a):] = [500,600]
a





a = [0, 0, 0, 0, 0]
b = a


a == b


a is b  # is = 객체 주소가 같은지 비교


b[2] = 99
b





a = [0, 0, 0, 0, 0]
b = a.copy()


# 두 객체가 같은지 비교
a is b


a == b


b[2] = 99


b


a





a = [13, 33, 27, 3, 54, 9]
for i in a:
    print(i)





a = [13, 33, 27, 3, 54, 9]
for index, value in enumerate(a):
    print(index, value)


# 인덱스를 1부터 출력
a = [13, 33, 27, 3, 54, 9]
for index, value in enumerate(a, start=1):
    print(index, value)


# 아래의 리스트에서 가장 큰 수를 구하시오.
a = [13, 33, 27, 3, 54, 9]
largest = a[0]
for i in a:
    if i > largest:
        largest = i
print(largest)
        


# 아래의 리스트에서 가장 작은 수를 구하시오.
a = [13, 33, 27, 3, 54, 9]
smallest = a[0]
for i in a:
    if i < smallest:
        smalliest = i
print(smallest)        
        


# sort()를 이용한 가장 큰 수 구하기
a = [13, 33, 27, 3, 54, 9]
a.sort(reverse=True)
a


a[0] #리스트에서 가장 큰 수


# sort()를 이용해 가장 작은 수 구하기
a = [13, 33, 27, 3, 54, 9]
a.sort()
a


a[0] 


a = [13, 33, 27, 3, 54, 9]
print(min(a))  # 가장 작은 수


print(max(a)) # 가장 큰 수


a = [10, 20, 30, 40, 50]
print(sum(a))   # 모든 요소의 합계





a = [10, 20, 30, 20, 10, 50, 60, 40, 80, 50, 40]
new_list = []

for i in a:
    if i not in new_list:
        new_list.append(i)
print(new_list)





for i in new_list:
    print(i, a.count(i))








a = [i for i in range(10)]
a


b = list(i for i in range(10))
b



c = [i + 5 for i in range(10)]
c





a = [i for i in range(10) if i % 2 == 0]
a


# i 값을 연산 처리
a = [i + 5 for i in range(10) if i % 2 == 1]
a





# 구구단 리스트 생성
a = [i * j for j in range(2,10) 
               for i in range(1, 10)]
print(a)





# 실수로 된 리스트를 정수 리스트로 변환
a = [1.2, 2.5, 3.7 , 4.6]
for i in range(len(a)):
    a[i] = int(a[i])

a


# map 이용
a = [1.2, 2.5, 3.7 , 4.6]
a = list(map(int,a))
a


# 숫자를 문자리스트로 변환
a = list(map(str, range(10)))
a


# 표준입력을 사용하여 리스트 만들기
a = list(map(int,input().split()))



a


a, b = [10, 20]





a = ['alpha', 'bravo', 'charlie', 'delta', 'echo', 'foxtrot', 'golf', 'hotel', 'india']

b = [i for i in a if len(i) == 5]
b





start, end = map(int, input().split())
r = [2**i for i in range(start, end+1) if i != start+1]
print(r)



