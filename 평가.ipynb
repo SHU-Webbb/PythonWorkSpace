{
 "cells": [
  {
   "cell_type": "code",
   "execution_count": 1,
   "id": "c9591d7d-92d8-4560-b31d-ba0099d90b77",
   "metadata": {},
   "outputs": [],
   "source": [
    "def calc_average(x, y):\n",
    "    return (x + y)/2\n",
    "    "
   ]
  },
  {
   "cell_type": "code",
   "execution_count": 2,
   "id": "24f74266-69f9-4ba0-aa9c-cce927c8d77c",
   "metadata": {},
   "outputs": [
    {
     "data": {
      "text/plain": [
       "3.5"
      ]
     },
     "execution_count": 2,
     "metadata": {},
     "output_type": "execute_result"
    }
   ],
   "source": [
    "calc_average(3,4)"
   ]
  },
  {
   "cell_type": "code",
   "execution_count": 3,
   "id": "aabd04a9-4892-4a02-a808-ab23cbc96120",
   "metadata": {},
   "outputs": [
    {
     "data": {
      "text/plain": [
       "5.5"
      ]
     },
     "execution_count": 3,
     "metadata": {},
     "output_type": "execute_result"
    }
   ],
   "source": [
    "calc_average(5,6)"
   ]
  },
  {
   "cell_type": "code",
   "execution_count": 6,
   "id": "1536905c-2559-415a-8c97-8a7a5207cfbe",
   "metadata": {},
   "outputs": [
    {
     "name": "stdin",
     "output_type": "stream",
     "text": [
      "첫 번째 입력 :  12\n",
      "두 번째 입력 :  34\n"
     ]
    },
    {
     "name": "stdout",
     "output_type": "stream",
     "text": [
      "두 입력의 합 :  46\n"
     ]
    }
   ],
   "source": [
    "a = int(input('첫 번째 입력 : '))\n",
    "b = int(input('두 번째 입력 : '))\n",
    "print('두 입력의 합 : ',a+b)"
   ]
  },
  {
   "cell_type": "code",
   "execution_count": 12,
   "id": "44d4b521-ec57-4c01-a761-44bb19e7d95b",
   "metadata": {},
   "outputs": [
    {
     "name": "stdout",
     "output_type": "stream",
     "text": [
      "7 * 9 = 63\n",
      "7 * 8 = 56\n",
      "7 * 7 = 49\n",
      "7 * 6 = 42\n",
      "7 * 5 = 35\n",
      "7 * 4 = 28\n",
      "7 * 3 = 21\n",
      "7 * 2 = 14\n",
      "7 * 1 = 7\n"
     ]
    }
   ],
   "source": [
    "for i in range(9,0,-1):\n",
    "    print(7, '*' , i ,'=', 7 * i)"
   ]
  },
  {
   "cell_type": "code",
   "execution_count": 14,
   "id": "abe940cf-2d0b-46bd-9509-5c27a7b5fd75",
   "metadata": {},
   "outputs": [
    {
     "name": "stdout",
     "output_type": "stream",
     "text": [
      "2 3 4 5 6 7 8 9 10 11 "
     ]
    }
   ],
   "source": [
    "st = [1, 2, 3, 4, 5, 6, 7, 8, 9, 10]\n",
    "for i in st:\n",
    "    print(i+1, end= ' ')"
   ]
  },
  {
   "cell_type": "code",
   "execution_count": 27,
   "id": "b2a3a45e-ef4e-496a-9473-dd51a9454af6",
   "metadata": {},
   "outputs": [],
   "source": [
    "def show_reverse(x):\n",
    "    x = str(x)\n",
    "    print(a[::-1])"
   ]
  },
  {
   "cell_type": "code",
   "execution_count": 28,
   "id": "24f72892-56f3-4a02-a73e-232ded791aa9",
   "metadata": {},
   "outputs": [
    {
     "ename": "NameError",
     "evalue": "name 'hello' is not defined",
     "output_type": "error",
     "traceback": [
      "\u001b[1;31m---------------------------------------------------------------------------\u001b[0m",
      "\u001b[1;31mNameError\u001b[0m                                 Traceback (most recent call last)",
      "Cell \u001b[1;32mIn[28], line 1\u001b[0m\n\u001b[1;32m----> 1\u001b[0m show_reverse(hello)\n",
      "\u001b[1;31mNameError\u001b[0m: name 'hello' is not defined"
     ]
    }
   ],
   "source": [
    "show_reverse(hello)"
   ]
  },
  {
   "cell_type": "code",
   "execution_count": 29,
   "id": "56af3be5-f9cb-46c4-acbd-24acb27bb808",
   "metadata": {},
   "outputs": [],
   "source": [
    "def show_reverse(x):\n",
    "    x = str(x)  # 입력 x를 문자열로 변환하여 문자를 엑세스할 수 있도록 함\n",
    "    print(x[::-1])"
   ]
  },
  {
   "cell_type": "code",
   "execution_count": 30,
   "id": "7098da93-c2f6-475a-90d9-e5ab7bcb4a8d",
   "metadata": {},
   "outputs": [
    {
     "ename": "NameError",
     "evalue": "name 'hello' is not defined",
     "output_type": "error",
     "traceback": [
      "\u001b[1;31m---------------------------------------------------------------------------\u001b[0m",
      "\u001b[1;31mNameError\u001b[0m                                 Traceback (most recent call last)",
      "Cell \u001b[1;32mIn[30], line 1\u001b[0m\n\u001b[1;32m----> 1\u001b[0m show_reverse(hello)\n",
      "\u001b[1;31mNameError\u001b[0m: name 'hello' is not defined"
     ]
    }
   ],
   "source": [
    "show_reverse(hello)"
   ]
  },
  {
   "cell_type": "code",
   "execution_count": 32,
   "id": "c8327bbf-07df-4186-b60b-d874bc68c31d",
   "metadata": {},
   "outputs": [
    {
     "ename": "NameError",
     "evalue": "name 'x' is not defined",
     "output_type": "error",
     "traceback": [
      "\u001b[1;31m---------------------------------------------------------------------------\u001b[0m",
      "\u001b[1;31mNameError\u001b[0m                                 Traceback (most recent call last)",
      "Cell \u001b[1;32mIn[32], line 5\u001b[0m\n\u001b[0;32m      2\u001b[0m     x \u001b[38;5;241m=\u001b[39m \u001b[38;5;28mstr\u001b[39m(x) \n\u001b[0;32m      3\u001b[0m     \u001b[38;5;28mprint\u001b[39m(x[::\u001b[38;5;241m-\u001b[39m\u001b[38;5;241m1\u001b[39m])\n\u001b[1;32m----> 5\u001b[0m show_reverse(x)\n",
      "\u001b[1;31mNameError\u001b[0m: name 'x' is not defined"
     ]
    }
   ],
   "source": [
    "def show_reverse(x):\n",
    "    x = str(x) \n",
    "    print(x[::-1])\n",
    "\n",
    "show_reverse(x)"
   ]
  },
  {
   "cell_type": "code",
   "execution_count": 33,
   "id": "ad61d66b-83a1-42bf-8b20-25a19aab1dc1",
   "metadata": {},
   "outputs": [],
   "source": [
    "def show_reverse(input_str):\n",
    "    reversed_str = input_str[::-1]\n",
    "    print(reversed_str)"
   ]
  },
  {
   "cell_type": "code",
   "execution_count": 35,
   "id": "57e5105e-7f9f-45fa-841c-a970722f10de",
   "metadata": {},
   "outputs": [
    {
     "name": "stdout",
     "output_type": "stream",
     "text": [
      "원본 문자열: hello\n",
      "결과: olleh\n"
     ]
    }
   ],
   "source": [
    "show_reverse('hello')"
   ]
  },
  {
   "cell_type": "code",
   "execution_count": 36,
   "id": "a5ff3b2b-b0f7-4dc9-aef1-78f43c71fc6d",
   "metadata": {},
   "outputs": [
    {
     "name": "stdout",
     "output_type": "stream",
     "text": [
      "[1, 2, 3]\n"
     ]
    }
   ],
   "source": [
    "list = []\n",
    "list.append(1)\n",
    "list.append(2)\n",
    "list.append(3)\n",
    "list.pop(0)\n",
    "list.pop(1)\n",
    "list.pop(2)"
   ]
  },
  {
   "cell_type": "code",
   "execution_count": 49,
   "id": "da2e2646-a7c1-45f4-a204-24b3f98c7738",
   "metadata": {},
   "outputs": [
    {
     "name": "stdout",
     "output_type": "stream",
     "text": [
      "{'새우깡': 1300, '꼬깔콘': 1350, '홈런볼': 1000, '치즈콘': 1300}\n"
     ]
    }
   ],
   "source": [
    "dc = {\"새우깡\" : 1200, \"콘치즈\" : 1300, \"꼬깔콘\":1250}\n",
    "dc.update(홈런볼=900)\n",
    "\n",
    "for i in dc:\n",
    "    dc[i] += 100\n",
    "\n",
    "if '콘치즈' in dc:\n",
    "    dc.pop('콘치즈')\n",
    "\n",
    "dc.update(치즈콘=1300)\n",
    "        \n",
    "print(dc)"
   ]
  },
  {
   "cell_type": "code",
   "execution_count": null,
   "id": "bd9f692a-1798-446b-bfae-7fa659b31b39",
   "metadata": {},
   "outputs": [],
   "source": []
  },
  {
   "cell_type": "code",
   "execution_count": null,
   "id": "92dcc35a-e1a5-41fc-bc2d-c16c5c6566be",
   "metadata": {},
   "outputs": [],
   "source": []
  }
 ],
 "metadata": {
  "kernelspec": {
   "display_name": "Python 3 (ipykernel)",
   "language": "python",
   "name": "python3"
  },
  "language_info": {
   "codemirror_mode": {
    "name": "ipython",
    "version": 3
   },
   "file_extension": ".py",
   "mimetype": "text/x-python",
   "name": "python",
   "nbconvert_exporter": "python",
   "pygments_lexer": "ipython3",
   "version": "3.11.7"
  }
 },
 "nbformat": 4,
 "nbformat_minor": 5
}
