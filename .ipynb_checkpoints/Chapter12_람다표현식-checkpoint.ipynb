{
 "cells": [
  {
   "cell_type": "markdown",
   "id": "d990b496-c330-4f8e-9353-75eaf01a63ff",
   "metadata": {},
   "source": [
    "# 람다 표현식"
   ]
  },
  {
   "cell_type": "markdown",
   "id": "af9f3874-0b61-41ce-8d5c-4626ef5eef7b",
   "metadata": {},
   "source": [
    "## 1. 람다표현식으로 함수만들기"
   ]
  },
  {
   "cell_type": "markdown",
   "id": "f37a39fb-0067-421c-86d9-ade9f7ee36a1",
   "metadata": {},
   "source": [
    "#### 숫자를 받아 10을 더해서 반환하는 함수"
   ]
  },
  {
   "cell_type": "code",
   "execution_count": 1,
   "id": "cae48c89-e726-46d7-a2e0-d8b16268f3e0",
   "metadata": {},
   "outputs": [],
   "source": [
    "def plus_ten(x):\n",
    "    return x + 10"
   ]
  },
  {
   "cell_type": "code",
   "execution_count": 2,
   "id": "6bac552f-70e3-4240-9c95-19a2b5e8da60",
   "metadata": {},
   "outputs": [
    {
     "data": {
      "text/plain": [
       "12"
      ]
     },
     "execution_count": 2,
     "metadata": {},
     "output_type": "execute_result"
    }
   ],
   "source": [
    "plus_ten(2)"
   ]
  },
  {
   "cell_type": "markdown",
   "id": "b48b0cb0-5e30-4e2b-ba72-af234fb83a3c",
   "metadata": {},
   "source": [
    "#### 함수를 람다식으로 변환"
   ]
  },
  {
   "cell_type": "code",
   "execution_count": 3,
   "id": "939f3afb-8904-4960-a068-febb4362f807",
   "metadata": {},
   "outputs": [
    {
     "data": {
      "text/plain": [
       "<function __main__.<lambda>(x)>"
      ]
     },
     "execution_count": 3,
     "metadata": {},
     "output_type": "execute_result"
    }
   ],
   "source": [
    "lambda x: x+10"
   ]
  },
  {
   "cell_type": "code",
   "execution_count": 4,
   "id": "1914978d-252e-47f1-a709-135b107d61eb",
   "metadata": {},
   "outputs": [],
   "source": [
    "# 람다식을 사용하기 위해 변수에 할당\n",
    "plus_ten = lambda x: x+10"
   ]
  },
  {
   "cell_type": "code",
   "execution_count": 5,
   "id": "8b0d3824-fddc-4c00-8f6b-1098f557e339",
   "metadata": {},
   "outputs": [
    {
     "data": {
      "text/plain": [
       "13"
      ]
     },
     "execution_count": 5,
     "metadata": {},
     "output_type": "execute_result"
    }
   ],
   "source": [
    "plus_ten(3)"
   ]
  },
  {
   "cell_type": "markdown",
   "id": "ea6f3731-b518-44cd-97bc-68a0b26db81d",
   "metadata": {},
   "source": [
    "### (1) 람다표현식 자체 호출"
   ]
  },
  {
   "cell_type": "code",
   "execution_count": 7,
   "id": "3af90ba0-57c2-47b5-a79a-cef40ef7804f",
   "metadata": {},
   "outputs": [
    {
     "data": {
      "text/plain": [
       "13"
      ]
     },
     "execution_count": 7,
     "metadata": {},
     "output_type": "execute_result"
    }
   ],
   "source": [
    "(lambda x:x+10)(3)"
   ]
  },
  {
   "cell_type": "markdown",
   "id": "8cc6dd8a-8e86-40e2-ac90-a5c002d1b56b",
   "metadata": {},
   "source": [
    "### (2) 람다식 안에서는 변수를 만들 수 없다."
   ]
  },
  {
   "cell_type": "code",
   "execution_count": 8,
   "id": "989c87c8-f68d-4bf3-a4b4-b50ff11951f8",
   "metadata": {},
   "outputs": [
    {
     "ename": "SyntaxError",
     "evalue": "invalid syntax (35054088.py, line 1)",
     "output_type": "error",
     "traceback": [
      "\u001b[1;36m  Cell \u001b[1;32mIn[8], line 1\u001b[1;36m\u001b[0m\n\u001b[1;33m    (lambda x : y=10; x + y)(1)\u001b[0m\n\u001b[1;37m                 ^\u001b[0m\n\u001b[1;31mSyntaxError\u001b[0m\u001b[1;31m:\u001b[0m invalid syntax\n"
     ]
    }
   ],
   "source": [
    "(lambda x : y=10; x + y)(1)"
   ]
  },
  {
   "cell_type": "code",
   "execution_count": 10,
   "id": "ec405ac1-546a-43c6-9b2c-e1b9f4d54df6",
   "metadata": {},
   "outputs": [
    {
     "data": {
      "text/plain": [
       "8"
      ]
     },
     "execution_count": 10,
     "metadata": {},
     "output_type": "execute_result"
    }
   ],
   "source": [
    "# 변수를 사용하려면 외부에서 선언 후 사용\n",
    "y = 3\n",
    "(lambda x : x + y )(5)"
   ]
  },
  {
   "cell_type": "markdown",
   "id": "c6016611-5084-4d28-873f-cea283b4a2de",
   "metadata": {},
   "source": [
    "### (3) 람다식을 인수로 사용"
   ]
  },
  {
   "cell_type": "markdown",
   "id": "7ddbed7b-eb73-4c11-91f9-19777554a169",
   "metadata": {},
   "source": [
    "#### 함수를 정의하여 map을 사용하기"
   ]
  },
  {
   "cell_type": "code",
   "execution_count": 11,
   "id": "eff0ed53-b24e-4410-8cef-99c341a8dfe8",
   "metadata": {},
   "outputs": [],
   "source": [
    "def plus_ten(x):\n",
    "    return x+10"
   ]
  },
  {
   "cell_type": "code",
   "execution_count": 12,
   "id": "b1d43f86-6cfd-47cb-bde6-d63788e6d2d4",
   "metadata": {},
   "outputs": [
    {
     "data": {
      "text/plain": [
       "[20, 30, 40]"
      ]
     },
     "execution_count": 12,
     "metadata": {},
     "output_type": "execute_result"
    }
   ],
   "source": [
    "# 앞에서 선언한 함수를 이용하여 값 변환하기\n",
    "list(map(plus_ten, [10, 20, 30]))"
   ]
  },
  {
   "cell_type": "markdown",
   "id": "f77d3d25-128a-4fd4-8155-3874fa5febec",
   "metadata": {},
   "source": [
    "#### 위의 내용을 람다식으로 변환"
   ]
  },
  {
   "cell_type": "code",
   "execution_count": 13,
   "id": "09c40103-5881-43b3-9060-2b9818d1f5f1",
   "metadata": {},
   "outputs": [
    {
     "data": {
      "text/plain": [
       "[20, 30, 40]"
      ]
     },
     "execution_count": 13,
     "metadata": {},
     "output_type": "execute_result"
    }
   ],
   "source": [
    "# 위의 식에서 plus_ten 함수 자리에 람다식을 작성\n",
    "list(map(lambda x:x+10, [10, 20, 30]))"
   ]
  },
  {
   "cell_type": "markdown",
   "id": "3dee0eed-96c1-4df3-a4cd-812d59b6d6ee",
   "metadata": {},
   "source": [
    "## 2. 람다 표현식에 조건식 사용하기"
   ]
  },
  {
   "cell_type": "markdown",
   "id": "22a2ef94-d6ac-4fa2-9ba2-0720bcac8c0a",
   "metadata": {},
   "source": [
    "#### lambda 매개변수 : 식1 if 조건식 else 식2"
   ]
  },
  {
   "cell_type": "code",
   "execution_count": 15,
   "id": "bdc4b898-bae2-4986-b760-e63d2cc7470b",
   "metadata": {},
   "outputs": [
    {
     "data": {
      "text/plain": [
       "[1, 2, '3', 4, 5, '6', 7, 8, '9', 10]"
      ]
     },
     "execution_count": 15,
     "metadata": {},
     "output_type": "execute_result"
    }
   ],
   "source": [
    "# 3의 배수만 문자로 변환하여 출력\n",
    "a = [1, 2, 3, 4, 5, 6, 7, 8, 9, 10]\n",
    "list(map(lambda x : str(x) if x % 3== 0 else x, a))"
   ]
  },
  {
   "cell_type": "markdown",
   "id": "f5a4bb4c-963d-442d-a91e-612ce70fe745",
   "metadata": {},
   "source": [
    "#### <span style='color:red'> 람다표현식에서 if를 사용했다면 반드시 else를 사용 <br>\n",
    "#### 람다 표현식 안에서는 elif를 사용할수 없다.</span>"
   ]
  },
  {
   "cell_type": "code",
   "execution_count": 17,
   "id": "04343be1-167e-4282-84e1-a90288d3fe90",
   "metadata": {},
   "outputs": [
    {
     "ename": "SyntaxError",
     "evalue": "expected 'else' after 'if' expression (1929490868.py, line 1)",
     "output_type": "error",
     "traceback": [
      "\u001b[1;36m  Cell \u001b[1;32mIn[17], line 1\u001b[1;36m\u001b[0m\n\u001b[1;33m    list(map(lambda x : str(x) if x % 3== 0, a))\u001b[0m\n\u001b[1;37m                        ^\u001b[0m\n\u001b[1;31mSyntaxError\u001b[0m\u001b[1;31m:\u001b[0m expected 'else' after 'if' expression\n"
     ]
    }
   ],
   "source": [
    "list(map(lambda x : str(x) if x % 3== 0, a))"
   ]
  },
  {
   "cell_type": "markdown",
   "id": "6bf093a9-4a43-480b-96a9-91f8349016be",
   "metadata": {},
   "source": [
    "### if를 연속적으로 사용하기"
   ]
  },
  {
   "cell_type": "code",
   "execution_count": 18,
   "id": "2e8b3a7c-0278-44e5-8d43-66f66a501ff4",
   "metadata": {},
   "outputs": [
    {
     "data": {
      "text/plain": [
       "['1', 2.0, 13, 14, 15, 16, 17, 18, 19, 20]"
      ]
     },
     "execution_count": 18,
     "metadata": {},
     "output_type": "execute_result"
    }
   ],
   "source": [
    "a = [1, 2, 3, 4, 5, 6, 7, 8, 9, 10]\n",
    "list(map(lambda x : str(x) if x == 1 else float(x) if x == 2 else x+10, a))"
   ]
  },
  {
   "cell_type": "code",
   "execution_count": 19,
   "id": "41a3bc1e-0fcf-4af7-af7a-fbe37de94661",
   "metadata": {},
   "outputs": [
    {
     "data": {
      "text/plain": [
       "['1', 2.0, 13, 14, 15, 16, 17, 18, 19, 20]"
      ]
     },
     "execution_count": 19,
     "metadata": {},
     "output_type": "execute_result"
    }
   ],
   "source": [
    "# 위의 람다식을 함수로 표현\n",
    "def func(x):\n",
    "    if x == 1:\n",
    "        return str(x)\n",
    "    elif x == 2:\n",
    "        return float(x)\n",
    "    else:\n",
    "        return x+10\n",
    "\n",
    "a = [1, 2, 3, 4, 5, 6, 7, 8, 9, 10]\n",
    "list(map(func, a))"
   ]
  },
  {
   "cell_type": "markdown",
   "id": "e51e79e9-e10c-457f-93e0-d695ad0dd1ec",
   "metadata": {},
   "source": [
    "## 3. map에 여러개 인자 사용하기 "
   ]
  },
  {
   "cell_type": "code",
   "execution_count": 22,
   "id": "5838f613-4ff4-45df-813e-2fd64f7243c1",
   "metadata": {},
   "outputs": [
    {
     "data": {
      "text/plain": [
       "[2, 6, 12, 20, 50]"
      ]
     },
     "execution_count": 22,
     "metadata": {},
     "output_type": "execute_result"
    }
   ],
   "source": [
    "# 인자가 여러 개 필요한 경우 콤마로 구분해서 넣는다.\n",
    "a = [1,2,3,4,5]\n",
    "b = [2,3,4,5,10]\n",
    "list(map(lambda x, y : x* y, a, b))"
   ]
  },
  {
   "cell_type": "markdown",
   "id": "6ba3ceef-a195-4eaa-9c1f-dbdf70dd8c4c",
   "metadata": {},
   "source": [
    "## 4. filter 사용하기"
   ]
  },
  {
   "cell_type": "code",
   "execution_count": 23,
   "id": "16bdfab5-353b-47bd-99f4-378546ea5432",
   "metadata": {},
   "outputs": [],
   "source": [
    "# 함수 선언\n",
    "def func(x):\n",
    "    return x > 5 and x <10"
   ]
  },
  {
   "cell_type": "code",
   "execution_count": 25,
   "id": "7775edad-f746-4bf5-9c8f-a62e140a2961",
   "metadata": {},
   "outputs": [
    {
     "data": {
      "text/plain": [
       "[8, 7, 9]"
      ]
     },
     "execution_count": 25,
     "metadata": {},
     "output_type": "execute_result"
    }
   ],
   "source": [
    "a = [8, 3, 2, 10, 15, 7, 1, 9, 0, 11]\n",
    "list(filter(func, a))"
   ]
  },
  {
   "cell_type": "code",
   "execution_count": 26,
   "id": "6d17fb7e-8bb6-40b8-9a6e-95ebbc5d6507",
   "metadata": {},
   "outputs": [
    {
     "data": {
      "text/plain": [
       "[8, 7, 9]"
      ]
     },
     "execution_count": 26,
     "metadata": {},
     "output_type": "execute_result"
    }
   ],
   "source": [
    "# 위의 func를 람다식으로 변환\n",
    "a = [8, 3, 2, 10, 15, 7, 1, 9, 0, 11]\n",
    "list(filter(lambda x: x>5 and x<10, a))"
   ]
  },
  {
   "cell_type": "markdown",
   "id": "a44df408-b875-4a10-a8fb-b0fe6816311e",
   "metadata": {},
   "source": [
    "## 5. reduce 사용하기 "
   ]
  },
  {
   "cell_type": "markdown",
   "id": "8e9295f5-45e5-44ad-bc6c-1355e04ba8ca",
   "metadata": {},
   "source": [
    "#### reduce는 내장함수가 아니므로 functools 모듈을 import해야함"
   ]
  },
  {
   "cell_type": "code",
   "execution_count": 27,
   "id": "1ce62b42-d34b-46be-8850-e997051ae573",
   "metadata": {},
   "outputs": [],
   "source": [
    "from functools import reduce"
   ]
  },
  {
   "cell_type": "markdown",
   "id": "c701dbf4-9f12-4ce8-a534-8cdad76f139f",
   "metadata": {},
   "source": [
    "### reduce 사용법\n",
    "#### reduce(함수, 반복 객체)"
   ]
  },
  {
   "cell_type": "code",
   "execution_count": 28,
   "id": "b4502763-6930-4636-b36d-66d6114a1061",
   "metadata": {},
   "outputs": [],
   "source": [
    "def func(x, y):\n",
    "    return x + y "
   ]
  },
  {
   "cell_type": "code",
   "execution_count": 29,
   "id": "295f5a98-637d-4e9e-bb51-6b3d8c5f2595",
   "metadata": {},
   "outputs": [
    {
     "data": {
      "text/plain": [
       "15"
      ]
     },
     "execution_count": 29,
     "metadata": {},
     "output_type": "execute_result"
    }
   ],
   "source": [
    "a = [1, 2, 3, 4, 5]\n",
    "reduce(func, a)"
   ]
  },
  {
   "cell_type": "code",
   "execution_count": 30,
   "id": "2216086a-a5fe-4cde-ad42-241ac35ff1dd",
   "metadata": {},
   "outputs": [
    {
     "data": {
      "text/plain": [
       "15"
      ]
     },
     "execution_count": 30,
     "metadata": {},
     "output_type": "execute_result"
    }
   ],
   "source": [
    "# 위의 func() 대신에 람다식 사용\n",
    "a = [1, 2, 3, 4, 5]\n",
    "reduce(lambda x, y: x + y, a)"
   ]
  },
  {
   "cell_type": "markdown",
   "id": "92a4176e-4219-422b-814a-6d57cc9ab74b",
   "metadata": {},
   "source": [
    "### <연습문제>\n",
    "#### files = ['font', '1.png', '10.jpg', '11.gif', '2.jpg', '3.png', 'table.xlsx', 'spec.docx']\n",
    "#### 확장자가 .jpg, .png인 이미지 파일만 출력되게 만드시오. 람다표현식을 사용해야 하며 출력 결과는 리스트 형태라야 함."
   ]
  },
  {
   "cell_type": "code",
   "execution_count": 38,
   "id": "a7bce641-e72d-44e9-92f9-58ba36380c28",
   "metadata": {},
   "outputs": [
    {
     "data": {
      "text/plain": [
       "['1.png', '10.jpg', '2.jpg', '3.png']"
      ]
     },
     "execution_count": 38,
     "metadata": {},
     "output_type": "execute_result"
    }
   ],
   "source": [
    "files = ['font', '1.png', '10.jpg', '11.gif', '2.jpg', '3.png', 'table.xlsx', 'spec.docx']\n",
    "list(filter(lambda x : x.find('.jpg') != -1 or x.find('.png') != -1, files))"
   ]
  },
  {
   "cell_type": "markdown",
   "id": "f920480f-a1a1-4cdd-b818-3a6709637ea2",
   "metadata": {},
   "source": [
    "### <연습문제2>\n",
    "#### 표준입력으로 숫자.확장자 형식으로 된 파일 이름 여러개가 입력.\n",
    "#### 파일 이름이 숫자 3개 이면서 앞에 0이 들어가는 형식으로  출력되게 만든다.\n",
    "#### 람다 표현식을 사용, 출력결과는 리스트"
   ]
  },
  {
   "cell_type": "code",
   "execution_count": 67,
   "id": "99d487d9-4722-4fec-8c1f-317a8857687d",
   "metadata": {},
   "outputs": [
    {
     "name": "stdin",
     "output_type": "stream",
     "text": [
      " 1.jpg\n"
     ]
    },
    {
     "name": "stdout",
     "output_type": "stream",
     "text": [
      "001\n",
      "001.jpg\n"
     ]
    }
   ],
   "source": [
    "file = input()\n",
    "prefix = '%03d' % int(file[:file.rfind('.')])\n",
    "suffix = file[file.rfind('.'):]\n",
    "print(prefix)\n",
    "print(prefix+suffix)"
   ]
  },
  {
   "cell_type": "code",
   "execution_count": 69,
   "id": "6b8eb713-6c31-48f0-aa39-a410fdf56602",
   "metadata": {},
   "outputs": [
    {
     "name": "stdin",
     "output_type": "stream",
     "text": [
      " 10.jpg 1.pjg\n"
     ]
    },
    {
     "data": {
      "text/plain": [
       "['010.jpg', '001.pjg']"
      ]
     },
     "execution_count": 69,
     "metadata": {},
     "output_type": "execute_result"
    }
   ],
   "source": [
    "# 위의 내용을 람다식으로 변경\n",
    "files = input().split()\n",
    "list(map(lambda x : '%03d' % int(x[:x.rfind('.')]) + x[x.rfind('.'):] , files))"
   ]
  },
  {
   "cell_type": "code",
   "execution_count": null,
   "id": "8d80945a-e4c6-48f7-af8d-eeaead918a47",
   "metadata": {},
   "outputs": [],
   "source": []
  }
 ],
 "metadata": {
  "kernelspec": {
   "display_name": "Python 3 (ipykernel)",
   "language": "python",
   "name": "python3"
  },
  "language_info": {
   "codemirror_mode": {
    "name": "ipython",
    "version": 3
   },
   "file_extension": ".py",
   "mimetype": "text/x-python",
   "name": "python",
   "nbconvert_exporter": "python",
   "pygments_lexer": "ipython3",
   "version": "3.11.7"
  }
 },
 "nbformat": 4,
 "nbformat_minor": 5
}
