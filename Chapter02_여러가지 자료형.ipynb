{
 "cells": [
  {
   "cell_type": "markdown",
   "id": "bec32cf3-bb3f-4b42-9488-1a82b2b96f3d",
   "metadata": {},
   "source": [
    "# 제2장 여러가지 자료형"
   ]
  },
  {
   "cell_type": "markdown",
   "id": "0edf9a3d-fd9a-4876-a167-546e52f065b4",
   "metadata": {},
   "source": [
    "## 1.문자열 사용하기"
   ]
  },
  {
   "cell_type": "code",
   "execution_count": 4,
   "id": "ee8bf43e-d595-498f-b50d-214268d32d30",
   "metadata": {},
   "outputs": [
    {
     "data": {
      "text/plain": [
       "'Hello, world!'"
      ]
     },
     "execution_count": 4,
     "metadata": {},
     "output_type": "execute_result"
    }
   ],
   "source": [
    "hello = 'Hello, world!'\n",
    "hello #파일에서 실행하여 출력하려면 print(hello)"
   ]
  },
  {
   "cell_type": "code",
   "execution_count": 5,
   "id": "318457d5-1388-4b6f-8294-0a632ff2a3e9",
   "metadata": {},
   "outputs": [
    {
     "data": {
      "text/plain": [
       "'안녕하세요!'"
      ]
     },
     "execution_count": 5,
     "metadata": {},
     "output_type": "execute_result"
    }
   ],
   "source": [
    "# 한글도 사용 가능\n",
    "hello = '안녕하세요!'\n",
    "hello"
   ]
  },
  {
   "cell_type": "code",
   "execution_count": 6,
   "id": "d50cd1ea-0f3f-44ba-9e64-cba46feaa83c",
   "metadata": {},
   "outputs": [
    {
     "data": {
      "text/plain": [
       "'Hello, world!'"
      ]
     },
     "execution_count": 6,
     "metadata": {},
     "output_type": "execute_result"
    }
   ],
   "source": [
    "hello = \"Hello, world!\"\n",
    "hello"
   ]
  },
  {
   "cell_type": "markdown",
   "id": "15195ccd-d07d-4e3e-a999-d3f9d0dc50d5",
   "metadata": {},
   "source": [
    "### (1) 여러줄로 구성된 문자열"
   ]
  },
  {
   "cell_type": "code",
   "execution_count": 9,
   "id": "633b10da-0bfc-4d25-b8fe-a6a76df476f6",
   "metadata": {},
   "outputs": [
    {
     "name": "stdout",
     "output_type": "stream",
     "text": [
      "hello, world!\n",
      "안녕하세요.\n",
      "python 프로그램입니다.\n"
     ]
    }
   ],
   "source": [
    "hello = '''hello, world!\n",
    "안녕하세요.\n",
    "python 프로그램입니다.'''\n",
    "print(hello)"
   ]
  },
  {
   "cell_type": "code",
   "execution_count": 10,
   "id": "52ae267f-714c-4b94-9bad-884625cb9f52",
   "metadata": {},
   "outputs": [
    {
     "name": "stdout",
     "output_type": "stream",
     "text": [
      "Python isn't difficult\n"
     ]
    }
   ],
   "source": [
    "s = \"Python isn't difficult\"\n",
    "print(s)"
   ]
  },
  {
   "cell_type": "code",
   "execution_count": 12,
   "id": "e3326cf5-8f7f-414a-a1ad-4e2b5c9fec01",
   "metadata": {},
   "outputs": [
    {
     "name": "stdout",
     "output_type": "stream",
     "text": [
      "He said \"Python is easy\"\n"
     ]
    }
   ],
   "source": [
    "# 문자열 안에 큰 따옴표를 사용하려면 작은 따옴표로 묶어준다.\n",
    "s = 'He said \"Python is easy\"'\n",
    "print(s)"
   ]
  },
  {
   "cell_type": "code",
   "execution_count": 13,
   "id": "17a844bf-7ed6-4394-b21b-726a03251c2f",
   "metadata": {},
   "outputs": [
    {
     "name": "stdout",
     "output_type": "stream",
     "text": [
      "\n",
      "안녕하세요.\n",
      "'파이썬' 입니다.\n"
     ]
    }
   ],
   "source": [
    "hello = '''\n",
    "안녕하세요.\n",
    "'파이썬' 입니다.'''\n",
    "print(hello)"
   ]
  },
  {
   "cell_type": "code",
   "execution_count": 14,
   "id": "2debce76-3492-450c-a3f0-b58aabed0c14",
   "metadata": {},
   "outputs": [
    {
     "name": "stdout",
     "output_type": "stream",
     "text": [
      "He said \"Pyton is easy\"\n"
     ]
    }
   ],
   "source": [
    "s = \"He said \\\"Pyton is easy\\\"\"\n",
    "print(s)"
   ]
  },
  {
   "cell_type": "markdown",
   "id": "7a08a5d5-cd51-4729-b523-3dec1093cef5",
   "metadata": {},
   "source": [
    "### 연습문제 1\n",
    "#### Python is programming language that lets you work quickly\n",
    "#### and intergrate systems more effectively.\n",
    "#### 위의 문자열을 변수에 저장하여 출력"
   ]
  },
  {
   "cell_type": "code",
   "execution_count": 15,
   "id": "c239ef46-67e9-4f7b-8593-17020ff1521c",
   "metadata": {},
   "outputs": [
    {
     "name": "stdout",
     "output_type": "stream",
     "text": [
      "\n",
      "Python is programming language that lets you work quickly\n",
      "and intergrate systems more effectively.\n",
      "\n"
     ]
    }
   ],
   "source": [
    "s = '''\n",
    "Python is programming language that lets you work quickly\n",
    "and intergrate systems more effectively.\n",
    "'''\n",
    "print(s)\n"
   ]
  },
  {
   "cell_type": "code",
   "execution_count": 16,
   "id": "0c953af8-7a54-4ef2-9bac-9520557a5434",
   "metadata": {},
   "outputs": [
    {
     "name": "stdout",
     "output_type": "stream",
     "text": [
      "\n",
      "'Python' is \"programming language\" that lets you work quickly\n",
      "and intergrate systems more effectively.\n",
      "\n"
     ]
    }
   ],
   "source": [
    "s = '''\n",
    "'Python' is \"programming language\" that lets you work quickly\n",
    "and intergrate systems more effectively.\n",
    "'''\n",
    "print(s)"
   ]
  },
  {
   "cell_type": "code",
   "execution_count": null,
   "id": "a41b6c84-7e4f-4600-bbb0-80801278724b",
   "metadata": {},
   "outputs": [],
   "source": []
  }
 ],
 "metadata": {
  "kernelspec": {
   "display_name": "Python 3 (ipykernel)",
   "language": "python",
   "name": "python3"
  },
  "language_info": {
   "codemirror_mode": {
    "name": "ipython",
    "version": 3
   },
   "file_extension": ".py",
   "mimetype": "text/x-python",
   "name": "python",
   "nbconvert_exporter": "python",
   "pygments_lexer": "ipython3",
   "version": "3.11.7"
  }
 },
 "nbformat": 4,
 "nbformat_minor": 5
}
