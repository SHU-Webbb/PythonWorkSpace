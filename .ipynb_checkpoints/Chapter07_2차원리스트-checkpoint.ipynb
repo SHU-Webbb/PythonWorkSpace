{
 "cells": [
  {
   "cell_type": "markdown",
   "id": "067d0fa3-9233-438c-afc7-a4560125be96",
   "metadata": {},
   "source": [
    "# 2차원 리스트"
   ]
  },
  {
   "cell_type": "markdown",
   "id": "254cbe32-40ef-4fa4-af77-eba28255c4db",
   "metadata": {},
   "source": [
    "## 1. 2차원 리스트 만들기"
   ]
  },
  {
   "cell_type": "code",
   "execution_count": 1,
   "id": "ea0ab3a3-5735-413d-a0e6-c1d1e65ed36b",
   "metadata": {},
   "outputs": [
    {
     "data": {
      "text/plain": [
       "[[10, 20], [30, 40], [50, 60]]"
      ]
     },
     "execution_count": 1,
     "metadata": {},
     "output_type": "execute_result"
    }
   ],
   "source": [
    "a = [[10, 20],\n",
    "     [30, 40],\n",
    "     [50, 60]]\n",
    "a"
   ]
  },
  {
   "cell_type": "code",
   "execution_count": 2,
   "id": "73f1b801-13f1-42cf-a9f8-19676acf12df",
   "metadata": {},
   "outputs": [
    {
     "data": {
      "text/plain": [
       "10"
      ]
     },
     "execution_count": 2,
     "metadata": {},
     "output_type": "execute_result"
    }
   ],
   "source": [
    "# 2차원 리스트에 접근하기\n",
    "a[0][0]"
   ]
  },
  {
   "cell_type": "code",
   "execution_count": 3,
   "id": "8606b41a-ecbc-47c3-a763-9f59fab8067c",
   "metadata": {},
   "outputs": [
    {
     "data": {
      "text/plain": [
       "[[10, 20], [20, 40, 50], [30], [50, 60, 70]]"
      ]
     },
     "execution_count": 3,
     "metadata": {},
     "output_type": "execute_result"
    }
   ],
   "source": [
    "a = [[10, 20],\n",
    "     [20, 40, 50],\n",
    "     [30],\n",
    "     [50,60,70]]\n",
    "a"
   ]
  },
  {
   "cell_type": "code",
   "execution_count": 4,
   "id": "5501fd99-5cc4-4dc7-b656-5a8d2ef1b820",
   "metadata": {},
   "outputs": [
    {
     "data": {
      "text/plain": [
       "40"
      ]
     },
     "execution_count": 4,
     "metadata": {},
     "output_type": "execute_result"
    }
   ],
   "source": [
    "a[1][1]"
   ]
  },
  {
   "cell_type": "code",
   "execution_count": 5,
   "id": "d329ac0a-f75a-4acd-aa7d-c09fcb876612",
   "metadata": {},
   "outputs": [
    {
     "name": "stdout",
     "output_type": "stream",
     "text": [
      "10 20\n",
      "30 40\n",
      "50 60\n"
     ]
    }
   ],
   "source": [
    "a = [[10, 20],\n",
    "     [30, 40],\n",
    "     [50, 60]]\n",
    "for x, y in a:\n",
    "    print(x, y)"
   ]
  },
  {
   "cell_type": "code",
   "execution_count": 7,
   "id": "866e6e89-6b39-4775-81c4-99706cdf6223",
   "metadata": {},
   "outputs": [
    {
     "name": "stdout",
     "output_type": "stream",
     "text": [
      "10 20 \n",
      "30 40 \n",
      "50 60 \n"
     ]
    }
   ],
   "source": [
    "for i in a:\n",
    "    for j in i:\n",
    "        print(j, end=' ')\n",
    "    print()"
   ]
  },
  {
   "cell_type": "code",
   "execution_count": 23,
   "id": "06a9b1d0-a2df-4a65-8cf9-26cb21038190",
   "metadata": {},
   "outputs": [
    {
     "name": "stdout",
     "output_type": "stream",
     "text": [
      "[[10, 20],\n",
      " [30, 40],\n",
      " [50, 60]]\n"
     ]
    }
   ],
   "source": [
    "# 2차원 리스트를 보기 쉽게 출력하기\n",
    "from pprint import pprint\n",
    "pprint(a, indent=1, width=20)\n"
   ]
  },
  {
   "cell_type": "markdown",
   "id": "02689b64-ef9c-4202-a095-680b0c7aca45",
   "metadata": {},
   "source": [
    "## 2. while문에서 2차원 리스트 출력하기"
   ]
  },
  {
   "cell_type": "code",
   "execution_count": 13,
   "id": "fc89ecb3-f4a3-4971-a173-86762e83f92e",
   "metadata": {},
   "outputs": [
    {
     "name": "stdout",
     "output_type": "stream",
     "text": [
      "10 20 \n",
      "30 40 \n",
      "50 60 \n"
     ]
    }
   ],
   "source": [
    "i = 0\n",
    "while i < len(a):\n",
    "    j = 0\n",
    "    while j < len(a[i]):\n",
    "        print(a[i][j], end =' ')\n",
    "        j += 1\n",
    "    print()\n",
    "    i += 1"
   ]
  },
  {
   "cell_type": "markdown",
   "id": "b5f3c098-1eb4-41b0-86b0-81af5bf2ebdc",
   "metadata": {},
   "source": [
    "## 3.반복문으로 리스트 만들기"
   ]
  },
  {
   "cell_type": "markdown",
   "id": "24a0bb16-a37e-4382-a5a2-928581fc8719",
   "metadata": {},
   "source": [
    "### (1) for문으로 1차원 리스트 만들기"
   ]
  },
  {
   "cell_type": "code",
   "execution_count": 24,
   "id": "67ea2613-5f5d-477f-8474-dd0580d261e0",
   "metadata": {},
   "outputs": [
    {
     "name": "stdout",
     "output_type": "stream",
     "text": [
      "[0, 0, 0, 0, 0, 0, 0, 0, 0, 0]\n"
     ]
    }
   ],
   "source": [
    "a =[]\n",
    "for i in range(10):\n",
    "    a.append(0)\n",
    "print(a)"
   ]
  },
  {
   "cell_type": "markdown",
   "id": "66f21399-cfeb-4cec-b0e8-b880372a022f",
   "metadata": {},
   "source": [
    "### (2) for문으로 2차원 리스트 만들기"
   ]
  },
  {
   "cell_type": "code",
   "execution_count": 26,
   "id": "d85a0683-5335-4a06-89b3-52908cf9bbde",
   "metadata": {},
   "outputs": [
    {
     "name": "stdout",
     "output_type": "stream",
     "text": [
      "[[0, 0], [0, 0], [0, 0]]\n"
     ]
    }
   ],
   "source": [
    "\n",
    "a = []\n",
    "for i in range(3):\n",
    "    b = []\n",
    "    for j in range(2):\n",
    "        b.append(0)\n",
    "    a.append(b)\n",
    "print(a)"
   ]
  },
  {
   "cell_type": "markdown",
   "id": "445c420f-b2cd-4139-8ef9-c5582e01e0ab",
   "metadata": {},
   "source": [
    "### (3) 리스트 표현식으로 2차원 리스트 만들기"
   ]
  },
  {
   "cell_type": "code",
   "execution_count": 29,
   "id": "a107b19a-a9b7-4ca5-a992-c09dbb50c53f",
   "metadata": {},
   "outputs": [
    {
     "data": {
      "text/plain": [
       "[[0, 1], [0, 1], [0, 1]]"
      ]
     },
     "execution_count": 29,
     "metadata": {},
     "output_type": "execute_result"
    }
   ],
   "source": [
    "a = [[i for i in range(2)] for i in range(3)]\n",
    "a"
   ]
  },
  {
   "cell_type": "code",
   "execution_count": 30,
   "id": "bf6edbd9-9e18-4604-9423-3ea19df3d01b",
   "metadata": {},
   "outputs": [
    {
     "data": {
      "text/plain": [
       "[[0, 0], [0, 0], [0, 0]]"
      ]
     },
     "execution_count": 30,
     "metadata": {},
     "output_type": "execute_result"
    }
   ],
   "source": [
    "a = [[0]*2 for i in range(3)]\n",
    "a"
   ]
  },
  {
   "cell_type": "markdown",
   "id": "9dfcc582-04be-4110-a6c8-1c44f9bcf5ed",
   "metadata": {},
   "source": [
    "### (4) 톱니형 리스트 만들기\n"
   ]
  },
  {
   "cell_type": "code",
   "execution_count": 31,
   "id": "1a72dcb5-c98a-47b3-a271-265fab1f8aae",
   "metadata": {},
   "outputs": [
    {
     "name": "stdout",
     "output_type": "stream",
     "text": [
      "[[0, 0, 0], [0, 0], [0, 0, 0], [0, 0, 0, 0], [0, 0, 0, 0, 0]]\n"
     ]
    }
   ],
   "source": [
    "a = [3, 2, 3, 4, 5]\n",
    "b = []\n",
    "for i in a:\n",
    "    c = []\n",
    "    for j in range(i):\n",
    "        c.append(0)\n",
    "    b.append(c)\n",
    "print(b)"
   ]
  },
  {
   "cell_type": "code",
   "execution_count": 33,
   "id": "a0edb2dd-e3d1-4e2c-bdb3-0a12b4da51df",
   "metadata": {},
   "outputs": [
    {
     "name": "stdout",
     "output_type": "stream",
     "text": [
      "[[0, 0, 0], [0, 0], [0, 0, 0], [0, 0, 0, 0], [0, 0, 0, 0, 0]]\n"
     ]
    }
   ],
   "source": [
    "# 톱니형 리스트를 for문장 하나로 만들기\n",
    "a = [3, 2, 3, 4, 5]\n",
    "b = [[0] * i for i in a]\n",
    "print(b)"
   ]
  },
  {
   "cell_type": "markdown",
   "id": "73584588-508c-4dac-9dd2-7433b4109e98",
   "metadata": {},
   "source": [
    "## 4. 2차원 리스트의 할당과 복사"
   ]
  },
  {
   "cell_type": "code",
   "execution_count": 34,
   "id": "9d1e417d-15d2-4511-a7af-f4ea8542261c",
   "metadata": {},
   "outputs": [
    {
     "data": {
      "text/plain": [
       "[[500, 20], [30, 40]]"
      ]
     },
     "execution_count": 34,
     "metadata": {},
     "output_type": "execute_result"
    }
   ],
   "source": [
    "a = [[10, 20], [30, 40]]\n",
    "b = a\n",
    "a[0][0] = 500\n",
    "b"
   ]
  },
  {
   "cell_type": "code",
   "execution_count": 37,
   "id": "90613e13-8503-4760-a431-96af26d9d464",
   "metadata": {},
   "outputs": [
    {
     "data": {
      "text/plain": [
       "[[500, 20], [30, 40]]"
      ]
     },
     "execution_count": 37,
     "metadata": {},
     "output_type": "execute_result"
    }
   ],
   "source": [
    "# copy() 를 사용한 2차원 리스트 복사\n",
    "a = [[10, 20], [30, 40]]\n",
    "b = a.copy()\n",
    "b[0][0] = 500  #a,b 모두 수정됨\n",
    "a"
   ]
  },
  {
   "cell_type": "code",
   "execution_count": 38,
   "id": "320d4eda-c4e1-46e4-a631-96bcfe49c778",
   "metadata": {},
   "outputs": [
    {
     "name": "stdout",
     "output_type": "stream",
     "text": [
      "[[10, 20], [30, 40]]\n"
     ]
    }
   ],
   "source": [
    "# 2차원 리스트를 별개의 객체르 만들려면\n",
    "a = [[10, 20], [30, 40]]\n",
    "\n",
    "import copy\n",
    "b = copy.deepcopy(a)\n",
    "print(a)"
   ]
  },
  {
   "cell_type": "code",
   "execution_count": 39,
   "id": "b94da8e3-4281-45b9-ba79-6e78966d88be",
   "metadata": {},
   "outputs": [
    {
     "name": "stdout",
     "output_type": "stream",
     "text": [
      "[[10, 20], [30, 40]]\n"
     ]
    }
   ],
   "source": [
    "print(b)"
   ]
  },
  {
   "cell_type": "code",
   "execution_count": 40,
   "id": "22cdd65a-f7db-4e05-a814-34d8cb0348ba",
   "metadata": {},
   "outputs": [
    {
     "data": {
      "text/plain": [
       "[[500, 20], [30, 40]]"
      ]
     },
     "execution_count": 40,
     "metadata": {},
     "output_type": "execute_result"
    }
   ],
   "source": [
    "b[0][0] = 500\n",
    "b"
   ]
  },
  {
   "cell_type": "code",
   "execution_count": 41,
   "id": "d8cb3883-54ce-4377-a20f-05b3a718fc99",
   "metadata": {},
   "outputs": [
    {
     "data": {
      "text/plain": [
       "[[10, 20], [30, 40]]"
      ]
     },
     "execution_count": 41,
     "metadata": {},
     "output_type": "execute_result"
    }
   ],
   "source": [
    "a"
   ]
  },
  {
   "cell_type": "markdown",
   "id": "239f106f-5e36-4235-87a7-c9463bbad8e4",
   "metadata": {},
   "source": [
    "### <연습문제>\n",
    "#### 높이 2, 세로크기 4(행의 수), 가로크기 3(열의 수)인 3차원 리스트를 표현식을 사용하여 작성"
   ]
  },
  {
   "cell_type": "code",
   "execution_count": 2,
   "id": "247562c3-b63b-42b9-b283-8e3b74d20632",
   "metadata": {},
   "outputs": [
    {
     "data": {
      "text/plain": [
       "[[[0, 1, 2], [0, 1, 2], [0, 1, 2], [0, 1, 2]],\n",
       " [[0, 1, 2], [0, 1, 2], [0, 1, 2], [0, 1, 2]]]"
      ]
     },
     "execution_count": 2,
     "metadata": {},
     "output_type": "execute_result"
    }
   ],
   "source": [
    "a = [[[i for i in range(3)] for i in range(4)] for depth in range(2)]\n",
    "a"
   ]
  },
  {
   "cell_type": "code",
   "execution_count": null,
   "id": "0c305dbb-48e2-477b-a1bf-4cd3fbf2bb3d",
   "metadata": {},
   "outputs": [],
   "source": []
  }
 ],
 "metadata": {
  "kernelspec": {
   "display_name": "Python 3 (ipykernel)",
   "language": "python",
   "name": "python3"
  },
  "language_info": {
   "codemirror_mode": {
    "name": "ipython",
    "version": 3
   },
   "file_extension": ".py",
   "mimetype": "text/x-python",
   "name": "python",
   "nbconvert_exporter": "python",
   "pygments_lexer": "ipython3",
   "version": "3.11.7"
  }
 },
 "nbformat": 4,
 "nbformat_minor": 5
}
