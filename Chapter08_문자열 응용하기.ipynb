{
 "cells": [
  {
   "cell_type": "markdown",
   "id": "96f8aa6e-a886-445b-b046-415716f6bb4c",
   "metadata": {},
   "source": [
    "# 문자열 조작하기"
   ]
  },
  {
   "cell_type": "markdown",
   "id": "590ad8ff-b1c7-4ac7-a12e-cbf910be3271",
   "metadata": {},
   "source": [
    "### (1) 문자열 바꾸기"
   ]
  },
  {
   "cell_type": "code",
   "execution_count": 1,
   "id": "50265b10-efd5-40cc-b766-5834e5b1793c",
   "metadata": {},
   "outputs": [
    {
     "data": {
      "text/plain": [
       "'Hello, Python!'"
      ]
     },
     "execution_count": 1,
     "metadata": {},
     "output_type": "execute_result"
    }
   ],
   "source": [
    "'Hello, world!'.replace('world','Python')"
   ]
  },
  {
   "cell_type": "code",
   "execution_count": 2,
   "id": "030a18e2-08aa-4b8e-84de-084e760ad456",
   "metadata": {},
   "outputs": [
    {
     "data": {
      "text/plain": [
       "'Hello, Python'"
      ]
     },
     "execution_count": 2,
     "metadata": {},
     "output_type": "execute_result"
    }
   ],
   "source": [
    "s = 'Hello, world'\n",
    "s = s.replace('world','Python')\n",
    "s"
   ]
  },
  {
   "cell_type": "markdown",
   "id": "0361a90a-4637-4806-a792-551ceb32039f",
   "metadata": {},
   "source": [
    "### (2) 문자 바꾸기"
   ]
  },
  {
   "cell_type": "code",
   "execution_count": 3,
   "id": "2942c74e-57ff-42ee-8e29-ffaee1b5c2f1",
   "metadata": {},
   "outputs": [
    {
     "data": {
      "text/plain": [
       "'1ppl2'"
      ]
     },
     "execution_count": 3,
     "metadata": {},
     "output_type": "execute_result"
    }
   ],
   "source": [
    "# 변환 테이블 만들기\n",
    "# a -> 1, e -> 2 ...\n",
    "table = str.maketrans('aeiou','12345')\n",
    "'apple'.translate(table)"
   ]
  },
  {
   "cell_type": "markdown",
   "id": "2a69c2a0-c790-4b1d-b837-503db561b729",
   "metadata": {},
   "source": [
    "## (3) 문자열 분리하기"
   ]
  },
  {
   "cell_type": "code",
   "execution_count": 5,
   "id": "c8f62698-a809-44d6-aab2-6e0b5839743c",
   "metadata": {},
   "outputs": [
    {
     "data": {
      "text/plain": [
       "['apple', 'pear', 'pineapple', 'banana', 'orange']"
      ]
     },
     "execution_count": 5,
     "metadata": {},
     "output_type": "execute_result"
    }
   ],
   "source": [
    "# split() - 기본적으로 공백을 기분으로 문자열 분리\n",
    "'apple pear pineapple banana orange'.split()"
   ]
  },
  {
   "cell_type": "code",
   "execution_count": 6,
   "id": "75c8682e-b681-4dad-88e4-ca442930ff57",
   "metadata": {},
   "outputs": [
    {
     "data": {
      "text/plain": [
       "['apple', 'pear', 'pineapple', 'banana', 'orange']"
      ]
     },
     "execution_count": 6,
     "metadata": {},
     "output_type": "execute_result"
    }
   ],
   "source": [
    "'apple, pear, pineapple, banana, orange'.split(', ')"
   ]
  },
  {
   "cell_type": "markdown",
   "id": "1101b681-07d2-4d4e-9181-d64cc4a33223",
   "metadata": {},
   "source": [
    "### (4) 문자열 리스트를 구분자로 구분한 문자열 만들기"
   ]
  },
  {
   "cell_type": "code",
   "execution_count": 7,
   "id": "eef2b242-b4de-4431-85eb-1b7501d9efab",
   "metadata": {},
   "outputs": [
    {
     "data": {
      "text/plain": [
       "'apple pear pineapple banana orange'"
      ]
     },
     "execution_count": 7,
     "metadata": {},
     "output_type": "execute_result"
    }
   ],
   "source": [
    "' '.join(['apple', 'pear', 'pineapple', 'banana', 'orange'])"
   ]
  },
  {
   "cell_type": "markdown",
   "id": "afc10867-b0cf-4e6e-b582-62eeb6eb8221",
   "metadata": {},
   "source": [
    "### (5) 소문자를 대문자로 바꾸기"
   ]
  },
  {
   "cell_type": "code",
   "execution_count": 8,
   "id": "054e180b-4d06-4c7b-befd-bef454dacf49",
   "metadata": {},
   "outputs": [
    {
     "data": {
      "text/plain": [
       "'PYTHON'"
      ]
     },
     "execution_count": 8,
     "metadata": {},
     "output_type": "execute_result"
    }
   ],
   "source": [
    "'python'.upper()"
   ]
  },
  {
   "cell_type": "markdown",
   "id": "d1d930dd-7473-46f1-b337-87a81ed069e2",
   "metadata": {},
   "source": [
    "## (6) 대문자를 소문자로 바꾸기"
   ]
  },
  {
   "cell_type": "code",
   "execution_count": 9,
   "id": "4a92ac60-4f80-4b96-8d4b-73d571ad1431",
   "metadata": {},
   "outputs": [
    {
     "data": {
      "text/plain": [
       "'python'"
      ]
     },
     "execution_count": 9,
     "metadata": {},
     "output_type": "execute_result"
    }
   ],
   "source": [
    "'PYTHON'.lower()"
   ]
  },
  {
   "cell_type": "markdown",
   "id": "91cedcec-b7bb-4aad-a0cb-e282fab563c2",
   "metadata": {},
   "source": [
    "### (7) 왼쪽 공백 삭제하기"
   ]
  },
  {
   "cell_type": "code",
   "execution_count": 10,
   "id": "58d9da1a-8ef3-40a2-ac22-ba214638277d",
   "metadata": {},
   "outputs": [
    {
     "data": {
      "text/plain": [
       "'Python    '"
      ]
     },
     "execution_count": 10,
     "metadata": {},
     "output_type": "execute_result"
    }
   ],
   "source": [
    "'   Python    '.lstrip()"
   ]
  },
  {
   "cell_type": "markdown",
   "id": "cc4be567-c58a-43be-a73d-19bb30c7dc5f",
   "metadata": {},
   "source": [
    "### (8) 오른쪽 공백 삭제하기"
   ]
  },
  {
   "cell_type": "code",
   "execution_count": 11,
   "id": "517d8ea9-0af5-46f4-8ed3-61762687ad68",
   "metadata": {},
   "outputs": [
    {
     "data": {
      "text/plain": [
       "'   Python'"
      ]
     },
     "execution_count": 11,
     "metadata": {},
     "output_type": "execute_result"
    }
   ],
   "source": [
    "'   Python    '.rstrip()"
   ]
  },
  {
   "cell_type": "markdown",
   "id": "c3519ff1-b7a1-48ce-b57a-6853c3be4f9a",
   "metadata": {},
   "source": [
    "### (9) 양쪽 공백 삭제하기"
   ]
  },
  {
   "cell_type": "code",
   "execution_count": 12,
   "id": "e6dbfe2b-599f-46cb-98f7-b70b02722701",
   "metadata": {},
   "outputs": [
    {
     "data": {
      "text/plain": [
       "'Python'"
      ]
     },
     "execution_count": 12,
     "metadata": {},
     "output_type": "execute_result"
    }
   ],
   "source": [
    "'   Python    '.strip()"
   ]
  },
  {
   "cell_type": "markdown",
   "id": "aae82998-b6f8-436a-bc67-3313654025ff",
   "metadata": {},
   "source": [
    "### (10) 왼쪽의 특정 문자 삭제하기"
   ]
  },
  {
   "cell_type": "code",
   "execution_count": 13,
   "id": "6ab9651c-a6d1-42e7-99e7-e0a6e49fbba9",
   "metadata": {},
   "outputs": [
    {
     "data": {
      "text/plain": [
       "'   Python.    '"
      ]
     },
     "execution_count": 13,
     "metadata": {},
     "output_type": "execute_result"
    }
   ],
   "source": [
    "',   Python.    '.lstrip(',.')"
   ]
  },
  {
   "cell_type": "markdown",
   "id": "d06edf64-96a5-41ad-baa2-ef7b20880210",
   "metadata": {},
   "source": [
    "### (11) 오른쪽의 특정 문자 삭제하기"
   ]
  },
  {
   "cell_type": "code",
   "execution_count": 20,
   "id": "c0b88fef-e354-4417-b455-c74b5f41ef96",
   "metadata": {},
   "outputs": [
    {
     "data": {
      "text/plain": [
       "',   Python'"
      ]
     },
     "execution_count": 20,
     "metadata": {},
     "output_type": "execute_result"
    }
   ],
   "source": [
    "',   Python.'.rstrip(',.')"
   ]
  },
  {
   "cell_type": "markdown",
   "id": "ab846102-fde4-46eb-b4ce-47f46f18e6e5",
   "metadata": {},
   "source": [
    "### (12) 양쪽의 특정 문자 삭제하기"
   ]
  },
  {
   "cell_type": "code",
   "execution_count": 21,
   "id": "69e2b313-d1b7-4eb0-a3a4-ab6912ada74d",
   "metadata": {},
   "outputs": [
    {
     "data": {
      "text/plain": [
       "' Python'"
      ]
     },
     "execution_count": 21,
     "metadata": {},
     "output_type": "execute_result"
    }
   ],
   "source": [
    "', Python.'.strip(',.')"
   ]
  },
  {
   "cell_type": "markdown",
   "id": "6d347aa6-dc07-4877-9b11-ab99d614fb21",
   "metadata": {},
   "source": [
    "## 2. 문자열 정렬하기"
   ]
  },
  {
   "cell_type": "markdown",
   "id": "5c8abd81-6c0d-405d-a1a0-ec9146f686b7",
   "metadata": {},
   "source": [
    "### (1) 문자열 왼쪽 정렬하기"
   ]
  },
  {
   "cell_type": "code",
   "execution_count": 22,
   "id": "13ef4caf-9df0-45cc-91d4-431ef9ebc633",
   "metadata": {},
   "outputs": [
    {
     "data": {
      "text/plain": [
       "'python    '"
      ]
     },
     "execution_count": 22,
     "metadata": {},
     "output_type": "execute_result"
    }
   ],
   "source": [
    "# 출력할 글자수를 지정한 후에 왼쪽 정렬\n",
    "'python'.ljust(10)"
   ]
  },
  {
   "cell_type": "markdown",
   "id": "8a9d7867-b488-469d-9425-9eea5e59e0fc",
   "metadata": {},
   "source": [
    "### (2) 문자열 오른쪽 정렬하기"
   ]
  },
  {
   "cell_type": "code",
   "execution_count": 23,
   "id": "21dfd2d6-9d7c-4c79-b349-1a80e5e10bff",
   "metadata": {},
   "outputs": [
    {
     "data": {
      "text/plain": [
       "'    python'"
      ]
     },
     "execution_count": 23,
     "metadata": {},
     "output_type": "execute_result"
    }
   ],
   "source": [
    "'python'.rjust(10)"
   ]
  },
  {
   "cell_type": "markdown",
   "id": "c5ae2efa-e7c1-4216-bf62-85bc5c0315a8",
   "metadata": {},
   "source": [
    "### (3) 문자열 가운데 정렬하기"
   ]
  },
  {
   "cell_type": "code",
   "execution_count": 24,
   "id": "51803d72-06c9-4131-a5b3-3014dd2d448d",
   "metadata": {},
   "outputs": [
    {
     "data": {
      "text/plain": [
       "'  Python  '"
      ]
     },
     "execution_count": 24,
     "metadata": {},
     "output_type": "execute_result"
    }
   ],
   "source": [
    "'Python'.center(10)"
   ]
  },
  {
   "cell_type": "markdown",
   "id": "4913b994-153b-4218-a8a8-0038e31d0a2a",
   "metadata": {},
   "source": [
    "## 3. 메소드 체이닝"
   ]
  },
  {
   "cell_type": "code",
   "execution_count": 25,
   "id": "56721c6b-5d66-40f4-9832-80906ce5c311",
   "metadata": {},
   "outputs": [
    {
     "data": {
      "text/plain": [
       "'PYTHON    '"
      ]
     },
     "execution_count": 25,
     "metadata": {},
     "output_type": "execute_result"
    }
   ],
   "source": [
    "# 메소드를 계속 연결해서 호출\n",
    "'python'.upper().ljust(10)"
   ]
  },
  {
   "cell_type": "markdown",
   "id": "0cc0244d-9eed-429d-bb85-e5b18f20fbb3",
   "metadata": {},
   "source": [
    "## 4. 문자열 앞뒤에 문자 채우기"
   ]
  },
  {
   "cell_type": "markdown",
   "id": "9185b521-a2fd-46eb-906a-8ab7572db9f3",
   "metadata": {},
   "source": [
    "### (1) 문자열 왼쪽에 0채우기"
   ]
  },
  {
   "cell_type": "code",
   "execution_count": 27,
   "id": "71ba1acd-559d-4e19-9c90-c11c53d81207",
   "metadata": {},
   "outputs": [
    {
     "data": {
      "text/plain": [
       "'0035'"
      ]
     },
     "execution_count": 27,
     "metadata": {},
     "output_type": "execute_result"
    }
   ],
   "source": [
    "# 문자열의 크기를 4자리로 정하고 왼쪽에 0 채우기\n",
    "'35'.zfill(4)"
   ]
  },
  {
   "cell_type": "code",
   "execution_count": 28,
   "id": "86856cd6-a830-4011-95f2-dd7969d48daa",
   "metadata": {},
   "outputs": [
    {
     "data": {
      "text/plain": [
       "'0003.5'"
      ]
     },
     "execution_count": 28,
     "metadata": {},
     "output_type": "execute_result"
    }
   ],
   "source": [
    "'3.5'.zfill(6)"
   ]
  },
  {
   "cell_type": "code",
   "execution_count": 29,
   "id": "97d948f9-dd08-471c-a760-a0e428d14324",
   "metadata": {},
   "outputs": [
    {
     "data": {
      "text/plain": [
       "'00000hello'"
      ]
     },
     "execution_count": 29,
     "metadata": {},
     "output_type": "execute_result"
    }
   ],
   "source": [
    "'hello'.zfill(10)"
   ]
  },
  {
   "cell_type": "markdown",
   "id": "b657838d-cd88-4be6-a783-dea2715f02f6",
   "metadata": {},
   "source": [
    "## 5. 문자열 위치 찾기"
   ]
  },
  {
   "cell_type": "markdown",
   "id": "8ff3c065-2932-4fb6-81ae-3670e7efb50e",
   "metadata": {},
   "source": [
    "### (1) find('찾을 문자열'), index('찾을 문자열')"
   ]
  },
  {
   "cell_type": "code",
   "execution_count": 30,
   "id": "f0ffdaf1-b71e-407d-8b91-d5a608de27b0",
   "metadata": {},
   "outputs": [
    {
     "data": {
      "text/plain": [
       "2"
      ]
     },
     "execution_count": 30,
     "metadata": {},
     "output_type": "execute_result"
    }
   ],
   "source": [
    "'apple pineapple'.find('pl')"
   ]
  },
  {
   "cell_type": "code",
   "execution_count": 35,
   "id": "2b053c13-cb60-4e94-992d-6198615b6c13",
   "metadata": {},
   "outputs": [
    {
     "data": {
      "text/plain": [
       "2"
      ]
     },
     "execution_count": 35,
     "metadata": {},
     "output_type": "execute_result"
    }
   ],
   "source": [
    "'apple pineapple'.index('pl')"
   ]
  },
  {
   "cell_type": "code",
   "execution_count": 32,
   "id": "04e00fdb-113d-49b8-a4de-9253501f4823",
   "metadata": {},
   "outputs": [
    {
     "data": {
      "text/plain": [
       "-1"
      ]
     },
     "execution_count": 32,
     "metadata": {},
     "output_type": "execute_result"
    }
   ],
   "source": [
    "# 찾을 문자열이 없을 경우 -1을 반환\n",
    "'apple pineapple'.find('abc')"
   ]
  },
  {
   "cell_type": "markdown",
   "id": "2ddf943b-124f-4ac6-9818-dac5f3fc3672",
   "metadata": {},
   "source": [
    "### (2) 오른쪽에서부터 문자열 찾기, rfind('찾을 문자열') ,rindex('찾을 문자열')"
   ]
  },
  {
   "cell_type": "code",
   "execution_count": 36,
   "id": "9ad6ecf2-7b4f-478a-99dd-b87c34378e63",
   "metadata": {},
   "outputs": [
    {
     "data": {
      "text/plain": [
       "12"
      ]
     },
     "execution_count": 36,
     "metadata": {},
     "output_type": "execute_result"
    }
   ],
   "source": [
    "'apple pineapple'.rfind('pl')"
   ]
  },
  {
   "cell_type": "code",
   "execution_count": 37,
   "id": "946a18b5-b427-4dee-bb6b-b5ba2d5ef088",
   "metadata": {},
   "outputs": [
    {
     "data": {
      "text/plain": [
       "12"
      ]
     },
     "execution_count": 37,
     "metadata": {},
     "output_type": "execute_result"
    }
   ],
   "source": [
    "'apple pineapple'.rindex('pl')"
   ]
  },
  {
   "cell_type": "markdown",
   "id": "7da4235a-05a5-46e5-a44e-70d1bf9833e3",
   "metadata": {},
   "source": [
    "## 6. 문자열 갯수 세기"
   ]
  },
  {
   "cell_type": "code",
   "execution_count": 38,
   "id": "d54de329-adf5-4e9c-8de2-fac55db48b1e",
   "metadata": {},
   "outputs": [
    {
     "data": {
      "text/plain": [
       "2"
      ]
     },
     "execution_count": 38,
     "metadata": {},
     "output_type": "execute_result"
    }
   ],
   "source": [
    "'apple pineapple'.count('ap')"
   ]
  },
  {
   "cell_type": "markdown",
   "id": "426313ff-c652-4104-9ae1-1277d9e878ac",
   "metadata": {},
   "source": [
    "## 7. 문자열 서식 지정"
   ]
  },
  {
   "cell_type": "markdown",
   "id": "ac7c33fe-661f-49a6-bfe9-2c40b1dd2b91",
   "metadata": {},
   "source": [
    "### (1) 문자열 서식 지정 %s"
   ]
  },
  {
   "cell_type": "code",
   "execution_count": 39,
   "id": "72083c97-2a0a-4246-8568-f38c9110e5df",
   "metadata": {},
   "outputs": [
    {
     "data": {
      "text/plain": [
       "'I am tom.'"
      ]
     },
     "execution_count": 39,
     "metadata": {},
     "output_type": "execute_result"
    }
   ],
   "source": [
    "'I am %s.' % 'tom'"
   ]
  },
  {
   "cell_type": "code",
   "execution_count": 40,
   "id": "2fd24a4a-80aa-42c4-904e-d78f10beb237",
   "metadata": {},
   "outputs": [
    {
     "data": {
      "text/plain": [
       "'I am tom.'"
      ]
     },
     "execution_count": 40,
     "metadata": {},
     "output_type": "execute_result"
    }
   ],
   "source": [
    "name = 'tom'\n",
    "'I am %s.' % name"
   ]
  },
  {
   "cell_type": "markdown",
   "id": "1329e730-5eab-4fc1-a3fa-8bab1ce0827f",
   "metadata": {},
   "source": [
    "### (2) 숫자 서식 지정 %d"
   ]
  },
  {
   "cell_type": "code",
   "execution_count": 41,
   "id": "11c12d53-5cbe-4eb8-becb-d6c7423db133",
   "metadata": {},
   "outputs": [
    {
     "data": {
      "text/plain": [
       "'I am 20 years old.'"
      ]
     },
     "execution_count": 41,
     "metadata": {},
     "output_type": "execute_result"
    }
   ],
   "source": [
    "'I am %d years old.' % 20"
   ]
  },
  {
   "cell_type": "markdown",
   "id": "e348f44b-132f-426e-b3b7-6de8e8fa54d5",
   "metadata": {},
   "source": [
    "### (3) 부동 소수 서식 지정 %f"
   ]
  },
  {
   "cell_type": "code",
   "execution_count": 42,
   "id": "95cbd19e-1af4-439e-9963-e270716ce274",
   "metadata": {},
   "outputs": [
    {
     "data": {
      "text/plain": [
       "'3.500000'"
      ]
     },
     "execution_count": 42,
     "metadata": {},
     "output_type": "execute_result"
    }
   ],
   "source": [
    "# 소수이하 자릿수는 기본 6자리\n",
    "'%f' % 3.5"
   ]
  },
  {
   "cell_type": "code",
   "execution_count": 1,
   "id": "adb31cfb-d051-4182-a710-152d406df2c7",
   "metadata": {},
   "outputs": [
    {
     "data": {
      "text/plain": [
       "'3.500'"
      ]
     },
     "execution_count": 1,
     "metadata": {},
     "output_type": "execute_result"
    }
   ],
   "source": [
    "'%.3f' % 3.5"
   ]
  },
  {
   "cell_type": "markdown",
   "id": "1476f1e8-b079-46f0-b90e-b3d145430588",
   "metadata": {},
   "source": [
    "### (4) 서식 지정자로 문자열 정렬 : %길이s"
   ]
  },
  {
   "cell_type": "code",
   "execution_count": 45,
   "id": "79c33265-4803-4b18-953e-b0377955858f",
   "metadata": {},
   "outputs": [
    {
     "data": {
      "text/plain": [
       "'    python'"
      ]
     },
     "execution_count": 45,
     "metadata": {},
     "output_type": "execute_result"
    }
   ],
   "source": [
    "'%10s' % 'python' # 오른쪽 정렬"
   ]
  },
  {
   "cell_type": "code",
   "execution_count": 46,
   "id": "9f0d1688-b342-4961-8384-42c0806bb32b",
   "metadata": {},
   "outputs": [
    {
     "data": {
      "text/plain": [
       "'python    '"
      ]
     },
     "execution_count": 46,
     "metadata": {},
     "output_type": "execute_result"
    }
   ],
   "source": [
    "'%-10s' % 'python' #왼쪽 정렬"
   ]
  },
  {
   "cell_type": "markdown",
   "id": "7e092bc5-f765-4d2a-95a6-371e78a61441",
   "metadata": {},
   "source": [
    "### (5) 숫자에 자릿수 정하기"
   ]
  },
  {
   "cell_type": "code",
   "execution_count": 47,
   "id": "857eaa28-90dd-43b7-b067-8932659fe3f1",
   "metadata": {},
   "outputs": [
    {
     "data": {
      "text/plain": [
       "'       150'"
      ]
     },
     "execution_count": 47,
     "metadata": {},
     "output_type": "execute_result"
    }
   ],
   "source": [
    "'%10d' % 150"
   ]
  },
  {
   "cell_type": "code",
   "execution_count": 49,
   "id": "89520ce7-3272-4c0a-870d-09d33ec27688",
   "metadata": {},
   "outputs": [
    {
     "data": {
      "text/plain": [
       "'      3.50'"
      ]
     },
     "execution_count": 49,
     "metadata": {},
     "output_type": "execute_result"
    }
   ],
   "source": [
    "'%10.2f' % 3.5 # 소수 점 포함하여 10자리 확보"
   ]
  },
  {
   "cell_type": "markdown",
   "id": "641970be-b886-4d1c-968a-08267cfd937b",
   "metadata": {},
   "source": [
    "### (6) 여러 개의 서식 지정자 사용하기"
   ]
  },
  {
   "cell_type": "code",
   "execution_count": 50,
   "id": "ea7d643b-52cc-412f-a69e-c76cb468d750",
   "metadata": {},
   "outputs": [
    {
     "data": {
      "text/plain": [
       "'My name is tom. I am 25 years old.'"
      ]
     },
     "execution_count": 50,
     "metadata": {},
     "output_type": "execute_result"
    }
   ],
   "source": [
    "'My name is %s. I am %d years old.' % ('tom',25)"
   ]
  },
  {
   "cell_type": "markdown",
   "id": "cc620e26-9624-41d1-9143-fee186aafa36",
   "metadata": {},
   "source": [
    "# 8. format() 메소드 사용"
   ]
  },
  {
   "cell_type": "code",
   "execution_count": 51,
   "id": "f2c5e527-38ae-4029-bfd3-4e5283db2fc3",
   "metadata": {},
   "outputs": [
    {
     "data": {
      "text/plain": [
       "'Hello, world'"
      ]
     },
     "execution_count": 51,
     "metadata": {},
     "output_type": "execute_result"
    }
   ],
   "source": [
    "'Hello, {0}'.format('world')"
   ]
  },
  {
   "cell_type": "markdown",
   "id": "c8ebc252-c31a-4b26-9cc4-f90755915311",
   "metadata": {},
   "source": [
    "### 여러개 값 넣기"
   ]
  },
  {
   "cell_type": "code",
   "execution_count": 53,
   "id": "f9df5cf8-99e8-4e00-a20e-b61c694693a1",
   "metadata": {},
   "outputs": [
    {
     "data": {
      "text/plain": [
       "'Hello, Python 3.11 Script'"
      ]
     },
     "execution_count": 53,
     "metadata": {},
     "output_type": "execute_result"
    }
   ],
   "source": [
    "# 인덱스의 번호에 따라 출력\n",
    "'Hello, {0} {2} {1}'.format('Python','Script',3.11)"
   ]
  },
  {
   "cell_type": "markdown",
   "id": "2dff6ca9-5411-45b0-93d3-ec9e78adf852",
   "metadata": {},
   "source": [
    "### (2)동일한 값을 여러 개 넣기"
   ]
  },
  {
   "cell_type": "code",
   "execution_count": 54,
   "id": "7d7f36fd-f95b-4c60-b66f-cb20aef3f7e6",
   "metadata": {},
   "outputs": [
    {
     "data": {
      "text/plain": [
       "'Hello Python Python Python'"
      ]
     },
     "execution_count": 54,
     "metadata": {},
     "output_type": "execute_result"
    }
   ],
   "source": [
    "'Hello {0} {0} {0}'.format('Python')"
   ]
  },
  {
   "cell_type": "markdown",
   "id": "e9ede44c-8fe5-4288-a25c-9d94842fc1a7",
   "metadata": {},
   "source": [
    "### (3) format()에서 인덱스 생략하기"
   ]
  },
  {
   "cell_type": "code",
   "execution_count": 55,
   "id": "fa8a1029-7656-447f-a6a0-906a91313135",
   "metadata": {},
   "outputs": [
    {
     "data": {
      "text/plain": [
       "'Hello, Python Script 3.11'"
      ]
     },
     "execution_count": 55,
     "metadata": {},
     "output_type": "execute_result"
    }
   ],
   "source": [
    "# 인덱스 생략 시 순서대로 값이 들어감\n",
    "'Hello, {} {} {}'.format('Python' , 'Script', 3.11)"
   ]
  },
  {
   "cell_type": "markdown",
   "id": "af1b1c17-d7e1-4ffc-ab89-42d4c88dde46",
   "metadata": {},
   "source": [
    "### (4) 인덱스 대신 이름 지정하기"
   ]
  },
  {
   "cell_type": "code",
   "execution_count": 56,
   "id": "d7c35400-fba7-4521-b623-d8e27deaba80",
   "metadata": {},
   "outputs": [
    {
     "data": {
      "text/plain": [
       "'Hello, Python 3.11'"
      ]
     },
     "execution_count": 56,
     "metadata": {},
     "output_type": "execute_result"
    }
   ],
   "source": [
    "'Hello, {language} {version}'.format(language = 'Python', version = 3.11)"
   ]
  },
  {
   "cell_type": "markdown",
   "id": "71fe9782-f8ab-4b28-9d1d-096ecf5adeb4",
   "metadata": {},
   "source": [
    "### <span style = 'color:red'>(5) 문자열 포매팅에 변수 사용"
   ]
  },
  {
   "cell_type": "code",
   "execution_count": 57,
   "id": "8f168db0-c023-41db-a82b-f681362f4d52",
   "metadata": {},
   "outputs": [
    {
     "data": {
      "text/plain": [
       "'Hello, Python 3.11'"
      ]
     },
     "execution_count": 57,
     "metadata": {},
     "output_type": "execute_result"
    }
   ],
   "source": [
    "language = 'Python' \n",
    "version = 3.11\n",
    "f'Hello, {language} {version}'"
   ]
  },
  {
   "cell_type": "markdown",
   "id": "7cf82ff4-04a5-4d00-a9fc-422cd310f6f9",
   "metadata": {},
   "source": [
    "### (6) format() 으로 문자열 정렬하기"
   ]
  },
  {
   "cell_type": "markdown",
   "id": "e6305732-041e-40d3-ada9-558220a9858b",
   "metadata": {},
   "source": [
    "#### '{인덱스:정렬방향(<,>)길이}'.format(값)"
   ]
  },
  {
   "cell_type": "code",
   "execution_count": 60,
   "id": "a85bc050-208e-4e83-9fed-82be05ae7098",
   "metadata": {},
   "outputs": [
    {
     "data": {
      "text/plain": [
       "'    Python'"
      ]
     },
     "execution_count": 60,
     "metadata": {},
     "output_type": "execute_result"
    }
   ],
   "source": [
    "'{0:>10}'.format('Python')"
   ]
  },
  {
   "cell_type": "code",
   "execution_count": 61,
   "id": "d53a93c4-66e3-4d87-810f-3e0f3c6b077c",
   "metadata": {},
   "outputs": [
    {
     "data": {
      "text/plain": [
       "'    Python'"
      ]
     },
     "execution_count": 61,
     "metadata": {},
     "output_type": "execute_result"
    }
   ],
   "source": [
    "# 인덱스를 생략하는 경우\n",
    "'{:>10}'.format('Python')"
   ]
  },
  {
   "cell_type": "markdown",
   "id": "8fdaa518-9e40-41d8-8591-623fe916aae7",
   "metadata": {},
   "source": [
    "## (7) 빈자리에 0을 채우기"
   ]
  },
  {
   "cell_type": "code",
   "execution_count": 62,
   "id": "36f7e686-d7a5-428b-a46b-6b67c0f06daa",
   "metadata": {},
   "outputs": [
    {
     "data": {
      "text/plain": [
       "'00123'"
      ]
     },
     "execution_count": 62,
     "metadata": {},
     "output_type": "execute_result"
    }
   ],
   "source": [
    "'%05d' % 123"
   ]
  },
  {
   "cell_type": "code",
   "execution_count": 63,
   "id": "b0a482e5-fae1-43b3-96d4-b5a9b44d6a81",
   "metadata": {},
   "outputs": [
    {
     "data": {
      "text/plain": [
       "'00123'"
      ]
     },
     "execution_count": 63,
     "metadata": {},
     "output_type": "execute_result"
    }
   ],
   "source": [
    "'{0:05d}'.format(123)"
   ]
  },
  {
   "cell_type": "code",
   "execution_count": 64,
   "id": "e6ea87cc-6ce1-430f-8d7b-e14fd87a7fb1",
   "metadata": {},
   "outputs": [
    {
     "data": {
      "text/plain": [
       "'00123.45'"
      ]
     },
     "execution_count": 64,
     "metadata": {},
     "output_type": "execute_result"
    }
   ],
   "source": [
    "'{0:08.2f}'.format(123.45)"
   ]
  },
  {
   "cell_type": "markdown",
   "id": "ee264a64-0e0c-4f26-a052-dc088c743fa8",
   "metadata": {},
   "source": [
    "### (8) 천단위로 콤마 찍기"
   ]
  },
  {
   "cell_type": "code",
   "execution_count": 65,
   "id": "7ad477b2-a483-4fde-8882-9a8b7d68d8c5",
   "metadata": {},
   "outputs": [
    {
     "data": {
      "text/plain": [
       "'12,345,600'"
      ]
     },
     "execution_count": 65,
     "metadata": {},
     "output_type": "execute_result"
    }
   ],
   "source": [
    "format(12345600, ',')"
   ]
  },
  {
   "cell_type": "code",
   "execution_count": 67,
   "id": "5b0a7c0a-31ed-4e38-a790-2d025f47346d",
   "metadata": {},
   "outputs": [
    {
     "data": {
      "text/plain": [
       "'    123,456,000'"
      ]
     },
     "execution_count": 67,
     "metadata": {},
     "output_type": "execute_result"
    }
   ],
   "source": [
    "'%15s' % format(123456000, ',')"
   ]
  },
  {
   "cell_type": "markdown",
   "id": "ffe00262-9417-4d6e-9831-d512a995c7cc",
   "metadata": {},
   "source": [
    "## <연습문제>"
   ]
  },
  {
   "cell_type": "markdown",
   "id": "bdd08bad-7615-4e4d-a96b-5d2ed46f776e",
   "metadata": {},
   "source": [
    "#### path = 'C:\\\\Users\\\\dojang\\\\AppData\\\\Locla\\\\Programs\\\\Python\\\\Python36-32\\\\pytho.exe'\n",
    "#### 파일 경로에서 파일명만 추출하여 출력"
   ]
  },
  {
   "cell_type": "code",
   "execution_count": 75,
   "id": "3d6b2211-fa48-4dee-9e99-63ab53064b02",
   "metadata": {},
   "outputs": [
    {
     "name": "stdout",
     "output_type": "stream",
     "text": [
      "python.exe\n"
     ]
    }
   ],
   "source": [
    "path = 'C:\\\\Users\\\\dojang\\\\AppData\\\\Locla\\\\Programs\\\\Python\\\\Python36-32\\\\python.exe'\n",
    "filename = path.split('\\\\')[-1]\n",
    "print(filename)"
   ]
  },
  {
   "cell_type": "markdown",
   "id": "aebfe92c-7d2f-4426-8cf8-a1b4b5a21801",
   "metadata": {},
   "source": [
    "### <연습문제2>\n",
    "#### 표준 입력으로 물품 가격 여러개가 문자열 한줄로 입력되고, 각 가격은 ; 으로  구분\n",
    "#### 입력된 가격을 높은 가격순으로 출력하는 프로그램 작성\n",
    "#### 가격의 길이를 9로 만든 뒤 오른쪽으로 정렬하고 천단위로 콤마를 넣는다.\n",
    "#### str = '51900;83000;158000;367500;250000;59200;128500;1304000'"
   ]
  },
  {
   "cell_type": "code",
   "execution_count": 3,
   "id": "942ab7bf-f1ea-4bb8-812d-1f605b395348",
   "metadata": {},
   "outputs": [
    {
     "name": "stdout",
     "output_type": "stream",
     "text": [
      "1,304,000\n",
      "  367,500\n",
      "  250,000\n",
      "  158,000\n",
      "  128,500\n",
      "   83,000\n",
      "   59,200\n",
      "   51,900\n"
     ]
    }
   ],
   "source": [
    "str = '51900;83000;158000;367500;250000;59200;128500;1304000'\n",
    "price_list = list(map(int, str.split(';')))\n",
    "price_list.sort(reverse=True)\n",
    "price_list\n",
    "for i in price_list:\n",
    "    print('%9s' % format(i, ','))"
   ]
  },
  {
   "cell_type": "code",
   "execution_count": null,
   "id": "13b68f19-4f7e-45a4-a6f6-a8b4e685bde7",
   "metadata": {},
   "outputs": [],
   "source": []
  }
 ],
 "metadata": {
  "kernelspec": {
   "display_name": "Python 3 (ipykernel)",
   "language": "python",
   "name": "python3"
  },
  "language_info": {
   "codemirror_mode": {
    "name": "ipython",
    "version": 3
   },
   "file_extension": ".py",
   "mimetype": "text/x-python",
   "name": "python",
   "nbconvert_exporter": "python",
   "pygments_lexer": "ipython3",
   "version": "3.11.7"
  }
 },
 "nbformat": 4,
 "nbformat_minor": 5
}
