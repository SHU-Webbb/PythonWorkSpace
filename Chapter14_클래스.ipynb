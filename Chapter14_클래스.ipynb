{
 "cells": [
  {
   "cell_type": "markdown",
   "id": "0c42a39b-bada-49ec-b8bf-e6e48634ff98",
   "metadata": {},
   "source": [
    "# 클래스 사용하기"
   ]
  },
  {
   "cell_type": "markdown",
   "id": "875b79d5-abf7-456c-af33-0fb1b6a742ef",
   "metadata": {},
   "source": [
    "## 1. 클래스와 메서드 만들기"
   ]
  },
  {
   "cell_type": "markdown",
   "id": "0ed2c134-8276-4450-a8f8-30c0ba7a05ff",
   "metadata": {},
   "source": [
    "### 클래스 만들기"
   ]
  },
  {
   "cell_type": "code",
   "execution_count": 1,
   "id": "a51ca6d1-9ff3-4aa0-9e14-020a86a87fbb",
   "metadata": {},
   "outputs": [],
   "source": [
    "class Person:\n",
    "    def greeting(self):\n",
    "        print('Hello')"
   ]
  },
  {
   "cell_type": "markdown",
   "id": "0cad45b9-2690-481a-84c9-1f645e05584a",
   "metadata": {},
   "source": [
    "### 클래스 사용"
   ]
  },
  {
   "cell_type": "code",
   "execution_count": 2,
   "id": "fc6d944f-5709-4856-bb74-561e0290a27d",
   "metadata": {},
   "outputs": [],
   "source": [
    "chulsoo = Person()"
   ]
  },
  {
   "cell_type": "markdown",
   "id": "cef8b0e5-0dd3-4651-b656-703d82d0be0d",
   "metadata": {},
   "source": [
    "### 메서드 호출"
   ]
  },
  {
   "cell_type": "code",
   "execution_count": 3,
   "id": "85470a19-1357-4805-ac40-aa42af71e840",
   "metadata": {},
   "outputs": [
    {
     "name": "stdout",
     "output_type": "stream",
     "text": [
      "Hello\n"
     ]
    }
   ],
   "source": [
    "chulsoo.greeting()"
   ]
  },
  {
   "cell_type": "markdown",
   "id": "9c451815-5298-49f6-9a0c-8b603bf06459",
   "metadata": {},
   "source": [
    "### 파이썬의 클래스들"
   ]
  },
  {
   "cell_type": "code",
   "execution_count": 4,
   "id": "2225169f-fb00-463d-944b-832e56784d07",
   "metadata": {},
   "outputs": [],
   "source": [
    "a = int(10)\n",
    "b = list(range(10))"
   ]
  },
  {
   "cell_type": "code",
   "execution_count": 5,
   "id": "61fa6ff5-1e21-43e1-b386-791a400e7a9e",
   "metadata": {},
   "outputs": [
    {
     "data": {
      "text/plain": [
       "10"
      ]
     },
     "execution_count": 5,
     "metadata": {},
     "output_type": "execute_result"
    }
   ],
   "source": [
    "a"
   ]
  },
  {
   "cell_type": "code",
   "execution_count": 6,
   "id": "8b9336f2-bb05-4843-9cf8-00f061d7a157",
   "metadata": {},
   "outputs": [
    {
     "data": {
      "text/plain": [
       "[0, 1, 2, 3, 4, 5, 6, 7, 8, 9]"
      ]
     },
     "execution_count": 6,
     "metadata": {},
     "output_type": "execute_result"
    }
   ],
   "source": [
    "b"
   ]
  },
  {
   "cell_type": "code",
   "execution_count": 7,
   "id": "adc6f9dd-b0b7-4b83-ba13-5f085fc5ff73",
   "metadata": {},
   "outputs": [
    {
     "data": {
      "text/plain": [
       "int"
      ]
     },
     "execution_count": 7,
     "metadata": {},
     "output_type": "execute_result"
    }
   ],
   "source": [
    "# 자료형도 클래스\n",
    "a = 10\n",
    "type(a)"
   ]
  },
  {
   "cell_type": "markdown",
   "id": "a25214f1-e3ab-4233-ad9e-9d290c2d288f",
   "metadata": {},
   "source": [
    "### 같은 클래스 안에서 메서드 호출"
   ]
  },
  {
   "cell_type": "code",
   "execution_count": 10,
   "id": "a2629946-892f-4dae-b857-1df425c0334a",
   "metadata": {},
   "outputs": [],
   "source": [
    "class Person:\n",
    "    def greeting(self):\n",
    "        print('Hello')\n",
    "\n",
    "    def hello(self):\n",
    "        self.greeting()      # 클래스 내부의 메소드 호출: self.메서드()"
   ]
  },
  {
   "cell_type": "code",
   "execution_count": 11,
   "id": "f469750b-c751-425e-8946-3f5b3a8f60c2",
   "metadata": {},
   "outputs": [
    {
     "name": "stdout",
     "output_type": "stream",
     "text": [
      "Hello\n"
     ]
    }
   ],
   "source": [
    "chulsoo = Person()\n",
    "chulsoo.hello()"
   ]
  },
  {
   "cell_type": "markdown",
   "id": "e7d8c083-87ce-45e3-9e7f-2097a33c5355",
   "metadata": {},
   "source": [
    "### 특정 클래스의 인스턴스인지 확인하는 방법\n",
    "#### isinstance(인스턴스, 클래스)"
   ]
  },
  {
   "cell_type": "code",
   "execution_count": 12,
   "id": "5fc0db57-726e-4c1a-b3fb-3d275fff1270",
   "metadata": {},
   "outputs": [
    {
     "data": {
      "text/plain": [
       "True"
      ]
     },
     "execution_count": 12,
     "metadata": {},
     "output_type": "execute_result"
    }
   ],
   "source": [
    "chulsoo = Person()\n",
    "isinstance(chulsoo, Person)"
   ]
  },
  {
   "cell_type": "markdown",
   "id": "b6006eee-29a7-43ba-8afc-f7c06870ba42",
   "metadata": {},
   "source": [
    "### isinstance()활용 방법"
   ]
  },
  {
   "cell_type": "code",
   "execution_count": 15,
   "id": "649a9b12-ee72-4a88-bd82-fef3ed349017",
   "metadata": {},
   "outputs": [],
   "source": [
    "def factorial(n):\n",
    "    if not isinstance(n, int) or n < 0:   # n이 정수가 아니거나 0보다 작으면 메서드 종료\n",
    "        return None\n",
    "    if n == 1:\n",
    "        return 1\n",
    "    return n * factorial(n-1)\n",
    "        "
   ]
  },
  {
   "cell_type": "code",
   "execution_count": 16,
   "id": "6f38b63e-57c8-4cef-804e-e3cabfb083a3",
   "metadata": {},
   "outputs": [
    {
     "data": {
      "text/plain": [
       "6"
      ]
     },
     "execution_count": 16,
     "metadata": {},
     "output_type": "execute_result"
    }
   ],
   "source": [
    "factorial(3)"
   ]
  },
  {
   "cell_type": "code",
   "execution_count": 17,
   "id": "38da028d-9d4f-4cc9-bae3-b82680454605",
   "metadata": {},
   "outputs": [
    {
     "data": {
      "text/plain": [
       "120"
      ]
     },
     "execution_count": 17,
     "metadata": {},
     "output_type": "execute_result"
    }
   ],
   "source": [
    "factorial(5)"
   ]
  },
  {
   "cell_type": "code",
   "execution_count": 18,
   "id": "531ba078-1b68-4f76-a283-dc2566c0dbba",
   "metadata": {},
   "outputs": [],
   "source": [
    "factorial('1')"
   ]
  },
  {
   "cell_type": "markdown",
   "id": "4ef8cd74-2928-4856-808e-f0e39f3f6eeb",
   "metadata": {},
   "source": [
    "## 2. 속성 사용하기"
   ]
  },
  {
   "cell_type": "markdown",
   "id": "64c5d675-3031-47f7-9a63-8d074281adac",
   "metadata": {},
   "source": [
    "#### 속성을 만들때는\n",
    "#### __init__ 메소드 안에 self.속성값\n",
    "####  인스턴스 만들때 호출되는 특별한 메서드"
   ]
  },
  {
   "cell_type": "code",
   "execution_count": 19,
   "id": "bc72460a-72c6-47ad-aac7-8a92f9c33b81",
   "metadata": {},
   "outputs": [],
   "source": [
    "class Person:\n",
    "    def __init__(self):\n",
    "        self.hello ='안녕하세요'   # 속성 선언\n",
    "    def greeting(self):\n",
    "        print(self.hello)"
   ]
  },
  {
   "cell_type": "code",
   "execution_count": 20,
   "id": "21011ac5-be2a-4e9d-89c4-0521e5b952ea",
   "metadata": {},
   "outputs": [
    {
     "name": "stdout",
     "output_type": "stream",
     "text": [
      "안녕하세요\n"
     ]
    }
   ],
   "source": [
    "chulsoo = Person()\n",
    "chulsoo.greeting()"
   ]
  },
  {
   "cell_type": "markdown",
   "id": "171ffc65-eb55-410a-9370-18d2f197b359",
   "metadata": {},
   "source": [
    "### 인스턴스 생성시 값 받기 "
   ]
  },
  {
   "cell_type": "code",
   "execution_count": 23,
   "id": "70b6ffc4-cc5c-44c3-88e3-0e35b75baba2",
   "metadata": {},
   "outputs": [],
   "source": [
    "class Person:\n",
    "    def __init__(self, name, age, address):\n",
    "        self.hello ='안녕하세요'\n",
    "        self.name = name # 파라미터 값을 속성에 저장\n",
    "        self.age = age\n",
    "        self.address = address\n",
    "    def greeting(self):\n",
    "        print('{0} 저는 {1}입니다.'.format(self.hello, self.name))"
   ]
  },
  {
   "cell_type": "code",
   "execution_count": 24,
   "id": "9e38ac3b-0297-4209-935a-bd4493aedff2",
   "metadata": {},
   "outputs": [
    {
     "name": "stdout",
     "output_type": "stream",
     "text": [
      "안녕하세요 저는 철수입니다.\n"
     ]
    }
   ],
   "source": [
    "# Person 객체 생성\n",
    "chulsoo = Person('철수', 30, '서울시')\n",
    "chulsoo.greeting()"
   ]
  },
  {
   "cell_type": "code",
   "execution_count": 25,
   "id": "e56cf03a-f534-46ed-b4d9-0a83aaeaf7bb",
   "metadata": {},
   "outputs": [
    {
     "name": "stdout",
     "output_type": "stream",
     "text": [
      "이름: 철수\n"
     ]
    }
   ],
   "source": [
    "print('이름:', chulsoo.name)"
   ]
  },
  {
   "cell_type": "markdown",
   "id": "5613b47e-a504-45cc-8a32-5d071440a5f7",
   "metadata": {},
   "source": [
    "### 클래스와 위치 인수, 키워드 인수"
   ]
  },
  {
   "cell_type": "markdown",
   "id": "f4ddb6f9-fe5f-4333-b0d1-9f97d559b23b",
   "metadata": {},
   "source": [
    "#### 위치 인수 - 리스트의 내용이 차례대로 속성에 할당됨"
   ]
  },
  {
   "cell_type": "code",
   "execution_count": 26,
   "id": "e686ca85-b1d4-42f0-bb28-e7a9f5789cd8",
   "metadata": {},
   "outputs": [],
   "source": [
    "class Person:\n",
    "    def __init__(self, *args):\n",
    "        self.name = args[0]\n",
    "        self.age = args[1]\n",
    "        self.address = args[2]"
   ]
  },
  {
   "cell_type": "code",
   "execution_count": 27,
   "id": "8558d99a-a502-4362-b61a-5f02149d1108",
   "metadata": {},
   "outputs": [],
   "source": [
    "chulsoo = Person(*['김철수', 19, '서울시'])"
   ]
  },
  {
   "cell_type": "markdown",
   "id": "b3bd6438-6e60-4892-bdee-a1c2e6e259ed",
   "metadata": {},
   "source": [
    "### 키워드 인수 - 딕셔너리를 사용하여 인수 전달시 사용"
   ]
  },
  {
   "cell_type": "code",
   "execution_count": 28,
   "id": "9c43e3a4-4e49-4161-9de8-25c178c1befa",
   "metadata": {},
   "outputs": [],
   "source": [
    "class Person:\n",
    "    def __init__(self, **kwargs):\n",
    "        self.name = kwargs['name']\n",
    "        self.age = kwargs['age']\n",
    "        self.address = kwargs['address']"
   ]
  },
  {
   "cell_type": "code",
   "execution_count": 29,
   "id": "46aa814a-aeb4-46ac-baf3-bee6449453cf",
   "metadata": {},
   "outputs": [],
   "source": [
    "chulsoo = Person(**{'name': '철수', 'age':28, 'address':'서울시'})"
   ]
  },
  {
   "cell_type": "code",
   "execution_count": 31,
   "id": "f8a31d53-ca22-4070-b587-bfcb7fc448bb",
   "metadata": {},
   "outputs": [
    {
     "data": {
      "text/plain": [
       "'철수'"
      ]
     },
     "execution_count": 31,
     "metadata": {},
     "output_type": "execute_result"
    }
   ],
   "source": [
    "chulsoo.name"
   ]
  },
  {
   "cell_type": "markdown",
   "id": "405b16d1-48df-4e31-b0db-700f53042ee4",
   "metadata": {},
   "source": [
    "### 인스턴스 생성 후 속성 추가하기"
   ]
  },
  {
   "cell_type": "code",
   "execution_count": 32,
   "id": "f202feac-3cbb-4850-b5ce-47bb33f20ed4",
   "metadata": {},
   "outputs": [],
   "source": [
    "class Person:\n",
    "    pass"
   ]
  },
  {
   "cell_type": "code",
   "execution_count": 33,
   "id": "1ffe8cfe-f950-4e0e-9990-d431778e928c",
   "metadata": {},
   "outputs": [],
   "source": [
    "chulsoo = Person()\n",
    "chulsoo.name = '철수'"
   ]
  },
  {
   "cell_type": "code",
   "execution_count": 34,
   "id": "0fae4bee-c4fb-45f0-9868-d2673e046b70",
   "metadata": {},
   "outputs": [
    {
     "data": {
      "text/plain": [
       "'철수'"
      ]
     },
     "execution_count": 34,
     "metadata": {},
     "output_type": "execute_result"
    }
   ],
   "source": [
    "chulsoo.name"
   ]
  },
  {
   "cell_type": "code",
   "execution_count": 35,
   "id": "8c1499a7-279a-4217-96fc-074c650ad3d8",
   "metadata": {},
   "outputs": [],
   "source": [
    "## 주의할 내용 : chulsoo 객체에 추가한 name 속성은 다른 객체에서 사용 불가능함."
   ]
  },
  {
   "cell_type": "markdown",
   "id": "707c7768-a555-4463-a381-21980154b409",
   "metadata": {},
   "source": [
    "## 3. 비공개 속성 사용하기"
   ]
  },
  {
   "cell_type": "code",
   "execution_count": 39,
   "id": "05974d42-1c48-46fc-bc03-3e5f742faa89",
   "metadata": {},
   "outputs": [],
   "source": [
    "class Person:\n",
    "    def __init__(self, name, age, address, wallet):\n",
    "        self.hello ='안녕하세요'\n",
    "        self.name = name # 파라미터 값을 속성에 저장\n",
    "        self.age = age\n",
    "        self.address = address\n",
    "        self.__wallet = wallet # 변수 앞에__를 붙여 비공개 속성으로 생성 . 클래스 외부에서 사용 불가능"
   ]
  },
  {
   "cell_type": "code",
   "execution_count": 37,
   "id": "3bcb4b7b-98bf-4b92-9969-b50ae5437f2d",
   "metadata": {},
   "outputs": [],
   "source": [
    "chulsoo = Person('이철수', 34, '서울시', 100000)\n"
   ]
  },
  {
   "cell_type": "code",
   "execution_count": 40,
   "id": "597e09a3-5318-4de6-b1ca-3fa08456719e",
   "metadata": {},
   "outputs": [
    {
     "ename": "AttributeError",
     "evalue": "'Person' object has no attribute '__wallet'",
     "output_type": "error",
     "traceback": [
      "\u001b[1;31m---------------------------------------------------------------------------\u001b[0m",
      "\u001b[1;31mAttributeError\u001b[0m                            Traceback (most recent call last)",
      "Cell \u001b[1;32mIn[40], line 1\u001b[0m\n\u001b[1;32m----> 1\u001b[0m chulsoo\u001b[38;5;241m.\u001b[39m__wallet \u001b[38;5;241m+\u001b[39m\u001b[38;5;241m=\u001b[39m \u001b[38;5;241m100\u001b[39m\n",
      "\u001b[1;31mAttributeError\u001b[0m: 'Person' object has no attribute '__wallet'"
     ]
    }
   ],
   "source": [
    "chulsoo.__wallet += 100"
   ]
  },
  {
   "cell_type": "code",
   "execution_count": 41,
   "id": "be57ac29-75d5-432d-8fd9-aa7a9d3755a7",
   "metadata": {},
   "outputs": [],
   "source": [
    "class Person:\n",
    "    def __init__(self, name, age, address, wallet):\n",
    "        self.hello ='안녕하세요'\n",
    "        self.name = name # 파라미터 값을 속성에 저장\n",
    "        self.age = age\n",
    "        self.address = address\n",
    "        self.__wallet = wallet # 변수 앞에__를 붙여 비공개 속성으로 생성 . 클래스 외부에서 사용 불가능\n",
    "    def pay(self, amount):\n",
    "        self.__wallet -= amount\n",
    "        print('{0}원 남았습니다.'.format(self.__wallet))"
   ]
  },
  {
   "cell_type": "code",
   "execution_count": 42,
   "id": "d229e1f7-adb7-498b-b144-e5128c406124",
   "metadata": {},
   "outputs": [
    {
     "name": "stdout",
     "output_type": "stream",
     "text": [
      "99000원 남았습니다.\n"
     ]
    }
   ],
   "source": [
    "chulsoo = Person('이철수', 34, '서울시', 100000)\n",
    "chulsoo.pay(1000)"
   ]
  },
  {
   "cell_type": "markdown",
   "id": "217950ce-6d8d-4270-a5a1-d42552dd1b8c",
   "metadata": {},
   "source": [
    "## <연습문제>\n",
    "#### 클래스명 : Car\n",
    "#### 속성명 : company, model, color\n",
    "#### __init__ 함수 구현\n",
    "#### drive() 함수 구현\n",
    "####       print()를 사용해서 '(모델명)이(가) 달립니다.' 출력\n",
    "#### 객체 생성 후 , drive() 함수 호출"
   ]
  },
  {
   "cell_type": "code",
   "execution_count": 47,
   "id": "346d02ff-b787-4d65-b5a4-4b4f2b1b3569",
   "metadata": {},
   "outputs": [],
   "source": [
    "class Car:\n",
    "    def __init__(self, company, model, color):\n",
    "        self.company = company\n",
    "        self.model = model\n",
    "        self.color = color\n",
    "    def drive(self):\n",
    "        print('{0}이(가) 달립니다.'.format(self.model))"
   ]
  },
  {
   "cell_type": "code",
   "execution_count": 50,
   "id": "4577a0c5-c394-467f-ae7d-d4d77b3c431d",
   "metadata": {},
   "outputs": [],
   "source": [
    "car = Car('현대', 'g70', '흰색')"
   ]
  },
  {
   "cell_type": "code",
   "execution_count": 51,
   "id": "1fd17ca6-eca6-40c6-ade2-982e4491212f",
   "metadata": {},
   "outputs": [
    {
     "name": "stdout",
     "output_type": "stream",
     "text": [
      "g70이(가) 달립니다.\n"
     ]
    }
   ],
   "source": [
    "car.drive()"
   ]
  },
  {
   "cell_type": "markdown",
   "id": "f078d781-d2ac-402c-8428-c963bb3ceeeb",
   "metadata": {},
   "source": [
    "## 4. 클래스 속성, 인스턴스 속성"
   ]
  },
  {
   "cell_type": "code",
   "execution_count": 57,
   "id": "69ba5121-d772-425b-8e90-ad6fba3afc47",
   "metadata": {},
   "outputs": [],
   "source": [
    "class Person:\n",
    "    bag = []   #클래스 속성\n",
    "\n",
    "    def put_bag(self, a):\n",
    "        #self.bag.append(a)\n",
    "        Person.bag.append(a)  # 클래스 속성 접근 시에는 클래스명, 속성명 사용"
   ]
  },
  {
   "cell_type": "code",
   "execution_count": 58,
   "id": "ab02e668-4c0d-42c5-a585-78e3c5eecfb0",
   "metadata": {},
   "outputs": [],
   "source": [
    "james = Person()\n",
    "james.put_bag('교재')"
   ]
  },
  {
   "cell_type": "code",
   "execution_count": 59,
   "id": "3f25f679-03ee-4d14-94b9-2bbb6a6706cf",
   "metadata": {},
   "outputs": [],
   "source": [
    "chulsoo = Person()\n",
    "chulsoo.put_bag('노트북')"
   ]
  },
  {
   "cell_type": "code",
   "execution_count": 60,
   "id": "6e46b16a-87db-4866-82dc-db25cec91dcb",
   "metadata": {},
   "outputs": [
    {
     "name": "stdout",
     "output_type": "stream",
     "text": [
      "['교재', '노트북']\n"
     ]
    }
   ],
   "source": [
    "print(james.bag)"
   ]
  },
  {
   "cell_type": "code",
   "execution_count": 61,
   "id": "fc9a1410-3c15-4d45-b847-f9734c82ca1c",
   "metadata": {},
   "outputs": [
    {
     "name": "stdout",
     "output_type": "stream",
     "text": [
      "['교재', '노트북']\n"
     ]
    }
   ],
   "source": [
    "print(chulsoo.bag)"
   ]
  },
  {
   "cell_type": "markdown",
   "id": "c05b7e66-0e7b-4596-a265-a57b9b55a8b0",
   "metadata": {},
   "source": [
    "### 비공개 클래스 속성"
   ]
  },
  {
   "cell_type": "code",
   "execution_count": 62,
   "id": "3445701f-3896-4285-99d6-fe26b5200e22",
   "metadata": {},
   "outputs": [],
   "source": [
    "class Person:\n",
    "    __money = 10000   #비공개 클래스 속성\n",
    "\n",
    "    def print_wallet(self):\n",
    "        print(Person.__money)   \n",
    "       "
   ]
  },
  {
   "cell_type": "code",
   "execution_count": 64,
   "id": "7362d1d1-428a-42e6-a388-023f7198ac82",
   "metadata": {},
   "outputs": [
    {
     "name": "stdout",
     "output_type": "stream",
     "text": [
      "10000\n"
     ]
    }
   ],
   "source": [
    "p = Person()\n",
    "p.print_wallet()"
   ]
  },
  {
   "cell_type": "code",
   "execution_count": null,
   "id": "fa5a9d52-7ac0-43db-a356-a5e940c8b77b",
   "metadata": {},
   "outputs": [],
   "source": []
  }
 ],
 "metadata": {
  "kernelspec": {
   "display_name": "Python 3 (ipykernel)",
   "language": "python",
   "name": "python3"
  },
  "language_info": {
   "codemirror_mode": {
    "name": "ipython",
    "version": 3
   },
   "file_extension": ".py",
   "mimetype": "text/x-python",
   "name": "python",
   "nbconvert_exporter": "python",
   "pygments_lexer": "ipython3",
   "version": "3.11.7"
  }
 },
 "nbformat": 4,
 "nbformat_minor": 5
}
