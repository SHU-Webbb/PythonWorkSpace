2*3


4//3





print(int(0.2467*12+4.159))





x = 10
print(x)


y = 'Hello, World!'
print(y)


type(y)





x, y, z = 10, 20, 30
print(x)
print(y+z)





x = y = z = 10
x


y


z





x, y = 10, 20
x


x, y = y, x


x





x = 10
del x
x





x = None


print(x)





a = 10
b = 5
c = a + b
print(c)


a + 20


a


a += 20


a








input()


a = input()


print(a)


a = input('문자열을 입력하세요 : ')


a


a = input('첫번째 숫자 입력 : ')
b = input('두번째 숫자 입력 : ')
print(a+b)


type(a)


a = int(input('첫번째 숫자 입력 : '))
b = int(input('두번째 숫자 입력 : '))
print(a+b)





x, y = input().split() #입력값을 공백으로 구분하여 입력


x


y


x, y = input().split(',') # 입력 구분값으로 , 를  사용


x


y








a, b = input().split()
c = int(a) + int(b)
print(c)





a, b = map(int,input('두 숫자를 입력 : ').split())
print(a+b)








a, b = map(float, input('두 숫자를 입력 :').split())
print(a+b)





a, b, c, d = map(int, input().split())
e = int((a+b+c+d)/4)
print(e)





#여러 개 값 출력
print(10, 20, 30)


print('hello','world')


print(10, 20, 30, sep=',') # sep - separator의 약자


print('hello','world', sep='')


print(10,20,30,sep='\n')


#print() 는 기본적으로 출력값 끝에 \n 작용
print(10)
print(29)
print(38)


print(10, end=' ')
print(20, end=' ')
print(30, end='')








print('Python', 3.11,100)






print(16, end=':')
print(9)





print('Hello','Python',sep='\n')





year = 2024
month = 3
day = 22
hour = 13
minute = 46
second = 18


print(year,month,day,sep='/',end=' ')
print(hour,minute,second,sep=':')





year,month,day,hour,minute,second = map(int,input().split())
print(year,month,day,sep='-',end='T')
print(hour,minute,second,sep=':')





True


False


3 > 1


10 == 10


10 == 40


10 != 15


'Python' == 'Python'


'Python' != 'python'


10 < 30


10 <= 20


'a' < 'b'








10 == 10 #값이 같은지 비교


10 is 10


10 is 10.0


10 is not 10.0





10 <= 20 and 10 != 5


10 > 5 or 10 < 5


not 10 > 5



