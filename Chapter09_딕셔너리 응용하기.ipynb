{
 "cells": [
  {
   "cell_type": "markdown",
   "id": "2e971a75-7125-47d6-a4ea-fd63c5f42e29",
   "metadata": {},
   "source": [
    "## 1. 딕셔너리 조작하기"
   ]
  },
  {
   "cell_type": "markdown",
   "id": "4496f108-936b-45f1-a70e-178d42a7f950",
   "metadata": {},
   "source": [
    "### (1) 키-값 추가하기"
   ]
  },
  {
   "cell_type": "markdown",
   "id": "4afdad5a-9e89-4af6-b174-26ed4b37e63d",
   "metadata": {},
   "source": [
    "### setdefault -> 키-값 추가\n",
    "### update -> 키-값 있으면 수정, 없으면 추가"
   ]
  },
  {
   "cell_type": "code",
   "execution_count": 1,
   "id": "2a63eb30-c0a6-49ae-b2da-fd901f78e0c8",
   "metadata": {},
   "outputs": [],
   "source": [
    "x = {'a':10, 'b':20, 'c':30, 'd':40}\n",
    "x.setdefault('e')"
   ]
  },
  {
   "cell_type": "code",
   "execution_count": 2,
   "id": "1887f436-51cc-45cb-a798-d999b9ca7141",
   "metadata": {},
   "outputs": [
    {
     "data": {
      "text/plain": [
       "{'a': 10, 'b': 20, 'c': 30, 'd': 40, 'e': None}"
      ]
     },
     "execution_count": 2,
     "metadata": {},
     "output_type": "execute_result"
    }
   ],
   "source": [
    "x"
   ]
  },
  {
   "cell_type": "code",
   "execution_count": 3,
   "id": "678c24f8-fbac-410e-8950-435d5ceea21e",
   "metadata": {},
   "outputs": [
    {
     "data": {
      "text/plain": [
       "50"
      ]
     },
     "execution_count": 3,
     "metadata": {},
     "output_type": "execute_result"
    }
   ],
   "source": [
    "x.setdefault('f',50)"
   ]
  },
  {
   "cell_type": "code",
   "execution_count": 4,
   "id": "d7655b9d-d3f0-4c3e-953b-eff672ca52eb",
   "metadata": {},
   "outputs": [
    {
     "data": {
      "text/plain": [
       "{'a': 10, 'b': 20, 'c': 30, 'd': 40, 'e': None, 'f': 50}"
      ]
     },
     "execution_count": 4,
     "metadata": {},
     "output_type": "execute_result"
    }
   ],
   "source": [
    "x"
   ]
  },
  {
   "cell_type": "markdown",
   "id": "660c3e17-3f4e-426f-a16c-678518dff1c7",
   "metadata": {},
   "source": [
    "#### 키 값 수정하기"
   ]
  },
  {
   "cell_type": "code",
   "execution_count": 5,
   "id": "6c3e3358-75bc-48fc-8fe0-ce3d050db38e",
   "metadata": {},
   "outputs": [
    {
     "data": {
      "text/plain": [
       "{'a': 90, 'b': 20, 'c': 30, 'd': 40}"
      ]
     },
     "execution_count": 5,
     "metadata": {},
     "output_type": "execute_result"
    }
   ],
   "source": [
    "x = {'a':10, 'b':20, 'c':30, 'd':40}\n",
    "x.update(a=90)\n",
    "x"
   ]
  },
  {
   "cell_type": "code",
   "execution_count": 6,
   "id": "4a969c12-b8fb-4114-a62e-af32c088224d",
   "metadata": {},
   "outputs": [
    {
     "data": {
      "text/plain": [
       "{'a': 90, 'b': 20, 'c': 30, 'd': 40, 'e': 50}"
      ]
     },
     "execution_count": 6,
     "metadata": {},
     "output_type": "execute_result"
    }
   ],
   "source": [
    "#만약 키 값이 없으면 추가\n",
    "x.update(e=50)\n",
    "x"
   ]
  },
  {
   "cell_type": "code",
   "execution_count": 7,
   "id": "08427915-cd02-4ee9-b8d7-c3423920ddc3",
   "metadata": {},
   "outputs": [
    {
     "data": {
      "text/plain": [
       "{'a': 900, 'b': 20, 'c': 30, 'd': 40, 'e': 50, 'f': 60}"
      ]
     },
     "execution_count": 7,
     "metadata": {},
     "output_type": "execute_result"
    }
   ],
   "source": [
    "# update에 여러개의 값 수정\n",
    "x.update(a=900,f=60)\n",
    "x"
   ]
  },
  {
   "cell_type": "code",
   "execution_count": 8,
   "id": "4d699ce4-b632-4044-a537-bdb5a55b1641",
   "metadata": {},
   "outputs": [
    {
     "data": {
      "text/plain": [
       "{1: 'ONE', 2: 'two', 3: 'THREE'}"
      ]
     },
     "execution_count": 8,
     "metadata": {},
     "output_type": "execute_result"
    }
   ],
   "source": [
    "y = {1:'one', 2:'two'}\n",
    "y.update({1:'ONE',3:'THREE'})\n",
    "y"
   ]
  },
  {
   "cell_type": "markdown",
   "id": "e21ede40-337a-4b6e-aac1-905eff3bd3e1",
   "metadata": {},
   "source": [
    "### (2) 리스트, 튜플을 이용해서 딕셔너리 만들기"
   ]
  },
  {
   "cell_type": "code",
   "execution_count": 11,
   "id": "61a32d3e-0f79-4e77-baa3-9e58229c0c28",
   "metadata": {},
   "outputs": [
    {
     "data": {
      "text/plain": [
       "{1: 'ONE', 2: 'TWO', 3: 'THREE', 4: 'FOUR'}"
      ]
     },
     "execution_count": 11,
     "metadata": {},
     "output_type": "execute_result"
    }
   ],
   "source": [
    "# [[키, 값],[키,값]]\n",
    "y.update([[2,'TWO'], [4, 'FOUR']])\n",
    "y"
   ]
  },
  {
   "cell_type": "code",
   "execution_count": 12,
   "id": "d96abc64-5689-44b8-b8b5-d8d7ccc61ba8",
   "metadata": {},
   "outputs": [
    {
     "data": {
      "text/plain": [
       "{1: 'one', 2: 'two', 3: 'THREE', 4: 'FOUR'}"
      ]
     },
     "execution_count": 12,
     "metadata": {},
     "output_type": "execute_result"
    }
   ],
   "source": [
    "# zip()을 이용한 딕셔너리 추가\n",
    "y.update(zip([1,2], ['one','two']))\n",
    "y"
   ]
  },
  {
   "cell_type": "markdown",
   "id": "8c2c65ab-1467-4b26-8d01-e36a2a3970b5",
   "metadata": {},
   "source": [
    "### (3) 키-값 쌍 삭제하기"
   ]
  },
  {
   "cell_type": "code",
   "execution_count": 1,
   "id": "5a379e55-22a8-4ad8-a101-31d7b03c0550",
   "metadata": {},
   "outputs": [
    {
     "data": {
      "text/plain": [
       "{'b': 20, 'c': 30, 'd': 40}"
      ]
     },
     "execution_count": 1,
     "metadata": {},
     "output_type": "execute_result"
    }
   ],
   "source": [
    "x = {'a':10, 'b':20, 'c':30, 'd':40}\n",
    "x.pop('a')\n",
    "x"
   ]
  },
  {
   "cell_type": "code",
   "execution_count": 16,
   "id": "5016312f-77a4-468d-a4d5-56a317bd04df",
   "metadata": {},
   "outputs": [
    {
     "data": {
      "text/plain": [
       "1"
      ]
     },
     "execution_count": 16,
     "metadata": {},
     "output_type": "execute_result"
    }
   ],
   "source": [
    "# 없는 키를 삭제할 경우 \n",
    "x.pop('z', 1)"
   ]
  },
  {
   "cell_type": "code",
   "execution_count": 17,
   "id": "6c208d22-8c77-4c1f-8592-1fcd16b3e8a4",
   "metadata": {},
   "outputs": [],
   "source": [
    "x = {'a':10, 'b':20, 'c':30, 'd':40}\n",
    "del x['a']"
   ]
  },
  {
   "cell_type": "code",
   "execution_count": 18,
   "id": "f10922a7-2016-42ad-a22b-f80baaab6a51",
   "metadata": {},
   "outputs": [
    {
     "data": {
      "text/plain": [
       "{'b': 20, 'c': 30, 'd': 40}"
      ]
     },
     "execution_count": 18,
     "metadata": {},
     "output_type": "execute_result"
    }
   ],
   "source": [
    "x"
   ]
  },
  {
   "cell_type": "code",
   "execution_count": 19,
   "id": "67795ee1-30e7-4325-b935-67c7fb76db25",
   "metadata": {},
   "outputs": [
    {
     "data": {
      "text/plain": [
       "('d', 40)"
      ]
     },
     "execution_count": 19,
     "metadata": {},
     "output_type": "execute_result"
    }
   ],
   "source": [
    "# 딕셔너리에서 임의의 키-값 삭제\n",
    "x = {'a':10, 'b':20, 'c':30, 'd':40}\n",
    "x.popitem()"
   ]
  },
  {
   "cell_type": "code",
   "execution_count": 20,
   "id": "7d909e35-0ccc-4682-9d86-39315cc8e593",
   "metadata": {},
   "outputs": [
    {
     "data": {
      "text/plain": [
       "('c', 30)"
      ]
     },
     "execution_count": 20,
     "metadata": {},
     "output_type": "execute_result"
    }
   ],
   "source": [
    "x.popitem()"
   ]
  },
  {
   "cell_type": "code",
   "execution_count": 21,
   "id": "ec6cf57f-f345-4faa-b8dc-eafb237c3d76",
   "metadata": {},
   "outputs": [
    {
     "data": {
      "text/plain": [
       "('b', 20)"
      ]
     },
     "execution_count": 21,
     "metadata": {},
     "output_type": "execute_result"
    }
   ],
   "source": [
    "x.popitem()"
   ]
  },
  {
   "cell_type": "code",
   "execution_count": 22,
   "id": "33bdda33-304d-4a9c-bfce-4e575e4a768d",
   "metadata": {},
   "outputs": [
    {
     "data": {
      "text/plain": [
       "{'a': 10}"
      ]
     },
     "execution_count": 22,
     "metadata": {},
     "output_type": "execute_result"
    }
   ],
   "source": [
    "x"
   ]
  },
  {
   "cell_type": "code",
   "execution_count": 23,
   "id": "4f7804a4-f0fa-4c0c-a352-fc0848511c5a",
   "metadata": {},
   "outputs": [],
   "source": [
    "# 딕셔너리의 모든 값 삭제\n",
    "x = {'a':10, 'b':20, 'c':30, 'd':40}\n",
    "x.clear()"
   ]
  },
  {
   "cell_type": "code",
   "execution_count": 24,
   "id": "691d1b1d-27d8-4f82-a118-10ac2cbe460f",
   "metadata": {},
   "outputs": [
    {
     "data": {
      "text/plain": [
       "{}"
      ]
     },
     "execution_count": 24,
     "metadata": {},
     "output_type": "execute_result"
    }
   ],
   "source": [
    "x"
   ]
  },
  {
   "cell_type": "markdown",
   "id": "3a3b6834-b587-4ab9-8883-1f1373dd9b0b",
   "metadata": {},
   "source": [
    "### (3) 딕셔너리에서 키 값 가져오기"
   ]
  },
  {
   "cell_type": "code",
   "execution_count": 25,
   "id": "f37d6349-24bd-4c89-86a3-eabb7ff6195a",
   "metadata": {},
   "outputs": [
    {
     "data": {
      "text/plain": [
       "10"
      ]
     },
     "execution_count": 25,
     "metadata": {},
     "output_type": "execute_result"
    }
   ],
   "source": [
    "x = {'a':10, 'b':20, 'c':30, 'd':40}\n",
    "x.get('a')"
   ]
  },
  {
   "cell_type": "code",
   "execution_count": 27,
   "id": "37717aee-9b70-4b62-9ef4-e95a16c03a96",
   "metadata": {},
   "outputs": [
    {
     "data": {
      "text/plain": [
       "0"
      ]
     },
     "execution_count": 27,
     "metadata": {},
     "output_type": "execute_result"
    }
   ],
   "source": [
    "# 키의 값이 없을 때 기본값 지정\n",
    "x.get('z',0)"
   ]
  },
  {
   "cell_type": "code",
   "execution_count": 28,
   "id": "aa1868af-4103-4cf2-a16e-b13c8576eb3b",
   "metadata": {},
   "outputs": [
    {
     "data": {
      "text/plain": [
       "dict_items([('a', 10), ('b', 20), ('c', 30), ('d', 40)])"
      ]
     },
     "execution_count": 28,
     "metadata": {},
     "output_type": "execute_result"
    }
   ],
   "source": [
    "# 모든 키-값 쌍 가져오기\n",
    "x.items()"
   ]
  },
  {
   "cell_type": "code",
   "execution_count": 29,
   "id": "fb69b0ab-02ba-40b9-8bf8-22fc7c5314b1",
   "metadata": {},
   "outputs": [
    {
     "data": {
      "text/plain": [
       "dict_keys(['a', 'b', 'c', 'd'])"
      ]
     },
     "execution_count": 29,
     "metadata": {},
     "output_type": "execute_result"
    }
   ],
   "source": [
    "# 모든 키의 목록 가져오기\n",
    "x.keys()"
   ]
  },
  {
   "cell_type": "code",
   "execution_count": 30,
   "id": "947744db-1332-426f-acbc-d02cf1420011",
   "metadata": {},
   "outputs": [
    {
     "data": {
      "text/plain": [
       "dict_values([10, 20, 30, 40])"
      ]
     },
     "execution_count": 30,
     "metadata": {},
     "output_type": "execute_result"
    }
   ],
   "source": [
    "# 모든 값의 목독 가져오기\n",
    "x.values()"
   ]
  },
  {
   "cell_type": "markdown",
   "id": "698c5484-a101-4d17-bf64-2f8c5ac8e804",
   "metadata": {},
   "source": [
    "### (4) 리스트로 딕셔너리 만들기"
   ]
  },
  {
   "cell_type": "code",
   "execution_count": 33,
   "id": "481f0dab-dd15-4ce2-a3c5-7b9e4eb01ccb",
   "metadata": {},
   "outputs": [],
   "source": [
    "keys=['a','b','c','d']\n",
    "x = dict.fromkeys(keys) # 값은 기본으로 none이 설정"
   ]
  },
  {
   "cell_type": "code",
   "execution_count": 34,
   "id": "bf27c0d7-fcc5-4558-8cf7-81647b21248c",
   "metadata": {},
   "outputs": [
    {
     "data": {
      "text/plain": [
       "{'a': None, 'b': None, 'c': None, 'd': None}"
      ]
     },
     "execution_count": 34,
     "metadata": {},
     "output_type": "execute_result"
    }
   ],
   "source": [
    "x"
   ]
  },
  {
   "cell_type": "markdown",
   "id": "11eb9c43-26ab-47ad-bd41-95b0f1604936",
   "metadata": {},
   "source": [
    "## 2. 반복문으로 키,값 모두 출력"
   ]
  },
  {
   "cell_type": "code",
   "execution_count": 37,
   "id": "f3c32852-ac9b-495d-9983-324bf1ce5cad",
   "metadata": {},
   "outputs": [
    {
     "name": "stdout",
     "output_type": "stream",
     "text": [
      "a b c d "
     ]
    }
   ],
   "source": [
    "#키 값만 출력\n",
    "x = {'a':10, 'b':20, 'c':30, 'd':40}\n",
    "for i in x:\n",
    "    print(i, end= ' ')"
   ]
  },
  {
   "cell_type": "code",
   "execution_count": 38,
   "id": "9aaa9fc5-c2ab-4af6-8a2b-c7d55936d875",
   "metadata": {},
   "outputs": [
    {
     "name": "stdout",
     "output_type": "stream",
     "text": [
      "a 10\n",
      "b 20\n",
      "c 30\n",
      "d 40\n"
     ]
    }
   ],
   "source": [
    "for key, value in x.items():\n",
    "    print(key, value)"
   ]
  },
  {
   "cell_type": "code",
   "execution_count": 44,
   "id": "ac43a057-5db8-4edd-aba8-fce5997bc7a0",
   "metadata": {},
   "outputs": [
    {
     "name": "stdout",
     "output_type": "stream",
     "text": [
      "10\n",
      "20\n",
      "30\n",
      "40\n"
     ]
    }
   ],
   "source": [
    "for value in x.values():\n",
    "    print(value)"
   ]
  },
  {
   "cell_type": "markdown",
   "id": "120b1f4a-968b-4fa0-94c8-c7da928f596e",
   "metadata": {},
   "source": [
    "### <연습문제>\n",
    "#### gildong={'kor':95 , 'eng' : 91, 'math':89, 'science':83}\n",
    "#### 딕셔너리의 평균점수를 구해서 출력\n"
   ]
  },
  {
   "cell_type": "code",
   "execution_count": 55,
   "id": "52b9fea6-a5fa-4af2-b851-214ed5dca17a",
   "metadata": {},
   "outputs": [
    {
     "name": "stdout",
     "output_type": "stream",
     "text": [
      "89.5\n"
     ]
    }
   ],
   "source": [
    "gildong={'kor':95 , 'eng' : 91, 'math':89, 'science':83}\n",
    "avg = sum(gildong.values())/len(gildong)\n",
    "print(avg)   "
   ]
  },
  {
   "cell_type": "markdown",
   "id": "9aa064cb-03c9-4567-a5f7-7667d04cfe6f",
   "metadata": {},
   "source": [
    "## 3. 딕셔너리의 표현식 사용하기 "
   ]
  },
  {
   "cell_type": "code",
   "execution_count": 60,
   "id": "e1381afa-1bbc-4e07-a3b7-451ce20089e5",
   "metadata": {},
   "outputs": [
    {
     "data": {
      "text/plain": [
       "{'a': None, 'b': None, 'c': None, 'd': None}"
      ]
     },
     "execution_count": 60,
     "metadata": {},
     "output_type": "execute_result"
    }
   ],
   "source": [
    "keys = ['a', 'b', 'c', 'd']\n",
    "# x = dict.fromkeys(keys)\n",
    "# x.items()\n",
    "x = {key : value for key, value in dict.fromkeys(keys).items()}\n",
    "x"
   ]
  },
  {
   "cell_type": "code",
   "execution_count": 61,
   "id": "35392f1f-4cd7-451e-8379-09efcb3e43b8",
   "metadata": {},
   "outputs": [
    {
     "data": {
      "text/plain": [
       "{'a': 10, 'b': 10, 'c': 10, 'd': 10}"
      ]
     },
     "execution_count": 61,
     "metadata": {},
     "output_type": "execute_result"
    }
   ],
   "source": [
    "{key : 10 for key in dict.fromkeys(keys).keys()}"
   ]
  },
  {
   "cell_type": "code",
   "execution_count": 63,
   "id": "de1111ec-3f75-42b4-b916-3e796311750e",
   "metadata": {},
   "outputs": [
    {
     "data": {
      "text/plain": [
       "{'a': 10, 'b': 20, 'd': 40}"
      ]
     },
     "execution_count": 63,
     "metadata": {},
     "output_type": "execute_result"
    }
   ],
   "source": [
    "x = {'a':10, 'b':20, 'c':30, 'd':40}\n",
    "y = {key : value for key, value in x.items() if value != 30}\n",
    "y"
   ]
  },
  {
   "cell_type": "markdown",
   "id": "ca2e30f5-bef5-41bd-8b5c-07d668c132b8",
   "metadata": {},
   "source": [
    "## 4. 딕셔너리 안에 딕셔너리 사용"
   ]
  },
  {
   "cell_type": "code",
   "execution_count": 5,
   "id": "b6bdc1d4-09fe-4a52-b176-a8f1ffa16abc",
   "metadata": {},
   "outputs": [],
   "source": [
    "graph = {\n",
    "    'A' : {'B' : 5, 'C': 8, 'D': 2},\n",
    "    'B' : {'A' : 3, 'D': 6},\n",
    "    'C' : {'B' : 5, 'D': 2}\n",
    "}"
   ]
  },
  {
   "cell_type": "code",
   "execution_count": 67,
   "id": "6c1352b5-5174-48bb-8896-d11ff0888fbf",
   "metadata": {},
   "outputs": [
    {
     "name": "stdout",
     "output_type": "stream",
     "text": [
      "8\n"
     ]
    }
   ],
   "source": [
    "# 딕셔너리 안에 있는 딕셔너리 접근\n",
    "print(graph['A']['C'])"
   ]
  },
  {
   "cell_type": "code",
   "execution_count": 68,
   "id": "8fdf00ca-0d14-4af4-ae12-43eda17a99a4",
   "metadata": {},
   "outputs": [],
   "source": [
    "graph1 = graph"
   ]
  },
  {
   "cell_type": "code",
   "execution_count": 70,
   "id": "1de7af14-917c-4210-92c1-dd639f2f11d9",
   "metadata": {},
   "outputs": [],
   "source": [
    "graph1['B']['A'] = 10"
   ]
  },
  {
   "cell_type": "code",
   "execution_count": 6,
   "id": "8ea77359-0b75-4ebc-ba01-f5bfcddd7e16",
   "metadata": {},
   "outputs": [],
   "source": [
    "import copy\n",
    "graph1 = copy.deepcopy(graph)"
   ]
  },
  {
   "cell_type": "markdown",
   "id": "6f06eed1-a85a-4efc-a3bb-9bfeddc2a3cd",
   "metadata": {},
   "source": [
    "### <연습문제>\n",
    "#### 표준입력으로 문자열 여러개와 숫자 여러개를 입력받는다. 동일한 갯수\n",
    "#### 첫째줄은 키로, 둘째줄은 값으로 해서 딕셔너리 생성.\n",
    "#### 딕셔너리에서 value가 30인 엔트리를 제외"
   ]
  },
  {
   "cell_type": "code",
   "execution_count": 21,
   "id": "737665cb-e4c0-4a63-96e4-b53de6faf73e",
   "metadata": {},
   "outputs": [
    {
     "name": "stdin",
     "output_type": "stream",
     "text": [
      " a b c d e\n",
      " 1 2 3 4 5\n"
     ]
    },
    {
     "data": {
      "text/plain": [
       "{'a': '1', 'b': '2', 'c': '3', 'd': '4'}"
      ]
     },
     "execution_count": 21,
     "metadata": {},
     "output_type": "execute_result"
    }
   ],
   "source": [
    "key = input().split()\n",
    "value = input().split()\n",
    "\n",
    "x = dict(zip(key, value))\n",
    "x = {key : value for key, value in x.items() if value != '5'}\n",
    "x"
   ]
  },
  {
   "cell_type": "code",
   "execution_count": null,
   "id": "6f92eb8d-cc80-4a06-bb7b-a01de43d7ed8",
   "metadata": {},
   "outputs": [],
   "source": []
  }
 ],
 "metadata": {
  "kernelspec": {
   "display_name": "Python 3 (ipykernel)",
   "language": "python",
   "name": "python3"
  },
  "language_info": {
   "codemirror_mode": {
    "name": "ipython",
    "version": 3
   },
   "file_extension": ".py",
   "mimetype": "text/x-python",
   "name": "python",
   "nbconvert_exporter": "python",
   "pygments_lexer": "ipython3",
   "version": "3.11.7"
  }
 },
 "nbformat": 4,
 "nbformat_minor": 5
}
