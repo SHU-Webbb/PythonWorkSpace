





a = [[10, 20],
     [30, 40],
     [50, 60]]
a


# 2차원 리스트에 접근하기
a[0][0]


a = [[10, 20],
     [20, 40, 50],
     [30],
     [50,60,70]]
a


a[1][1]


a = [[10, 20],
     [30, 40],
     [50, 60]]
for x, y in a:
    print(x, y)


for i in a:
    for j in i:
        print(j, end=' ')
    print()


# 2차원 리스트를 보기 쉽게 출력하기
from pprint import pprint
pprint(a, indent=1, width=20)






i = 0
while i < len(a):
    j = 0
    while j < len(a[i]):
        print(a[i][j], end =' ')
        j += 1
    print()
    i += 1








a =[]
for i in range(10):
    a.append(0)
print(a)






a = []
for i in range(3):
    b = []
    for j in range(2):
        b.append(0)
    a.append(b)
print(a)





a = [[i for i in range(2)] for i in range(3)]
a


a = [[0]*2 for i in range(3)]
a





a = [3, 2, 3, 4, 5]
b = []
for i in a:
    c = []
    for j in range(i):
        c.append(0)
    b.append(c)
print(b)


# 톱니형 리스트를 for문장 하나로 만들기
a = [3, 2, 3, 4, 5]
b = [[0] * i for i in a]
print(b)





a = [[10, 20], [30, 40]]
b = a
a[0][0] = 500
b


# copy() 를 사용한 2차원 리스트 복사
a = [[10, 20], [30, 40]]
b = a.copy()
b[0][0] = 500  #a,b 모두 수정됨
a


# 2차원 리스트를 별개의 객체르 만들려면
a = [[10, 20], [30, 40]]

import copy
b = copy.deepcopy(a)
print(a)


print(b)


b[0][0] = 500
b


a





a = [[[i for i in range(3)] for i in range(4)] for depth in range(2)]
a



