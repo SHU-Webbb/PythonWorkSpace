{
 "cells": [
  {
   "cell_type": "markdown",
   "id": "49b03fba-82e5-4108-bf64-3256ebc59aef",
   "metadata": {},
   "source": [
    "# 세트 사용하기"
   ]
  },
  {
   "cell_type": "markdown",
   "id": "4e691aa3-2cba-4d01-bb59-14fe7c98964c",
   "metadata": {},
   "source": [
    "## 1. 세트 만들기"
   ]
  },
  {
   "cell_type": "code",
   "execution_count": 1,
   "id": "e4ddfc91-5b79-4339-aa7c-bb1a56c7d052",
   "metadata": {},
   "outputs": [],
   "source": [
    "# 세트 - 세트{ 값, 값, 값 }\n",
    "# 중복을 허용하지 않음."
   ]
  },
  {
   "cell_type": "code",
   "execution_count": 4,
   "id": "96ef9686-9c69-496a-9310-83324f64453a",
   "metadata": {},
   "outputs": [
    {
     "data": {
      "text/plain": [
       "{'apple', 'grape', 'orange', 'strawberry'}"
      ]
     },
     "execution_count": 4,
     "metadata": {},
     "output_type": "execute_result"
    }
   ],
   "source": [
    "fruits = { 'strawberry', 'grape', 'orange' , 'apple' }\n",
    "fruits"
   ]
  },
  {
   "cell_type": "code",
   "execution_count": 5,
   "id": "6fa62ce9-b4f3-4c01-94f6-67feff9e68bd",
   "metadata": {},
   "outputs": [
    {
     "data": {
      "text/plain": [
       "{'apple', 'cherry'}"
      ]
     },
     "execution_count": 5,
     "metadata": {},
     "output_type": "execute_result"
    }
   ],
   "source": [
    "# 세트에 들어가는 요소는 중복 될 수 없음\n",
    "fruits = {'apple', 'apple', 'cherry'}\n",
    "fruits"
   ]
  },
  {
   "cell_type": "code",
   "execution_count": 6,
   "id": "7ae33706-02bf-44d0-b35b-d8b7d30158f6",
   "metadata": {},
   "outputs": [
    {
     "ename": "TypeError",
     "evalue": "'set' object is not subscriptable",
     "output_type": "error",
     "traceback": [
      "\u001b[1;31m---------------------------------------------------------------------------\u001b[0m",
      "\u001b[1;31mTypeError\u001b[0m                                 Traceback (most recent call last)",
      "Cell \u001b[1;32mIn[6], line 3\u001b[0m\n\u001b[0;32m      1\u001b[0m \u001b[38;5;66;03m# 세트는 특정 요소만 출력할수 없음.\u001b[39;00m\n\u001b[0;32m      2\u001b[0m fruits \u001b[38;5;241m=\u001b[39m { \u001b[38;5;124m'\u001b[39m\u001b[38;5;124mstrawberry\u001b[39m\u001b[38;5;124m'\u001b[39m, \u001b[38;5;124m'\u001b[39m\u001b[38;5;124mgrape\u001b[39m\u001b[38;5;124m'\u001b[39m, \u001b[38;5;124m'\u001b[39m\u001b[38;5;124morange\u001b[39m\u001b[38;5;124m'\u001b[39m , \u001b[38;5;124m'\u001b[39m\u001b[38;5;124mapple\u001b[39m\u001b[38;5;124m'\u001b[39m }\n\u001b[1;32m----> 3\u001b[0m \u001b[38;5;28mprint\u001b[39m(fruits[\u001b[38;5;241m0\u001b[39m])\n",
      "\u001b[1;31mTypeError\u001b[0m: 'set' object is not subscriptable"
     ]
    }
   ],
   "source": [
    "# 세트는 특정 요소만 출력할수 없음.\n",
    "fruits = { 'strawberry', 'grape', 'orange' , 'apple' }\n",
    "print(fruits[0])"
   ]
  },
  {
   "cell_type": "markdown",
   "id": "659b1a6a-1052-4a78-993f-41e7147c5dad",
   "metadata": {},
   "source": [
    "#### (1) 세트에 특정 값이 있는지 확인"
   ]
  },
  {
   "cell_type": "code",
   "execution_count": 8,
   "id": "1c959905-596a-4409-a35f-7347bbc1f596",
   "metadata": {},
   "outputs": [
    {
     "data": {
      "text/plain": [
       "True"
      ]
     },
     "execution_count": 8,
     "metadata": {},
     "output_type": "execute_result"
    }
   ],
   "source": [
    "# 값 in 세트\n",
    "fruits = { 'strawberry', 'grape', 'orange' , 'apple' }\n",
    "'orange' in fruits"
   ]
  },
  {
   "cell_type": "code",
   "execution_count": 9,
   "id": "3cfd39f4-7a91-49d7-a311-1c462c049fd2",
   "metadata": {},
   "outputs": [
    {
     "data": {
      "text/plain": [
       "True"
      ]
     },
     "execution_count": 9,
     "metadata": {},
     "output_type": "execute_result"
    }
   ],
   "source": [
    "# 요소가 없는 지 확인\n",
    "'peach' not in fruits"
   ]
  },
  {
   "cell_type": "markdown",
   "id": "39f716f7-3cc7-47de-91ef-f16114fd8529",
   "metadata": {},
   "source": [
    "#### (2) set()를 사용하여 세트 만들기"
   ]
  },
  {
   "cell_type": "code",
   "execution_count": 11,
   "id": "8e8ff753-9212-4db7-8d48-e2fc33602bd2",
   "metadata": {},
   "outputs": [
    {
     "data": {
      "text/plain": [
       "{'a', 'e', 'i', 'l', 'n', 'p'}"
      ]
     },
     "execution_count": 11,
     "metadata": {},
     "output_type": "execute_result"
    }
   ],
   "source": [
    "a = set('pineapple') #유일한 문자만 세트로 만들어짐\n",
    "a"
   ]
  },
  {
   "cell_type": "markdown",
   "id": "f392f6cd-146c-49a7-a47e-0f21a1ebcb8d",
   "metadata": {},
   "source": [
    "#### (3) range를 사용하여 set 만들기"
   ]
  },
  {
   "cell_type": "code",
   "execution_count": 12,
   "id": "b81689d8-4cec-4604-8253-7339c982f737",
   "metadata": {},
   "outputs": [
    {
     "data": {
      "text/plain": [
       "{0, 1, 2, 3, 4}"
      ]
     },
     "execution_count": 12,
     "metadata": {},
     "output_type": "execute_result"
    }
   ],
   "source": [
    "b = set(range(5))\n",
    "b"
   ]
  },
  {
   "cell_type": "markdown",
   "id": "9d21ec9b-e01d-4abe-b93f-8f7477af709f",
   "metadata": {},
   "source": [
    "#### (4) 빈세트 만들기"
   ]
  },
  {
   "cell_type": "code",
   "execution_count": 17,
   "id": "a625f820-7864-4dd7-bb71-eb0220ba57f6",
   "metadata": {},
   "outputs": [
    {
     "data": {
      "text/plain": [
       "set"
      ]
     },
     "execution_count": 17,
     "metadata": {},
     "output_type": "execute_result"
    }
   ],
   "source": [
    "c = set()\n",
    "c\n",
    "type(c)"
   ]
  },
  {
   "cell_type": "markdown",
   "id": "5f73fa2f-1b29-4cc1-8d2b-31f2b8582a49",
   "metadata": {},
   "source": [
    "### <주의할 점>"
   ]
  },
  {
   "cell_type": "code",
   "execution_count": 16,
   "id": "25748001-37a5-4300-9b85-3dd00b735b6d",
   "metadata": {},
   "outputs": [
    {
     "data": {
      "text/plain": [
       "dict"
      ]
     },
     "execution_count": 16,
     "metadata": {},
     "output_type": "execute_result"
    }
   ],
   "source": [
    "c = {}  # 세트가 아닌 딕셔너리로 생성됨\n",
    "type(c)"
   ]
  },
  {
   "cell_type": "code",
   "execution_count": 18,
   "id": "c6d2f949-474e-48bf-b92a-4f6b14602b7c",
   "metadata": {},
   "outputs": [
    {
     "ename": "TypeError",
     "evalue": "unhashable type: 'set'",
     "output_type": "error",
     "traceback": [
      "\u001b[1;31m---------------------------------------------------------------------------\u001b[0m",
      "\u001b[1;31mTypeError\u001b[0m                                 Traceback (most recent call last)",
      "Cell \u001b[1;32mIn[18], line 2\u001b[0m\n\u001b[0;32m      1\u001b[0m \u001b[38;5;66;03m# 세트 안에 세트를 넣을 수 없음\u001b[39;00m\n\u001b[1;32m----> 2\u001b[0m A \u001b[38;5;241m=\u001b[39m {{\u001b[38;5;241m1\u001b[39m,\u001b[38;5;241m2\u001b[39m}, {\u001b[38;5;241m3\u001b[39m,\u001b[38;5;241m4\u001b[39m}}\n",
      "\u001b[1;31mTypeError\u001b[0m: unhashable type: 'set'"
     ]
    }
   ],
   "source": [
    "# 세트 안에 세트를 넣을 수 없음\n",
    "A = {{1,2}, {3,4}}"
   ]
  },
  {
   "cell_type": "markdown",
   "id": "3f55c4ce-7940-46b8-b5d1-1e72f3eedb9c",
   "metadata": {},
   "source": [
    "## 2. 집합 연산자"
   ]
  },
  {
   "cell_type": "markdown",
   "id": "b9697211-4b75-43b0-a0ba-872c5694553e",
   "metadata": {},
   "source": [
    "### (1) 합집합\n",
    "#### 세트1 | 세트2\n",
    "#### set.union(세트1, 세트2)"
   ]
  },
  {
   "cell_type": "code",
   "execution_count": 19,
   "id": "3a9a07f3-6484-4b10-a989-263ff17ca3e8",
   "metadata": {},
   "outputs": [
    {
     "data": {
      "text/plain": [
       "{1, 2, 3, 4, 5, 6}"
      ]
     },
     "execution_count": 19,
     "metadata": {},
     "output_type": "execute_result"
    }
   ],
   "source": [
    "a = {1, 2, 3, 4}\n",
    "b = {3, 4, 5, 6}\n",
    "a|b"
   ]
  },
  {
   "cell_type": "code",
   "execution_count": 20,
   "id": "e8ff7cb6-c15a-447e-b39c-52c03ec63af0",
   "metadata": {},
   "outputs": [
    {
     "data": {
      "text/plain": [
       "{1, 2, 3, 4, 5, 6}"
      ]
     },
     "execution_count": 20,
     "metadata": {},
     "output_type": "execute_result"
    }
   ],
   "source": [
    "set.union(a,b)"
   ]
  },
  {
   "cell_type": "markdown",
   "id": "39676f16-bc90-47e0-ba9f-a71e60e07fd9",
   "metadata": {},
   "source": [
    "### (2) 교집합"
   ]
  },
  {
   "cell_type": "markdown",
   "id": "913b5773-41c5-48c6-aa38-0a0c910b3865",
   "metadata": {},
   "source": [
    "#### 세트1 & 세트2\n",
    "#### set.intersection(a,b)"
   ]
  },
  {
   "cell_type": "code",
   "execution_count": 21,
   "id": "515f04f3-acaa-4b94-9495-050488c32ff5",
   "metadata": {},
   "outputs": [
    {
     "data": {
      "text/plain": [
       "{3, 4}"
      ]
     },
     "execution_count": 21,
     "metadata": {},
     "output_type": "execute_result"
    }
   ],
   "source": [
    "a & b"
   ]
  },
  {
   "cell_type": "code",
   "execution_count": 24,
   "id": "9ef21f45-4ca8-42d2-87e2-e6d07a625ea3",
   "metadata": {},
   "outputs": [
    {
     "data": {
      "text/plain": [
       "{3, 4}"
      ]
     },
     "execution_count": 24,
     "metadata": {},
     "output_type": "execute_result"
    }
   ],
   "source": [
    "set.intersection(a,b)"
   ]
  },
  {
   "cell_type": "markdown",
   "id": "0eec3916-b95c-4971-b72c-1c44494bad3a",
   "metadata": {},
   "source": [
    "### (3) 차집합"
   ]
  },
  {
   "cell_type": "markdown",
   "id": "6d02223a-1f2b-450b-b0c5-840eb6b29fdc",
   "metadata": {},
   "source": [
    "#### 세트1 - 세트2\n",
    "#### difference()"
   ]
  },
  {
   "cell_type": "code",
   "execution_count": 26,
   "id": "d0bebd58-212d-4fec-be15-8198a0ea891c",
   "metadata": {},
   "outputs": [
    {
     "data": {
      "text/plain": [
       "{1, 2}"
      ]
     },
     "execution_count": 26,
     "metadata": {},
     "output_type": "execute_result"
    }
   ],
   "source": [
    "a - b"
   ]
  },
  {
   "cell_type": "code",
   "execution_count": 27,
   "id": "52439085-f738-4386-90db-bea8407de94e",
   "metadata": {},
   "outputs": [
    {
     "data": {
      "text/plain": [
       "{1, 2}"
      ]
     },
     "execution_count": 27,
     "metadata": {},
     "output_type": "execute_result"
    }
   ],
   "source": [
    "set.difference(a,b)"
   ]
  },
  {
   "cell_type": "code",
   "execution_count": 28,
   "id": "d985f7b0-eda5-4085-88b4-685baa4466ab",
   "metadata": {},
   "outputs": [
    {
     "data": {
      "text/plain": [
       "{5, 6}"
      ]
     },
     "execution_count": 28,
     "metadata": {},
     "output_type": "execute_result"
    }
   ],
   "source": [
    "set.difference(b,a)"
   ]
  },
  {
   "cell_type": "markdown",
   "id": "1e975fb1-0184-44bb-aeec-715dda5de838",
   "metadata": {},
   "source": [
    "### (4) Symmetric Difference(대칭 차집합)"
   ]
  },
  {
   "cell_type": "markdown",
   "id": "03eea9e1-2909-470c-8805-eb73e3b885d7",
   "metadata": {},
   "source": [
    "#### 세트1^세트2\n",
    "#### symmetric_difference()"
   ]
  },
  {
   "cell_type": "markdown",
   "id": "786bf499-412d-4e6c-9c6c-049f0248db26",
   "metadata": {},
   "source": [
    "#### XOR 은 서로 같으면 거짓(0), 다르면 참 (1)"
   ]
  },
  {
   "cell_type": "code",
   "execution_count": 29,
   "id": "09d70318-49d3-4d18-9060-784a883f4f2c",
   "metadata": {},
   "outputs": [
    {
     "data": {
      "text/plain": [
       "{1, 2, 5, 6}"
      ]
     },
     "execution_count": 29,
     "metadata": {},
     "output_type": "execute_result"
    }
   ],
   "source": [
    "a^b"
   ]
  },
  {
   "cell_type": "code",
   "execution_count": 30,
   "id": "c7a130a5-1e36-4a2f-bd37-11fd0136b266",
   "metadata": {},
   "outputs": [
    {
     "data": {
      "text/plain": [
       "{1, 2, 5, 6}"
      ]
     },
     "execution_count": 30,
     "metadata": {},
     "output_type": "execute_result"
    }
   ],
   "source": [
    "set.symmetric_difference(a,b)"
   ]
  },
  {
   "cell_type": "markdown",
   "id": "140f0635-5774-45dd-9387-6fb97f6360b8",
   "metadata": {},
   "source": [
    "### (5) 집합 연산 후 할당하기 "
   ]
  },
  {
   "cell_type": "markdown",
   "id": "89bd7c93-1fff-4b86-af48-fe40e193fa15",
   "metadata": {},
   "source": [
    "#### 세트1 |= 세트2, 세트1.update(세트2)\n",
    "#### 세트1 &= 세트2, 세트1.intersection_update(세트2)\n",
    "#### 세트1 -= 세트2, 세트1.difference_update(세트2)\n",
    "#### 세트1 ^= 세트2, 세트1.symmetric_difference_update(세트2)"
   ]
  },
  {
   "cell_type": "code",
   "execution_count": 31,
   "id": "eea9e0ff-ad29-4caa-8ad5-f71fee12c12a",
   "metadata": {},
   "outputs": [
    {
     "data": {
      "text/plain": [
       "{2, 3}"
      ]
     },
     "execution_count": 31,
     "metadata": {},
     "output_type": "execute_result"
    }
   ],
   "source": [
    "a = {1, 2, 3, 4}\n",
    "a &= {2, 3, 5, 6}\n",
    "a"
   ]
  },
  {
   "cell_type": "markdown",
   "id": "672f9caf-bc62-4a11-9b52-821eeb2687dd",
   "metadata": {},
   "source": [
    "### (6) 부분집합, 상위집합"
   ]
  },
  {
   "cell_type": "code",
   "execution_count": 33,
   "id": "895a8f3c-0290-4f37-bdc7-9d30a956123e",
   "metadata": {},
   "outputs": [
    {
     "data": {
      "text/plain": [
       "True"
      ]
     },
     "execution_count": 33,
     "metadata": {},
     "output_type": "execute_result"
    }
   ],
   "source": [
    "# <=, issubset() : 현재세트가 다른 세트의 부분집합인가.\n",
    "a = {1, 2, 3, 4}\n",
    "a <= {1, 2, 3, 4, 5}"
   ]
  },
  {
   "cell_type": "code",
   "execution_count": 36,
   "id": "c723c852-31e0-425a-bde1-d046b73262ab",
   "metadata": {},
   "outputs": [
    {
     "data": {
      "text/plain": [
       "True"
      ]
     },
     "execution_count": 36,
     "metadata": {},
     "output_type": "execute_result"
    }
   ],
   "source": [
    "# >=, issupperset() : 현재세트가 다른 세트의 상위 집한인가.\n",
    "a = {1, 2, 3, 4, 5}\n",
    "a >= {1, 2}"
   ]
  },
  {
   "cell_type": "code",
   "execution_count": 35,
   "id": "e0dd0482-e669-4956-a9ae-017c87d8a42d",
   "metadata": {},
   "outputs": [
    {
     "data": {
      "text/plain": [
       "True"
      ]
     },
     "execution_count": 35,
     "metadata": {},
     "output_type": "execute_result"
    }
   ],
   "source": [
    "a.issuperset({1,2})"
   ]
  },
  {
   "cell_type": "code",
   "execution_count": 37,
   "id": "1c053310-79f5-4a0c-a23e-d27eca43b117",
   "metadata": {},
   "outputs": [],
   "source": [
    "# == : 같은 집합인지 \n",
    "# != : 다른 집합인지"
   ]
  },
  {
   "cell_type": "markdown",
   "id": "a6947b37-8873-4c88-a6d3-6ab0bde287d0",
   "metadata": {},
   "source": [
    "### (7) 세트가 겹치지 않는지 확인"
   ]
  },
  {
   "cell_type": "markdown",
   "id": "79ba39e3-2583-4701-acc1-9e309d86fb0d",
   "metadata": {},
   "source": [
    "#### 세트1.isdisjoint(세트2)"
   ]
  },
  {
   "cell_type": "code",
   "execution_count": 41,
   "id": "0a4feb94-42ab-4de6-9ed9-98ce43c4d8c0",
   "metadata": {},
   "outputs": [
    {
     "data": {
      "text/plain": [
       "False"
      ]
     },
     "execution_count": 41,
     "metadata": {},
     "output_type": "execute_result"
    }
   ],
   "source": [
    "a = {1, 2, 3, 4}\n",
    "a.isdisjoint({3, 6, 7, 9})"
   ]
  },
  {
   "cell_type": "markdown",
   "id": "fbed2e19-5055-43fc-9f25-18a1b78179ce",
   "metadata": {},
   "source": [
    "## 3. 세트 조작하기"
   ]
  },
  {
   "cell_type": "markdown",
   "id": "73b0983f-e9d4-4749-8f4e-e0af77d593f5",
   "metadata": {},
   "source": [
    "#### (1) 세트에 요소 추가"
   ]
  },
  {
   "cell_type": "code",
   "execution_count": 42,
   "id": "eed04763-7253-437b-9cc1-dbe13541ca63",
   "metadata": {},
   "outputs": [
    {
     "data": {
      "text/plain": [
       "{1, 2, 3, 4, 5}"
      ]
     },
     "execution_count": 42,
     "metadata": {},
     "output_type": "execute_result"
    }
   ],
   "source": [
    "a = {1, 2, 3, 4}\n",
    "a.add(5)\n",
    "a"
   ]
  },
  {
   "cell_type": "markdown",
   "id": "328eb98f-c548-48b8-9748-dd21cb956856",
   "metadata": {},
   "source": [
    "#### (2)특정 요소 삭제"
   ]
  },
  {
   "cell_type": "code",
   "execution_count": 43,
   "id": "a9290ac1-bf24-4363-9c4d-b9e92541f718",
   "metadata": {},
   "outputs": [],
   "source": [
    "# remove()\n",
    "a.remove(3)"
   ]
  },
  {
   "cell_type": "code",
   "execution_count": 44,
   "id": "d49cd66b-d585-4284-8edd-39aad34dafff",
   "metadata": {},
   "outputs": [
    {
     "data": {
      "text/plain": [
       "{1, 2, 4, 5}"
      ]
     },
     "execution_count": 44,
     "metadata": {},
     "output_type": "execute_result"
    }
   ],
   "source": [
    "a"
   ]
  },
  {
   "cell_type": "code",
   "execution_count": 45,
   "id": "5f367566-301f-45c0-9184-66a35e766c4d",
   "metadata": {},
   "outputs": [
    {
     "ename": "KeyError",
     "evalue": "6",
     "output_type": "error",
     "traceback": [
      "\u001b[1;31m---------------------------------------------------------------------------\u001b[0m",
      "\u001b[1;31mKeyError\u001b[0m                                  Traceback (most recent call last)",
      "Cell \u001b[1;32mIn[45], line 1\u001b[0m\n\u001b[1;32m----> 1\u001b[0m a\u001b[38;5;241m.\u001b[39mremove(\u001b[38;5;241m6\u001b[39m)\n",
      "\u001b[1;31mKeyError\u001b[0m: 6"
     ]
    }
   ],
   "source": [
    "a.remove(6) # 없는 요소를 삭제하면 에러 발생"
   ]
  },
  {
   "cell_type": "code",
   "execution_count": 46,
   "id": "e710ced0-5896-4540-86bf-82d0730407c0",
   "metadata": {},
   "outputs": [],
   "source": [
    "# discard() - 특정 요소 삭제. 요소가 없어도 에러 발생하지 않음\n",
    "a.discard(6)"
   ]
  },
  {
   "cell_type": "code",
   "execution_count": 47,
   "id": "95dd2eb9-18d1-410e-8e8b-3b6abf33cb45",
   "metadata": {},
   "outputs": [
    {
     "data": {
      "text/plain": [
       "1"
      ]
     },
     "execution_count": 47,
     "metadata": {},
     "output_type": "execute_result"
    }
   ],
   "source": [
    "# pop() - 임의의 요소 삭제\n",
    "a = {1, 2, 3, 4}\n",
    "a.pop()"
   ]
  },
  {
   "cell_type": "code",
   "execution_count": 48,
   "id": "a681dc11-7a27-43b7-8146-b93870d0e79b",
   "metadata": {},
   "outputs": [
    {
     "data": {
      "text/plain": [
       "set()"
      ]
     },
     "execution_count": 48,
     "metadata": {},
     "output_type": "execute_result"
    }
   ],
   "source": [
    "# clear() - 모든 요소 삭제\n",
    "a.clear()\n",
    "a"
   ]
  },
  {
   "cell_type": "markdown",
   "id": "48acb959-bc3a-4fd7-b9b2-35d8da09f290",
   "metadata": {},
   "source": [
    "### (3) 세트 요소의 갯수"
   ]
  },
  {
   "cell_type": "code",
   "execution_count": 49,
   "id": "a10fdccf-1459-452d-a2b7-f6c7ba59a6ff",
   "metadata": {},
   "outputs": [
    {
     "data": {
      "text/plain": [
       "4"
      ]
     },
     "execution_count": 49,
     "metadata": {},
     "output_type": "execute_result"
    }
   ],
   "source": [
    "# len()\n",
    "a = {1, 2, 3, 4}\n",
    "len(a)"
   ]
  },
  {
   "cell_type": "markdown",
   "id": "f994999c-1b48-47cf-9046-b3beb9e94604",
   "metadata": {},
   "source": [
    "## 4. 세트의 할당과 복사"
   ]
  },
  {
   "cell_type": "code",
   "execution_count": 50,
   "id": "482a2b48-be1a-4308-a17d-a65a94624244",
   "metadata": {},
   "outputs": [
    {
     "data": {
      "text/plain": [
       "{1, 2, 3, 4}"
      ]
     },
     "execution_count": 50,
     "metadata": {},
     "output_type": "execute_result"
    }
   ],
   "source": [
    "a = {1, 2, 3, 4}\n",
    "b = a\n",
    "b"
   ]
  },
  {
   "cell_type": "code",
   "execution_count": 52,
   "id": "26305ea8-0d67-43a0-9fa5-022c7dc839b9",
   "metadata": {},
   "outputs": [
    {
     "data": {
      "text/plain": [
       "True"
      ]
     },
     "execution_count": 52,
     "metadata": {},
     "output_type": "execute_result"
    }
   ],
   "source": [
    "a is b # 두 객체가 서로 같다"
   ]
  },
  {
   "cell_type": "code",
   "execution_count": 53,
   "id": "778d9963-5fe8-4aec-a2ab-ec09219a92f1",
   "metadata": {},
   "outputs": [
    {
     "data": {
      "text/plain": [
       "{1, 2, 3, 4, 5}"
      ]
     },
     "execution_count": 53,
     "metadata": {},
     "output_type": "execute_result"
    }
   ],
   "source": [
    "b.add(5)\n",
    "a"
   ]
  },
  {
   "cell_type": "code",
   "execution_count": 54,
   "id": "85182eeb-585d-4c9e-8597-73c0a62b2a52",
   "metadata": {},
   "outputs": [],
   "source": [
    "# 두 세트를 별개의 객체로 만드려면 copy()사용\n",
    "a = {1, 2, 3, 4}\n",
    "b = a.copy()"
   ]
  },
  {
   "cell_type": "code",
   "execution_count": 55,
   "id": "9839b758-e004-4dc1-aeda-3a3c75ed07ae",
   "metadata": {},
   "outputs": [],
   "source": [
    "b.add(5)"
   ]
  },
  {
   "cell_type": "code",
   "execution_count": 56,
   "id": "97e513ec-d641-4b6c-a7c2-8852a02bfa83",
   "metadata": {},
   "outputs": [
    {
     "data": {
      "text/plain": [
       "{1, 2, 3, 4}"
      ]
     },
     "execution_count": 56,
     "metadata": {},
     "output_type": "execute_result"
    }
   ],
   "source": [
    "a"
   ]
  },
  {
   "cell_type": "code",
   "execution_count": 57,
   "id": "3af6f1b2-0d53-47d4-a1ef-5c6a6aded0f5",
   "metadata": {},
   "outputs": [
    {
     "data": {
      "text/plain": [
       "{1, 2, 3, 4, 5}"
      ]
     },
     "execution_count": 57,
     "metadata": {},
     "output_type": "execute_result"
    }
   ],
   "source": [
    "b"
   ]
  },
  {
   "cell_type": "code",
   "execution_count": 58,
   "id": "7f0ec20f-34d1-4ebc-b093-8db61002c7cf",
   "metadata": {},
   "outputs": [
    {
     "data": {
      "text/plain": [
       "False"
      ]
     },
     "execution_count": 58,
     "metadata": {},
     "output_type": "execute_result"
    }
   ],
   "source": [
    "a is b"
   ]
  },
  {
   "cell_type": "code",
   "execution_count": 60,
   "id": "ace95bc9-7857-432c-9b6a-ee6b6df9558d",
   "metadata": {},
   "outputs": [
    {
     "data": {
      "text/plain": [
       "False"
      ]
     },
     "execution_count": 60,
     "metadata": {},
     "output_type": "execute_result"
    }
   ],
   "source": [
    "a == b # 두 객체가 내용이 같은지 비교"
   ]
  },
  {
   "cell_type": "markdown",
   "id": "f88005fa-60ad-4a89-8b2b-6e189686f3de",
   "metadata": {},
   "source": [
    "### (5) 반복문으로 세트 출력하기"
   ]
  },
  {
   "cell_type": "code",
   "execution_count": 61,
   "id": "b983c39b-dbd7-479c-bc87-4c9caa7bd6bd",
   "metadata": {},
   "outputs": [
    {
     "name": "stdout",
     "output_type": "stream",
     "text": [
      "1\n",
      "2\n",
      "3\n",
      "4\n"
     ]
    }
   ],
   "source": [
    "# for 변수 in 세트 :\n",
    "a = {1, 2, 3, 4}\n",
    "for i in a:\n",
    "    print(i)"
   ]
  },
  {
   "cell_type": "markdown",
   "id": "5d678321-511d-41bc-ad95-e1dcafd6e0af",
   "metadata": {},
   "source": [
    "## 5. 세트 표현식"
   ]
  },
  {
   "cell_type": "code",
   "execution_count": 62,
   "id": "40047103-1b26-4f96-96fc-7de2c89c974f",
   "metadata": {},
   "outputs": [
    {
     "data": {
      "text/plain": [
       "{'a', 'e', 'l', 'p'}"
      ]
     },
     "execution_count": 62,
     "metadata": {},
     "output_type": "execute_result"
    }
   ],
   "source": [
    "a = {i for i in 'apple'}\n",
    "a"
   ]
  },
  {
   "cell_type": "code",
   "execution_count": 63,
   "id": "3c4a5264-9b34-4a1c-848d-28f6f226cfe1",
   "metadata": {},
   "outputs": [
    {
     "data": {
      "text/plain": [
       "{'a', 'e', 'l', 'p'}"
      ]
     },
     "execution_count": 63,
     "metadata": {},
     "output_type": "execute_result"
    }
   ],
   "source": [
    "set(i for i in 'apple')"
   ]
  },
  {
   "cell_type": "code",
   "execution_count": 65,
   "id": "05129759-936b-400f-b76c-9fa0eb320753",
   "metadata": {},
   "outputs": [
    {
     "data": {
      "text/plain": [
       "{0, 2, 4, 6, 8}"
      ]
     },
     "execution_count": 65,
     "metadata": {},
     "output_type": "execute_result"
    }
   ],
   "source": [
    "# 세트 표현식에 if 조건문 사용,\n",
    "a = {i for i in range(10) if i % 2 ==0}\n",
    "a"
   ]
  },
  {
   "cell_type": "markdown",
   "id": "c3d370d0-9349-4e3c-a970-181480405ad4",
   "metadata": {},
   "source": [
    "### <연습문제>\n",
    "#### 1 ~ 100까지 숫자 중 3과 5의 공배수를 세트로 출력하시오\n",
    "#### 3의 배수 집합, 5의 배수 집합을 구하고 교집합을 구함."
   ]
  },
  {
   "cell_type": "code",
   "execution_count": 69,
   "id": "88d8f2fe-7b1a-4377-8b09-ac0391176f0d",
   "metadata": {},
   "outputs": [
    {
     "data": {
      "text/plain": [
       "{15, 30, 45, 60, 75, 90}"
      ]
     },
     "execution_count": 69,
     "metadata": {},
     "output_type": "execute_result"
    }
   ],
   "source": [
    "a = {i for i in range(1,101) if i % 3 == 0}\n",
    "b = {i for i in range(1,101) if i % 5 == 0}\n",
    "a & b"
   ]
  },
  {
   "cell_type": "markdown",
   "id": "6c20b145-41de-4a7d-85a0-61340f8aa434",
   "metadata": {},
   "source": [
    "### <연습문제2>\n",
    "#### 표준입력으로 두개의 정수를 입력\n",
    "#### 두 숫자의 공약수를 세트로 출력"
   ]
  },
  {
   "cell_type": "code",
   "execution_count": 78,
   "id": "1924e514-fedf-4483-b9da-7a0c930cf8ce",
   "metadata": {},
   "outputs": [
    {
     "name": "stdin",
     "output_type": "stream",
     "text": [
      " 20 30\n"
     ]
    },
    {
     "data": {
      "text/plain": [
       "{1, 2, 5, 10}"
      ]
     },
     "execution_count": 78,
     "metadata": {},
     "output_type": "execute_result"
    }
   ],
   "source": [
    "a, b = map(int, input().split())\n",
    "c = {i for i in range(1,a) if a % i == 0}\n",
    "d = {i for i in range(1,b) if b % i == 0}\n",
    "c & d"
   ]
  },
  {
   "cell_type": "code",
   "execution_count": null,
   "id": "bef75fb2-89bd-4ba7-8dc7-6885fa804571",
   "metadata": {},
   "outputs": [],
   "source": []
  }
 ],
 "metadata": {
  "kernelspec": {
   "display_name": "Python 3 (ipykernel)",
   "language": "python",
   "name": "python3"
  },
  "language_info": {
   "codemirror_mode": {
    "name": "ipython",
    "version": 3
   },
   "file_extension": ".py",
   "mimetype": "text/x-python",
   "name": "python",
   "nbconvert_exporter": "python",
   "pygments_lexer": "ipython3",
   "version": "3.11.7"
  }
 },
 "nbformat": 4,
 "nbformat_minor": 5
}
