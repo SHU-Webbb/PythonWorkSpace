{
 "cells": [
  {
   "cell_type": "code",
   "execution_count": 1,
   "id": "aa1c7d8c-7ec7-4de7-8c7e-5810166dafd8",
   "metadata": {},
   "outputs": [
    {
     "data": {
      "text/plain": [
       "6"
      ]
     },
     "execution_count": 1,
     "metadata": {},
     "output_type": "execute_result"
    }
   ],
   "source": [
    "2*3"
   ]
  },
  {
   "cell_type": "code",
   "execution_count": 4,
   "id": "c06a9508-934b-4307-85dd-c07733242bec",
   "metadata": {},
   "outputs": [
    {
     "data": {
      "text/plain": [
       "1"
      ]
     },
     "execution_count": 4,
     "metadata": {},
     "output_type": "execute_result"
    }
   ],
   "source": [
    "4//3"
   ]
  },
  {
   "cell_type": "markdown",
   "id": "83c19824-3fe0-471f-8cc0-42149a5926a4",
   "metadata": {},
   "source": [
    "### <연습문제>\n",
    "#### 1. 아파트에서 소음이 가장 심한 층수 출력하기\r\n",
    "#### 국립 환경과학원에서 아파트에서 소음이 가장 심한 층수를 구하는 계산식을 발표했다. 소음이 가장 심한 층은 0.2467 * 도로와의 거리(m) + 4.159\r\n",
    "#### 도로와의 거리: 12m\r\n",
    "#### 단 층수를 출력할 대는 소수점 이하는 버린다. "
   ]
  },
  {
   "cell_type": "code",
   "execution_count": 7,
   "id": "e6a4c92f-da54-43d8-8c31-aad2aabc7d6c",
   "metadata": {},
   "outputs": [
    {
     "name": "stdout",
     "output_type": "stream",
     "text": [
      "7\n"
     ]
    }
   ],
   "source": [
    "print(int(0.2467*12+4.159))"
   ]
  },
  {
   "cell_type": "markdown",
   "id": "11d4d9d7-2bf3-478e-adfe-4e73c1b29903",
   "metadata": {},
   "source": [
    "### 변수 만들기\n"
   ]
  },
  {
   "cell_type": "code",
   "execution_count": 6,
   "id": "1ea2b8f5-88b1-4f96-87fe-fbcf4ccef2e7",
   "metadata": {},
   "outputs": [
    {
     "name": "stdout",
     "output_type": "stream",
     "text": [
      "10\n"
     ]
    }
   ],
   "source": [
    "x = 10\n",
    "print(x)"
   ]
  },
  {
   "cell_type": "code",
   "execution_count": 8,
   "id": "9e9a4fad-b7d2-4902-b91d-3de8e8c705f8",
   "metadata": {},
   "outputs": [
    {
     "name": "stdout",
     "output_type": "stream",
     "text": [
      "Hello, World!\n"
     ]
    }
   ],
   "source": [
    "y = 'Hello, World!'\n",
    "print(y)"
   ]
  },
  {
   "cell_type": "code",
   "execution_count": 9,
   "id": "cc346217-2471-46dc-a289-61714ac501d7",
   "metadata": {},
   "outputs": [
    {
     "data": {
      "text/plain": [
       "str"
      ]
     },
     "execution_count": 9,
     "metadata": {},
     "output_type": "execute_result"
    }
   ],
   "source": [
    "type(y)"
   ]
  },
  {
   "cell_type": "markdown",
   "id": "fa4bee7a-342e-436b-871f-b6ae505012ac",
   "metadata": {},
   "source": [
    "#### 여러 개의 변수에 한번에 값 할당하기"
   ]
  },
  {
   "cell_type": "code",
   "execution_count": 12,
   "id": "b0c0ea9d-36fc-4250-807e-8f7ec148686b",
   "metadata": {},
   "outputs": [
    {
     "name": "stdout",
     "output_type": "stream",
     "text": [
      "10\n",
      "50\n"
     ]
    }
   ],
   "source": [
    "x, y, z = 10, 20, 30\n",
    "print(x)\n",
    "print(y+z)"
   ]
  },
  {
   "cell_type": "markdown",
   "id": "c12d578e-49e4-41a3-a367-f8db473f52b7",
   "metadata": {},
   "source": [
    "### 모든 변수에 같은 값을 할당"
   ]
  },
  {
   "cell_type": "code",
   "execution_count": 13,
   "id": "3931a057-e796-40db-8976-1160fb9863f4",
   "metadata": {},
   "outputs": [
    {
     "data": {
      "text/plain": [
       "10"
      ]
     },
     "execution_count": 13,
     "metadata": {},
     "output_type": "execute_result"
    }
   ],
   "source": [
    "x = y = z = 10\n",
    "x"
   ]
  },
  {
   "cell_type": "code",
   "execution_count": 14,
   "id": "5171800f-a57e-41e0-8f59-f4991b0d6d78",
   "metadata": {},
   "outputs": [
    {
     "data": {
      "text/plain": [
       "10"
      ]
     },
     "execution_count": 14,
     "metadata": {},
     "output_type": "execute_result"
    }
   ],
   "source": [
    "y"
   ]
  },
  {
   "cell_type": "code",
   "execution_count": 15,
   "id": "62e4303f-a5cb-44ef-8f64-c2a38522633c",
   "metadata": {},
   "outputs": [
    {
     "data": {
      "text/plain": [
       "10"
      ]
     },
     "execution_count": 15,
     "metadata": {},
     "output_type": "execute_result"
    }
   ],
   "source": [
    "z"
   ]
  },
  {
   "cell_type": "markdown",
   "id": "f95b1305-263e-4c2a-8240-a69b74938e77",
   "metadata": {},
   "source": [
    "### 두 변수의 값을 바꿀 경우"
   ]
  },
  {
   "cell_type": "code",
   "execution_count": 16,
   "id": "3ebd8779-75a9-405e-babb-cd548de8c5da",
   "metadata": {},
   "outputs": [
    {
     "data": {
      "text/plain": [
       "10"
      ]
     },
     "execution_count": 16,
     "metadata": {},
     "output_type": "execute_result"
    }
   ],
   "source": [
    "x, y = 10, 20\n",
    "x"
   ]
  },
  {
   "cell_type": "code",
   "execution_count": 17,
   "id": "6e28f5ac-9e13-4d56-80a0-8e9fea0990e1",
   "metadata": {},
   "outputs": [],
   "source": [
    "x, y = y, x"
   ]
  },
  {
   "cell_type": "code",
   "execution_count": 18,
   "id": "84978c69-d7ab-4168-86d4-ef4c6916693e",
   "metadata": {},
   "outputs": [
    {
     "data": {
      "text/plain": [
       "20"
      ]
     },
     "execution_count": 18,
     "metadata": {},
     "output_type": "execute_result"
    }
   ],
   "source": [
    "x"
   ]
  },
  {
   "cell_type": "markdown",
   "id": "aee40ab7-34a2-4a61-bc58-56c2de6b9ccd",
   "metadata": {},
   "source": [
    "### 변수 삭제하기 "
   ]
  },
  {
   "cell_type": "code",
   "execution_count": 19,
   "id": "61055184-25b6-47c9-9f15-8e33d186f19c",
   "metadata": {},
   "outputs": [
    {
     "ename": "NameError",
     "evalue": "name 'x' is not defined",
     "output_type": "error",
     "traceback": [
      "\u001b[1;31m---------------------------------------------------------------------------\u001b[0m",
      "\u001b[1;31mNameError\u001b[0m                                 Traceback (most recent call last)",
      "Cell \u001b[1;32mIn[19], line 3\u001b[0m\n\u001b[0;32m      1\u001b[0m x \u001b[38;5;241m=\u001b[39m \u001b[38;5;241m10\u001b[39m\n\u001b[0;32m      2\u001b[0m \u001b[38;5;28;01mdel\u001b[39;00m x\n\u001b[1;32m----> 3\u001b[0m x\n",
      "\u001b[1;31mNameError\u001b[0m: name 'x' is not defined"
     ]
    }
   ],
   "source": [
    "x = 10\n",
    "del x\n",
    "x"
   ]
  },
  {
   "cell_type": "markdown",
   "id": "302776ac-7e49-443a-81a4-fc955a2c37fd",
   "metadata": {},
   "source": [
    "### 값이 비어있는 변수 만들기"
   ]
  },
  {
   "cell_type": "code",
   "execution_count": 21,
   "id": "666a714f-7961-4361-bd71-4964a3ad1b1a",
   "metadata": {},
   "outputs": [],
   "source": [
    "x = None"
   ]
  },
  {
   "cell_type": "code",
   "execution_count": 22,
   "id": "ed15d67a-1c1e-4320-b87a-1a278e680c64",
   "metadata": {},
   "outputs": [
    {
     "name": "stdout",
     "output_type": "stream",
     "text": [
      "None\n"
     ]
    }
   ],
   "source": [
    "print(x)"
   ]
  },
  {
   "cell_type": "markdown",
   "id": "69a6a1ab-1a20-444c-ae31-d273813576ff",
   "metadata": {},
   "source": [
    "### 변수를 연산에 사용하기"
   ]
  },
  {
   "cell_type": "code",
   "execution_count": 23,
   "id": "0de7b62e-3356-4335-b83f-840bbfe02296",
   "metadata": {},
   "outputs": [
    {
     "name": "stdout",
     "output_type": "stream",
     "text": [
      "15\n"
     ]
    }
   ],
   "source": [
    "a = 10\n",
    "b = 5\n",
    "c = a + b\n",
    "print(c)"
   ]
  },
  {
   "cell_type": "code",
   "execution_count": 24,
   "id": "e677bdde-d59f-4795-b6c2-fffd9d5c31cb",
   "metadata": {},
   "outputs": [
    {
     "data": {
      "text/plain": [
       "30"
      ]
     },
     "execution_count": 24,
     "metadata": {},
     "output_type": "execute_result"
    }
   ],
   "source": [
    "a + 20"
   ]
  },
  {
   "cell_type": "code",
   "execution_count": 25,
   "id": "bd333a95-12db-4cc6-ad00-806282c81aec",
   "metadata": {},
   "outputs": [
    {
     "data": {
      "text/plain": [
       "10"
      ]
     },
     "execution_count": 25,
     "metadata": {},
     "output_type": "execute_result"
    }
   ],
   "source": [
    "a"
   ]
  },
  {
   "cell_type": "code",
   "execution_count": 26,
   "id": "d877c644-7980-4a8e-840d-d372cab53a0e",
   "metadata": {},
   "outputs": [],
   "source": [
    "a += 20"
   ]
  },
  {
   "cell_type": "code",
   "execution_count": 27,
   "id": "6438282f-9e9b-46ae-94d1-8906ec78392a",
   "metadata": {},
   "outputs": [
    {
     "data": {
      "text/plain": [
       "30"
      ]
     },
     "execution_count": 27,
     "metadata": {},
     "output_type": "execute_result"
    }
   ],
   "source": [
    "a"
   ]
  },
  {
   "cell_type": "markdown",
   "id": "0e7ab794-abd7-42fd-9cc9-925e24c02fd9",
   "metadata": {},
   "source": [
    "### -=, *=, /+, %= "
   ]
  },
  {
   "cell_type": "markdown",
   "id": "82d8f8e6-6f7c-4660-8e50-967974666d67",
   "metadata": {},
   "source": [
    "### 변수에 입력 값 할당하기 "
   ]
  },
  {
   "cell_type": "code",
   "execution_count": 29,
   "id": "c9cde28e-b755-4e0a-b04c-314067724d94",
   "metadata": {},
   "outputs": [
    {
     "name": "stdin",
     "output_type": "stream",
     "text": [
      " hello world\n"
     ]
    },
    {
     "data": {
      "text/plain": [
       "'hello world'"
      ]
     },
     "execution_count": 29,
     "metadata": {},
     "output_type": "execute_result"
    }
   ],
   "source": [
    "input()"
   ]
  },
  {
   "cell_type": "code",
   "execution_count": 30,
   "id": "64a40dee-1df4-4c3c-b943-dfa99769d50f",
   "metadata": {},
   "outputs": [
    {
     "name": "stdin",
     "output_type": "stream",
     "text": [
      " hihi\n"
     ]
    }
   ],
   "source": [
    "a = input()"
   ]
  },
  {
   "cell_type": "code",
   "execution_count": 31,
   "id": "9531b45d-de54-4593-9be8-5ed0f6fd8d8b",
   "metadata": {},
   "outputs": [
    {
     "name": "stdout",
     "output_type": "stream",
     "text": [
      "hihi\n"
     ]
    }
   ],
   "source": [
    "print(a)"
   ]
  },
  {
   "cell_type": "code",
   "execution_count": 32,
   "id": "f47a00a6-4b35-430e-b632-48ed6f3faecd",
   "metadata": {},
   "outputs": [
    {
     "name": "stdin",
     "output_type": "stream",
     "text": [
      "문자열을 입력하세요 :  대박..\n"
     ]
    }
   ],
   "source": [
    "a = input('문자열을 입력하세요 : ')"
   ]
  },
  {
   "cell_type": "code",
   "execution_count": 33,
   "id": "a902a300-24fa-4219-9fa0-84957016193e",
   "metadata": {},
   "outputs": [
    {
     "data": {
      "text/plain": [
       "'대박..'"
      ]
     },
     "execution_count": 33,
     "metadata": {},
     "output_type": "execute_result"
    }
   ],
   "source": [
    "a"
   ]
  },
  {
   "cell_type": "code",
   "execution_count": 34,
   "id": "0df74fa1-7906-4175-99cb-93ca27961b87",
   "metadata": {},
   "outputs": [
    {
     "name": "stdin",
     "output_type": "stream",
     "text": [
      "첫번째 숫자 입력 :  25\n",
      "두번째 숫자 입력 :  15\n"
     ]
    },
    {
     "name": "stdout",
     "output_type": "stream",
     "text": [
      "2515\n"
     ]
    }
   ],
   "source": [
    "a = input('첫번째 숫자 입력 : ')\n",
    "b = input('두번째 숫자 입력 : ')\n",
    "print(a+b)"
   ]
  },
  {
   "cell_type": "code",
   "execution_count": 35,
   "id": "d8bffea2-3970-45c2-9d1e-6523a67ec682",
   "metadata": {},
   "outputs": [
    {
     "data": {
      "text/plain": [
       "str"
      ]
     },
     "execution_count": 35,
     "metadata": {},
     "output_type": "execute_result"
    }
   ],
   "source": [
    "type(a)"
   ]
  },
  {
   "cell_type": "code",
   "execution_count": 36,
   "id": "61ab9506-9772-49b9-a7f3-e8be6b7cefe3",
   "metadata": {},
   "outputs": [
    {
     "name": "stdin",
     "output_type": "stream",
     "text": [
      "첫번째 숫자 입력 :  55\n",
      "두번째 숫자 입력 :  25\n"
     ]
    },
    {
     "name": "stdout",
     "output_type": "stream",
     "text": [
      "80\n"
     ]
    }
   ],
   "source": [
    "a = int(input('첫번째 숫자 입력 : '))\n",
    "b = int(input('두번째 숫자 입력 : '))\n",
    "print(a+b)"
   ]
  },
  {
   "cell_type": "markdown",
   "id": "4f0b3a08-240a-40de-989f-539c3145091e",
   "metadata": {},
   "source": [
    "### 입력 값을 여러 개의 변수에 저장"
   ]
  },
  {
   "cell_type": "code",
   "execution_count": 42,
   "id": "c6f09edb-c34c-4f9e-a6ff-93f8d06c07af",
   "metadata": {},
   "outputs": [
    {
     "name": "stdin",
     "output_type": "stream",
     "text": [
      " 60 70\n"
     ]
    }
   ],
   "source": [
    "x, y = input().split() #입력값을 공백으로 구분하여 입력"
   ]
  },
  {
   "cell_type": "code",
   "execution_count": 43,
   "id": "174248b0-8ae4-46d5-9b89-2a6a5eac4e5f",
   "metadata": {},
   "outputs": [
    {
     "data": {
      "text/plain": [
       "'60'"
      ]
     },
     "execution_count": 43,
     "metadata": {},
     "output_type": "execute_result"
    }
   ],
   "source": [
    "x"
   ]
  },
  {
   "cell_type": "code",
   "execution_count": 44,
   "id": "c11acdc5-e928-4743-981d-5d23fc05a8a1",
   "metadata": {},
   "outputs": [
    {
     "data": {
      "text/plain": [
       "'70'"
      ]
     },
     "execution_count": 44,
     "metadata": {},
     "output_type": "execute_result"
    }
   ],
   "source": [
    "y"
   ]
  },
  {
   "cell_type": "code",
   "execution_count": 45,
   "id": "2736b2b2-f30b-4559-b160-d7c89c2ff554",
   "metadata": {},
   "outputs": [
    {
     "name": "stdin",
     "output_type": "stream",
     "text": [
      " 20,87\n"
     ]
    }
   ],
   "source": [
    "x, y = input().split(',') # 입력 구분값으로 , 를  사용"
   ]
  },
  {
   "cell_type": "code",
   "execution_count": 46,
   "id": "484ee5ca-94e4-4c60-8270-30b8c3ba5350",
   "metadata": {},
   "outputs": [
    {
     "data": {
      "text/plain": [
       "'20'"
      ]
     },
     "execution_count": 46,
     "metadata": {},
     "output_type": "execute_result"
    }
   ],
   "source": [
    "x"
   ]
  },
  {
   "cell_type": "code",
   "execution_count": 47,
   "id": "527b0d2e-6ba6-4c90-8180-aeff363cbb9e",
   "metadata": {},
   "outputs": [
    {
     "data": {
      "text/plain": [
       "'87'"
      ]
     },
     "execution_count": 47,
     "metadata": {},
     "output_type": "execute_result"
    }
   ],
   "source": [
    "y"
   ]
  },
  {
   "cell_type": "markdown",
   "id": "c780f7bd-eb9f-4668-b804-e50c728f4292",
   "metadata": {},
   "source": [
    "### <연습문제>"
   ]
  },
  {
   "cell_type": "markdown",
   "id": "79477f38-8650-4fa4-bf29-b3ce9d277c57",
   "metadata": {},
   "source": [
    "### a, b 변수에 값을 동시에 입력하여 두수를 더한 결과를 출력"
   ]
  },
  {
   "cell_type": "code",
   "execution_count": 57,
   "id": "f14194e0-05b6-4107-813e-165f014d9004",
   "metadata": {},
   "outputs": [
    {
     "name": "stdin",
     "output_type": "stream",
     "text": [
      " 20 30\n"
     ]
    },
    {
     "name": "stdout",
     "output_type": "stream",
     "text": [
      "50\n"
     ]
    }
   ],
   "source": [
    "a, b = input().split()\n",
    "c = int(a) + int(b)\n",
    "print(c)"
   ]
  },
  {
   "cell_type": "markdown",
   "id": "30b01c2a-eaa4-4095-af10-7828ae4852bb",
   "metadata": {},
   "source": [
    "### map()을 사용하여 정수로 변환"
   ]
  },
  {
   "cell_type": "code",
   "execution_count": 58,
   "id": "159c64a4-5dc4-4f58-92bc-f9906f813301",
   "metadata": {},
   "outputs": [
    {
     "name": "stdin",
     "output_type": "stream",
     "text": [
      "두 숫자를 입력 :  35 25\n"
     ]
    },
    {
     "name": "stdout",
     "output_type": "stream",
     "text": [
      "60\n"
     ]
    }
   ],
   "source": [
    "a, b = map(int,input('두 숫자를 입력 : ').split())\n",
    "print(a+b)"
   ]
  },
  {
   "cell_type": "markdown",
   "id": "76ff000e-5aba-4081-9182-900278d9034b",
   "metadata": {},
   "source": [
    "### <연습문제>"
   ]
  },
  {
   "cell_type": "markdown",
   "id": "c7bb44af-3f8f-4018-8f70-62e3ad3bd9eb",
   "metadata": {},
   "source": [
    "### 아래와 같이 두 개의 값을 입력받는다.\n",
    "### 입력된 값을 실수로 변환하여 변수 2개에 저장하고 합을 출력한다.\n",
    "### 입렵값:2.5 3.8"
   ]
  },
  {
   "cell_type": "code",
   "execution_count": 59,
   "id": "945c74e1-4b2f-42a3-8b31-c98a4075ff42",
   "metadata": {},
   "outputs": [
    {
     "name": "stdin",
     "output_type": "stream",
     "text": [
      "두 숫자를 입력 : 2.5 3.8\n"
     ]
    },
    {
     "name": "stdout",
     "output_type": "stream",
     "text": [
      "6.3\n"
     ]
    }
   ],
   "source": [
    "a, b = map(float, input('두 숫자를 입력 :').split())\n",
    "print(a+b)"
   ]
  },
  {
   "cell_type": "markdown",
   "id": "9cfbfb78-f3be-4313-ad88-6c60feb3da5b",
   "metadata": {},
   "source": [
    "#### 2. 평균 점수 구하기\n",
    "#### 표준 입력으로 국어, 영어, 수학, 과학 점수가 입력된다.\n",
    "#### 평균 점수를 출력하는 프로그램을 작성하시오\n",
    "#### input에서 안내 문자열을 출력되지 않는다.\n",
    "#### 평균 점수는 소수점 이하는 잘라버린다."
   ]
  },
  {
   "cell_type": "code",
   "execution_count": 61,
   "id": "072346cf-f0b9-4044-978d-7d94dc55e271",
   "metadata": {},
   "outputs": [
    {
     "name": "stdin",
     "output_type": "stream",
     "text": [
      " 65 98 87 85\n"
     ]
    },
    {
     "name": "stdout",
     "output_type": "stream",
     "text": [
      "83\n"
     ]
    }
   ],
   "source": [
    "a, b, c, d = map(int, input().split())\n",
    "e = int((a+b+c+d)/4)\n",
    "print(e)"
   ]
  },
  {
   "cell_type": "markdown",
   "id": "d037560c-84c2-4a51-8f8e-2805c4636718",
   "metadata": {},
   "source": [
    "### 출력 방법 알아보기"
   ]
  },
  {
   "cell_type": "code",
   "execution_count": 1,
   "id": "5844461e-9108-490f-83cd-ee50d833060a",
   "metadata": {},
   "outputs": [
    {
     "name": "stdout",
     "output_type": "stream",
     "text": [
      "10 20 30\n"
     ]
    }
   ],
   "source": [
    "#여러 개 값 출력\n",
    "print(10, 20, 30)"
   ]
  },
  {
   "cell_type": "code",
   "execution_count": 2,
   "id": "aa620089-7868-4262-9c26-e18f74db539b",
   "metadata": {},
   "outputs": [
    {
     "name": "stdout",
     "output_type": "stream",
     "text": [
      "hello world\n"
     ]
    }
   ],
   "source": [
    "print('hello','world')"
   ]
  },
  {
   "cell_type": "code",
   "execution_count": 3,
   "id": "0e8be575-f06e-4915-ab76-4ab624ddff97",
   "metadata": {},
   "outputs": [
    {
     "name": "stdout",
     "output_type": "stream",
     "text": [
      "10,20,30\n"
     ]
    }
   ],
   "source": [
    "print(10, 20, 30, sep=',') # sep - separator의 약자"
   ]
  },
  {
   "cell_type": "code",
   "execution_count": 4,
   "id": "905d5c7b-4be4-44bd-aa03-35bd5fb9114b",
   "metadata": {},
   "outputs": [
    {
     "name": "stdout",
     "output_type": "stream",
     "text": [
      "helloworld\n"
     ]
    }
   ],
   "source": [
    "print('hello','world', sep='')"
   ]
  },
  {
   "cell_type": "code",
   "execution_count": 5,
   "id": "98b8ae01-12ee-46b2-bb73-d07aac1f51a3",
   "metadata": {},
   "outputs": [
    {
     "name": "stdout",
     "output_type": "stream",
     "text": [
      "10\n",
      "20\n",
      "30\n"
     ]
    }
   ],
   "source": [
    "print(10,20,30,sep='\\n')"
   ]
  },
  {
   "cell_type": "code",
   "execution_count": 6,
   "id": "777b5fcd-2e4d-4286-8ad6-c638c68c18e2",
   "metadata": {},
   "outputs": [
    {
     "name": "stdout",
     "output_type": "stream",
     "text": [
      "10\n",
      "29\n",
      "38\n"
     ]
    }
   ],
   "source": [
    "#print() 는 기본적으로 출력값 끝에 \\n 작용\n",
    "print(10)\n",
    "print(29)\n",
    "print(38)"
   ]
  },
  {
   "cell_type": "code",
   "execution_count": 12,
   "id": "0f564b6d-0484-4b8a-8c95-065d53999679",
   "metadata": {},
   "outputs": [
    {
     "name": "stdout",
     "output_type": "stream",
     "text": [
      "10 20 30"
     ]
    }
   ],
   "source": [
    "print(10, end=' ')\n",
    "print(20, end=' ')\n",
    "print(30, end='')"
   ]
  },
  {
   "cell_type": "markdown",
   "id": "415a5f51-4c8d-4f4f-a805-dfec7fd9b12b",
   "metadata": {},
   "source": [
    "### <연습문제>"
   ]
  },
  {
   "cell_type": "markdown",
   "id": "e53a5ffd-ae01-4eee-9654-84cd8c19ac67",
   "metadata": {},
   "source": [
    "### 1.Python 3.11 100 을 한 줄에 출력"
   ]
  },
  {
   "cell_type": "code",
   "execution_count": 15,
   "id": "4c60104a-7238-4749-8ca3-9bb096a9c05b",
   "metadata": {},
   "outputs": [
    {
     "name": "stdout",
     "output_type": "stream",
     "text": [
      "Python 3.11 100\n"
     ]
    }
   ],
   "source": [
    "print('Python 3.11', end=' ')\n",
    "print(100)"
   ]
  },
  {
   "cell_type": "code",
   "execution_count": null,
   "id": "862aadeb-7778-4ab0-b4a4-ca37091587fc",
   "metadata": {},
   "outputs": [],
   "source": []
  }
 ],
 "metadata": {
  "kernelspec": {
   "display_name": "Python 3 (ipykernel)",
   "language": "python",
   "name": "python3"
  },
  "language_info": {
   "codemirror_mode": {
    "name": "ipython",
    "version": 3
   },
   "file_extension": ".py",
   "mimetype": "text/x-python",
   "name": "python",
   "nbconvert_exporter": "python",
   "pygments_lexer": "ipython3",
   "version": "3.11.7"
  }
 },
 "nbformat": 4,
 "nbformat_minor": 5
}
