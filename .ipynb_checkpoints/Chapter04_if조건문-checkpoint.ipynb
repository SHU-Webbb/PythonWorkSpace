{
 "cells": [
  {
   "cell_type": "markdown",
   "id": "772eccc6-b38a-4492-a704-c2a0417a9eb2",
   "metadata": {},
   "source": [
    "## 1. if 조건문 사용"
   ]
  },
  {
   "cell_type": "code",
   "execution_count": 1,
   "id": "668903a8-c286-4a90-8c8d-fc06ec60309e",
   "metadata": {},
   "outputs": [
    {
     "name": "stdout",
     "output_type": "stream",
     "text": [
      "10입니다\n"
     ]
    }
   ],
   "source": [
    "x = 10\n",
    "if x==10:\n",
    "    print('10입니다')"
   ]
  },
  {
   "cell_type": "code",
   "execution_count": 2,
   "id": "01dc9ea4-b2cc-46a9-8bb3-bd6a81ac3409",
   "metadata": {},
   "outputs": [
    {
     "ename": "IndentationError",
     "evalue": "expected an indented block after 'if' statement on line 3 (147790785.py, line 4)",
     "output_type": "error",
     "traceback": [
      "\u001b[1;36m  Cell \u001b[1;32mIn[2], line 4\u001b[1;36m\u001b[0m\n\u001b[1;33m    print('10입니다')\u001b[0m\n\u001b[1;37m    ^\u001b[0m\n\u001b[1;31mIndentationError\u001b[0m\u001b[1;31m:\u001b[0m expected an indented block after 'if' statement on line 3\n"
     ]
    }
   ],
   "source": [
    "# 들여쓰기를 하지 않으면 에러 발생\n",
    "x = 10\n",
    "if x==10:\n",
    "print('10입니다')"
   ]
  },
  {
   "cell_type": "markdown",
   "id": "1bd21849-09dd-45f0-99fe-bf5130236596",
   "metadata": {},
   "source": [
    "#### (1) if 조건문에서 코드 생략하기"
   ]
  },
  {
   "cell_type": "code",
   "execution_count": 3,
   "id": "ba2e6c37-1d2a-4745-b581-897fb5a07712",
   "metadata": {},
   "outputs": [],
   "source": [
    "x = 10\n",
    "if x ==10:\n",
    "    pass    # 아무 동작도 하지 않고 넘어감."
   ]
  },
  {
   "cell_type": "code",
   "execution_count": 4,
   "id": "eb51de8e-a148-4a21-aa55-2034fa57741d",
   "metadata": {},
   "outputs": [
    {
     "name": "stdout",
     "output_type": "stream",
     "text": [
      "10입니다\n",
      "x에 저장된 값은 10입니다.\n"
     ]
    }
   ],
   "source": [
    "x = 10\n",
    "if x==10:\n",
    "    print('10입니다')\n",
    "    print('x에 저장된 값은 10입니다.')"
   ]
  },
  {
   "cell_type": "code",
   "execution_count": 6,
   "id": "e6e0e4b1-2fe9-4c25-93c6-5dd89318cb69",
   "metadata": {},
   "outputs": [
    {
     "name": "stdout",
     "output_type": "stream",
     "text": [
      "x에 저장된 값은 10입니다.\n"
     ]
    }
   ],
   "source": [
    "#들여쓰기가 맞지 않으면 의도하지 않은 결과가 나오게 됨.\n",
    "x = 5\n",
    "if x==10:\n",
    "    print('10입니다')\n",
    "print('x에 저장된 값은 10입니다.')"
   ]
  },
  {
   "cell_type": "markdown",
   "id": "6aed07bf-dea7-4439-a846-e6cbea395551",
   "metadata": {},
   "source": [
    "## 2. 중첩 if문"
   ]
  },
  {
   "cell_type": "code",
   "execution_count": 8,
   "id": "c2ebac70-1d86-4c59-950c-ba3b6e916dcf",
   "metadata": {},
   "outputs": [
    {
     "name": "stdout",
     "output_type": "stream",
     "text": [
      "10 이상입니다.\n"
     ]
    }
   ],
   "source": [
    "x = 13\n",
    "if x >= 10 :\n",
    "    print('10 이상입니다.')\n",
    "\n",
    "    if x >= 15:\n",
    "        print('15이상 입니다.')"
   ]
  },
  {
   "cell_type": "markdown",
   "id": "26225786-ce9d-4e62-927e-01319d7d1497",
   "metadata": {},
   "source": [
    "### <연습 문제>\n",
    "### score의 값이 50이 아닐때 'ok'가 출력되도록 토딩하시오."
   ]
  },
  {
   "cell_type": "code",
   "execution_count": 11,
   "id": "c98ad0b0-7698-46e5-8ba2-2c2413729ffe",
   "metadata": {},
   "outputs": [
    {
     "name": "stdout",
     "output_type": "stream",
     "text": [
      "ok\n"
     ]
    }
   ],
   "source": [
    "score = 51\n",
    "if score != 50:\n",
    "    print('ok')"
   ]
  },
  {
   "cell_type": "markdown",
   "id": "451aa458-d76b-440d-be18-5a720b97db6a",
   "metadata": {},
   "source": [
    "### <연습 문제>\n",
    "#### 표준입력에서 정수를 입력받아 7의 배수이고 5의 배수인 숫자일 경우\n",
    "#### '7과 5의 배수입니다.' 를 출력하시오"
   ]
  },
  {
   "cell_type": "code",
   "execution_count": 18,
   "id": "bb68bde0-a210-4430-845c-3b75c9348984",
   "metadata": {},
   "outputs": [
    {
     "name": "stdin",
     "output_type": "stream",
     "text": [
      " 35\n"
     ]
    },
    {
     "name": "stdout",
     "output_type": "stream",
     "text": [
      "7과 5의 배수입니다.\n"
     ]
    }
   ],
   "source": [
    "a = int(input())\n",
    "if a%7 == 0 and a%5 ==0 :\n",
    "    print('7과 5의 배수입니다.')"
   ]
  },
  {
   "cell_type": "code",
   "execution_count": 21,
   "id": "510e5663-a3de-49f6-9e72-a787b89997d2",
   "metadata": {},
   "outputs": [
    {
     "name": "stdout",
     "output_type": "stream",
     "text": [
      "10이 아닙니다.\n",
      "x에 들어 있는 숫자는 10이 아닙니다.\n"
     ]
    }
   ],
   "source": [
    "## 2. else와 들여쓰기\n",
    "x = 5\n",
    "if x == 10:\n",
    "    print('10입니다.')\n",
    "else:\n",
    "    print('10이 아닙니다.')\n",
    "    print('x에 들어 있는 숫자는 10이 아닙니다.')"
   ]
  },
  {
   "cell_type": "markdown",
   "id": "6401495a-5d68-499f-bc3e-7f7d8685323e",
   "metadata": {},
   "source": [
    "## 3.if 조건문에 문자열 지정하기"
   ]
  },
  {
   "cell_type": "code",
   "execution_count": 24,
   "id": "a9f1ab7b-f6e5-4e1e-87b7-31759f390d6c",
   "metadata": {},
   "outputs": [
    {
     "name": "stdout",
     "output_type": "stream",
     "text": [
      "참\n"
     ]
    }
   ],
   "source": [
    "if 'Hello':  #문자열이 조건인 경우 '참'\n",
    "    print('참')\n",
    "else:\n",
    "    print('거짓')\n",
    "    "
   ]
  },
  {
   "cell_type": "code",
   "execution_count": 25,
   "id": "04eb7f49-a85e-4129-9cc2-ef10fde329b7",
   "metadata": {},
   "outputs": [
    {
     "name": "stdout",
     "output_type": "stream",
     "text": [
      "거짓\n"
     ]
    }
   ],
   "source": [
    "if '':   #빈 문자열은 거짓으로 판단\n",
    "    print('참')\n",
    "else:\n",
    "    print('거짓')"
   ]
  },
  {
   "cell_type": "markdown",
   "id": "9991a7ed-4745-45b7-9b50-acf2f5fc4324",
   "metadata": {},
   "source": [
    "## 4. 중첩 if 조건문"
   ]
  },
  {
   "cell_type": "code",
   "execution_count": 26,
   "id": "006d0aa1-c6ff-446f-9ace-cb983898a5d4",
   "metadata": {},
   "outputs": [
    {
     "name": "stdout",
     "output_type": "stream",
     "text": [
      "20보다 작은 양수입니다.\n"
     ]
    }
   ],
   "source": [
    "x = 10\n",
    "if x > 0:\n",
    "    if x < 20 :\n",
    "        print('20보다 작은 양수입니다.')"
   ]
  },
  {
   "cell_type": "code",
   "execution_count": 27,
   "id": "372611e4-cdd1-4808-8141-aa642cce4b63",
   "metadata": {},
   "outputs": [
    {
     "name": "stdout",
     "output_type": "stream",
     "text": [
      "20보다 작은 양수입니다.\n"
     ]
    }
   ],
   "source": [
    "x = 10\n",
    "if x > 0 and x < 20 :\n",
    "    print('20보다 작은 양수입니다.')"
   ]
  },
  {
   "cell_type": "code",
   "execution_count": 29,
   "id": "dbf64d18-504c-4ead-92d6-d4051a934fc1",
   "metadata": {},
   "outputs": [
    {
     "name": "stdout",
     "output_type": "stream",
     "text": [
      "20보다 작은 양수입니다.\n"
     ]
    }
   ],
   "source": [
    "#파이썬에서 조건 범위의 식을 더 간단하게 만들 수 있다.\n",
    "x = 10 \n",
    "if 0 < x < 20 :\n",
    "    print('20보다 작은 양수입니다.')"
   ]
  },
  {
   "cell_type": "markdown",
   "id": "a1c3febb-bae1-4b65-9458-a3e0be3795ba",
   "metadata": {},
   "source": [
    "## <연습문제>\n",
    "#### A 기업의 입사 시험음 필기시험 점수가 80점 이상이면서 코딩 시험을 통과해야 합격이라고 정했다.\n",
    "#### 다음의 조건에 대해 '합격', '불합격'을 출력하시오.\n",
    "#### 필기시험 (written_test) : 75, 코딩시험(coding_test) : true"
   ]
  },
  {
   "cell_type": "code",
   "execution_count": 35,
   "id": "62e911c3-878b-4d3c-a909-2ac3b1a7e34b",
   "metadata": {},
   "outputs": [
    {
     "name": "stdout",
     "output_type": "stream",
     "text": [
      "합격\n"
     ]
    }
   ],
   "source": [
    "written_test = 86\n",
    "coding_test = True\n",
    "\n",
    "if written_test >= 80 and coding_test == True :\n",
    "    print('합격')\n",
    "else:\n",
    "    print('불합격')"
   ]
  },
  {
   "cell_type": "markdown",
   "id": "0b9f52bf-4c9a-4c84-aec4-2d7c455571c2",
   "metadata": {},
   "source": [
    "#### (2) 표준 입력으로 국어(kor), 영어(eng), 수학(math), 과학(sci) 점수가 입력된다.\n",
    "#### 네 과목의 평균 점수가 80점 이상일때 합격이라고 정함.\n",
    "#### 평균 점수에 따라 '합격' '불합격'을 출력하시오.\n",
    "#### 단 점수는 0에서 100점 까지만 입력 받을 수 있음.\n",
    "#### 범위를 벗어났으면 '잘못된 점수'라고 출력하고 합격, 불합격 여부는 출력하지 않는다."
   ]
  },
  {
   "cell_type": "code",
   "execution_count": 52,
   "id": "d09b52e8-b85f-427c-9176-c814a8c0d22b",
   "metadata": {},
   "outputs": [
    {
     "name": "stdin",
     "output_type": "stream",
     "text": [
      " 50 90 80 70\n"
     ]
    },
    {
     "name": "stdout",
     "output_type": "stream",
     "text": [
      "평균점수 = 72.5\n",
      "불합격입니다.\n"
     ]
    }
   ],
   "source": [
    "kor, eng, math, sci = map(int,input().split())\n",
    "avg = (kor + eng + math + sci)//4\n",
    "if (0 <= kor <=100) and (0 <= eng <=100) and (0 <= math <=100) and (0 <= sci <=100):\n",
    "    avg = (kor + eng + math + sci)/4\n",
    "    print('평균점수 = ' + str(avg))\n",
    "    if avg >= 80:\n",
    "        print('합격입니다')\n",
    "    else:\n",
    "        print('불합격입니다.')\n",
    "else:\n",
    "    print('잘못된 점수입니다.')\n"
   ]
  },
  {
   "cell_type": "markdown",
   "id": "94fb1fcb-f977-48bb-83c7-b6e6daa75eb5",
   "metadata": {},
   "source": [
    "## 5. 여러 조건을  판단하기 위한 elif"
   ]
  },
  {
   "cell_type": "code",
   "execution_count": 53,
   "id": "8735ecaa-eb68-4a19-a9ee-4f0741f5ab82",
   "metadata": {},
   "outputs": [
    {
     "name": "stdout",
     "output_type": "stream",
     "text": [
      "20입니다\n"
     ]
    }
   ],
   "source": [
    "x = 20\n",
    "if x == 10:\n",
    "    print('10입니다')\n",
    "elif x == 20:\n",
    "    print('20입니다')\n",
    "else:\n",
    "    print('기타 값입니다')"
   ]
  },
  {
   "cell_type": "markdown",
   "id": "580c1afc-c4bf-4da3-ac80-d8c04a2c7f7f",
   "metadata": {},
   "source": [
    "#### <연습문제> 3 표준 입력으로 나이가 입력된다. 입력값은 7이상이고, 요금은 다음과 같고 \n",
    "#### 나이에 맞게 요금을 차감한 뒤 잔액이 출력되게 만드시오. 현재 교통카드에는 9000원이 들어있다.\n",
    "#### (1) 어린이 만 7세 이상 12세 이하 : 650원\n",
    "#### (2) 청소년 만 13세 이상 18세 이하 : 1,050원\n",
    "#### (3) 어른 만 19세 이상 : 1,250원"
   ]
  },
  {
   "cell_type": "code",
   "execution_count": 66,
   "id": "1448f684-6791-4ff1-9bf9-e61e9f897a3e",
   "metadata": {},
   "outputs": [
    {
     "name": "stdin",
     "output_type": "stream",
     "text": [
      " 25\n"
     ]
    },
    {
     "name": "stdout",
     "output_type": "stream",
     "text": [
      "버스 카드 잔액은 : 7750원 입니다\n"
     ]
    }
   ],
   "source": [
    "card = 9000\n",
    "age = int(input())\n",
    "if 7 <= age <= 12:\n",
    "    t = card - 650\n",
    "   \n",
    "elif 13<= age <= 18:\n",
    "    t = card - 1050\n",
    "   \n",
    "elif 19 <= age:\n",
    "    t = card - 1250\n",
    "print('버스 카드 잔액은 : ' + str(t) + '원 입니다')   "
   ]
  },
  {
   "cell_type": "code",
   "execution_count": null,
   "id": "bb39aaec-2426-4a3d-8942-beab4f3f9d70",
   "metadata": {},
   "outputs": [],
   "source": []
  }
 ],
 "metadata": {
  "kernelspec": {
   "display_name": "Python 3 (ipykernel)",
   "language": "python",
   "name": "python3"
  },
  "language_info": {
   "codemirror_mode": {
    "name": "ipython",
    "version": 3
   },
   "file_extension": ".py",
   "mimetype": "text/x-python",
   "name": "python",
   "nbconvert_exporter": "python",
   "pygments_lexer": "ipython3",
   "version": "3.11.7"
  }
 },
 "nbformat": 4,
 "nbformat_minor": 5
}
