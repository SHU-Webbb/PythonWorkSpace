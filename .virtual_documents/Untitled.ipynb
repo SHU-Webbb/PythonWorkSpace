


x = 10
if x==10:
    print('10입니다')


# 들여쓰기를 하지 않으면 에러 발생
x = 10
if x==10:
print('10입니다')





x = 10
if x ==10:
    pass    # 아무 동작도 하지 않고 넘어감.


x = 10
if x==10:
    print('10입니다')
    print('x에 저장된 값은 10입니다.')


#들여쓰기가 맞지 않으면 의도하지 않은 결과가 나오게 됨.
x = 5
if x==10:
    print('10입니다')
print('x에 저장된 값은 10입니다.')





x = 13
if x >= 10 :
    print('10 이상입니다.')

    if x >= 15:
        print('15이상 입니다.')





score = 51
if score != 50:
    print('ok')





a = int(input())
if a%7 == 0 and a%5 ==0 :
    print('7과 5의 배수입니다.')


## 2. else와 들여쓰기
x = 5
if x == 10:
    print('10입니다.')
else:
    print('10이 아닙니다.')
    print('x에 들어 있는 숫자는 10이 아닙니다.')





if 'Hello':  #문자열이 조건인 경우 '참'
    print('참')
else:
    print('거짓')
    


if '':   #빈 문자열은 거짓으로 판단
    print('참')
else:
    print('거짓')





x = 10
if x > 0:
    if x < 20 :
        print('20보다 작은 양수입니다.')


x = 10
if x > 0 and x < 20 :
    print('20보다 작은 양수입니다.')


#파이썬에서 조건 범위의 식을 더 간단하게 만들 수 있다.
x = 10 
if 0 < x < 20 :
    print('20보다 작은 양수입니다.')





written_test = 86
coding_test = True

if written_test >= 80 and coding_test == True :
    print('합격')
else:
    print('불합격')





kor, eng, math, sci = map(int,input().split())
avg = (kor + eng + math + sci)//4
if (0 <= kor <=100) and (0 <= eng <=100) and (0 <= math <=100) and (0 <= sci <=100):
    avg = (kor + eng + math + sci)/4
    print('평균점수 = ' + str(avg))
    if avg >= 80:
        print('합격입니다')
    else:
        print('불합격입니다.')
else:
    print('잘못된 점수입니다.')






x = 20
if x == 10:
    print('10입니다')
elif x == 20:
    print('20입니다')
else:
    print('기타 값입니다')





card = 9000
age = int(input())
if 7 <= age <= 12:
    t = card - 650
   
elif 13<= age <= 18:
    t = card - 1050
   
elif 19 <= age:
    t = card - 1250
print('버스 카드 잔액은 : ' + str(t) + '원 입니다')   



